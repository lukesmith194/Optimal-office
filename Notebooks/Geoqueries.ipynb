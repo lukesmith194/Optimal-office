{
 "cells": [
  {
   "cell_type": "code",
   "execution_count": 3,
   "id": "8793e450",
   "metadata": {},
   "outputs": [],
   "source": [
    "from pymongo import MongoClient\n",
    "import pandas as pd\n",
    "import json\n",
    "from bson.json_util import dumps\n",
    "import bson\n",
    "import folium\n",
    "from folium import Choropleth, Circle, Marker, Icon, Map\n",
    "from folium.plugins import HeatMap, MarkerCluster"
   ]
  },
  {
   "cell_type": "code",
   "execution_count": 4,
   "id": "1bdc4fdb",
   "metadata": {},
   "outputs": [],
   "source": [
    "client = MongoClient(\"localhost:27017\")\n",
    "db = client.get_database(\"Office_project\")"
   ]
  },
  {
   "cell_type": "code",
   "execution_count": 5,
   "id": "7b7da2be",
   "metadata": {},
   "outputs": [
    {
     "data": {
      "text/plain": [
       "Database(MongoClient(host=['localhost:27017'], document_class=dict, tz_aware=False, connect=True), 'Office_project')"
      ]
     },
     "execution_count": 5,
     "metadata": {},
     "output_type": "execute_result"
    }
   ],
   "source": [
    "db"
   ]
  },
  {
   "cell_type": "markdown",
   "id": "c7406944",
   "metadata": {},
   "source": [
    "## Dublin"
   ]
  },
  {
   "cell_type": "code",
   "execution_count": 6,
   "id": "bb696b17",
   "metadata": {},
   "outputs": [],
   "source": [
    "Dublin = [53.33925763762811, -6.234433274297044]"
   ]
  },
  {
   "cell_type": "markdown",
   "id": "131ee550",
   "metadata": {},
   "source": [
    "### Starbucks"
   ]
  },
  {
   "cell_type": "code",
   "execution_count": 7,
   "id": "14c9331e",
   "metadata": {},
   "outputs": [],
   "source": [
    "prueba = db.get_collection(\"Starbucks\")"
   ]
  },
  {
   "cell_type": "code",
   "execution_count": 8,
   "id": "a0a439af",
   "metadata": {},
   "outputs": [],
   "source": [
    "query = [{'$geoNear':{'near': Dublin,\n",
    "            'distanceField' : \"distance\",\n",
    "            'maxDistance': 0.001,\n",
    "            'distanceMultiplier': 6257,\n",
    "            'spherical': True}}]\n",
    "                     "
   ]
  },
  {
   "cell_type": "code",
   "execution_count": 9,
   "id": "bdf9299e",
   "metadata": {},
   "outputs": [],
   "source": [
    "geoloc = prueba.aggregate(query)"
   ]
  },
  {
   "cell_type": "code",
   "execution_count": 10,
   "id": "11a32f9f",
   "metadata": {},
   "outputs": [],
   "source": [
    "response_json = json.loads(dumps(geoloc))"
   ]
  },
  {
   "cell_type": "code",
   "execution_count": 11,
   "id": "4f4df7f6",
   "metadata": {},
   "outputs": [],
   "source": [
    "#response_json"
   ]
  },
  {
   "cell_type": "code",
   "execution_count": 12,
   "id": "cc3ca5f7",
   "metadata": {},
   "outputs": [],
   "source": [
    "df = pd.DataFrame(response_json)"
   ]
  },
  {
   "cell_type": "code",
   "execution_count": 14,
   "id": "08ecc219",
   "metadata": {},
   "outputs": [
    {
     "data": {
      "text/html": [
       "<div>\n",
       "<style scoped>\n",
       "    .dataframe tbody tr th:only-of-type {\n",
       "        vertical-align: middle;\n",
       "    }\n",
       "\n",
       "    .dataframe tbody tr th {\n",
       "        vertical-align: top;\n",
       "    }\n",
       "\n",
       "    .dataframe thead th {\n",
       "        text-align: right;\n",
       "    }\n",
       "</style>\n",
       "<table border=\"1\" class=\"dataframe\">\n",
       "  <thead>\n",
       "    <tr style=\"text-align: right;\">\n",
       "      <th></th>\n",
       "      <th>_id</th>\n",
       "      <th>longitud</th>\n",
       "      <th>latitud</th>\n",
       "      <th>loc</th>\n",
       "      <th>distance</th>\n",
       "    </tr>\n",
       "  </thead>\n",
       "  <tbody>\n",
       "    <tr>\n",
       "      <th>0</th>\n",
       "      <td>{'$oid': '6134859a24570d3647f29db6'}</td>\n",
       "      <td>53.331290</td>\n",
       "      <td>-6.231813</td>\n",
       "      <td>{'type': 'Point', 'coordinates': [53.331290175...</td>\n",
       "      <td>0.911065</td>\n",
       "    </tr>\n",
       "    <tr>\n",
       "      <th>1</th>\n",
       "      <td>{'$oid': '6134859a24570d3647f29dac'}</td>\n",
       "      <td>53.345658</td>\n",
       "      <td>-6.240487</td>\n",
       "      <td>{'type': 'Point', 'coordinates': [53.345658299...</td>\n",
       "      <td>0.959131</td>\n",
       "    </tr>\n",
       "    <tr>\n",
       "      <th>2</th>\n",
       "      <td>{'$oid': '6134859a24570d3647f29daa'}</td>\n",
       "      <td>53.336677</td>\n",
       "      <td>-6.243111</td>\n",
       "      <td>{'type': 'Point', 'coordinates': [53.336677, -...</td>\n",
       "      <td>0.988196</td>\n",
       "    </tr>\n",
       "    <tr>\n",
       "      <th>3</th>\n",
       "      <td>{'$oid': '6134859a24570d3647f29da7'}</td>\n",
       "      <td>53.348446</td>\n",
       "      <td>-6.228475</td>\n",
       "      <td>{'type': 'Point', 'coordinates': [53.348445865...</td>\n",
       "      <td>1.190910</td>\n",
       "    </tr>\n",
       "    <tr>\n",
       "      <th>4</th>\n",
       "      <td>{'$oid': '6134859a24570d3647f29da8'}</td>\n",
       "      <td>53.332519</td>\n",
       "      <td>-6.243741</td>\n",
       "      <td>{'type': 'Point', 'coordinates': [53.332519271...</td>\n",
       "      <td>1.252300</td>\n",
       "    </tr>\n",
       "  </tbody>\n",
       "</table>\n",
       "</div>"
      ],
      "text/plain": [
       "                                    _id   longitud   latitud  \\\n",
       "0  {'$oid': '6134859a24570d3647f29db6'}  53.331290 -6.231813   \n",
       "1  {'$oid': '6134859a24570d3647f29dac'}  53.345658 -6.240487   \n",
       "2  {'$oid': '6134859a24570d3647f29daa'}  53.336677 -6.243111   \n",
       "3  {'$oid': '6134859a24570d3647f29da7'}  53.348446 -6.228475   \n",
       "4  {'$oid': '6134859a24570d3647f29da8'}  53.332519 -6.243741   \n",
       "\n",
       "                                                 loc  distance  \n",
       "0  {'type': 'Point', 'coordinates': [53.331290175...  0.911065  \n",
       "1  {'type': 'Point', 'coordinates': [53.345658299...  0.959131  \n",
       "2  {'type': 'Point', 'coordinates': [53.336677, -...  0.988196  \n",
       "3  {'type': 'Point', 'coordinates': [53.348445865...  1.190910  \n",
       "4  {'type': 'Point', 'coordinates': [53.332519271...  1.252300  "
      ]
     },
     "execution_count": 14,
     "metadata": {},
     "output_type": "execute_result"
    }
   ],
   "source": [
    "df.head()\n"
   ]
  },
  {
   "cell_type": "code",
   "execution_count": 13,
   "id": "30b4e4df",
   "metadata": {},
   "outputs": [
    {
     "data": {
      "text/plain": [
       "(35, 5)"
      ]
     },
     "execution_count": 13,
     "metadata": {},
     "output_type": "execute_result"
    }
   ],
   "source": [
    "df.shape"
   ]
  },
  {
   "cell_type": "markdown",
   "id": "1db94603",
   "metadata": {},
   "source": [
    "### Schools"
   ]
  },
  {
   "cell_type": "code",
   "execution_count": 15,
   "id": "4dc3ef9b",
   "metadata": {},
   "outputs": [],
   "source": [
    "schools_dub = db.get_collection(\"Schools\")"
   ]
  },
  {
   "cell_type": "code",
   "execution_count": 16,
   "id": "d1df15ed",
   "metadata": {},
   "outputs": [],
   "source": [
    "query = [{'$geoNear':{'near': Dublin,\n",
    "            'distanceField' : \"distance\",\n",
    "            'maxDistance': 0.001,\n",
    "            'distanceMultiplier':6371,\n",
    "            'spherical': True}}]\n",
    "                     "
   ]
  },
  {
   "cell_type": "code",
   "execution_count": 17,
   "id": "80d19a1e",
   "metadata": {},
   "outputs": [],
   "source": [
    "geoloc_school = schools_dub.aggregate(query)"
   ]
  },
  {
   "cell_type": "code",
   "execution_count": 18,
   "id": "55549575",
   "metadata": {},
   "outputs": [],
   "source": [
    "dub_schools_response = json.loads(dumps(geoloc_school))"
   ]
  },
  {
   "cell_type": "code",
   "execution_count": 19,
   "id": "43c2ec45",
   "metadata": {},
   "outputs": [],
   "source": [
    "df_dub_school = pd.DataFrame(dub_schools_response)"
   ]
  },
  {
   "cell_type": "code",
   "execution_count": 20,
   "id": "f4a69979",
   "metadata": {},
   "outputs": [
    {
     "data": {
      "text/html": [
       "<div>\n",
       "<style scoped>\n",
       "    .dataframe tbody tr th:only-of-type {\n",
       "        vertical-align: middle;\n",
       "    }\n",
       "\n",
       "    .dataframe tbody tr th {\n",
       "        vertical-align: top;\n",
       "    }\n",
       "\n",
       "    .dataframe thead th {\n",
       "        text-align: right;\n",
       "    }\n",
       "</style>\n",
       "<table border=\"1\" class=\"dataframe\">\n",
       "  <thead>\n",
       "    <tr style=\"text-align: right;\">\n",
       "      <th></th>\n",
       "      <th>_id</th>\n",
       "      <th>longitud</th>\n",
       "      <th>latitud</th>\n",
       "      <th>loc</th>\n",
       "      <th>distance</th>\n",
       "    </tr>\n",
       "  </thead>\n",
       "  <tbody>\n",
       "    <tr>\n",
       "      <th>0</th>\n",
       "      <td>{'$oid': '6133b8fb24570d3647f29d2c'}</td>\n",
       "      <td>53.328010</td>\n",
       "      <td>-6.240218</td>\n",
       "      <td>{'type': 'Point', 'coordinates': [53.328010442...</td>\n",
       "      <td>1.399790</td>\n",
       "    </tr>\n",
       "    <tr>\n",
       "      <th>1</th>\n",
       "      <td>{'$oid': '6133b8fb24570d3647f29d38'}</td>\n",
       "      <td>53.340054</td>\n",
       "      <td>-6.247407</td>\n",
       "      <td>{'type': 'Point', 'coordinates': [53.340053824...</td>\n",
       "      <td>1.445349</td>\n",
       "    </tr>\n",
       "    <tr>\n",
       "      <th>2</th>\n",
       "      <td>{'$oid': '6133b8fb24570d3647f29d3a'}</td>\n",
       "      <td>53.338298</td>\n",
       "      <td>-6.248053</td>\n",
       "      <td>{'type': 'Point', 'coordinates': [53.338297903...</td>\n",
       "      <td>1.518101</td>\n",
       "    </tr>\n",
       "    <tr>\n",
       "      <th>3</th>\n",
       "      <td>{'$oid': '6133b8fb24570d3647f29d28'}</td>\n",
       "      <td>53.343736</td>\n",
       "      <td>-6.247619</td>\n",
       "      <td>{'type': 'Point', 'coordinates': [53.343736297...</td>\n",
       "      <td>1.547486</td>\n",
       "    </tr>\n",
       "    <tr>\n",
       "      <th>4</th>\n",
       "      <td>{'$oid': '6133b8fb24570d3647f29d3e'}</td>\n",
       "      <td>53.344618</td>\n",
       "      <td>-6.248138</td>\n",
       "      <td>{'type': 'Point', 'coordinates': [53.344617703...</td>\n",
       "      <td>1.635005</td>\n",
       "    </tr>\n",
       "  </tbody>\n",
       "</table>\n",
       "</div>"
      ],
      "text/plain": [
       "                                    _id   longitud   latitud  \\\n",
       "0  {'$oid': '6133b8fb24570d3647f29d2c'}  53.328010 -6.240218   \n",
       "1  {'$oid': '6133b8fb24570d3647f29d38'}  53.340054 -6.247407   \n",
       "2  {'$oid': '6133b8fb24570d3647f29d3a'}  53.338298 -6.248053   \n",
       "3  {'$oid': '6133b8fb24570d3647f29d28'}  53.343736 -6.247619   \n",
       "4  {'$oid': '6133b8fb24570d3647f29d3e'}  53.344618 -6.248138   \n",
       "\n",
       "                                                 loc  distance  \n",
       "0  {'type': 'Point', 'coordinates': [53.328010442...  1.399790  \n",
       "1  {'type': 'Point', 'coordinates': [53.340053824...  1.445349  \n",
       "2  {'type': 'Point', 'coordinates': [53.338297903...  1.518101  \n",
       "3  {'type': 'Point', 'coordinates': [53.343736297...  1.547486  \n",
       "4  {'type': 'Point', 'coordinates': [53.344617703...  1.635005  "
      ]
     },
     "execution_count": 20,
     "metadata": {},
     "output_type": "execute_result"
    }
   ],
   "source": [
    "df_dub_school.head()"
   ]
  },
  {
   "cell_type": "markdown",
   "id": "4b873212",
   "metadata": {},
   "source": [
    "### Transport"
   ]
  },
  {
   "cell_type": "code",
   "execution_count": 21,
   "id": "3ddbfe2f",
   "metadata": {},
   "outputs": [],
   "source": [
    "trans_dub = db.get_collection(\"Transport\")"
   ]
  },
  {
   "cell_type": "code",
   "execution_count": 22,
   "id": "afb4ac4b",
   "metadata": {},
   "outputs": [],
   "source": [
    "query = [{'$geoNear':{'near': Dublin,\n",
    "            'distanceField' : \"distance\",\n",
    "            'maxDistance': 0.001,\n",
    "            'distanceMultiplier':6371,\n",
    "            'spherical': True}}]\n",
    "                     "
   ]
  },
  {
   "cell_type": "code",
   "execution_count": 23,
   "id": "93896892",
   "metadata": {},
   "outputs": [],
   "source": [
    "geoloc_trans = trans_dub.aggregate(query)"
   ]
  },
  {
   "cell_type": "code",
   "execution_count": 24,
   "id": "247fd956",
   "metadata": {},
   "outputs": [],
   "source": [
    "dub_trans_response = json.loads(dumps(geoloc_trans))"
   ]
  },
  {
   "cell_type": "code",
   "execution_count": 25,
   "id": "aa3ef0f9",
   "metadata": {},
   "outputs": [],
   "source": [
    "df_dub_trans = pd.DataFrame(dub_trans_response)"
   ]
  },
  {
   "cell_type": "code",
   "execution_count": 26,
   "id": "15d3bc6e",
   "metadata": {},
   "outputs": [
    {
     "data": {
      "text/html": [
       "<div>\n",
       "<style scoped>\n",
       "    .dataframe tbody tr th:only-of-type {\n",
       "        vertical-align: middle;\n",
       "    }\n",
       "\n",
       "    .dataframe tbody tr th {\n",
       "        vertical-align: top;\n",
       "    }\n",
       "\n",
       "    .dataframe thead th {\n",
       "        text-align: right;\n",
       "    }\n",
       "</style>\n",
       "<table border=\"1\" class=\"dataframe\">\n",
       "  <thead>\n",
       "    <tr style=\"text-align: right;\">\n",
       "      <th></th>\n",
       "      <th>_id</th>\n",
       "      <th>longitud</th>\n",
       "      <th>latitud</th>\n",
       "      <th>loc</th>\n",
       "      <th>distance</th>\n",
       "    </tr>\n",
       "  </thead>\n",
       "  <tbody>\n",
       "    <tr>\n",
       "      <th>0</th>\n",
       "      <td>{'$oid': '6134957324570d3647f29efc'}</td>\n",
       "      <td>53.339532</td>\n",
       "      <td>-6.237297</td>\n",
       "      <td>{'type': 'Point', 'coordinates': [53.339531558...</td>\n",
       "      <td>0.319835</td>\n",
       "    </tr>\n",
       "    <tr>\n",
       "      <th>1</th>\n",
       "      <td>{'$oid': '6134957324570d3647f29efd'}</td>\n",
       "      <td>53.333999</td>\n",
       "      <td>-6.228834</td>\n",
       "      <td>{'type': 'Point', 'coordinates': [53.333998520...</td>\n",
       "      <td>0.851832</td>\n",
       "    </tr>\n",
       "    <tr>\n",
       "      <th>2</th>\n",
       "      <td>{'$oid': '613496ff24570d3647f29f25'}</td>\n",
       "      <td>53.348848</td>\n",
       "      <td>-6.237190</td>\n",
       "      <td>{'type': 'Point', 'coordinates': [53.348847530...</td>\n",
       "      <td>1.103464</td>\n",
       "    </tr>\n",
       "    <tr>\n",
       "      <th>3</th>\n",
       "      <td>{'$oid': '613496ff24570d3647f29f21'}</td>\n",
       "      <td>53.348335</td>\n",
       "      <td>-6.229223</td>\n",
       "      <td>{'type': 'Point', 'coordinates': [53.348334615...</td>\n",
       "      <td>1.158627</td>\n",
       "    </tr>\n",
       "    <tr>\n",
       "      <th>4</th>\n",
       "      <td>{'$oid': '613496ff24570d3647f29f34'}</td>\n",
       "      <td>53.348518</td>\n",
       "      <td>-6.228583</td>\n",
       "      <td>{'type': 'Point', 'coordinates': [53.348518, -...</td>\n",
       "      <td>1.212839</td>\n",
       "    </tr>\n",
       "  </tbody>\n",
       "</table>\n",
       "</div>"
      ],
      "text/plain": [
       "                                    _id   longitud   latitud  \\\n",
       "0  {'$oid': '6134957324570d3647f29efc'}  53.339532 -6.237297   \n",
       "1  {'$oid': '6134957324570d3647f29efd'}  53.333999 -6.228834   \n",
       "2  {'$oid': '613496ff24570d3647f29f25'}  53.348848 -6.237190   \n",
       "3  {'$oid': '613496ff24570d3647f29f21'}  53.348335 -6.229223   \n",
       "4  {'$oid': '613496ff24570d3647f29f34'}  53.348518 -6.228583   \n",
       "\n",
       "                                                 loc  distance  \n",
       "0  {'type': 'Point', 'coordinates': [53.339531558...  0.319835  \n",
       "1  {'type': 'Point', 'coordinates': [53.333998520...  0.851832  \n",
       "2  {'type': 'Point', 'coordinates': [53.348847530...  1.103464  \n",
       "3  {'type': 'Point', 'coordinates': [53.348334615...  1.158627  \n",
       "4  {'type': 'Point', 'coordinates': [53.348518, -...  1.212839  "
      ]
     },
     "execution_count": 26,
     "metadata": {},
     "output_type": "execute_result"
    }
   ],
   "source": [
    "df_dub_trans.head()"
   ]
  },
  {
   "cell_type": "markdown",
   "id": "097a96bf",
   "metadata": {},
   "source": [
    "### Development companies"
   ]
  },
  {
   "cell_type": "code",
   "execution_count": 27,
   "id": "52a8754c",
   "metadata": {},
   "outputs": [],
   "source": [
    "dev_dub = db.get_collection(\"Developing_companies\")"
   ]
  },
  {
   "cell_type": "code",
   "execution_count": 28,
   "id": "5d9b0bf0",
   "metadata": {},
   "outputs": [],
   "source": [
    "query = [{'$geoNear':{'near': Dublin,\n",
    "            'distanceField' : \"distance\",\n",
    "            'maxDistance': 0.001,\n",
    "            'distanceMultiplier':6371,\n",
    "            'spherical': True}}]\n",
    "                     "
   ]
  },
  {
   "cell_type": "code",
   "execution_count": 29,
   "id": "fbdf954d",
   "metadata": {},
   "outputs": [],
   "source": [
    "geoloc_dev = dev_dub.aggregate(query)"
   ]
  },
  {
   "cell_type": "code",
   "execution_count": 30,
   "id": "ae6ad39f",
   "metadata": {},
   "outputs": [],
   "source": [
    "dub_dev_response = json.loads(dumps(geoloc_dev))"
   ]
  },
  {
   "cell_type": "code",
   "execution_count": 31,
   "id": "e4de3ebb",
   "metadata": {},
   "outputs": [],
   "source": [
    "df_dub_dev = pd.DataFrame(dub_dev_response)"
   ]
  },
  {
   "cell_type": "code",
   "execution_count": 32,
   "id": "f4b3e0cc",
   "metadata": {},
   "outputs": [
    {
     "data": {
      "text/html": [
       "<div>\n",
       "<style scoped>\n",
       "    .dataframe tbody tr th:only-of-type {\n",
       "        vertical-align: middle;\n",
       "    }\n",
       "\n",
       "    .dataframe tbody tr th {\n",
       "        vertical-align: top;\n",
       "    }\n",
       "\n",
       "    .dataframe thead th {\n",
       "        text-align: right;\n",
       "    }\n",
       "</style>\n",
       "<table border=\"1\" class=\"dataframe\">\n",
       "  <thead>\n",
       "    <tr style=\"text-align: right;\">\n",
       "      <th></th>\n",
       "      <th>_id</th>\n",
       "      <th>longitud</th>\n",
       "      <th>latitud</th>\n",
       "      <th>loc</th>\n",
       "      <th>distance</th>\n",
       "    </tr>\n",
       "  </thead>\n",
       "  <tbody>\n",
       "    <tr>\n",
       "      <th>0</th>\n",
       "      <td>{'$oid': '613493c824570d3647f29eb6'}</td>\n",
       "      <td>53.339834</td>\n",
       "      <td>-6.237134</td>\n",
       "      <td>{'type': 'Point', 'coordinates': [53.339834391...</td>\n",
       "      <td>0.306966</td>\n",
       "    </tr>\n",
       "    <tr>\n",
       "      <th>1</th>\n",
       "      <td>{'$oid': '613493c824570d3647f29eb0'}</td>\n",
       "      <td>53.339893</td>\n",
       "      <td>-6.237343</td>\n",
       "      <td>{'type': 'Point', 'coordinates': [53.339893347...</td>\n",
       "      <td>0.331085</td>\n",
       "    </tr>\n",
       "    <tr>\n",
       "      <th>2</th>\n",
       "      <td>{'$oid': '613493c824570d3647f29eb1'}</td>\n",
       "      <td>53.341438</td>\n",
       "      <td>-6.231008</td>\n",
       "      <td>{'type': 'Point', 'coordinates': [53.341437746...</td>\n",
       "      <td>0.450666</td>\n",
       "    </tr>\n",
       "    <tr>\n",
       "      <th>3</th>\n",
       "      <td>{'$oid': '613493c824570d3647f29eb5'}</td>\n",
       "      <td>53.344103</td>\n",
       "      <td>-6.233043</td>\n",
       "      <td>{'type': 'Point', 'coordinates': [53.344102795...</td>\n",
       "      <td>0.557433</td>\n",
       "    </tr>\n",
       "    <tr>\n",
       "      <th>4</th>\n",
       "      <td>{'$oid': '613493c824570d3647f29eb2'}</td>\n",
       "      <td>53.341249</td>\n",
       "      <td>-6.239462</td>\n",
       "      <td>{'type': 'Point', 'coordinates': [53.341248697...</td>\n",
       "      <td>0.600889</td>\n",
       "    </tr>\n",
       "  </tbody>\n",
       "</table>\n",
       "</div>"
      ],
      "text/plain": [
       "                                    _id   longitud   latitud  \\\n",
       "0  {'$oid': '613493c824570d3647f29eb6'}  53.339834 -6.237134   \n",
       "1  {'$oid': '613493c824570d3647f29eb0'}  53.339893 -6.237343   \n",
       "2  {'$oid': '613493c824570d3647f29eb1'}  53.341438 -6.231008   \n",
       "3  {'$oid': '613493c824570d3647f29eb5'}  53.344103 -6.233043   \n",
       "4  {'$oid': '613493c824570d3647f29eb2'}  53.341249 -6.239462   \n",
       "\n",
       "                                                 loc  distance  \n",
       "0  {'type': 'Point', 'coordinates': [53.339834391...  0.306966  \n",
       "1  {'type': 'Point', 'coordinates': [53.339893347...  0.331085  \n",
       "2  {'type': 'Point', 'coordinates': [53.341437746...  0.450666  \n",
       "3  {'type': 'Point', 'coordinates': [53.344102795...  0.557433  \n",
       "4  {'type': 'Point', 'coordinates': [53.341248697...  0.600889  "
      ]
     },
     "execution_count": 32,
     "metadata": {},
     "output_type": "execute_result"
    }
   ],
   "source": [
    "df_dub_dev.head()"
   ]
  },
  {
   "cell_type": "markdown",
   "id": "555a7f1c",
   "metadata": {},
   "source": [
    "## Manchester"
   ]
  },
  {
   "cell_type": "code",
   "execution_count": 33,
   "id": "af2cad9d",
   "metadata": {},
   "outputs": [],
   "source": [
    "Manchester = [53.476555291009824, -2.245396280521493]"
   ]
  },
  {
   "cell_type": "markdown",
   "id": "e134541c",
   "metadata": {},
   "source": [
    "### Starbucks"
   ]
  },
  {
   "cell_type": "code",
   "execution_count": 34,
   "id": "b77f76b3",
   "metadata": {},
   "outputs": [],
   "source": [
    "star_man = db.get_collection(\"Starbucks\")"
   ]
  },
  {
   "cell_type": "code",
   "execution_count": 35,
   "id": "cb35f131",
   "metadata": {},
   "outputs": [],
   "source": [
    "query = [{'$geoNear':{'near': Manchester,\n",
    "            'distanceField' : \"distance\",\n",
    "            'maxDistance': 0.001,\n",
    "            'distanceMultiplier':6371,\n",
    "            'spherical': True}}]\n",
    "                     "
   ]
  },
  {
   "cell_type": "code",
   "execution_count": 36,
   "id": "a858d581",
   "metadata": {},
   "outputs": [],
   "source": [
    "geoloc_star_man = star_man.aggregate(query)"
   ]
  },
  {
   "cell_type": "code",
   "execution_count": 37,
   "id": "5ea4f9e4",
   "metadata": {},
   "outputs": [],
   "source": [
    "man_star_response = json.loads(dumps(geoloc_star_man))"
   ]
  },
  {
   "cell_type": "code",
   "execution_count": 38,
   "id": "007ee333",
   "metadata": {},
   "outputs": [],
   "source": [
    "df_man_star = pd.DataFrame(man_star_response)"
   ]
  },
  {
   "cell_type": "code",
   "execution_count": 39,
   "id": "20db1a5c",
   "metadata": {},
   "outputs": [
    {
     "data": {
      "text/html": [
       "<div>\n",
       "<style scoped>\n",
       "    .dataframe tbody tr th:only-of-type {\n",
       "        vertical-align: middle;\n",
       "    }\n",
       "\n",
       "    .dataframe tbody tr th {\n",
       "        vertical-align: top;\n",
       "    }\n",
       "\n",
       "    .dataframe thead th {\n",
       "        text-align: right;\n",
       "    }\n",
       "</style>\n",
       "<table border=\"1\" class=\"dataframe\">\n",
       "  <thead>\n",
       "    <tr style=\"text-align: right;\">\n",
       "      <th></th>\n",
       "      <th>_id</th>\n",
       "      <th>longitud</th>\n",
       "      <th>latitud</th>\n",
       "      <th>loc</th>\n",
       "      <th>distance</th>\n",
       "    </tr>\n",
       "  </thead>\n",
       "  <tbody>\n",
       "    <tr>\n",
       "      <th>0</th>\n",
       "      <td>{'$oid': '613486b524570d3647f29dd2'}</td>\n",
       "      <td>53.477957</td>\n",
       "      <td>-2.245602</td>\n",
       "      <td>{'type': 'Point', 'coordinates': [53.477957, -...</td>\n",
       "      <td>0.157414</td>\n",
       "    </tr>\n",
       "    <tr>\n",
       "      <th>1</th>\n",
       "      <td>{'$oid': '613486b524570d3647f29ddb'}</td>\n",
       "      <td>53.473669</td>\n",
       "      <td>-2.245633</td>\n",
       "      <td>{'type': 'Point', 'coordinates': [53.473669, -...</td>\n",
       "      <td>0.321773</td>\n",
       "    </tr>\n",
       "    <tr>\n",
       "      <th>2</th>\n",
       "      <td>{'$oid': '613486b524570d3647f29dd8'}</td>\n",
       "      <td>53.479729</td>\n",
       "      <td>-2.248250</td>\n",
       "      <td>{'type': 'Point', 'coordinates': [53.479729, -...</td>\n",
       "      <td>0.474382</td>\n",
       "    </tr>\n",
       "    <tr>\n",
       "      <th>3</th>\n",
       "      <td>{'$oid': '613486b524570d3647f29dd4'}</td>\n",
       "      <td>53.478270</td>\n",
       "      <td>-2.250158</td>\n",
       "      <td>{'type': 'Point', 'coordinates': [53.47827, -2...</td>\n",
       "      <td>0.562713</td>\n",
       "    </tr>\n",
       "    <tr>\n",
       "      <th>4</th>\n",
       "      <td>{'$oid': '613486b524570d3647f29dd3'}</td>\n",
       "      <td>53.473700</td>\n",
       "      <td>-2.240029</td>\n",
       "      <td>{'type': 'Point', 'coordinates': [53.4737, -2....</td>\n",
       "      <td>0.675896</td>\n",
       "    </tr>\n",
       "  </tbody>\n",
       "</table>\n",
       "</div>"
      ],
      "text/plain": [
       "                                    _id   longitud   latitud  \\\n",
       "0  {'$oid': '613486b524570d3647f29dd2'}  53.477957 -2.245602   \n",
       "1  {'$oid': '613486b524570d3647f29ddb'}  53.473669 -2.245633   \n",
       "2  {'$oid': '613486b524570d3647f29dd8'}  53.479729 -2.248250   \n",
       "3  {'$oid': '613486b524570d3647f29dd4'}  53.478270 -2.250158   \n",
       "4  {'$oid': '613486b524570d3647f29dd3'}  53.473700 -2.240029   \n",
       "\n",
       "                                                 loc  distance  \n",
       "0  {'type': 'Point', 'coordinates': [53.477957, -...  0.157414  \n",
       "1  {'type': 'Point', 'coordinates': [53.473669, -...  0.321773  \n",
       "2  {'type': 'Point', 'coordinates': [53.479729, -...  0.474382  \n",
       "3  {'type': 'Point', 'coordinates': [53.47827, -2...  0.562713  \n",
       "4  {'type': 'Point', 'coordinates': [53.4737, -2....  0.675896  "
      ]
     },
     "execution_count": 39,
     "metadata": {},
     "output_type": "execute_result"
    }
   ],
   "source": [
    "df_man_star.head()"
   ]
  },
  {
   "cell_type": "markdown",
   "id": "6a9faacd",
   "metadata": {},
   "source": [
    "### Schools"
   ]
  },
  {
   "cell_type": "code",
   "execution_count": 40,
   "id": "69945751",
   "metadata": {},
   "outputs": [],
   "source": [
    "school_man = db.get_collection(\"Schools\")"
   ]
  },
  {
   "cell_type": "code",
   "execution_count": 41,
   "id": "7a7e94d0",
   "metadata": {},
   "outputs": [],
   "source": [
    "query = [{'$geoNear':{'near': Manchester,\n",
    "            'distanceField' : \"distance\",\n",
    "            'maxDistance': 0.001,\n",
    "            'distanceMultiplier':6371,\n",
    "            'spherical': True}}]"
   ]
  },
  {
   "cell_type": "code",
   "execution_count": 42,
   "id": "77c7e830",
   "metadata": {},
   "outputs": [],
   "source": [
    "geoloc_school_man = school_man.aggregate(query)"
   ]
  },
  {
   "cell_type": "code",
   "execution_count": 43,
   "id": "a1204248",
   "metadata": {},
   "outputs": [],
   "source": [
    "man_school_response = json.loads(dumps(geoloc_school_man))"
   ]
  },
  {
   "cell_type": "code",
   "execution_count": 44,
   "id": "01202a1b",
   "metadata": {},
   "outputs": [],
   "source": [
    "df_man_school = pd.DataFrame(man_school_response)"
   ]
  },
  {
   "cell_type": "code",
   "execution_count": 45,
   "id": "7aaf79b4",
   "metadata": {},
   "outputs": [
    {
     "data": {
      "text/html": [
       "<div>\n",
       "<style scoped>\n",
       "    .dataframe tbody tr th:only-of-type {\n",
       "        vertical-align: middle;\n",
       "    }\n",
       "\n",
       "    .dataframe tbody tr th {\n",
       "        vertical-align: top;\n",
       "    }\n",
       "\n",
       "    .dataframe thead th {\n",
       "        text-align: right;\n",
       "    }\n",
       "</style>\n",
       "<table border=\"1\" class=\"dataframe\">\n",
       "  <thead>\n",
       "    <tr style=\"text-align: right;\">\n",
       "      <th></th>\n",
       "      <th>_id</th>\n",
       "      <th>longitud</th>\n",
       "      <th>latitud</th>\n",
       "      <th>loc</th>\n",
       "      <th>distance</th>\n",
       "    </tr>\n",
       "  </thead>\n",
       "  <tbody>\n",
       "    <tr>\n",
       "      <th>0</th>\n",
       "      <td>{'$oid': '613482c924570d3647f29d6e'}</td>\n",
       "      <td>53.481100</td>\n",
       "      <td>-2.245204</td>\n",
       "      <td>{'type': 'Point', 'coordinates': [53.4811, -2....</td>\n",
       "      <td>0.505411</td>\n",
       "    </tr>\n",
       "    <tr>\n",
       "      <th>1</th>\n",
       "      <td>{'$oid': '613482c924570d3647f29d60'}</td>\n",
       "      <td>53.479104</td>\n",
       "      <td>-2.241445</td>\n",
       "      <td>{'type': 'Point', 'coordinates': [53.479104383...</td>\n",
       "      <td>0.522778</td>\n",
       "    </tr>\n",
       "    <tr>\n",
       "      <th>2</th>\n",
       "      <td>{'$oid': '613482c924570d3647f29d62'}</td>\n",
       "      <td>53.475369</td>\n",
       "      <td>-2.240189</td>\n",
       "      <td>{'type': 'Point', 'coordinates': [53.475368895...</td>\n",
       "      <td>0.593855</td>\n",
       "    </tr>\n",
       "    <tr>\n",
       "      <th>3</th>\n",
       "      <td>{'$oid': '613482c924570d3647f29d5a'}</td>\n",
       "      <td>53.479218</td>\n",
       "      <td>-2.239831</td>\n",
       "      <td>{'type': 'Point', 'coordinates': [53.479218497...</td>\n",
       "      <td>0.685967</td>\n",
       "    </tr>\n",
       "    <tr>\n",
       "      <th>4</th>\n",
       "      <td>{'$oid': '613482c924570d3647f29d5c'}</td>\n",
       "      <td>53.480423</td>\n",
       "      <td>-2.238362</td>\n",
       "      <td>{'type': 'Point', 'coordinates': [53.4804229, ...</td>\n",
       "      <td>0.892470</td>\n",
       "    </tr>\n",
       "  </tbody>\n",
       "</table>\n",
       "</div>"
      ],
      "text/plain": [
       "                                    _id   longitud   latitud  \\\n",
       "0  {'$oid': '613482c924570d3647f29d6e'}  53.481100 -2.245204   \n",
       "1  {'$oid': '613482c924570d3647f29d60'}  53.479104 -2.241445   \n",
       "2  {'$oid': '613482c924570d3647f29d62'}  53.475369 -2.240189   \n",
       "3  {'$oid': '613482c924570d3647f29d5a'}  53.479218 -2.239831   \n",
       "4  {'$oid': '613482c924570d3647f29d5c'}  53.480423 -2.238362   \n",
       "\n",
       "                                                 loc  distance  \n",
       "0  {'type': 'Point', 'coordinates': [53.4811, -2....  0.505411  \n",
       "1  {'type': 'Point', 'coordinates': [53.479104383...  0.522778  \n",
       "2  {'type': 'Point', 'coordinates': [53.475368895...  0.593855  \n",
       "3  {'type': 'Point', 'coordinates': [53.479218497...  0.685967  \n",
       "4  {'type': 'Point', 'coordinates': [53.4804229, ...  0.892470  "
      ]
     },
     "execution_count": 45,
     "metadata": {},
     "output_type": "execute_result"
    }
   ],
   "source": [
    "df_man_school.head()"
   ]
  },
  {
   "cell_type": "markdown",
   "id": "3be2f98a",
   "metadata": {},
   "source": [
    "### Transport"
   ]
  },
  {
   "cell_type": "code",
   "execution_count": 46,
   "id": "c90da8d5",
   "metadata": {},
   "outputs": [],
   "source": [
    "trans_man = db.get_collection(\"Transport\")"
   ]
  },
  {
   "cell_type": "code",
   "execution_count": 47,
   "id": "8eba93d7",
   "metadata": {},
   "outputs": [],
   "source": [
    "query = [{'$geoNear':{'near': Manchester,\n",
    "            'distanceField' : \"distance\",\n",
    "            'maxDistance': 0.001,\n",
    "            'distanceMultiplier':6371,\n",
    "            'spherical': True}}]"
   ]
  },
  {
   "cell_type": "code",
   "execution_count": 48,
   "id": "a941c8d0",
   "metadata": {},
   "outputs": [],
   "source": [
    "geoloc_trans_man = trans_man.aggregate(query)"
   ]
  },
  {
   "cell_type": "code",
   "execution_count": 49,
   "id": "cde1bd81",
   "metadata": {},
   "outputs": [],
   "source": [
    "man_trans_response = json.loads(dumps(geoloc_trans_man))"
   ]
  },
  {
   "cell_type": "code",
   "execution_count": 50,
   "id": "bca003e8",
   "metadata": {},
   "outputs": [],
   "source": [
    "df_man_trans = pd.DataFrame(man_trans_response)"
   ]
  },
  {
   "cell_type": "code",
   "execution_count": 51,
   "id": "445107c3",
   "metadata": {},
   "outputs": [
    {
     "data": {
      "text/html": [
       "<div>\n",
       "<style scoped>\n",
       "    .dataframe tbody tr th:only-of-type {\n",
       "        vertical-align: middle;\n",
       "    }\n",
       "\n",
       "    .dataframe tbody tr th {\n",
       "        vertical-align: top;\n",
       "    }\n",
       "\n",
       "    .dataframe thead th {\n",
       "        text-align: right;\n",
       "    }\n",
       "</style>\n",
       "<table border=\"1\" class=\"dataframe\">\n",
       "  <thead>\n",
       "    <tr style=\"text-align: right;\">\n",
       "      <th></th>\n",
       "      <th>_id</th>\n",
       "      <th>longitud</th>\n",
       "      <th>latitud</th>\n",
       "      <th>loc</th>\n",
       "      <th>distance</th>\n",
       "    </tr>\n",
       "  </thead>\n",
       "  <tbody>\n",
       "    <tr>\n",
       "      <th>0</th>\n",
       "      <td>{'$oid': '61349b1d24570d3647f29f71'}</td>\n",
       "      <td>53.478252</td>\n",
       "      <td>-2.243174</td>\n",
       "      <td>{'type': 'Point', 'coordinates': [53.478251522...</td>\n",
       "      <td>0.310819</td>\n",
       "    </tr>\n",
       "    <tr>\n",
       "      <th>1</th>\n",
       "      <td>{'$oid': '61349b1d24570d3647f29f78'}</td>\n",
       "      <td>53.473526</td>\n",
       "      <td>-2.247572</td>\n",
       "      <td>{'type': 'Point', 'coordinates': [53.473525877...</td>\n",
       "      <td>0.414537</td>\n",
       "    </tr>\n",
       "    <tr>\n",
       "      <th>2</th>\n",
       "      <td>{'$oid': '613498f424570d3647f29f41'}</td>\n",
       "      <td>53.474270</td>\n",
       "      <td>-2.242341</td>\n",
       "      <td>{'type': 'Point', 'coordinates': [53.474269809...</td>\n",
       "      <td>0.424179</td>\n",
       "    </tr>\n",
       "    <tr>\n",
       "      <th>3</th>\n",
       "      <td>{'$oid': '613498f424570d3647f29f42'}</td>\n",
       "      <td>53.473821</td>\n",
       "      <td>-2.242326</td>\n",
       "      <td>{'type': 'Point', 'coordinates': [53.473820769...</td>\n",
       "      <td>0.456991</td>\n",
       "    </tr>\n",
       "    <tr>\n",
       "      <th>4</th>\n",
       "      <td>{'$oid': '613498f424570d3647f29f40'}</td>\n",
       "      <td>53.474180</td>\n",
       "      <td>-2.242030</td>\n",
       "      <td>{'type': 'Point', 'coordinates': [53.47418, -2...</td>\n",
       "      <td>0.458026</td>\n",
       "    </tr>\n",
       "  </tbody>\n",
       "</table>\n",
       "</div>"
      ],
      "text/plain": [
       "                                    _id   longitud   latitud  \\\n",
       "0  {'$oid': '61349b1d24570d3647f29f71'}  53.478252 -2.243174   \n",
       "1  {'$oid': '61349b1d24570d3647f29f78'}  53.473526 -2.247572   \n",
       "2  {'$oid': '613498f424570d3647f29f41'}  53.474270 -2.242341   \n",
       "3  {'$oid': '613498f424570d3647f29f42'}  53.473821 -2.242326   \n",
       "4  {'$oid': '613498f424570d3647f29f40'}  53.474180 -2.242030   \n",
       "\n",
       "                                                 loc  distance  \n",
       "0  {'type': 'Point', 'coordinates': [53.478251522...  0.310819  \n",
       "1  {'type': 'Point', 'coordinates': [53.473525877...  0.414537  \n",
       "2  {'type': 'Point', 'coordinates': [53.474269809...  0.424179  \n",
       "3  {'type': 'Point', 'coordinates': [53.473820769...  0.456991  \n",
       "4  {'type': 'Point', 'coordinates': [53.47418, -2...  0.458026  "
      ]
     },
     "execution_count": 51,
     "metadata": {},
     "output_type": "execute_result"
    }
   ],
   "source": [
    "df_man_trans.head()"
   ]
  },
  {
   "cell_type": "markdown",
   "id": "6b029adb",
   "metadata": {},
   "source": [
    "### Developing companies "
   ]
  },
  {
   "cell_type": "code",
   "execution_count": 52,
   "id": "323d3efa",
   "metadata": {},
   "outputs": [],
   "source": [
    "dev_man = db.get_collection(\"Developing_companies\")"
   ]
  },
  {
   "cell_type": "code",
   "execution_count": 53,
   "id": "07b1f472",
   "metadata": {},
   "outputs": [],
   "source": [
    "query = [{'$geoNear':{'near': Manchester,\n",
    "            'distanceField' : \"distance\",\n",
    "            'maxDistance': 0.001,\n",
    "            'distanceMultiplier':6371,\n",
    "            'spherical': True}}]"
   ]
  },
  {
   "cell_type": "code",
   "execution_count": 54,
   "id": "bdcb24f5",
   "metadata": {},
   "outputs": [],
   "source": [
    "geoloc_dev_man = dev_man.aggregate(query)"
   ]
  },
  {
   "cell_type": "code",
   "execution_count": 55,
   "id": "8376701a",
   "metadata": {},
   "outputs": [],
   "source": [
    "man_dev_response = json.loads(dumps(geoloc_dev_man))"
   ]
  },
  {
   "cell_type": "code",
   "execution_count": 56,
   "id": "76561b56",
   "metadata": {},
   "outputs": [],
   "source": [
    "df_man_dev = pd.DataFrame(man_dev_response)"
   ]
  },
  {
   "cell_type": "code",
   "execution_count": 57,
   "id": "1ee62d7f",
   "metadata": {},
   "outputs": [
    {
     "data": {
      "text/html": [
       "<div>\n",
       "<style scoped>\n",
       "    .dataframe tbody tr th:only-of-type {\n",
       "        vertical-align: middle;\n",
       "    }\n",
       "\n",
       "    .dataframe tbody tr th {\n",
       "        vertical-align: top;\n",
       "    }\n",
       "\n",
       "    .dataframe thead th {\n",
       "        text-align: right;\n",
       "    }\n",
       "</style>\n",
       "<table border=\"1\" class=\"dataframe\">\n",
       "  <thead>\n",
       "    <tr style=\"text-align: right;\">\n",
       "      <th></th>\n",
       "      <th>_id</th>\n",
       "      <th>longitud</th>\n",
       "      <th>latitud</th>\n",
       "      <th>loc</th>\n",
       "      <th>distance</th>\n",
       "    </tr>\n",
       "  </thead>\n",
       "  <tbody>\n",
       "    <tr>\n",
       "      <th>0</th>\n",
       "      <td>{'$oid': '613493cf24570d3647f29edb'}</td>\n",
       "      <td>53.477224</td>\n",
       "      <td>-2.243550</td>\n",
       "      <td>{'type': 'Point', 'coordinates': [53.477224095...</td>\n",
       "      <td>0.218324</td>\n",
       "    </tr>\n",
       "    <tr>\n",
       "      <th>1</th>\n",
       "      <td>{'$oid': '613493cf24570d3647f29edd'}</td>\n",
       "      <td>53.475590</td>\n",
       "      <td>-2.241402</td>\n",
       "      <td>{'type': 'Point', 'coordinates': [53.475589873...</td>\n",
       "      <td>0.456924</td>\n",
       "    </tr>\n",
       "    <tr>\n",
       "      <th>2</th>\n",
       "      <td>{'$oid': '613493cf24570d3647f29ee9'}</td>\n",
       "      <td>53.477822</td>\n",
       "      <td>-2.249597</td>\n",
       "      <td>{'type': 'Point', 'coordinates': [53.477821785...</td>\n",
       "      <td>0.487854</td>\n",
       "    </tr>\n",
       "    <tr>\n",
       "      <th>3</th>\n",
       "      <td>{'$oid': '613493cf24570d3647f29ee1'}</td>\n",
       "      <td>53.480780</td>\n",
       "      <td>-2.243722</td>\n",
       "      <td>{'type': 'Point', 'coordinates': [53.480780494...</td>\n",
       "      <td>0.505037</td>\n",
       "    </tr>\n",
       "    <tr>\n",
       "      <th>4</th>\n",
       "      <td>{'$oid': '613493cf24570d3647f29edf'}</td>\n",
       "      <td>53.480038</td>\n",
       "      <td>-2.248934</td>\n",
       "      <td>{'type': 'Point', 'coordinates': [53.480038, -...</td>\n",
       "      <td>0.551776</td>\n",
       "    </tr>\n",
       "  </tbody>\n",
       "</table>\n",
       "</div>"
      ],
      "text/plain": [
       "                                    _id   longitud   latitud  \\\n",
       "0  {'$oid': '613493cf24570d3647f29edb'}  53.477224 -2.243550   \n",
       "1  {'$oid': '613493cf24570d3647f29edd'}  53.475590 -2.241402   \n",
       "2  {'$oid': '613493cf24570d3647f29ee9'}  53.477822 -2.249597   \n",
       "3  {'$oid': '613493cf24570d3647f29ee1'}  53.480780 -2.243722   \n",
       "4  {'$oid': '613493cf24570d3647f29edf'}  53.480038 -2.248934   \n",
       "\n",
       "                                                 loc  distance  \n",
       "0  {'type': 'Point', 'coordinates': [53.477224095...  0.218324  \n",
       "1  {'type': 'Point', 'coordinates': [53.475589873...  0.456924  \n",
       "2  {'type': 'Point', 'coordinates': [53.477821785...  0.487854  \n",
       "3  {'type': 'Point', 'coordinates': [53.480780494...  0.505037  \n",
       "4  {'type': 'Point', 'coordinates': [53.480038, -...  0.551776  "
      ]
     },
     "execution_count": 57,
     "metadata": {},
     "output_type": "execute_result"
    }
   ],
   "source": [
    "df_man_dev.head()"
   ]
  },
  {
   "cell_type": "markdown",
   "id": "0a393b9d",
   "metadata": {},
   "source": [
    "## Las Palmas"
   ]
  },
  {
   "cell_type": "code",
   "execution_count": 58,
   "id": "435bccea",
   "metadata": {},
   "outputs": [],
   "source": [
    "Las_Palmas = [28.139050810737494, -15.431441251599868]"
   ]
  },
  {
   "cell_type": "markdown",
   "id": "0e339893",
   "metadata": {},
   "source": [
    "### Starbucks"
   ]
  },
  {
   "cell_type": "code",
   "execution_count": 59,
   "id": "cea2da29",
   "metadata": {},
   "outputs": [],
   "source": [
    "star_lp = db.get_collection(\"Starbucks\")"
   ]
  },
  {
   "cell_type": "code",
   "execution_count": 60,
   "id": "3255776f",
   "metadata": {},
   "outputs": [],
   "source": [
    "query = [{'$geoNear':{'near': Las_Palmas,\n",
    "            'distanceField' : \"distance\",\n",
    "            'maxDistance': 0.001,\n",
    "            'distanceMultiplier':6371,\n",
    "            'spherical': True}}]"
   ]
  },
  {
   "cell_type": "code",
   "execution_count": 61,
   "id": "4be0b6dc",
   "metadata": {},
   "outputs": [],
   "source": [
    "geoloc_star_lp = star_lp.aggregate(query)"
   ]
  },
  {
   "cell_type": "code",
   "execution_count": 62,
   "id": "b9965909",
   "metadata": {},
   "outputs": [],
   "source": [
    "lp_star_response = json.loads(dumps(geoloc_star_lp))"
   ]
  },
  {
   "cell_type": "code",
   "execution_count": 63,
   "id": "2945d279",
   "metadata": {},
   "outputs": [],
   "source": [
    "df_lp_star = pd.DataFrame(lp_star_response)"
   ]
  },
  {
   "cell_type": "code",
   "execution_count": 64,
   "id": "2d39572f",
   "metadata": {},
   "outputs": [
    {
     "data": {
      "text/html": [
       "<div>\n",
       "<style scoped>\n",
       "    .dataframe tbody tr th:only-of-type {\n",
       "        vertical-align: middle;\n",
       "    }\n",
       "\n",
       "    .dataframe tbody tr th {\n",
       "        vertical-align: top;\n",
       "    }\n",
       "\n",
       "    .dataframe thead th {\n",
       "        text-align: right;\n",
       "    }\n",
       "</style>\n",
       "<table border=\"1\" class=\"dataframe\">\n",
       "  <thead>\n",
       "    <tr style=\"text-align: right;\">\n",
       "      <th></th>\n",
       "      <th>_id</th>\n",
       "      <th>longitud</th>\n",
       "      <th>latitud</th>\n",
       "      <th>loc</th>\n",
       "      <th>distance</th>\n",
       "    </tr>\n",
       "  </thead>\n",
       "  <tbody>\n",
       "    <tr>\n",
       "      <th>0</th>\n",
       "      <td>{'$oid': '613487ba24570d3647f29e03'}</td>\n",
       "      <td>28.141927</td>\n",
       "      <td>-15.434266</td>\n",
       "      <td>{'type': 'Point', 'coordinates': [28.141927, -...</td>\n",
       "      <td>0.440111</td>\n",
       "    </tr>\n",
       "    <tr>\n",
       "      <th>1</th>\n",
       "      <td>{'$oid': '613487ba24570d3647f29e02'}</td>\n",
       "      <td>28.134720</td>\n",
       "      <td>-15.431628</td>\n",
       "      <td>{'type': 'Point', 'coordinates': [28.134720492...</td>\n",
       "      <td>0.464616</td>\n",
       "    </tr>\n",
       "  </tbody>\n",
       "</table>\n",
       "</div>"
      ],
      "text/plain": [
       "                                    _id   longitud    latitud  \\\n",
       "0  {'$oid': '613487ba24570d3647f29e03'}  28.141927 -15.434266   \n",
       "1  {'$oid': '613487ba24570d3647f29e02'}  28.134720 -15.431628   \n",
       "\n",
       "                                                 loc  distance  \n",
       "0  {'type': 'Point', 'coordinates': [28.141927, -...  0.440111  \n",
       "1  {'type': 'Point', 'coordinates': [28.134720492...  0.464616  "
      ]
     },
     "execution_count": 64,
     "metadata": {},
     "output_type": "execute_result"
    }
   ],
   "source": [
    "df_lp_star.head()"
   ]
  },
  {
   "cell_type": "markdown",
   "id": "40881005",
   "metadata": {},
   "source": [
    "### Schools"
   ]
  },
  {
   "cell_type": "code",
   "execution_count": 65,
   "id": "f89159f1",
   "metadata": {},
   "outputs": [],
   "source": [
    "school_lp = db.get_collection(\"Schools\")"
   ]
  },
  {
   "cell_type": "code",
   "execution_count": 66,
   "id": "e7509cdc",
   "metadata": {},
   "outputs": [],
   "source": [
    "query = [{'$geoNear':{'near': Las_Palmas,\n",
    "            'distanceField' : \"distance\",\n",
    "            'maxDistance': 0.001,\n",
    "            'distanceMultiplier':6371,\n",
    "            'spherical': True}}]"
   ]
  },
  {
   "cell_type": "code",
   "execution_count": 67,
   "id": "397d738e",
   "metadata": {},
   "outputs": [],
   "source": [
    "geoloc_school_lp = school_lp.aggregate(query)"
   ]
  },
  {
   "cell_type": "code",
   "execution_count": 68,
   "id": "1cb9376d",
   "metadata": {},
   "outputs": [],
   "source": [
    "lp_school_response = json.loads(dumps(geoloc_school_lp))"
   ]
  },
  {
   "cell_type": "code",
   "execution_count": 69,
   "id": "b6e07ae4",
   "metadata": {},
   "outputs": [],
   "source": [
    "df_lp_school = pd.DataFrame(lp_school_response)"
   ]
  },
  {
   "cell_type": "code",
   "execution_count": 70,
   "id": "3a6458fd",
   "metadata": {},
   "outputs": [
    {
     "data": {
      "text/html": [
       "<div>\n",
       "<style scoped>\n",
       "    .dataframe tbody tr th:only-of-type {\n",
       "        vertical-align: middle;\n",
       "    }\n",
       "\n",
       "    .dataframe tbody tr th {\n",
       "        vertical-align: top;\n",
       "    }\n",
       "\n",
       "    .dataframe thead th {\n",
       "        text-align: right;\n",
       "    }\n",
       "</style>\n",
       "<table border=\"1\" class=\"dataframe\">\n",
       "  <thead>\n",
       "    <tr style=\"text-align: right;\">\n",
       "      <th></th>\n",
       "      <th>_id</th>\n",
       "      <th>longitud</th>\n",
       "      <th>latitud</th>\n",
       "      <th>loc</th>\n",
       "      <th>distance</th>\n",
       "    </tr>\n",
       "  </thead>\n",
       "  <tbody>\n",
       "    <tr>\n",
       "      <th>0</th>\n",
       "      <td>{'$oid': '61348f4024570d3647f29e1f'}</td>\n",
       "      <td>28.139566</td>\n",
       "      <td>-15.430696</td>\n",
       "      <td>{'type': 'Point', 'coordinates': [28.139566, -...</td>\n",
       "      <td>0.099582</td>\n",
       "    </tr>\n",
       "    <tr>\n",
       "      <th>1</th>\n",
       "      <td>{'$oid': '61348f4024570d3647f29e1d'}</td>\n",
       "      <td>28.140824</td>\n",
       "      <td>-15.435629</td>\n",
       "      <td>{'type': 'Point', 'coordinates': [28.140823978...</td>\n",
       "      <td>0.502910</td>\n",
       "    </tr>\n",
       "    <tr>\n",
       "      <th>2</th>\n",
       "      <td>{'$oid': '61348f4024570d3647f29e1e'}</td>\n",
       "      <td>28.134745</td>\n",
       "      <td>-15.433736</td>\n",
       "      <td>{'type': 'Point', 'coordinates': [28.134744867...</td>\n",
       "      <td>0.527398</td>\n",
       "    </tr>\n",
       "    <tr>\n",
       "      <th>3</th>\n",
       "      <td>{'$oid': '6134847224570d3647f29d73'}</td>\n",
       "      <td>28.131124</td>\n",
       "      <td>-15.439034</td>\n",
       "      <td>{'type': 'Point', 'coordinates': [28.131123977...</td>\n",
       "      <td>1.197782</td>\n",
       "    </tr>\n",
       "    <tr>\n",
       "      <th>4</th>\n",
       "      <td>{'$oid': '6134847224570d3647f29d72'}</td>\n",
       "      <td>28.125151</td>\n",
       "      <td>-15.432821</td>\n",
       "      <td>{'type': 'Point', 'coordinates': [28.125151302...</td>\n",
       "      <td>1.497707</td>\n",
       "    </tr>\n",
       "  </tbody>\n",
       "</table>\n",
       "</div>"
      ],
      "text/plain": [
       "                                    _id   longitud    latitud  \\\n",
       "0  {'$oid': '61348f4024570d3647f29e1f'}  28.139566 -15.430696   \n",
       "1  {'$oid': '61348f4024570d3647f29e1d'}  28.140824 -15.435629   \n",
       "2  {'$oid': '61348f4024570d3647f29e1e'}  28.134745 -15.433736   \n",
       "3  {'$oid': '6134847224570d3647f29d73'}  28.131124 -15.439034   \n",
       "4  {'$oid': '6134847224570d3647f29d72'}  28.125151 -15.432821   \n",
       "\n",
       "                                                 loc  distance  \n",
       "0  {'type': 'Point', 'coordinates': [28.139566, -...  0.099582  \n",
       "1  {'type': 'Point', 'coordinates': [28.140823978...  0.502910  \n",
       "2  {'type': 'Point', 'coordinates': [28.134744867...  0.527398  \n",
       "3  {'type': 'Point', 'coordinates': [28.131123977...  1.197782  \n",
       "4  {'type': 'Point', 'coordinates': [28.125151302...  1.497707  "
      ]
     },
     "execution_count": 70,
     "metadata": {},
     "output_type": "execute_result"
    }
   ],
   "source": [
    "df_lp_school.head()"
   ]
  },
  {
   "cell_type": "markdown",
   "id": "d61190e1",
   "metadata": {},
   "source": [
    "### Transport"
   ]
  },
  {
   "cell_type": "code",
   "execution_count": 71,
   "id": "34d3b417",
   "metadata": {},
   "outputs": [],
   "source": [
    "trans_lp = db.get_collection(\"Transport\")"
   ]
  },
  {
   "cell_type": "code",
   "execution_count": 72,
   "id": "1bfa5476",
   "metadata": {},
   "outputs": [],
   "source": [
    "query = [{'$geoNear':{'near': Las_Palmas,\n",
    "            'distanceField' : \"distance\",\n",
    "            'maxDistance': 0.001,\n",
    "            'distanceMultiplier':6371,\n",
    "            'spherical': True}}]"
   ]
  },
  {
   "cell_type": "code",
   "execution_count": 73,
   "id": "fbaea921",
   "metadata": {},
   "outputs": [],
   "source": [
    "geoloc_trans_lp = trans_lp.aggregate(query)"
   ]
  },
  {
   "cell_type": "code",
   "execution_count": 74,
   "id": "8ee8e763",
   "metadata": {},
   "outputs": [],
   "source": [
    "lp_trans_response = json.loads(dumps(geoloc_trans_lp))"
   ]
  },
  {
   "cell_type": "code",
   "execution_count": 75,
   "id": "0d79240b",
   "metadata": {},
   "outputs": [],
   "source": [
    "df_lp_trans = pd.DataFrame(lp_trans_response)"
   ]
  },
  {
   "cell_type": "code",
   "execution_count": 76,
   "id": "027c3fd5",
   "metadata": {},
   "outputs": [
    {
     "data": {
      "text/html": [
       "<div>\n",
       "<style scoped>\n",
       "    .dataframe tbody tr th:only-of-type {\n",
       "        vertical-align: middle;\n",
       "    }\n",
       "\n",
       "    .dataframe tbody tr th {\n",
       "        vertical-align: top;\n",
       "    }\n",
       "\n",
       "    .dataframe thead th {\n",
       "        text-align: right;\n",
       "    }\n",
       "</style>\n",
       "<table border=\"1\" class=\"dataframe\">\n",
       "  <thead>\n",
       "    <tr style=\"text-align: right;\">\n",
       "      <th></th>\n",
       "      <th>_id</th>\n",
       "      <th>longitud</th>\n",
       "      <th>latitud</th>\n",
       "      <th>loc</th>\n",
       "      <th>distance</th>\n",
       "    </tr>\n",
       "  </thead>\n",
       "  <tbody>\n",
       "    <tr>\n",
       "      <th>0</th>\n",
       "      <td>{'$oid': '61349d0124570d3647f29f87'}</td>\n",
       "      <td>28.132637</td>\n",
       "      <td>-15.429829</td>\n",
       "      <td>{'type': 'Point', 'coordinates': [28.132636926...</td>\n",
       "      <td>0.710467</td>\n",
       "    </tr>\n",
       "    <tr>\n",
       "      <th>1</th>\n",
       "      <td>{'$oid': '61349d0124570d3647f29f88'}</td>\n",
       "      <td>28.109697</td>\n",
       "      <td>-15.417176</td>\n",
       "      <td>{'type': 'Point', 'coordinates': [28.109696986...</td>\n",
       "      <td>3.523680</td>\n",
       "    </tr>\n",
       "    <tr>\n",
       "      <th>2</th>\n",
       "      <td>{'$oid': '61349d0124570d3647f29f8a'}</td>\n",
       "      <td>28.108745</td>\n",
       "      <td>-15.415895</td>\n",
       "      <td>{'type': 'Point', 'coordinates': [28.108744989...</td>\n",
       "      <td>3.679802</td>\n",
       "    </tr>\n",
       "    <tr>\n",
       "      <th>3</th>\n",
       "      <td>{'$oid': '61349d0124570d3647f29f89'}</td>\n",
       "      <td>28.108736</td>\n",
       "      <td>-15.415694</td>\n",
       "      <td>{'type': 'Point', 'coordinates': [28.108735573...</td>\n",
       "      <td>3.691247</td>\n",
       "    </tr>\n",
       "    <tr>\n",
       "      <th>4</th>\n",
       "      <td>{'$oid': '61349c6d24570d3647f29f85'}</td>\n",
       "      <td>28.104074</td>\n",
       "      <td>-15.457926</td>\n",
       "      <td>{'type': 'Point', 'coordinates': [28.104074, -...</td>\n",
       "      <td>4.767212</td>\n",
       "    </tr>\n",
       "  </tbody>\n",
       "</table>\n",
       "</div>"
      ],
      "text/plain": [
       "                                    _id   longitud    latitud  \\\n",
       "0  {'$oid': '61349d0124570d3647f29f87'}  28.132637 -15.429829   \n",
       "1  {'$oid': '61349d0124570d3647f29f88'}  28.109697 -15.417176   \n",
       "2  {'$oid': '61349d0124570d3647f29f8a'}  28.108745 -15.415895   \n",
       "3  {'$oid': '61349d0124570d3647f29f89'}  28.108736 -15.415694   \n",
       "4  {'$oid': '61349c6d24570d3647f29f85'}  28.104074 -15.457926   \n",
       "\n",
       "                                                 loc  distance  \n",
       "0  {'type': 'Point', 'coordinates': [28.132636926...  0.710467  \n",
       "1  {'type': 'Point', 'coordinates': [28.109696986...  3.523680  \n",
       "2  {'type': 'Point', 'coordinates': [28.108744989...  3.679802  \n",
       "3  {'type': 'Point', 'coordinates': [28.108735573...  3.691247  \n",
       "4  {'type': 'Point', 'coordinates': [28.104074, -...  4.767212  "
      ]
     },
     "execution_count": 76,
     "metadata": {},
     "output_type": "execute_result"
    }
   ],
   "source": [
    "df_lp_trans.head()"
   ]
  },
  {
   "cell_type": "markdown",
   "id": "f8d02e6a",
   "metadata": {},
   "source": [
    "### Developing Companies"
   ]
  },
  {
   "cell_type": "code",
   "execution_count": 77,
   "id": "4a2b8e90",
   "metadata": {},
   "outputs": [],
   "source": [
    "dev_lp = db.get_collection(\"Developing_companies\")"
   ]
  },
  {
   "cell_type": "code",
   "execution_count": 78,
   "id": "7e20bf91",
   "metadata": {},
   "outputs": [],
   "source": [
    "query = [{'$geoNear':{'near': Las_Palmas,\n",
    "            'distanceField' : \"distance\",\n",
    "            'maxDistance': 0.001,\n",
    "            'distanceMultiplier':6371,\n",
    "            'spherical': True}}]"
   ]
  },
  {
   "cell_type": "code",
   "execution_count": 79,
   "id": "f3d2e9e1",
   "metadata": {},
   "outputs": [],
   "source": [
    "geoloc_dev_lp = dev_lp.aggregate(query)"
   ]
  },
  {
   "cell_type": "code",
   "execution_count": 80,
   "id": "7cf4780c",
   "metadata": {},
   "outputs": [],
   "source": [
    "lp_dev_response = json.loads(dumps(geoloc_dev_lp))"
   ]
  },
  {
   "cell_type": "code",
   "execution_count": 81,
   "id": "ef23849a",
   "metadata": {},
   "outputs": [],
   "source": [
    "df_lp_dev = pd.DataFrame(lp_dev_response)"
   ]
  },
  {
   "cell_type": "code",
   "execution_count": 82,
   "id": "a69bd19c",
   "metadata": {},
   "outputs": [
    {
     "data": {
      "text/html": [
       "<div>\n",
       "<style scoped>\n",
       "    .dataframe tbody tr th:only-of-type {\n",
       "        vertical-align: middle;\n",
       "    }\n",
       "\n",
       "    .dataframe tbody tr th {\n",
       "        vertical-align: top;\n",
       "    }\n",
       "\n",
       "    .dataframe thead th {\n",
       "        text-align: right;\n",
       "    }\n",
       "</style>\n",
       "<table border=\"1\" class=\"dataframe\">\n",
       "  <thead>\n",
       "    <tr style=\"text-align: right;\">\n",
       "      <th></th>\n",
       "      <th>_id</th>\n",
       "      <th>longitud</th>\n",
       "      <th>latitud</th>\n",
       "      <th>loc</th>\n",
       "      <th>distance</th>\n",
       "    </tr>\n",
       "  </thead>\n",
       "  <tbody>\n",
       "    <tr>\n",
       "      <th>0</th>\n",
       "      <td>{'$oid': '6134946a24570d3647f29ef7'}</td>\n",
       "      <td>28.137557</td>\n",
       "      <td>-15.430064</td>\n",
       "      <td>{'type': 'Point', 'coordinates': [28.137557299...</td>\n",
       "      <td>0.221557</td>\n",
       "    </tr>\n",
       "    <tr>\n",
       "      <th>1</th>\n",
       "      <td>{'$oid': '6134946a24570d3647f29ef8'}</td>\n",
       "      <td>28.143822</td>\n",
       "      <td>-15.425184</td>\n",
       "      <td>{'type': 'Point', 'coordinates': [28.143821645...</td>\n",
       "      <td>0.863477</td>\n",
       "    </tr>\n",
       "    <tr>\n",
       "      <th>2</th>\n",
       "      <td>{'$oid': '6134946a24570d3647f29ef9'}</td>\n",
       "      <td>28.107948</td>\n",
       "      <td>-15.418088</td>\n",
       "      <td>{'type': 'Point', 'coordinates': [28.107947603...</td>\n",
       "      <td>3.649619</td>\n",
       "    </tr>\n",
       "    <tr>\n",
       "      <th>3</th>\n",
       "      <td>{'$oid': '6134946a24570d3647f29efa'}</td>\n",
       "      <td>28.104387</td>\n",
       "      <td>-15.452705</td>\n",
       "      <td>{'type': 'Point', 'coordinates': [28.104386944...</td>\n",
       "      <td>4.403864</td>\n",
       "    </tr>\n",
       "  </tbody>\n",
       "</table>\n",
       "</div>"
      ],
      "text/plain": [
       "                                    _id   longitud    latitud  \\\n",
       "0  {'$oid': '6134946a24570d3647f29ef7'}  28.137557 -15.430064   \n",
       "1  {'$oid': '6134946a24570d3647f29ef8'}  28.143822 -15.425184   \n",
       "2  {'$oid': '6134946a24570d3647f29ef9'}  28.107948 -15.418088   \n",
       "3  {'$oid': '6134946a24570d3647f29efa'}  28.104387 -15.452705   \n",
       "\n",
       "                                                 loc  distance  \n",
       "0  {'type': 'Point', 'coordinates': [28.137557299...  0.221557  \n",
       "1  {'type': 'Point', 'coordinates': [28.143821645...  0.863477  \n",
       "2  {'type': 'Point', 'coordinates': [28.107947603...  3.649619  \n",
       "3  {'type': 'Point', 'coordinates': [28.104386944...  4.403864  "
      ]
     },
     "execution_count": 82,
     "metadata": {},
     "output_type": "execute_result"
    }
   ],
   "source": [
    "df_lp_dev.head()"
   ]
  },
  {
   "cell_type": "markdown",
   "id": "4df3b3ea",
   "metadata": {},
   "source": [
    "# Means and weighing"
   ]
  },
  {
   "cell_type": "markdown",
   "id": "4ac76d85",
   "metadata": {},
   "source": [
    "### Weighing "
   ]
  },
  {
   "cell_type": "code",
   "execution_count": 83,
   "id": "22177706",
   "metadata": {},
   "outputs": [],
   "source": [
    "schools = 0.3\n",
    "starbucks= 0.2\n",
    "transport = 0.8\n",
    "developing_companies = 0.7"
   ]
  },
  {
   "cell_type": "code",
   "execution_count": 84,
   "id": "531476cc",
   "metadata": {},
   "outputs": [],
   "source": [
    "n = 8"
   ]
  },
  {
   "cell_type": "markdown",
   "id": "a9c1c9ff",
   "metadata": {},
   "source": [
    "### Dublin"
   ]
  },
  {
   "cell_type": "code",
   "execution_count": 85,
   "id": "05c6d086",
   "metadata": {},
   "outputs": [],
   "source": [
    "mean_star_dub = df[\"distance\"][0:n].sum() / len(df[\"distance\"][0:n])\n"
   ]
  },
  {
   "cell_type": "code",
   "execution_count": 86,
   "id": "5b7c2e33",
   "metadata": {},
   "outputs": [],
   "source": [
    "w_star_dub = mean_star_dub * starbucks"
   ]
  },
  {
   "cell_type": "code",
   "execution_count": 87,
   "id": "82ccd1a1",
   "metadata": {},
   "outputs": [],
   "source": [
    "mean_school_dub = df_dub_school[\"distance\"][0:n].sum()/ len(df_dub_school[\"distance\"][0:n])"
   ]
  },
  {
   "cell_type": "code",
   "execution_count": 88,
   "id": "c67fadf1",
   "metadata": {},
   "outputs": [],
   "source": [
    "w_school_dub = mean_school_dub * schools"
   ]
  },
  {
   "cell_type": "code",
   "execution_count": 89,
   "id": "3b807c79",
   "metadata": {},
   "outputs": [],
   "source": [
    "mean_trans_dub = df_dub_trans[\"distance\"][0:n].sum()/ len(df_dub_trans[\"distance\"][0:n])"
   ]
  },
  {
   "cell_type": "code",
   "execution_count": 90,
   "id": "f4ff811c",
   "metadata": {},
   "outputs": [],
   "source": [
    "w_trans_dub = mean_trans_dub * transport"
   ]
  },
  {
   "cell_type": "code",
   "execution_count": 91,
   "id": "14a0c240",
   "metadata": {},
   "outputs": [],
   "source": [
    "mean_dev_dub = df_dub_dev[\"distance\"][0:n].sum()/ len(df_dub_dev[\"distance\"][0:n])"
   ]
  },
  {
   "cell_type": "code",
   "execution_count": 92,
   "id": "13f0af27",
   "metadata": {},
   "outputs": [],
   "source": [
    "w_dev_dub = mean_dev_dub * developing_companies"
   ]
  },
  {
   "cell_type": "code",
   "execution_count": 93,
   "id": "105f820d",
   "metadata": {},
   "outputs": [
    {
     "data": {
      "text/plain": [
       "2.0622500822066496"
      ]
     },
     "execution_count": 93,
     "metadata": {},
     "output_type": "execute_result"
    }
   ],
   "source": [
    "w_star_dub + w_school_dub + w_trans_dub + w_dev_dub"
   ]
  },
  {
   "cell_type": "markdown",
   "id": "06e9a613",
   "metadata": {},
   "source": [
    "### Manchester\n"
   ]
  },
  {
   "cell_type": "code",
   "execution_count": 94,
   "id": "a7584eac",
   "metadata": {},
   "outputs": [],
   "source": [
    "mean_star_man = df_man_star[\"distance\"][0:n].sum() / len(df_man_star[\"distance\"][0:n])"
   ]
  },
  {
   "cell_type": "code",
   "execution_count": 95,
   "id": "d529c27a",
   "metadata": {},
   "outputs": [],
   "source": [
    "w_star_man = mean_star_man * starbucks"
   ]
  },
  {
   "cell_type": "code",
   "execution_count": 96,
   "id": "41886167",
   "metadata": {},
   "outputs": [],
   "source": [
    "mean_school_man = df_man_school[\"distance\"][0:n].sum()/ len(df_man_school[\"distance\"][0:n])"
   ]
  },
  {
   "cell_type": "code",
   "execution_count": 97,
   "id": "994bd080",
   "metadata": {},
   "outputs": [],
   "source": [
    "w_school_man = mean_school_man * schools"
   ]
  },
  {
   "cell_type": "code",
   "execution_count": 98,
   "id": "5ab69a05",
   "metadata": {},
   "outputs": [],
   "source": [
    "mean_trans_man = df_man_trans[\"distance\"][0:n].sum()/ len(df_man_trans[\"distance\"][0:n])"
   ]
  },
  {
   "cell_type": "code",
   "execution_count": 99,
   "id": "db8264d3",
   "metadata": {},
   "outputs": [],
   "source": [
    "w_trans_man = mean_trans_man * transport"
   ]
  },
  {
   "cell_type": "code",
   "execution_count": 100,
   "id": "028893be",
   "metadata": {},
   "outputs": [],
   "source": [
    "mean_dev_man = df_man_dev[\"distance\"][0:n].sum()/ len(df_man_dev[\"distance\"][0:n])"
   ]
  },
  {
   "cell_type": "code",
   "execution_count": 101,
   "id": "8a80b139",
   "metadata": {},
   "outputs": [],
   "source": [
    "w_dev_man = mean_dev_man * developing_companies"
   ]
  },
  {
   "cell_type": "code",
   "execution_count": 102,
   "id": "effba22a",
   "metadata": {},
   "outputs": [
    {
     "data": {
      "text/plain": [
       "1.0566074455474936"
      ]
     },
     "execution_count": 102,
     "metadata": {},
     "output_type": "execute_result"
    }
   ],
   "source": [
    "w_star_man + w_school_man + w_trans_man + w_dev_man"
   ]
  },
  {
   "cell_type": "markdown",
   "id": "d35d0d92",
   "metadata": {},
   "source": [
    "### Las Palmas"
   ]
  },
  {
   "cell_type": "code",
   "execution_count": 103,
   "id": "a2b66d0b",
   "metadata": {},
   "outputs": [],
   "source": [
    "mean_star_lp = df_lp_star[\"distance\"][0:n].sum() / len(df_lp_star[\"distance\"][0:n])"
   ]
  },
  {
   "cell_type": "code",
   "execution_count": 104,
   "id": "dc86dea1",
   "metadata": {},
   "outputs": [],
   "source": [
    "w_star_lp = mean_star_lp * starbucks"
   ]
  },
  {
   "cell_type": "code",
   "execution_count": 105,
   "id": "3795108e",
   "metadata": {},
   "outputs": [],
   "source": [
    "mean_school_lp = df_lp_school[\"distance\"][0:n].sum()/ len(df_lp_school[\"distance\"][0:n])"
   ]
  },
  {
   "cell_type": "code",
   "execution_count": 106,
   "id": "cbb2f0cd",
   "metadata": {},
   "outputs": [],
   "source": [
    "w_school_lp = mean_school_lp * schools"
   ]
  },
  {
   "cell_type": "code",
   "execution_count": 107,
   "id": "739732ec",
   "metadata": {},
   "outputs": [],
   "source": [
    "mean_trans_lp = df_lp_trans[\"distance\"][0:n].sum()/ len(df_lp_trans[\"distance\"][0:n])"
   ]
  },
  {
   "cell_type": "code",
   "execution_count": 108,
   "id": "f8e46a35",
   "metadata": {},
   "outputs": [],
   "source": [
    "w_trans_lp = mean_trans_lp * transport"
   ]
  },
  {
   "cell_type": "code",
   "execution_count": 109,
   "id": "478a8313",
   "metadata": {},
   "outputs": [],
   "source": [
    "mean_dev_lp = df_lp_dev[\"distance\"][0:n].sum()/ len(df_lp_dev[\"distance\"][0:n])"
   ]
  },
  {
   "cell_type": "code",
   "execution_count": 110,
   "id": "8b971868",
   "metadata": {},
   "outputs": [],
   "source": [
    "w_dev_lp = mean_dev_lp * developing_companies"
   ]
  },
  {
   "cell_type": "code",
   "execution_count": 111,
   "id": "0d83e289",
   "metadata": {},
   "outputs": [
    {
     "data": {
      "text/plain": [
       "4.644717894141601"
      ]
     },
     "execution_count": 111,
     "metadata": {},
     "output_type": "execute_result"
    }
   ],
   "source": [
    "w_star_lp + w_school_lp + w_trans_lp + w_dev_lp"
   ]
  }
 ],
 "metadata": {
  "kernelspec": {
   "display_name": "Python 3 (ipykernel)",
   "language": "python",
   "name": "python3"
  },
  "language_info": {
   "codemirror_mode": {
    "name": "ipython",
    "version": 3
   },
   "file_extension": ".py",
   "mimetype": "text/x-python",
   "name": "python",
   "nbconvert_exporter": "python",
   "pygments_lexer": "ipython3",
   "version": "3.8.10"
  }
 },
 "nbformat": 4,
 "nbformat_minor": 5
}

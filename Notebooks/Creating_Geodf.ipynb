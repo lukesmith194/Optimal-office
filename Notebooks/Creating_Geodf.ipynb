{
 "cells": [
  {
   "cell_type": "code",
   "execution_count": 16,
   "id": "003117ac",
   "metadata": {},
   "outputs": [],
   "source": [
    "import pandas as pd\n",
    "import geopandas\n",
    "from pymongo import MongoClient,GEOSPHERE\n",
    "import shapely.geometry"
   ]
  },
  {
   "cell_type": "markdown",
   "id": "37b99339",
   "metadata": {},
   "source": [
    "# Schools"
   ]
  },
  {
   "cell_type": "markdown",
   "id": "5defc9ee",
   "metadata": {},
   "source": [
    "## Dublin"
   ]
  },
  {
   "cell_type": "code",
   "execution_count": 17,
   "id": "25994ea9",
   "metadata": {},
   "outputs": [
    {
     "data": {
      "text/html": [
       "<div>\n",
       "<style scoped>\n",
       "    .dataframe tbody tr th:only-of-type {\n",
       "        vertical-align: middle;\n",
       "    }\n",
       "\n",
       "    .dataframe tbody tr th {\n",
       "        vertical-align: top;\n",
       "    }\n",
       "\n",
       "    .dataframe thead th {\n",
       "        text-align: right;\n",
       "    }\n",
       "</style>\n",
       "<table border=\"1\" class=\"dataframe\">\n",
       "  <thead>\n",
       "    <tr style=\"text-align: right;\">\n",
       "      <th></th>\n",
       "      <th>name</th>\n",
       "      <th>latitud</th>\n",
       "      <th>longitud</th>\n",
       "      <th>formattedAddress__001</th>\n",
       "      <th>formattedAddress__002</th>\n",
       "      <th>formattedAddress__003</th>\n",
       "      <th>formattedAddress__004</th>\n",
       "      <th>location__type</th>\n",
       "      <th>location__coordinates__001</th>\n",
       "      <th>location__coordinates__002</th>\n",
       "    </tr>\n",
       "  </thead>\n",
       "  <tbody>\n",
       "    <tr>\n",
       "      <th>0</th>\n",
       "      <td>Oscars English School</td>\n",
       "      <td>53.344214</td>\n",
       "      <td>-6.263200</td>\n",
       "      <td>33-34 Dame St</td>\n",
       "      <td>Dublin</td>\n",
       "      <td>Dublin City</td>\n",
       "      <td>Ireland</td>\n",
       "      <td>Point</td>\n",
       "      <td>53.344214</td>\n",
       "      <td>-6.263200</td>\n",
       "    </tr>\n",
       "    <tr>\n",
       "      <th>1</th>\n",
       "      <td>Atlas Language School</td>\n",
       "      <td>53.330061</td>\n",
       "      <td>-6.264892</td>\n",
       "      <td>S Richmond St</td>\n",
       "      <td>Dublin</td>\n",
       "      <td>Dublin City</td>\n",
       "      <td>Ireland</td>\n",
       "      <td>Point</td>\n",
       "      <td>53.330061</td>\n",
       "      <td>-6.264892</td>\n",
       "    </tr>\n",
       "    <tr>\n",
       "      <th>2</th>\n",
       "      <td>ULearn English School Dublin</td>\n",
       "      <td>53.336605</td>\n",
       "      <td>-6.262977</td>\n",
       "      <td>89 Harcourt  Street</td>\n",
       "      <td>Dublin</td>\n",
       "      <td>Dublin City</td>\n",
       "      <td>Ireland</td>\n",
       "      <td>Point</td>\n",
       "      <td>53.336605</td>\n",
       "      <td>-6.262977</td>\n",
       "    </tr>\n",
       "    <tr>\n",
       "      <th>3</th>\n",
       "      <td>Delfin English School</td>\n",
       "      <td>53.353491</td>\n",
       "      <td>-6.262042</td>\n",
       "      <td>2 Parnell Square East</td>\n",
       "      <td>Dublin</td>\n",
       "      <td>Dublin City</td>\n",
       "      <td>Ireland</td>\n",
       "      <td>Point</td>\n",
       "      <td>53.353491</td>\n",
       "      <td>-6.262042</td>\n",
       "    </tr>\n",
       "    <tr>\n",
       "      <th>4</th>\n",
       "      <td>Horner School of English</td>\n",
       "      <td>53.336597</td>\n",
       "      <td>-6.249157</td>\n",
       "      <td>80 Fitzwilliam St</td>\n",
       "      <td>Dublin</td>\n",
       "      <td>Dublin City</td>\n",
       "      <td>Ireland</td>\n",
       "      <td>Point</td>\n",
       "      <td>53.336597</td>\n",
       "      <td>-6.249157</td>\n",
       "    </tr>\n",
       "  </tbody>\n",
       "</table>\n",
       "</div>"
      ],
      "text/plain": [
       "                           name    latitud  longitud  formattedAddress__001  \\\n",
       "0         Oscars English School  53.344214 -6.263200          33-34 Dame St   \n",
       "1         Atlas Language School  53.330061 -6.264892          S Richmond St   \n",
       "2  ULearn English School Dublin  53.336605 -6.262977    89 Harcourt  Street   \n",
       "3         Delfin English School  53.353491 -6.262042  2 Parnell Square East   \n",
       "4      Horner School of English  53.336597 -6.249157      80 Fitzwilliam St   \n",
       "\n",
       "  formattedAddress__002 formattedAddress__003 formattedAddress__004  \\\n",
       "0                Dublin           Dublin City               Ireland   \n",
       "1                Dublin           Dublin City               Ireland   \n",
       "2                Dublin           Dublin City               Ireland   \n",
       "3                Dublin           Dublin City               Ireland   \n",
       "4                Dublin           Dublin City               Ireland   \n",
       "\n",
       "  location__type  location__coordinates__001  location__coordinates__002  \n",
       "0          Point                   53.344214                   -6.263200  \n",
       "1          Point                   53.330061                   -6.264892  \n",
       "2          Point                   53.336605                   -6.262977  \n",
       "3          Point                   53.353491                   -6.262042  \n",
       "4          Point                   53.336597                   -6.249157  "
      ]
     },
     "execution_count": 17,
     "metadata": {},
     "output_type": "execute_result"
    }
   ],
   "source": [
    "df=pd.read_csv(\"schools_dublin.csv\")\n",
    "df.head()"
   ]
  },
  {
   "cell_type": "code",
   "execution_count": 19,
   "id": "8aed77e7",
   "metadata": {},
   "outputs": [],
   "source": [
    "df.drop([\"name\", \"formattedAddress__001\", \"formattedAddress__002\", \"formattedAddress__003\", \"formattedAddress__004\",\"location__type\",\"location__coordinates__001\", \"location__coordinates__002\"], axis=1, inplace=True)"
   ]
  },
  {
   "cell_type": "code",
   "execution_count": 20,
   "id": "bd191cb3",
   "metadata": {},
   "outputs": [
    {
     "data": {
      "text/html": [
       "<div>\n",
       "<style scoped>\n",
       "    .dataframe tbody tr th:only-of-type {\n",
       "        vertical-align: middle;\n",
       "    }\n",
       "\n",
       "    .dataframe tbody tr th {\n",
       "        vertical-align: top;\n",
       "    }\n",
       "\n",
       "    .dataframe thead th {\n",
       "        text-align: right;\n",
       "    }\n",
       "</style>\n",
       "<table border=\"1\" class=\"dataframe\">\n",
       "  <thead>\n",
       "    <tr style=\"text-align: right;\">\n",
       "      <th></th>\n",
       "      <th>latitud</th>\n",
       "      <th>longitud</th>\n",
       "    </tr>\n",
       "  </thead>\n",
       "  <tbody>\n",
       "    <tr>\n",
       "      <th>0</th>\n",
       "      <td>53.344214</td>\n",
       "      <td>-6.263200</td>\n",
       "    </tr>\n",
       "    <tr>\n",
       "      <th>1</th>\n",
       "      <td>53.330061</td>\n",
       "      <td>-6.264892</td>\n",
       "    </tr>\n",
       "    <tr>\n",
       "      <th>2</th>\n",
       "      <td>53.336605</td>\n",
       "      <td>-6.262977</td>\n",
       "    </tr>\n",
       "    <tr>\n",
       "      <th>3</th>\n",
       "      <td>53.353491</td>\n",
       "      <td>-6.262042</td>\n",
       "    </tr>\n",
       "    <tr>\n",
       "      <th>4</th>\n",
       "      <td>53.336597</td>\n",
       "      <td>-6.249157</td>\n",
       "    </tr>\n",
       "    <tr>\n",
       "      <th>...</th>\n",
       "      <td>...</td>\n",
       "      <td>...</td>\n",
       "    </tr>\n",
       "    <tr>\n",
       "      <th>65</th>\n",
       "      <td>53.350610</td>\n",
       "      <td>-6.269550</td>\n",
       "    </tr>\n",
       "    <tr>\n",
       "      <th>66</th>\n",
       "      <td>53.355529</td>\n",
       "      <td>-6.264830</td>\n",
       "    </tr>\n",
       "    <tr>\n",
       "      <th>67</th>\n",
       "      <td>53.344928</td>\n",
       "      <td>-6.252530</td>\n",
       "    </tr>\n",
       "    <tr>\n",
       "      <th>68</th>\n",
       "      <td>53.342072</td>\n",
       "      <td>-6.262997</td>\n",
       "    </tr>\n",
       "    <tr>\n",
       "      <th>69</th>\n",
       "      <td>53.342728</td>\n",
       "      <td>-6.264508</td>\n",
       "    </tr>\n",
       "  </tbody>\n",
       "</table>\n",
       "<p>70 rows × 2 columns</p>\n",
       "</div>"
      ],
      "text/plain": [
       "      latitud  longitud\n",
       "0   53.344214 -6.263200\n",
       "1   53.330061 -6.264892\n",
       "2   53.336605 -6.262977\n",
       "3   53.353491 -6.262042\n",
       "4   53.336597 -6.249157\n",
       "..        ...       ...\n",
       "65  53.350610 -6.269550\n",
       "66  53.355529 -6.264830\n",
       "67  53.344928 -6.252530\n",
       "68  53.342072 -6.262997\n",
       "69  53.342728 -6.264508\n",
       "\n",
       "[70 rows x 2 columns]"
      ]
     },
     "execution_count": 20,
     "metadata": {},
     "output_type": "execute_result"
    }
   ],
   "source": [
    "df"
   ]
  },
  {
   "cell_type": "code",
   "execution_count": 21,
   "id": "837b1477",
   "metadata": {},
   "outputs": [
    {
     "data": {
      "text/html": [
       "<div>\n",
       "<style scoped>\n",
       "    .dataframe tbody tr th:only-of-type {\n",
       "        vertical-align: middle;\n",
       "    }\n",
       "\n",
       "    .dataframe tbody tr th {\n",
       "        vertical-align: top;\n",
       "    }\n",
       "\n",
       "    .dataframe thead th {\n",
       "        text-align: right;\n",
       "    }\n",
       "</style>\n",
       "<table border=\"1\" class=\"dataframe\">\n",
       "  <thead>\n",
       "    <tr style=\"text-align: right;\">\n",
       "      <th></th>\n",
       "      <th>longitud</th>\n",
       "      <th>latitud</th>\n",
       "      <th>loc</th>\n",
       "    </tr>\n",
       "  </thead>\n",
       "  <tbody>\n",
       "    <tr>\n",
       "      <th>0</th>\n",
       "      <td>53.344214</td>\n",
       "      <td>-6.263200</td>\n",
       "      <td>POINT (53.34421 -6.26320)</td>\n",
       "    </tr>\n",
       "    <tr>\n",
       "      <th>1</th>\n",
       "      <td>53.330061</td>\n",
       "      <td>-6.264892</td>\n",
       "      <td>POINT (53.33006 -6.26489)</td>\n",
       "    </tr>\n",
       "    <tr>\n",
       "      <th>2</th>\n",
       "      <td>53.336605</td>\n",
       "      <td>-6.262977</td>\n",
       "      <td>POINT (53.33661 -6.26298)</td>\n",
       "    </tr>\n",
       "    <tr>\n",
       "      <th>3</th>\n",
       "      <td>53.353491</td>\n",
       "      <td>-6.262042</td>\n",
       "      <td>POINT (53.35349 -6.26204)</td>\n",
       "    </tr>\n",
       "    <tr>\n",
       "      <th>4</th>\n",
       "      <td>53.336597</td>\n",
       "      <td>-6.249157</td>\n",
       "      <td>POINT (53.33660 -6.24916)</td>\n",
       "    </tr>\n",
       "  </tbody>\n",
       "</table>\n",
       "</div>"
      ],
      "text/plain": [
       "    longitud   latitud                        loc\n",
       "0  53.344214 -6.263200  POINT (53.34421 -6.26320)\n",
       "1  53.330061 -6.264892  POINT (53.33006 -6.26489)\n",
       "2  53.336605 -6.262977  POINT (53.33661 -6.26298)\n",
       "3  53.353491 -6.262042  POINT (53.35349 -6.26204)\n",
       "4  53.336597 -6.249157  POINT (53.33660 -6.24916)"
      ]
     },
     "execution_count": 21,
     "metadata": {},
     "output_type": "execute_result"
    }
   ],
   "source": [
    "gdf = geopandas.GeoDataFrame(df, geometry=geopandas.points_from_xy(df.latitud,\n",
    "                             df.longitud))\n",
    "gdf.columns=['longitud','latitud','loc']\n",
    "gdf.head()"
   ]
  },
  {
   "cell_type": "code",
   "execution_count": 22,
   "id": "9683ec7d",
   "metadata": {},
   "outputs": [
    {
     "data": {
      "text/html": [
       "<div>\n",
       "<style scoped>\n",
       "    .dataframe tbody tr th:only-of-type {\n",
       "        vertical-align: middle;\n",
       "    }\n",
       "\n",
       "    .dataframe tbody tr th {\n",
       "        vertical-align: top;\n",
       "    }\n",
       "\n",
       "    .dataframe thead th {\n",
       "        text-align: right;\n",
       "    }\n",
       "</style>\n",
       "<table border=\"1\" class=\"dataframe\">\n",
       "  <thead>\n",
       "    <tr style=\"text-align: right;\">\n",
       "      <th></th>\n",
       "      <th>longitud</th>\n",
       "      <th>latitud</th>\n",
       "      <th>loc</th>\n",
       "    </tr>\n",
       "  </thead>\n",
       "  <tbody>\n",
       "    <tr>\n",
       "      <th>0</th>\n",
       "      <td>53.344214</td>\n",
       "      <td>-6.263200</td>\n",
       "      <td>{'type': 'Point', 'coordinates': (53.344214359...</td>\n",
       "    </tr>\n",
       "    <tr>\n",
       "      <th>1</th>\n",
       "      <td>53.330061</td>\n",
       "      <td>-6.264892</td>\n",
       "      <td>{'type': 'Point', 'coordinates': (53.330061061...</td>\n",
       "    </tr>\n",
       "    <tr>\n",
       "      <th>2</th>\n",
       "      <td>53.336605</td>\n",
       "      <td>-6.262977</td>\n",
       "      <td>{'type': 'Point', 'coordinates': (53.336605414...</td>\n",
       "    </tr>\n",
       "    <tr>\n",
       "      <th>3</th>\n",
       "      <td>53.353491</td>\n",
       "      <td>-6.262042</td>\n",
       "      <td>{'type': 'Point', 'coordinates': (53.353491044...</td>\n",
       "    </tr>\n",
       "    <tr>\n",
       "      <th>4</th>\n",
       "      <td>53.336597</td>\n",
       "      <td>-6.249157</td>\n",
       "      <td>{'type': 'Point', 'coordinates': (53.336596815...</td>\n",
       "    </tr>\n",
       "  </tbody>\n",
       "</table>\n",
       "</div>"
      ],
      "text/plain": [
       "    longitud   latitud                                                loc\n",
       "0  53.344214 -6.263200  {'type': 'Point', 'coordinates': (53.344214359...\n",
       "1  53.330061 -6.264892  {'type': 'Point', 'coordinates': (53.330061061...\n",
       "2  53.336605 -6.262977  {'type': 'Point', 'coordinates': (53.336605414...\n",
       "3  53.353491 -6.262042  {'type': 'Point', 'coordinates': (53.353491044...\n",
       "4  53.336597 -6.249157  {'type': 'Point', 'coordinates': (53.336596815..."
      ]
     },
     "execution_count": 22,
     "metadata": {},
     "output_type": "execute_result"
    }
   ],
   "source": [
    "gdf['loc']=gdf['loc'].apply(lambda x:shapely.geometry.mapping(x))\n",
    "gdf.head()"
   ]
  },
  {
   "cell_type": "code",
   "execution_count": 23,
   "id": "b4c8051e",
   "metadata": {},
   "outputs": [
    {
     "data": {
      "text/plain": [
       "'loc_2dsphere'"
      ]
     },
     "execution_count": 23,
     "metadata": {},
     "output_type": "execute_result"
    }
   ],
   "source": [
    "client=MongoClient('localhost',27017)\n",
    "db = client.Office_project\n",
    "collection = db.Schools\n",
    "collection.create_index([(\"loc\", GEOSPHERE)])"
   ]
  },
  {
   "cell_type": "code",
   "execution_count": 24,
   "id": "b8fce900",
   "metadata": {},
   "outputs": [],
   "source": [
    "data = gdf.to_dict(orient='records')\n",
    "collection.insert_many(data)\n",
    "client.close()"
   ]
  },
  {
   "cell_type": "markdown",
   "id": "85d77895",
   "metadata": {},
   "source": [
    "### Nursery "
   ]
  },
  {
   "cell_type": "code",
   "execution_count": 91,
   "id": "dadad406",
   "metadata": {},
   "outputs": [
    {
     "data": {
      "text/html": [
       "<div>\n",
       "<style scoped>\n",
       "    .dataframe tbody tr th:only-of-type {\n",
       "        vertical-align: middle;\n",
       "    }\n",
       "\n",
       "    .dataframe tbody tr th {\n",
       "        vertical-align: top;\n",
       "    }\n",
       "\n",
       "    .dataframe thead th {\n",
       "        text-align: right;\n",
       "    }\n",
       "</style>\n",
       "<table border=\"1\" class=\"dataframe\">\n",
       "  <thead>\n",
       "    <tr style=\"text-align: right;\">\n",
       "      <th></th>\n",
       "      <th>latitud</th>\n",
       "      <th>longitud</th>\n",
       "    </tr>\n",
       "  </thead>\n",
       "  <tbody>\n",
       "    <tr>\n",
       "      <th>0</th>\n",
       "      <td>53.340168</td>\n",
       "      <td>-6.268405</td>\n",
       "    </tr>\n",
       "    <tr>\n",
       "      <th>1</th>\n",
       "      <td>53.338745</td>\n",
       "      <td>-6.276024</td>\n",
       "    </tr>\n",
       "    <tr>\n",
       "      <th>2</th>\n",
       "      <td>53.342309</td>\n",
       "      <td>-6.279179</td>\n",
       "    </tr>\n",
       "    <tr>\n",
       "      <th>3</th>\n",
       "      <td>53.364331</td>\n",
       "      <td>-6.262317</td>\n",
       "    </tr>\n",
       "  </tbody>\n",
       "</table>\n",
       "</div>"
      ],
      "text/plain": [
       "     latitud  longitud\n",
       "0  53.340168 -6.268405\n",
       "1  53.338745 -6.276024\n",
       "2  53.342309 -6.279179\n",
       "3  53.364331 -6.262317"
      ]
     },
     "execution_count": 91,
     "metadata": {},
     "output_type": "execute_result"
    }
   ],
   "source": [
    "df=pd.read_csv(\"nurs_dublin.csv\")\n",
    "df.head()"
   ]
  },
  {
   "cell_type": "code",
   "execution_count": 92,
   "id": "6fdd6a86",
   "metadata": {},
   "outputs": [
    {
     "data": {
      "text/html": [
       "<div>\n",
       "<style scoped>\n",
       "    .dataframe tbody tr th:only-of-type {\n",
       "        vertical-align: middle;\n",
       "    }\n",
       "\n",
       "    .dataframe tbody tr th {\n",
       "        vertical-align: top;\n",
       "    }\n",
       "\n",
       "    .dataframe thead th {\n",
       "        text-align: right;\n",
       "    }\n",
       "</style>\n",
       "<table border=\"1\" class=\"dataframe\">\n",
       "  <thead>\n",
       "    <tr style=\"text-align: right;\">\n",
       "      <th></th>\n",
       "      <th>longitud</th>\n",
       "      <th>latitud</th>\n",
       "      <th>loc</th>\n",
       "    </tr>\n",
       "  </thead>\n",
       "  <tbody>\n",
       "    <tr>\n",
       "      <th>0</th>\n",
       "      <td>53.340168</td>\n",
       "      <td>-6.268405</td>\n",
       "      <td>POINT (53.34017 -6.26841)</td>\n",
       "    </tr>\n",
       "    <tr>\n",
       "      <th>1</th>\n",
       "      <td>53.338745</td>\n",
       "      <td>-6.276024</td>\n",
       "      <td>POINT (53.33874 -6.27602)</td>\n",
       "    </tr>\n",
       "    <tr>\n",
       "      <th>2</th>\n",
       "      <td>53.342309</td>\n",
       "      <td>-6.279179</td>\n",
       "      <td>POINT (53.34231 -6.27918)</td>\n",
       "    </tr>\n",
       "    <tr>\n",
       "      <th>3</th>\n",
       "      <td>53.364331</td>\n",
       "      <td>-6.262317</td>\n",
       "      <td>POINT (53.36433 -6.26232)</td>\n",
       "    </tr>\n",
       "  </tbody>\n",
       "</table>\n",
       "</div>"
      ],
      "text/plain": [
       "    longitud   latitud                        loc\n",
       "0  53.340168 -6.268405  POINT (53.34017 -6.26841)\n",
       "1  53.338745 -6.276024  POINT (53.33874 -6.27602)\n",
       "2  53.342309 -6.279179  POINT (53.34231 -6.27918)\n",
       "3  53.364331 -6.262317  POINT (53.36433 -6.26232)"
      ]
     },
     "execution_count": 92,
     "metadata": {},
     "output_type": "execute_result"
    }
   ],
   "source": [
    "gdf = geopandas.GeoDataFrame(df, geometry=geopandas.points_from_xy(df.latitud,\n",
    "                             df.longitud))\n",
    "gdf.columns=['longitud','latitud','loc']\n",
    "gdf.head()"
   ]
  },
  {
   "cell_type": "code",
   "execution_count": 93,
   "id": "22cc97e1",
   "metadata": {},
   "outputs": [
    {
     "data": {
      "text/html": [
       "<div>\n",
       "<style scoped>\n",
       "    .dataframe tbody tr th:only-of-type {\n",
       "        vertical-align: middle;\n",
       "    }\n",
       "\n",
       "    .dataframe tbody tr th {\n",
       "        vertical-align: top;\n",
       "    }\n",
       "\n",
       "    .dataframe thead th {\n",
       "        text-align: right;\n",
       "    }\n",
       "</style>\n",
       "<table border=\"1\" class=\"dataframe\">\n",
       "  <thead>\n",
       "    <tr style=\"text-align: right;\">\n",
       "      <th></th>\n",
       "      <th>longitud</th>\n",
       "      <th>latitud</th>\n",
       "      <th>loc</th>\n",
       "    </tr>\n",
       "  </thead>\n",
       "  <tbody>\n",
       "    <tr>\n",
       "      <th>0</th>\n",
       "      <td>53.340168</td>\n",
       "      <td>-6.268405</td>\n",
       "      <td>{'type': 'Point', 'coordinates': (53.340168, -...</td>\n",
       "    </tr>\n",
       "    <tr>\n",
       "      <th>1</th>\n",
       "      <td>53.338745</td>\n",
       "      <td>-6.276024</td>\n",
       "      <td>{'type': 'Point', 'coordinates': (53.3387449, ...</td>\n",
       "    </tr>\n",
       "    <tr>\n",
       "      <th>2</th>\n",
       "      <td>53.342309</td>\n",
       "      <td>-6.279179</td>\n",
       "      <td>{'type': 'Point', 'coordinates': (53.342309, -...</td>\n",
       "    </tr>\n",
       "    <tr>\n",
       "      <th>3</th>\n",
       "      <td>53.364331</td>\n",
       "      <td>-6.262317</td>\n",
       "      <td>{'type': 'Point', 'coordinates': (53.3643315, ...</td>\n",
       "    </tr>\n",
       "  </tbody>\n",
       "</table>\n",
       "</div>"
      ],
      "text/plain": [
       "    longitud   latitud                                                loc\n",
       "0  53.340168 -6.268405  {'type': 'Point', 'coordinates': (53.340168, -...\n",
       "1  53.338745 -6.276024  {'type': 'Point', 'coordinates': (53.3387449, ...\n",
       "2  53.342309 -6.279179  {'type': 'Point', 'coordinates': (53.342309, -...\n",
       "3  53.364331 -6.262317  {'type': 'Point', 'coordinates': (53.3643315, ..."
      ]
     },
     "execution_count": 93,
     "metadata": {},
     "output_type": "execute_result"
    }
   ],
   "source": [
    "df['loc']=gdf['loc'].apply(lambda x:shapely.geometry.mapping(x))\n",
    "gdf.head()"
   ]
  },
  {
   "cell_type": "code",
   "execution_count": 94,
   "id": "e2142209",
   "metadata": {},
   "outputs": [
    {
     "data": {
      "text/plain": [
       "'loc_2dsphere'"
      ]
     },
     "execution_count": 94,
     "metadata": {},
     "output_type": "execute_result"
    }
   ],
   "source": [
    "client=MongoClient('localhost',27017)\n",
    "db = client.Office_project\n",
    "collection = db.Schools\n",
    "collection.create_index([(\"loc\", GEOSPHERE)])"
   ]
  },
  {
   "cell_type": "code",
   "execution_count": 95,
   "id": "010f82b9",
   "metadata": {},
   "outputs": [],
   "source": [
    "data = gdf.to_dict(orient='records')\n",
    "collection.insert_many(data)\n",
    "client.close()"
   ]
  },
  {
   "cell_type": "markdown",
   "id": "5df716a4",
   "metadata": {},
   "source": [
    "## Manchester\n"
   ]
  },
  {
   "cell_type": "markdown",
   "id": "efa2618b",
   "metadata": {},
   "source": [
    "### Schools"
   ]
  },
  {
   "cell_type": "code",
   "execution_count": 42,
   "id": "0e1f86a2",
   "metadata": {},
   "outputs": [
    {
     "data": {
      "text/html": [
       "<div>\n",
       "<style scoped>\n",
       "    .dataframe tbody tr th:only-of-type {\n",
       "        vertical-align: middle;\n",
       "    }\n",
       "\n",
       "    .dataframe tbody tr th {\n",
       "        vertical-align: top;\n",
       "    }\n",
       "\n",
       "    .dataframe thead th {\n",
       "        text-align: right;\n",
       "    }\n",
       "</style>\n",
       "<table border=\"1\" class=\"dataframe\">\n",
       "  <thead>\n",
       "    <tr style=\"text-align: right;\">\n",
       "      <th></th>\n",
       "      <th>latitud</th>\n",
       "      <th>longitud</th>\n",
       "    </tr>\n",
       "  </thead>\n",
       "  <tbody>\n",
       "    <tr>\n",
       "      <th>0</th>\n",
       "      <td>53.479218</td>\n",
       "      <td>-2.239831</td>\n",
       "    </tr>\n",
       "    <tr>\n",
       "      <th>1</th>\n",
       "      <td>53.478122</td>\n",
       "      <td>-2.236405</td>\n",
       "    </tr>\n",
       "    <tr>\n",
       "      <th>2</th>\n",
       "      <td>53.480423</td>\n",
       "      <td>-2.238362</td>\n",
       "    </tr>\n",
       "    <tr>\n",
       "      <th>3</th>\n",
       "      <td>53.480460</td>\n",
       "      <td>-2.234700</td>\n",
       "    </tr>\n",
       "    <tr>\n",
       "      <th>4</th>\n",
       "      <td>53.486594</td>\n",
       "      <td>-2.243361</td>\n",
       "    </tr>\n",
       "  </tbody>\n",
       "</table>\n",
       "</div>"
      ],
      "text/plain": [
       "     latitud  longitud\n",
       "0  53.479218 -2.239831\n",
       "1  53.478122 -2.236405\n",
       "2  53.480423 -2.238362\n",
       "3  53.480460 -2.234700\n",
       "4  53.486594 -2.243361"
      ]
     },
     "execution_count": 42,
     "metadata": {},
     "output_type": "execute_result"
    }
   ],
   "source": [
    "df=pd.read_csv(\"school_man.csv\")\n",
    "df.head()"
   ]
  },
  {
   "cell_type": "code",
   "execution_count": 43,
   "id": "ff64e0fd",
   "metadata": {},
   "outputs": [
    {
     "data": {
      "text/html": [
       "<div>\n",
       "<style scoped>\n",
       "    .dataframe tbody tr th:only-of-type {\n",
       "        vertical-align: middle;\n",
       "    }\n",
       "\n",
       "    .dataframe tbody tr th {\n",
       "        vertical-align: top;\n",
       "    }\n",
       "\n",
       "    .dataframe thead th {\n",
       "        text-align: right;\n",
       "    }\n",
       "</style>\n",
       "<table border=\"1\" class=\"dataframe\">\n",
       "  <thead>\n",
       "    <tr style=\"text-align: right;\">\n",
       "      <th></th>\n",
       "      <th>longitud</th>\n",
       "      <th>latitud</th>\n",
       "      <th>loc</th>\n",
       "    </tr>\n",
       "  </thead>\n",
       "  <tbody>\n",
       "    <tr>\n",
       "      <th>0</th>\n",
       "      <td>53.479218</td>\n",
       "      <td>-2.239831</td>\n",
       "      <td>POINT (53.47922 -2.23983)</td>\n",
       "    </tr>\n",
       "    <tr>\n",
       "      <th>1</th>\n",
       "      <td>53.478122</td>\n",
       "      <td>-2.236405</td>\n",
       "      <td>POINT (53.47812 -2.23640)</td>\n",
       "    </tr>\n",
       "    <tr>\n",
       "      <th>2</th>\n",
       "      <td>53.480423</td>\n",
       "      <td>-2.238362</td>\n",
       "      <td>POINT (53.48042 -2.23836)</td>\n",
       "    </tr>\n",
       "    <tr>\n",
       "      <th>3</th>\n",
       "      <td>53.480460</td>\n",
       "      <td>-2.234700</td>\n",
       "      <td>POINT (53.48046 -2.23470)</td>\n",
       "    </tr>\n",
       "    <tr>\n",
       "      <th>4</th>\n",
       "      <td>53.486594</td>\n",
       "      <td>-2.243361</td>\n",
       "      <td>POINT (53.48659 -2.24336)</td>\n",
       "    </tr>\n",
       "  </tbody>\n",
       "</table>\n",
       "</div>"
      ],
      "text/plain": [
       "    longitud   latitud                        loc\n",
       "0  53.479218 -2.239831  POINT (53.47922 -2.23983)\n",
       "1  53.478122 -2.236405  POINT (53.47812 -2.23640)\n",
       "2  53.480423 -2.238362  POINT (53.48042 -2.23836)\n",
       "3  53.480460 -2.234700  POINT (53.48046 -2.23470)\n",
       "4  53.486594 -2.243361  POINT (53.48659 -2.24336)"
      ]
     },
     "execution_count": 43,
     "metadata": {},
     "output_type": "execute_result"
    }
   ],
   "source": [
    "gdf = geopandas.GeoDataFrame(df, geometry=geopandas.points_from_xy(df.latitud,\n",
    "                             df.longitud))\n",
    "gdf.columns=['longitud','latitud','loc']\n",
    "gdf.head()"
   ]
  },
  {
   "cell_type": "code",
   "execution_count": 44,
   "id": "6c6c624f",
   "metadata": {},
   "outputs": [
    {
     "data": {
      "text/html": [
       "<div>\n",
       "<style scoped>\n",
       "    .dataframe tbody tr th:only-of-type {\n",
       "        vertical-align: middle;\n",
       "    }\n",
       "\n",
       "    .dataframe tbody tr th {\n",
       "        vertical-align: top;\n",
       "    }\n",
       "\n",
       "    .dataframe thead th {\n",
       "        text-align: right;\n",
       "    }\n",
       "</style>\n",
       "<table border=\"1\" class=\"dataframe\">\n",
       "  <thead>\n",
       "    <tr style=\"text-align: right;\">\n",
       "      <th></th>\n",
       "      <th>longitud</th>\n",
       "      <th>latitud</th>\n",
       "      <th>loc</th>\n",
       "    </tr>\n",
       "  </thead>\n",
       "  <tbody>\n",
       "    <tr>\n",
       "      <th>0</th>\n",
       "      <td>53.479218</td>\n",
       "      <td>-2.239831</td>\n",
       "      <td>{'type': 'Point', 'coordinates': (53.479218497...</td>\n",
       "    </tr>\n",
       "    <tr>\n",
       "      <th>1</th>\n",
       "      <td>53.478122</td>\n",
       "      <td>-2.236405</td>\n",
       "      <td>{'type': 'Point', 'coordinates': (53.478121643...</td>\n",
       "    </tr>\n",
       "    <tr>\n",
       "      <th>2</th>\n",
       "      <td>53.480423</td>\n",
       "      <td>-2.238362</td>\n",
       "      <td>{'type': 'Point', 'coordinates': (53.4804229, ...</td>\n",
       "    </tr>\n",
       "    <tr>\n",
       "      <th>3</th>\n",
       "      <td>53.480460</td>\n",
       "      <td>-2.234700</td>\n",
       "      <td>{'type': 'Point', 'coordinates': (53.48046011,...</td>\n",
       "    </tr>\n",
       "    <tr>\n",
       "      <th>4</th>\n",
       "      <td>53.486594</td>\n",
       "      <td>-2.243361</td>\n",
       "      <td>{'type': 'Point', 'coordinates': (53.486594238...</td>\n",
       "    </tr>\n",
       "  </tbody>\n",
       "</table>\n",
       "</div>"
      ],
      "text/plain": [
       "    longitud   latitud                                                loc\n",
       "0  53.479218 -2.239831  {'type': 'Point', 'coordinates': (53.479218497...\n",
       "1  53.478122 -2.236405  {'type': 'Point', 'coordinates': (53.478121643...\n",
       "2  53.480423 -2.238362  {'type': 'Point', 'coordinates': (53.4804229, ...\n",
       "3  53.480460 -2.234700  {'type': 'Point', 'coordinates': (53.48046011,...\n",
       "4  53.486594 -2.243361  {'type': 'Point', 'coordinates': (53.486594238..."
      ]
     },
     "execution_count": 44,
     "metadata": {},
     "output_type": "execute_result"
    }
   ],
   "source": [
    "gdf['loc']=gdf['loc'].apply(lambda x:shapely.geometry.mapping(x))\n",
    "gdf.head()"
   ]
  },
  {
   "cell_type": "code",
   "execution_count": 45,
   "id": "7aff5e09",
   "metadata": {},
   "outputs": [
    {
     "data": {
      "text/plain": [
       "'loc_2dsphere'"
      ]
     },
     "execution_count": 45,
     "metadata": {},
     "output_type": "execute_result"
    }
   ],
   "source": [
    "client=MongoClient('localhost',27017)\n",
    "db = client.Office_project\n",
    "collection = db.Schools\n",
    "collection.create_index([(\"loc\", GEOSPHERE)])"
   ]
  },
  {
   "cell_type": "code",
   "execution_count": 46,
   "id": "09601fce",
   "metadata": {},
   "outputs": [],
   "source": [
    "data = gdf.to_dict(orient='records')\n",
    "collection.insert_many(data)\n",
    "client.close()"
   ]
  },
  {
   "cell_type": "markdown",
   "id": "0d86daf7",
   "metadata": {},
   "source": [
    "### Nursery"
   ]
  },
  {
   "cell_type": "code",
   "execution_count": 81,
   "id": "4e2c0df2",
   "metadata": {},
   "outputs": [
    {
     "data": {
      "text/html": [
       "<div>\n",
       "<style scoped>\n",
       "    .dataframe tbody tr th:only-of-type {\n",
       "        vertical-align: middle;\n",
       "    }\n",
       "\n",
       "    .dataframe tbody tr th {\n",
       "        vertical-align: top;\n",
       "    }\n",
       "\n",
       "    .dataframe thead th {\n",
       "        text-align: right;\n",
       "    }\n",
       "</style>\n",
       "<table border=\"1\" class=\"dataframe\">\n",
       "  <thead>\n",
       "    <tr style=\"text-align: right;\">\n",
       "      <th></th>\n",
       "      <th>latitud</th>\n",
       "      <th>longitud</th>\n",
       "    </tr>\n",
       "  </thead>\n",
       "  <tbody>\n",
       "    <tr>\n",
       "      <th>0</th>\n",
       "      <td>53.423848</td>\n",
       "      <td>-2.315897</td>\n",
       "    </tr>\n",
       "    <tr>\n",
       "      <th>1</th>\n",
       "      <td>53.411713</td>\n",
       "      <td>-2.181837</td>\n",
       "    </tr>\n",
       "    <tr>\n",
       "      <th>2</th>\n",
       "      <td>53.435985</td>\n",
       "      <td>-2.315614</td>\n",
       "    </tr>\n",
       "    <tr>\n",
       "      <th>3</th>\n",
       "      <td>53.414909</td>\n",
       "      <td>-2.176832</td>\n",
       "    </tr>\n",
       "    <tr>\n",
       "      <th>4</th>\n",
       "      <td>53.371555</td>\n",
       "      <td>-1.488839</td>\n",
       "    </tr>\n",
       "  </tbody>\n",
       "</table>\n",
       "</div>"
      ],
      "text/plain": [
       "     latitud  longitud\n",
       "0  53.423848 -2.315897\n",
       "1  53.411713 -2.181837\n",
       "2  53.435985 -2.315614\n",
       "3  53.414909 -2.176832\n",
       "4  53.371555 -1.488839"
      ]
     },
     "execution_count": 81,
     "metadata": {},
     "output_type": "execute_result"
    }
   ],
   "source": [
    "df=pd.read_csv(\"nurs_man.csv\")\n",
    "df.head()"
   ]
  },
  {
   "cell_type": "code",
   "execution_count": 82,
   "id": "849b2abb",
   "metadata": {},
   "outputs": [
    {
     "data": {
      "text/html": [
       "<div>\n",
       "<style scoped>\n",
       "    .dataframe tbody tr th:only-of-type {\n",
       "        vertical-align: middle;\n",
       "    }\n",
       "\n",
       "    .dataframe tbody tr th {\n",
       "        vertical-align: top;\n",
       "    }\n",
       "\n",
       "    .dataframe thead th {\n",
       "        text-align: right;\n",
       "    }\n",
       "</style>\n",
       "<table border=\"1\" class=\"dataframe\">\n",
       "  <thead>\n",
       "    <tr style=\"text-align: right;\">\n",
       "      <th></th>\n",
       "      <th>longitud</th>\n",
       "      <th>latitud</th>\n",
       "      <th>loc</th>\n",
       "    </tr>\n",
       "  </thead>\n",
       "  <tbody>\n",
       "    <tr>\n",
       "      <th>0</th>\n",
       "      <td>53.423848</td>\n",
       "      <td>-2.315897</td>\n",
       "      <td>POINT (53.42385 -2.31590)</td>\n",
       "    </tr>\n",
       "    <tr>\n",
       "      <th>1</th>\n",
       "      <td>53.411713</td>\n",
       "      <td>-2.181837</td>\n",
       "      <td>POINT (53.41171 -2.18184)</td>\n",
       "    </tr>\n",
       "    <tr>\n",
       "      <th>2</th>\n",
       "      <td>53.435985</td>\n",
       "      <td>-2.315614</td>\n",
       "      <td>POINT (53.43599 -2.31561)</td>\n",
       "    </tr>\n",
       "    <tr>\n",
       "      <th>3</th>\n",
       "      <td>53.414909</td>\n",
       "      <td>-2.176832</td>\n",
       "      <td>POINT (53.41491 -2.17683)</td>\n",
       "    </tr>\n",
       "    <tr>\n",
       "      <th>4</th>\n",
       "      <td>53.371555</td>\n",
       "      <td>-1.488839</td>\n",
       "      <td>POINT (53.37156 -1.48884)</td>\n",
       "    </tr>\n",
       "  </tbody>\n",
       "</table>\n",
       "</div>"
      ],
      "text/plain": [
       "    longitud   latitud                        loc\n",
       "0  53.423848 -2.315897  POINT (53.42385 -2.31590)\n",
       "1  53.411713 -2.181837  POINT (53.41171 -2.18184)\n",
       "2  53.435985 -2.315614  POINT (53.43599 -2.31561)\n",
       "3  53.414909 -2.176832  POINT (53.41491 -2.17683)\n",
       "4  53.371555 -1.488839  POINT (53.37156 -1.48884)"
      ]
     },
     "execution_count": 82,
     "metadata": {},
     "output_type": "execute_result"
    }
   ],
   "source": [
    "gdf = geopandas.GeoDataFrame(df, geometry=geopandas.points_from_xy(df.latitud,\n",
    "                             df.longitud))\n",
    "gdf.columns=['longitud','latitud','loc']\n",
    "gdf.head()"
   ]
  },
  {
   "cell_type": "code",
   "execution_count": 83,
   "id": "23388b08",
   "metadata": {},
   "outputs": [
    {
     "data": {
      "text/html": [
       "<div>\n",
       "<style scoped>\n",
       "    .dataframe tbody tr th:only-of-type {\n",
       "        vertical-align: middle;\n",
       "    }\n",
       "\n",
       "    .dataframe tbody tr th {\n",
       "        vertical-align: top;\n",
       "    }\n",
       "\n",
       "    .dataframe thead th {\n",
       "        text-align: right;\n",
       "    }\n",
       "</style>\n",
       "<table border=\"1\" class=\"dataframe\">\n",
       "  <thead>\n",
       "    <tr style=\"text-align: right;\">\n",
       "      <th></th>\n",
       "      <th>longitud</th>\n",
       "      <th>latitud</th>\n",
       "      <th>loc</th>\n",
       "    </tr>\n",
       "  </thead>\n",
       "  <tbody>\n",
       "    <tr>\n",
       "      <th>0</th>\n",
       "      <td>53.423848</td>\n",
       "      <td>-2.315897</td>\n",
       "      <td>{'type': 'Point', 'coordinates': (53.4238478, ...</td>\n",
       "    </tr>\n",
       "    <tr>\n",
       "      <th>1</th>\n",
       "      <td>53.411713</td>\n",
       "      <td>-2.181837</td>\n",
       "      <td>{'type': 'Point', 'coordinates': (53.411712510...</td>\n",
       "    </tr>\n",
       "    <tr>\n",
       "      <th>2</th>\n",
       "      <td>53.435985</td>\n",
       "      <td>-2.315614</td>\n",
       "      <td>{'type': 'Point', 'coordinates': (53.435985133...</td>\n",
       "    </tr>\n",
       "    <tr>\n",
       "      <th>3</th>\n",
       "      <td>53.414909</td>\n",
       "      <td>-2.176832</td>\n",
       "      <td>{'type': 'Point', 'coordinates': (53.414908784...</td>\n",
       "    </tr>\n",
       "    <tr>\n",
       "      <th>4</th>\n",
       "      <td>53.371555</td>\n",
       "      <td>-1.488839</td>\n",
       "      <td>{'type': 'Point', 'coordinates': (53.371555239...</td>\n",
       "    </tr>\n",
       "  </tbody>\n",
       "</table>\n",
       "</div>"
      ],
      "text/plain": [
       "    longitud   latitud                                                loc\n",
       "0  53.423848 -2.315897  {'type': 'Point', 'coordinates': (53.4238478, ...\n",
       "1  53.411713 -2.181837  {'type': 'Point', 'coordinates': (53.411712510...\n",
       "2  53.435985 -2.315614  {'type': 'Point', 'coordinates': (53.435985133...\n",
       "3  53.414909 -2.176832  {'type': 'Point', 'coordinates': (53.414908784...\n",
       "4  53.371555 -1.488839  {'type': 'Point', 'coordinates': (53.371555239..."
      ]
     },
     "execution_count": 83,
     "metadata": {},
     "output_type": "execute_result"
    }
   ],
   "source": [
    "gdf['loc']=gdf['loc'].apply(lambda x:shapely.geometry.mapping(x))\n",
    "gdf.head()"
   ]
  },
  {
   "cell_type": "code",
   "execution_count": 84,
   "id": "9ae38b23",
   "metadata": {},
   "outputs": [
    {
     "data": {
      "text/plain": [
       "'loc_2dsphere'"
      ]
     },
     "execution_count": 84,
     "metadata": {},
     "output_type": "execute_result"
    }
   ],
   "source": [
    "client=MongoClient('localhost',27017)\n",
    "db = client.Office_project\n",
    "collection = db.Schools\n",
    "collection.create_index([(\"loc\", GEOSPHERE)])"
   ]
  },
  {
   "cell_type": "code",
   "execution_count": 85,
   "id": "ecffb6cc",
   "metadata": {},
   "outputs": [],
   "source": [
    "data = gdf.to_dict(orient='records')\n",
    "collection.insert_many(data)\n",
    "client.close()"
   ]
  },
  {
   "cell_type": "markdown",
   "id": "7a84ec1e",
   "metadata": {},
   "source": [
    "## Las Palmas"
   ]
  },
  {
   "cell_type": "code",
   "execution_count": 48,
   "id": "55862516",
   "metadata": {},
   "outputs": [
    {
     "data": {
      "text/html": [
       "<div>\n",
       "<style scoped>\n",
       "    .dataframe tbody tr th:only-of-type {\n",
       "        vertical-align: middle;\n",
       "    }\n",
       "\n",
       "    .dataframe tbody tr th {\n",
       "        vertical-align: top;\n",
       "    }\n",
       "\n",
       "    .dataframe thead th {\n",
       "        text-align: right;\n",
       "    }\n",
       "</style>\n",
       "<table border=\"1\" class=\"dataframe\">\n",
       "  <thead>\n",
       "    <tr style=\"text-align: right;\">\n",
       "      <th></th>\n",
       "      <th>latitud</th>\n",
       "      <th>longitud</th>\n",
       "    </tr>\n",
       "  </thead>\n",
       "  <tbody>\n",
       "    <tr>\n",
       "      <th>0</th>\n",
       "      <td>28.125151</td>\n",
       "      <td>-15.432821</td>\n",
       "    </tr>\n",
       "    <tr>\n",
       "      <th>1</th>\n",
       "      <td>28.131124</td>\n",
       "      <td>-15.439034</td>\n",
       "    </tr>\n",
       "    <tr>\n",
       "      <th>2</th>\n",
       "      <td>28.126893</td>\n",
       "      <td>-15.441975</td>\n",
       "    </tr>\n",
       "    <tr>\n",
       "      <th>3</th>\n",
       "      <td>28.122279</td>\n",
       "      <td>-15.428148</td>\n",
       "    </tr>\n",
       "    <tr>\n",
       "      <th>4</th>\n",
       "      <td>28.112231</td>\n",
       "      <td>-15.420196</td>\n",
       "    </tr>\n",
       "  </tbody>\n",
       "</table>\n",
       "</div>"
      ],
      "text/plain": [
       "     latitud   longitud\n",
       "0  28.125151 -15.432821\n",
       "1  28.131124 -15.439034\n",
       "2  28.126893 -15.441975\n",
       "3  28.122279 -15.428148\n",
       "4  28.112231 -15.420196"
      ]
     },
     "execution_count": 48,
     "metadata": {},
     "output_type": "execute_result"
    }
   ],
   "source": [
    "df=pd.read_csv(\"school_lp.csv\")\n",
    "df.head()"
   ]
  },
  {
   "cell_type": "code",
   "execution_count": 49,
   "id": "91d399d1",
   "metadata": {},
   "outputs": [
    {
     "data": {
      "text/html": [
       "<div>\n",
       "<style scoped>\n",
       "    .dataframe tbody tr th:only-of-type {\n",
       "        vertical-align: middle;\n",
       "    }\n",
       "\n",
       "    .dataframe tbody tr th {\n",
       "        vertical-align: top;\n",
       "    }\n",
       "\n",
       "    .dataframe thead th {\n",
       "        text-align: right;\n",
       "    }\n",
       "</style>\n",
       "<table border=\"1\" class=\"dataframe\">\n",
       "  <thead>\n",
       "    <tr style=\"text-align: right;\">\n",
       "      <th></th>\n",
       "      <th>longitud</th>\n",
       "      <th>latitud</th>\n",
       "      <th>loc</th>\n",
       "    </tr>\n",
       "  </thead>\n",
       "  <tbody>\n",
       "    <tr>\n",
       "      <th>0</th>\n",
       "      <td>28.125151</td>\n",
       "      <td>-15.432821</td>\n",
       "      <td>POINT (28.12515 -15.43282)</td>\n",
       "    </tr>\n",
       "    <tr>\n",
       "      <th>1</th>\n",
       "      <td>28.131124</td>\n",
       "      <td>-15.439034</td>\n",
       "      <td>POINT (28.13112 -15.43903)</td>\n",
       "    </tr>\n",
       "    <tr>\n",
       "      <th>2</th>\n",
       "      <td>28.126893</td>\n",
       "      <td>-15.441975</td>\n",
       "      <td>POINT (28.12689 -15.44197)</td>\n",
       "    </tr>\n",
       "    <tr>\n",
       "      <th>3</th>\n",
       "      <td>28.122279</td>\n",
       "      <td>-15.428148</td>\n",
       "      <td>POINT (28.12228 -15.42815)</td>\n",
       "    </tr>\n",
       "    <tr>\n",
       "      <th>4</th>\n",
       "      <td>28.112231</td>\n",
       "      <td>-15.420196</td>\n",
       "      <td>POINT (28.11223 -15.42020)</td>\n",
       "    </tr>\n",
       "  </tbody>\n",
       "</table>\n",
       "</div>"
      ],
      "text/plain": [
       "    longitud    latitud                         loc\n",
       "0  28.125151 -15.432821  POINT (28.12515 -15.43282)\n",
       "1  28.131124 -15.439034  POINT (28.13112 -15.43903)\n",
       "2  28.126893 -15.441975  POINT (28.12689 -15.44197)\n",
       "3  28.122279 -15.428148  POINT (28.12228 -15.42815)\n",
       "4  28.112231 -15.420196  POINT (28.11223 -15.42020)"
      ]
     },
     "execution_count": 49,
     "metadata": {},
     "output_type": "execute_result"
    }
   ],
   "source": [
    "gdf = geopandas.GeoDataFrame(df, geometry=geopandas.points_from_xy(df.latitud,\n",
    "                             df.longitud))\n",
    "gdf.columns=['longitud','latitud','loc']\n",
    "gdf.head()"
   ]
  },
  {
   "cell_type": "code",
   "execution_count": 50,
   "id": "87b55696",
   "metadata": {},
   "outputs": [
    {
     "data": {
      "text/html": [
       "<div>\n",
       "<style scoped>\n",
       "    .dataframe tbody tr th:only-of-type {\n",
       "        vertical-align: middle;\n",
       "    }\n",
       "\n",
       "    .dataframe tbody tr th {\n",
       "        vertical-align: top;\n",
       "    }\n",
       "\n",
       "    .dataframe thead th {\n",
       "        text-align: right;\n",
       "    }\n",
       "</style>\n",
       "<table border=\"1\" class=\"dataframe\">\n",
       "  <thead>\n",
       "    <tr style=\"text-align: right;\">\n",
       "      <th></th>\n",
       "      <th>longitud</th>\n",
       "      <th>latitud</th>\n",
       "      <th>loc</th>\n",
       "    </tr>\n",
       "  </thead>\n",
       "  <tbody>\n",
       "    <tr>\n",
       "      <th>0</th>\n",
       "      <td>28.125151</td>\n",
       "      <td>-15.432821</td>\n",
       "      <td>{'type': 'Point', 'coordinates': (28.125151302...</td>\n",
       "    </tr>\n",
       "    <tr>\n",
       "      <th>1</th>\n",
       "      <td>28.131124</td>\n",
       "      <td>-15.439034</td>\n",
       "      <td>{'type': 'Point', 'coordinates': (28.131123977...</td>\n",
       "    </tr>\n",
       "    <tr>\n",
       "      <th>2</th>\n",
       "      <td>28.126893</td>\n",
       "      <td>-15.441975</td>\n",
       "      <td>{'type': 'Point', 'coordinates': (28.126892625...</td>\n",
       "    </tr>\n",
       "    <tr>\n",
       "      <th>3</th>\n",
       "      <td>28.122279</td>\n",
       "      <td>-15.428148</td>\n",
       "      <td>{'type': 'Point', 'coordinates': (28.122279, -...</td>\n",
       "    </tr>\n",
       "    <tr>\n",
       "      <th>4</th>\n",
       "      <td>28.112231</td>\n",
       "      <td>-15.420196</td>\n",
       "      <td>{'type': 'Point', 'coordinates': (28.112231016...</td>\n",
       "    </tr>\n",
       "  </tbody>\n",
       "</table>\n",
       "</div>"
      ],
      "text/plain": [
       "    longitud    latitud                                                loc\n",
       "0  28.125151 -15.432821  {'type': 'Point', 'coordinates': (28.125151302...\n",
       "1  28.131124 -15.439034  {'type': 'Point', 'coordinates': (28.131123977...\n",
       "2  28.126893 -15.441975  {'type': 'Point', 'coordinates': (28.126892625...\n",
       "3  28.122279 -15.428148  {'type': 'Point', 'coordinates': (28.122279, -...\n",
       "4  28.112231 -15.420196  {'type': 'Point', 'coordinates': (28.112231016..."
      ]
     },
     "execution_count": 50,
     "metadata": {},
     "output_type": "execute_result"
    }
   ],
   "source": [
    "gdf['loc']=gdf['loc'].apply(lambda x:shapely.geometry.mapping(x))\n",
    "gdf.head()"
   ]
  },
  {
   "cell_type": "code",
   "execution_count": 51,
   "id": "fbe07ced",
   "metadata": {},
   "outputs": [
    {
     "data": {
      "text/plain": [
       "'loc_2dsphere'"
      ]
     },
     "execution_count": 51,
     "metadata": {},
     "output_type": "execute_result"
    }
   ],
   "source": [
    "client=MongoClient('localhost',27017)\n",
    "db = client.Office_project\n",
    "collection = db.Schools\n",
    "collection.create_index([(\"loc\", GEOSPHERE)])"
   ]
  },
  {
   "cell_type": "code",
   "execution_count": 52,
   "id": "2ace95e7",
   "metadata": {},
   "outputs": [],
   "source": [
    "data = gdf.to_dict(orient='records')\n",
    "collection.insert_many(data)\n",
    "client.close()"
   ]
  },
  {
   "cell_type": "markdown",
   "id": "d945fd7e",
   "metadata": {},
   "source": [
    "### Nursery"
   ]
  },
  {
   "cell_type": "code",
   "execution_count": 86,
   "id": "9f7f8555",
   "metadata": {},
   "outputs": [
    {
     "data": {
      "text/html": [
       "<div>\n",
       "<style scoped>\n",
       "    .dataframe tbody tr th:only-of-type {\n",
       "        vertical-align: middle;\n",
       "    }\n",
       "\n",
       "    .dataframe tbody tr th {\n",
       "        vertical-align: top;\n",
       "    }\n",
       "\n",
       "    .dataframe thead th {\n",
       "        text-align: right;\n",
       "    }\n",
       "</style>\n",
       "<table border=\"1\" class=\"dataframe\">\n",
       "  <thead>\n",
       "    <tr style=\"text-align: right;\">\n",
       "      <th></th>\n",
       "      <th>latitud</th>\n",
       "      <th>longitud</th>\n",
       "    </tr>\n",
       "  </thead>\n",
       "  <tbody>\n",
       "    <tr>\n",
       "      <th>0</th>\n",
       "      <td>28.140824</td>\n",
       "      <td>-15.435629</td>\n",
       "    </tr>\n",
       "    <tr>\n",
       "      <th>1</th>\n",
       "      <td>28.134745</td>\n",
       "      <td>-15.433736</td>\n",
       "    </tr>\n",
       "    <tr>\n",
       "      <th>2</th>\n",
       "      <td>28.139566</td>\n",
       "      <td>-15.430696</td>\n",
       "    </tr>\n",
       "    <tr>\n",
       "      <th>3</th>\n",
       "      <td>28.108564</td>\n",
       "      <td>-15.434343</td>\n",
       "    </tr>\n",
       "    <tr>\n",
       "      <th>4</th>\n",
       "      <td>28.104070</td>\n",
       "      <td>-15.414521</td>\n",
       "    </tr>\n",
       "  </tbody>\n",
       "</table>\n",
       "</div>"
      ],
      "text/plain": [
       "     latitud   longitud\n",
       "0  28.140824 -15.435629\n",
       "1  28.134745 -15.433736\n",
       "2  28.139566 -15.430696\n",
       "3  28.108564 -15.434343\n",
       "4  28.104070 -15.414521"
      ]
     },
     "execution_count": 86,
     "metadata": {},
     "output_type": "execute_result"
    }
   ],
   "source": [
    "df=pd.read_csv(\"nurs_lp.csv\")\n",
    "df.head()"
   ]
  },
  {
   "cell_type": "code",
   "execution_count": 87,
   "id": "f7ced019",
   "metadata": {},
   "outputs": [
    {
     "data": {
      "text/html": [
       "<div>\n",
       "<style scoped>\n",
       "    .dataframe tbody tr th:only-of-type {\n",
       "        vertical-align: middle;\n",
       "    }\n",
       "\n",
       "    .dataframe tbody tr th {\n",
       "        vertical-align: top;\n",
       "    }\n",
       "\n",
       "    .dataframe thead th {\n",
       "        text-align: right;\n",
       "    }\n",
       "</style>\n",
       "<table border=\"1\" class=\"dataframe\">\n",
       "  <thead>\n",
       "    <tr style=\"text-align: right;\">\n",
       "      <th></th>\n",
       "      <th>longitud</th>\n",
       "      <th>latitud</th>\n",
       "      <th>loc</th>\n",
       "    </tr>\n",
       "  </thead>\n",
       "  <tbody>\n",
       "    <tr>\n",
       "      <th>0</th>\n",
       "      <td>28.140824</td>\n",
       "      <td>-15.435629</td>\n",
       "      <td>POINT (28.14082 -15.43563)</td>\n",
       "    </tr>\n",
       "    <tr>\n",
       "      <th>1</th>\n",
       "      <td>28.134745</td>\n",
       "      <td>-15.433736</td>\n",
       "      <td>POINT (28.13474 -15.43374)</td>\n",
       "    </tr>\n",
       "    <tr>\n",
       "      <th>2</th>\n",
       "      <td>28.139566</td>\n",
       "      <td>-15.430696</td>\n",
       "      <td>POINT (28.13957 -15.43070)</td>\n",
       "    </tr>\n",
       "    <tr>\n",
       "      <th>3</th>\n",
       "      <td>28.108564</td>\n",
       "      <td>-15.434343</td>\n",
       "      <td>POINT (28.10856 -15.43434)</td>\n",
       "    </tr>\n",
       "    <tr>\n",
       "      <th>4</th>\n",
       "      <td>28.104070</td>\n",
       "      <td>-15.414521</td>\n",
       "      <td>POINT (28.10407 -15.41452)</td>\n",
       "    </tr>\n",
       "  </tbody>\n",
       "</table>\n",
       "</div>"
      ],
      "text/plain": [
       "    longitud    latitud                         loc\n",
       "0  28.140824 -15.435629  POINT (28.14082 -15.43563)\n",
       "1  28.134745 -15.433736  POINT (28.13474 -15.43374)\n",
       "2  28.139566 -15.430696  POINT (28.13957 -15.43070)\n",
       "3  28.108564 -15.434343  POINT (28.10856 -15.43434)\n",
       "4  28.104070 -15.414521  POINT (28.10407 -15.41452)"
      ]
     },
     "execution_count": 87,
     "metadata": {},
     "output_type": "execute_result"
    }
   ],
   "source": [
    "gdf = geopandas.GeoDataFrame(df, geometry=geopandas.points_from_xy(df.latitud,\n",
    "                             df.longitud))\n",
    "gdf.columns=['longitud','latitud','loc']\n",
    "gdf.head()"
   ]
  },
  {
   "cell_type": "code",
   "execution_count": 88,
   "id": "4a117adf",
   "metadata": {},
   "outputs": [
    {
     "data": {
      "text/html": [
       "<div>\n",
       "<style scoped>\n",
       "    .dataframe tbody tr th:only-of-type {\n",
       "        vertical-align: middle;\n",
       "    }\n",
       "\n",
       "    .dataframe tbody tr th {\n",
       "        vertical-align: top;\n",
       "    }\n",
       "\n",
       "    .dataframe thead th {\n",
       "        text-align: right;\n",
       "    }\n",
       "</style>\n",
       "<table border=\"1\" class=\"dataframe\">\n",
       "  <thead>\n",
       "    <tr style=\"text-align: right;\">\n",
       "      <th></th>\n",
       "      <th>longitud</th>\n",
       "      <th>latitud</th>\n",
       "      <th>loc</th>\n",
       "    </tr>\n",
       "  </thead>\n",
       "  <tbody>\n",
       "    <tr>\n",
       "      <th>0</th>\n",
       "      <td>28.140824</td>\n",
       "      <td>-15.435629</td>\n",
       "      <td>{'type': 'Point', 'coordinates': (28.140823978...</td>\n",
       "    </tr>\n",
       "    <tr>\n",
       "      <th>1</th>\n",
       "      <td>28.134745</td>\n",
       "      <td>-15.433736</td>\n",
       "      <td>{'type': 'Point', 'coordinates': (28.134744867...</td>\n",
       "    </tr>\n",
       "    <tr>\n",
       "      <th>2</th>\n",
       "      <td>28.139566</td>\n",
       "      <td>-15.430696</td>\n",
       "      <td>{'type': 'Point', 'coordinates': (28.139566, -...</td>\n",
       "    </tr>\n",
       "    <tr>\n",
       "      <th>3</th>\n",
       "      <td>28.108564</td>\n",
       "      <td>-15.434343</td>\n",
       "      <td>{'type': 'Point', 'coordinates': (28.108564223...</td>\n",
       "    </tr>\n",
       "    <tr>\n",
       "      <th>4</th>\n",
       "      <td>28.104070</td>\n",
       "      <td>-15.414521</td>\n",
       "      <td>{'type': 'Point', 'coordinates': (28.104069706...</td>\n",
       "    </tr>\n",
       "  </tbody>\n",
       "</table>\n",
       "</div>"
      ],
      "text/plain": [
       "    longitud    latitud                                                loc\n",
       "0  28.140824 -15.435629  {'type': 'Point', 'coordinates': (28.140823978...\n",
       "1  28.134745 -15.433736  {'type': 'Point', 'coordinates': (28.134744867...\n",
       "2  28.139566 -15.430696  {'type': 'Point', 'coordinates': (28.139566, -...\n",
       "3  28.108564 -15.434343  {'type': 'Point', 'coordinates': (28.108564223...\n",
       "4  28.104070 -15.414521  {'type': 'Point', 'coordinates': (28.104069706..."
      ]
     },
     "execution_count": 88,
     "metadata": {},
     "output_type": "execute_result"
    }
   ],
   "source": [
    "gdf['loc']=gdf['loc'].apply(lambda x:shapely.geometry.mapping(x))\n",
    "gdf.head()"
   ]
  },
  {
   "cell_type": "code",
   "execution_count": 89,
   "id": "f9d77573",
   "metadata": {},
   "outputs": [
    {
     "data": {
      "text/plain": [
       "'loc_2dsphere'"
      ]
     },
     "execution_count": 89,
     "metadata": {},
     "output_type": "execute_result"
    }
   ],
   "source": [
    "client=MongoClient('localhost',27017)\n",
    "db = client.Office_project\n",
    "collection = db.Schools\n",
    "collection.create_index([(\"loc\", GEOSPHERE)])"
   ]
  },
  {
   "cell_type": "code",
   "execution_count": 90,
   "id": "5c6742fa",
   "metadata": {},
   "outputs": [],
   "source": [
    "data = gdf.to_dict(orient='records')\n",
    "collection.insert_many(data)\n",
    "client.close()"
   ]
  },
  {
   "cell_type": "markdown",
   "id": "e54ab16a",
   "metadata": {},
   "source": [
    "# Starbucks\n"
   ]
  },
  {
   "cell_type": "markdown",
   "id": "1c8f1409",
   "metadata": {},
   "source": [
    "## Dublin"
   ]
  },
  {
   "cell_type": "code",
   "execution_count": 53,
   "id": "876abffa",
   "metadata": {},
   "outputs": [
    {
     "data": {
      "text/html": [
       "<div>\n",
       "<style scoped>\n",
       "    .dataframe tbody tr th:only-of-type {\n",
       "        vertical-align: middle;\n",
       "    }\n",
       "\n",
       "    .dataframe tbody tr th {\n",
       "        vertical-align: top;\n",
       "    }\n",
       "\n",
       "    .dataframe thead th {\n",
       "        text-align: right;\n",
       "    }\n",
       "</style>\n",
       "<table border=\"1\" class=\"dataframe\">\n",
       "  <thead>\n",
       "    <tr style=\"text-align: right;\">\n",
       "      <th></th>\n",
       "      <th>latitud</th>\n",
       "      <th>longitud</th>\n",
       "    </tr>\n",
       "  </thead>\n",
       "  <tbody>\n",
       "    <tr>\n",
       "      <th>0</th>\n",
       "      <td>53.348446</td>\n",
       "      <td>-6.228475</td>\n",
       "    </tr>\n",
       "    <tr>\n",
       "      <th>1</th>\n",
       "      <td>53.332519</td>\n",
       "      <td>-6.243741</td>\n",
       "    </tr>\n",
       "    <tr>\n",
       "      <th>2</th>\n",
       "      <td>53.333445</td>\n",
       "      <td>-6.254008</td>\n",
       "    </tr>\n",
       "    <tr>\n",
       "      <th>3</th>\n",
       "      <td>53.336677</td>\n",
       "      <td>-6.243111</td>\n",
       "    </tr>\n",
       "    <tr>\n",
       "      <th>4</th>\n",
       "      <td>53.347591</td>\n",
       "      <td>-6.259555</td>\n",
       "    </tr>\n",
       "  </tbody>\n",
       "</table>\n",
       "</div>"
      ],
      "text/plain": [
       "     latitud  longitud\n",
       "0  53.348446 -6.228475\n",
       "1  53.332519 -6.243741\n",
       "2  53.333445 -6.254008\n",
       "3  53.336677 -6.243111\n",
       "4  53.347591 -6.259555"
      ]
     },
     "execution_count": 53,
     "metadata": {},
     "output_type": "execute_result"
    }
   ],
   "source": [
    "df=pd.read_csv(\"starbucks_dublin.csv\")\n",
    "df.head()"
   ]
  },
  {
   "cell_type": "code",
   "execution_count": 54,
   "id": "a529e2bb",
   "metadata": {},
   "outputs": [
    {
     "data": {
      "text/html": [
       "<div>\n",
       "<style scoped>\n",
       "    .dataframe tbody tr th:only-of-type {\n",
       "        vertical-align: middle;\n",
       "    }\n",
       "\n",
       "    .dataframe tbody tr th {\n",
       "        vertical-align: top;\n",
       "    }\n",
       "\n",
       "    .dataframe thead th {\n",
       "        text-align: right;\n",
       "    }\n",
       "</style>\n",
       "<table border=\"1\" class=\"dataframe\">\n",
       "  <thead>\n",
       "    <tr style=\"text-align: right;\">\n",
       "      <th></th>\n",
       "      <th>longitud</th>\n",
       "      <th>latitud</th>\n",
       "      <th>loc</th>\n",
       "    </tr>\n",
       "  </thead>\n",
       "  <tbody>\n",
       "    <tr>\n",
       "      <th>0</th>\n",
       "      <td>53.348446</td>\n",
       "      <td>-6.228475</td>\n",
       "      <td>POINT (53.34845 -6.22848)</td>\n",
       "    </tr>\n",
       "    <tr>\n",
       "      <th>1</th>\n",
       "      <td>53.332519</td>\n",
       "      <td>-6.243741</td>\n",
       "      <td>POINT (53.33252 -6.24374)</td>\n",
       "    </tr>\n",
       "    <tr>\n",
       "      <th>2</th>\n",
       "      <td>53.333445</td>\n",
       "      <td>-6.254008</td>\n",
       "      <td>POINT (53.33344 -6.25401)</td>\n",
       "    </tr>\n",
       "    <tr>\n",
       "      <th>3</th>\n",
       "      <td>53.336677</td>\n",
       "      <td>-6.243111</td>\n",
       "      <td>POINT (53.33668 -6.24311)</td>\n",
       "    </tr>\n",
       "    <tr>\n",
       "      <th>4</th>\n",
       "      <td>53.347591</td>\n",
       "      <td>-6.259555</td>\n",
       "      <td>POINT (53.34759 -6.25956)</td>\n",
       "    </tr>\n",
       "  </tbody>\n",
       "</table>\n",
       "</div>"
      ],
      "text/plain": [
       "    longitud   latitud                        loc\n",
       "0  53.348446 -6.228475  POINT (53.34845 -6.22848)\n",
       "1  53.332519 -6.243741  POINT (53.33252 -6.24374)\n",
       "2  53.333445 -6.254008  POINT (53.33344 -6.25401)\n",
       "3  53.336677 -6.243111  POINT (53.33668 -6.24311)\n",
       "4  53.347591 -6.259555  POINT (53.34759 -6.25956)"
      ]
     },
     "execution_count": 54,
     "metadata": {},
     "output_type": "execute_result"
    }
   ],
   "source": [
    "gdf = geopandas.GeoDataFrame(df, geometry=geopandas.points_from_xy(df.latitud,\n",
    "                             df.longitud))\n",
    "gdf.columns=['longitud','latitud','loc']\n",
    "gdf.head()"
   ]
  },
  {
   "cell_type": "code",
   "execution_count": 55,
   "id": "c768e2cb",
   "metadata": {},
   "outputs": [
    {
     "data": {
      "text/html": [
       "<div>\n",
       "<style scoped>\n",
       "    .dataframe tbody tr th:only-of-type {\n",
       "        vertical-align: middle;\n",
       "    }\n",
       "\n",
       "    .dataframe tbody tr th {\n",
       "        vertical-align: top;\n",
       "    }\n",
       "\n",
       "    .dataframe thead th {\n",
       "        text-align: right;\n",
       "    }\n",
       "</style>\n",
       "<table border=\"1\" class=\"dataframe\">\n",
       "  <thead>\n",
       "    <tr style=\"text-align: right;\">\n",
       "      <th></th>\n",
       "      <th>longitud</th>\n",
       "      <th>latitud</th>\n",
       "      <th>loc</th>\n",
       "    </tr>\n",
       "  </thead>\n",
       "  <tbody>\n",
       "    <tr>\n",
       "      <th>0</th>\n",
       "      <td>53.348446</td>\n",
       "      <td>-6.228475</td>\n",
       "      <td>{'type': 'Point', 'coordinates': (53.348445865...</td>\n",
       "    </tr>\n",
       "    <tr>\n",
       "      <th>1</th>\n",
       "      <td>53.332519</td>\n",
       "      <td>-6.243741</td>\n",
       "      <td>{'type': 'Point', 'coordinates': (53.332519271...</td>\n",
       "    </tr>\n",
       "    <tr>\n",
       "      <th>2</th>\n",
       "      <td>53.333445</td>\n",
       "      <td>-6.254008</td>\n",
       "      <td>{'type': 'Point', 'coordinates': (53.333444974...</td>\n",
       "    </tr>\n",
       "    <tr>\n",
       "      <th>3</th>\n",
       "      <td>53.336677</td>\n",
       "      <td>-6.243111</td>\n",
       "      <td>{'type': 'Point', 'coordinates': (53.336677, -...</td>\n",
       "    </tr>\n",
       "    <tr>\n",
       "      <th>4</th>\n",
       "      <td>53.347591</td>\n",
       "      <td>-6.259555</td>\n",
       "      <td>{'type': 'Point', 'coordinates': (53.347591385...</td>\n",
       "    </tr>\n",
       "  </tbody>\n",
       "</table>\n",
       "</div>"
      ],
      "text/plain": [
       "    longitud   latitud                                                loc\n",
       "0  53.348446 -6.228475  {'type': 'Point', 'coordinates': (53.348445865...\n",
       "1  53.332519 -6.243741  {'type': 'Point', 'coordinates': (53.332519271...\n",
       "2  53.333445 -6.254008  {'type': 'Point', 'coordinates': (53.333444974...\n",
       "3  53.336677 -6.243111  {'type': 'Point', 'coordinates': (53.336677, -...\n",
       "4  53.347591 -6.259555  {'type': 'Point', 'coordinates': (53.347591385..."
      ]
     },
     "execution_count": 55,
     "metadata": {},
     "output_type": "execute_result"
    }
   ],
   "source": [
    "gdf['loc']=gdf['loc'].apply(lambda x:shapely.geometry.mapping(x))\n",
    "gdf.head()"
   ]
  },
  {
   "cell_type": "code",
   "execution_count": 58,
   "id": "f15a3d66",
   "metadata": {},
   "outputs": [
    {
     "data": {
      "text/plain": [
       "'loc_2dsphere'"
      ]
     },
     "execution_count": 58,
     "metadata": {},
     "output_type": "execute_result"
    }
   ],
   "source": [
    "client=MongoClient('localhost',27017)\n",
    "db = client.Office_project\n",
    "collection = db.Starbucks\n",
    "collection.create_index([(\"loc\", GEOSPHERE)])"
   ]
  },
  {
   "cell_type": "code",
   "execution_count": 59,
   "id": "613a8111",
   "metadata": {},
   "outputs": [],
   "source": [
    "data = gdf.to_dict(orient='records')\n",
    "collection.insert_many(data)\n",
    "client.close()"
   ]
  },
  {
   "cell_type": "markdown",
   "id": "0bb5e653",
   "metadata": {},
   "source": [
    "## Manchester\n"
   ]
  },
  {
   "cell_type": "code",
   "execution_count": 60,
   "id": "6019c4f8",
   "metadata": {},
   "outputs": [
    {
     "data": {
      "text/html": [
       "<div>\n",
       "<style scoped>\n",
       "    .dataframe tbody tr th:only-of-type {\n",
       "        vertical-align: middle;\n",
       "    }\n",
       "\n",
       "    .dataframe tbody tr th {\n",
       "        vertical-align: top;\n",
       "    }\n",
       "\n",
       "    .dataframe thead th {\n",
       "        text-align: right;\n",
       "    }\n",
       "</style>\n",
       "<table border=\"1\" class=\"dataframe\">\n",
       "  <thead>\n",
       "    <tr style=\"text-align: right;\">\n",
       "      <th></th>\n",
       "      <th>latitud</th>\n",
       "      <th>longitud</th>\n",
       "    </tr>\n",
       "  </thead>\n",
       "  <tbody>\n",
       "    <tr>\n",
       "      <th>0</th>\n",
       "      <td>53.477957</td>\n",
       "      <td>-2.245602</td>\n",
       "    </tr>\n",
       "    <tr>\n",
       "      <th>1</th>\n",
       "      <td>53.473700</td>\n",
       "      <td>-2.240029</td>\n",
       "    </tr>\n",
       "    <tr>\n",
       "      <th>2</th>\n",
       "      <td>53.478270</td>\n",
       "      <td>-2.250158</td>\n",
       "    </tr>\n",
       "    <tr>\n",
       "      <th>3</th>\n",
       "      <td>53.482787</td>\n",
       "      <td>-2.245523</td>\n",
       "    </tr>\n",
       "    <tr>\n",
       "      <th>4</th>\n",
       "      <td>53.481841</td>\n",
       "      <td>-2.238139</td>\n",
       "    </tr>\n",
       "  </tbody>\n",
       "</table>\n",
       "</div>"
      ],
      "text/plain": [
       "     latitud  longitud\n",
       "0  53.477957 -2.245602\n",
       "1  53.473700 -2.240029\n",
       "2  53.478270 -2.250158\n",
       "3  53.482787 -2.245523\n",
       "4  53.481841 -2.238139"
      ]
     },
     "execution_count": 60,
     "metadata": {},
     "output_type": "execute_result"
    }
   ],
   "source": [
    "df=pd.read_csv(\"starbucks_man.csv\")\n",
    "df.head()"
   ]
  },
  {
   "cell_type": "code",
   "execution_count": 61,
   "id": "d1635779",
   "metadata": {},
   "outputs": [
    {
     "data": {
      "text/html": [
       "<div>\n",
       "<style scoped>\n",
       "    .dataframe tbody tr th:only-of-type {\n",
       "        vertical-align: middle;\n",
       "    }\n",
       "\n",
       "    .dataframe tbody tr th {\n",
       "        vertical-align: top;\n",
       "    }\n",
       "\n",
       "    .dataframe thead th {\n",
       "        text-align: right;\n",
       "    }\n",
       "</style>\n",
       "<table border=\"1\" class=\"dataframe\">\n",
       "  <thead>\n",
       "    <tr style=\"text-align: right;\">\n",
       "      <th></th>\n",
       "      <th>longitud</th>\n",
       "      <th>latitud</th>\n",
       "      <th>loc</th>\n",
       "    </tr>\n",
       "  </thead>\n",
       "  <tbody>\n",
       "    <tr>\n",
       "      <th>0</th>\n",
       "      <td>53.477957</td>\n",
       "      <td>-2.245602</td>\n",
       "      <td>POINT (53.47796 -2.24560)</td>\n",
       "    </tr>\n",
       "    <tr>\n",
       "      <th>1</th>\n",
       "      <td>53.473700</td>\n",
       "      <td>-2.240029</td>\n",
       "      <td>POINT (53.47370 -2.24003)</td>\n",
       "    </tr>\n",
       "    <tr>\n",
       "      <th>2</th>\n",
       "      <td>53.478270</td>\n",
       "      <td>-2.250158</td>\n",
       "      <td>POINT (53.47827 -2.25016)</td>\n",
       "    </tr>\n",
       "    <tr>\n",
       "      <th>3</th>\n",
       "      <td>53.482787</td>\n",
       "      <td>-2.245523</td>\n",
       "      <td>POINT (53.48279 -2.24552)</td>\n",
       "    </tr>\n",
       "    <tr>\n",
       "      <th>4</th>\n",
       "      <td>53.481841</td>\n",
       "      <td>-2.238139</td>\n",
       "      <td>POINT (53.48184 -2.23814)</td>\n",
       "    </tr>\n",
       "  </tbody>\n",
       "</table>\n",
       "</div>"
      ],
      "text/plain": [
       "    longitud   latitud                        loc\n",
       "0  53.477957 -2.245602  POINT (53.47796 -2.24560)\n",
       "1  53.473700 -2.240029  POINT (53.47370 -2.24003)\n",
       "2  53.478270 -2.250158  POINT (53.47827 -2.25016)\n",
       "3  53.482787 -2.245523  POINT (53.48279 -2.24552)\n",
       "4  53.481841 -2.238139  POINT (53.48184 -2.23814)"
      ]
     },
     "execution_count": 61,
     "metadata": {},
     "output_type": "execute_result"
    }
   ],
   "source": [
    "gdf = geopandas.GeoDataFrame(df, geometry=geopandas.points_from_xy(df.latitud,\n",
    "                             df.longitud))\n",
    "gdf.columns=['longitud','latitud','loc']\n",
    "gdf.head()"
   ]
  },
  {
   "cell_type": "code",
   "execution_count": 62,
   "id": "53acc89f",
   "metadata": {},
   "outputs": [
    {
     "data": {
      "text/html": [
       "<div>\n",
       "<style scoped>\n",
       "    .dataframe tbody tr th:only-of-type {\n",
       "        vertical-align: middle;\n",
       "    }\n",
       "\n",
       "    .dataframe tbody tr th {\n",
       "        vertical-align: top;\n",
       "    }\n",
       "\n",
       "    .dataframe thead th {\n",
       "        text-align: right;\n",
       "    }\n",
       "</style>\n",
       "<table border=\"1\" class=\"dataframe\">\n",
       "  <thead>\n",
       "    <tr style=\"text-align: right;\">\n",
       "      <th></th>\n",
       "      <th>longitud</th>\n",
       "      <th>latitud</th>\n",
       "      <th>loc</th>\n",
       "    </tr>\n",
       "  </thead>\n",
       "  <tbody>\n",
       "    <tr>\n",
       "      <th>0</th>\n",
       "      <td>53.477957</td>\n",
       "      <td>-2.245602</td>\n",
       "      <td>{'type': 'Point', 'coordinates': (53.477957, -...</td>\n",
       "    </tr>\n",
       "    <tr>\n",
       "      <th>1</th>\n",
       "      <td>53.473700</td>\n",
       "      <td>-2.240029</td>\n",
       "      <td>{'type': 'Point', 'coordinates': (53.4737, -2....</td>\n",
       "    </tr>\n",
       "    <tr>\n",
       "      <th>2</th>\n",
       "      <td>53.478270</td>\n",
       "      <td>-2.250158</td>\n",
       "      <td>{'type': 'Point', 'coordinates': (53.47827, -2...</td>\n",
       "    </tr>\n",
       "    <tr>\n",
       "      <th>3</th>\n",
       "      <td>53.482787</td>\n",
       "      <td>-2.245523</td>\n",
       "      <td>{'type': 'Point', 'coordinates': (53.482787, -...</td>\n",
       "    </tr>\n",
       "    <tr>\n",
       "      <th>4</th>\n",
       "      <td>53.481841</td>\n",
       "      <td>-2.238139</td>\n",
       "      <td>{'type': 'Point', 'coordinates': (53.481841, -...</td>\n",
       "    </tr>\n",
       "  </tbody>\n",
       "</table>\n",
       "</div>"
      ],
      "text/plain": [
       "    longitud   latitud                                                loc\n",
       "0  53.477957 -2.245602  {'type': 'Point', 'coordinates': (53.477957, -...\n",
       "1  53.473700 -2.240029  {'type': 'Point', 'coordinates': (53.4737, -2....\n",
       "2  53.478270 -2.250158  {'type': 'Point', 'coordinates': (53.47827, -2...\n",
       "3  53.482787 -2.245523  {'type': 'Point', 'coordinates': (53.482787, -...\n",
       "4  53.481841 -2.238139  {'type': 'Point', 'coordinates': (53.481841, -..."
      ]
     },
     "execution_count": 62,
     "metadata": {},
     "output_type": "execute_result"
    }
   ],
   "source": [
    "gdf['loc']=gdf['loc'].apply(lambda x:shapely.geometry.mapping(x))\n",
    "gdf.head()"
   ]
  },
  {
   "cell_type": "code",
   "execution_count": 63,
   "id": "83e04ed2",
   "metadata": {},
   "outputs": [
    {
     "data": {
      "text/plain": [
       "'loc_2dsphere'"
      ]
     },
     "execution_count": 63,
     "metadata": {},
     "output_type": "execute_result"
    }
   ],
   "source": [
    "client=MongoClient('localhost',27017)\n",
    "db = client.Office_project\n",
    "collection = db.Starbucks\n",
    "collection.create_index([(\"loc\", GEOSPHERE)])"
   ]
  },
  {
   "cell_type": "code",
   "execution_count": 64,
   "id": "05ab63d4",
   "metadata": {},
   "outputs": [],
   "source": [
    "data = gdf.to_dict(orient='records')\n",
    "collection.insert_many(data)\n",
    "client.close()"
   ]
  },
  {
   "cell_type": "markdown",
   "id": "a533c6db",
   "metadata": {},
   "source": [
    "## Las Palmas"
   ]
  },
  {
   "cell_type": "code",
   "execution_count": 65,
   "id": "6b27302b",
   "metadata": {},
   "outputs": [
    {
     "data": {
      "text/html": [
       "<div>\n",
       "<style scoped>\n",
       "    .dataframe tbody tr th:only-of-type {\n",
       "        vertical-align: middle;\n",
       "    }\n",
       "\n",
       "    .dataframe tbody tr th {\n",
       "        vertical-align: top;\n",
       "    }\n",
       "\n",
       "    .dataframe thead th {\n",
       "        text-align: right;\n",
       "    }\n",
       "</style>\n",
       "<table border=\"1\" class=\"dataframe\">\n",
       "  <thead>\n",
       "    <tr style=\"text-align: right;\">\n",
       "      <th></th>\n",
       "      <th>latitud</th>\n",
       "      <th>longitud</th>\n",
       "    </tr>\n",
       "  </thead>\n",
       "  <tbody>\n",
       "    <tr>\n",
       "      <th>0</th>\n",
       "      <td>28.134720</td>\n",
       "      <td>-15.431628</td>\n",
       "    </tr>\n",
       "    <tr>\n",
       "      <th>1</th>\n",
       "      <td>28.141927</td>\n",
       "      <td>-15.434266</td>\n",
       "    </tr>\n",
       "    <tr>\n",
       "      <th>2</th>\n",
       "      <td>28.094622</td>\n",
       "      <td>-15.476153</td>\n",
       "    </tr>\n",
       "    <tr>\n",
       "      <th>3</th>\n",
       "      <td>27.937104</td>\n",
       "      <td>-15.389124</td>\n",
       "    </tr>\n",
       "    <tr>\n",
       "      <th>4</th>\n",
       "      <td>28.459415</td>\n",
       "      <td>-16.253620</td>\n",
       "    </tr>\n",
       "  </tbody>\n",
       "</table>\n",
       "</div>"
      ],
      "text/plain": [
       "     latitud   longitud\n",
       "0  28.134720 -15.431628\n",
       "1  28.141927 -15.434266\n",
       "2  28.094622 -15.476153\n",
       "3  27.937104 -15.389124\n",
       "4  28.459415 -16.253620"
      ]
     },
     "execution_count": 65,
     "metadata": {},
     "output_type": "execute_result"
    }
   ],
   "source": [
    "df=pd.read_csv(\"starbucks_lp.csv\")\n",
    "df.head()"
   ]
  },
  {
   "cell_type": "code",
   "execution_count": 66,
   "id": "d1ad82cb",
   "metadata": {},
   "outputs": [
    {
     "data": {
      "text/html": [
       "<div>\n",
       "<style scoped>\n",
       "    .dataframe tbody tr th:only-of-type {\n",
       "        vertical-align: middle;\n",
       "    }\n",
       "\n",
       "    .dataframe tbody tr th {\n",
       "        vertical-align: top;\n",
       "    }\n",
       "\n",
       "    .dataframe thead th {\n",
       "        text-align: right;\n",
       "    }\n",
       "</style>\n",
       "<table border=\"1\" class=\"dataframe\">\n",
       "  <thead>\n",
       "    <tr style=\"text-align: right;\">\n",
       "      <th></th>\n",
       "      <th>longitud</th>\n",
       "      <th>latitud</th>\n",
       "      <th>loc</th>\n",
       "    </tr>\n",
       "  </thead>\n",
       "  <tbody>\n",
       "    <tr>\n",
       "      <th>0</th>\n",
       "      <td>28.134720</td>\n",
       "      <td>-15.431628</td>\n",
       "      <td>POINT (28.13472 -15.43163)</td>\n",
       "    </tr>\n",
       "    <tr>\n",
       "      <th>1</th>\n",
       "      <td>28.141927</td>\n",
       "      <td>-15.434266</td>\n",
       "      <td>POINT (28.14193 -15.43427)</td>\n",
       "    </tr>\n",
       "    <tr>\n",
       "      <th>2</th>\n",
       "      <td>28.094622</td>\n",
       "      <td>-15.476153</td>\n",
       "      <td>POINT (28.09462 -15.47615)</td>\n",
       "    </tr>\n",
       "    <tr>\n",
       "      <th>3</th>\n",
       "      <td>27.937104</td>\n",
       "      <td>-15.389124</td>\n",
       "      <td>POINT (27.93710 -15.38912)</td>\n",
       "    </tr>\n",
       "    <tr>\n",
       "      <th>4</th>\n",
       "      <td>28.459415</td>\n",
       "      <td>-16.253620</td>\n",
       "      <td>POINT (28.45942 -16.25362)</td>\n",
       "    </tr>\n",
       "  </tbody>\n",
       "</table>\n",
       "</div>"
      ],
      "text/plain": [
       "    longitud    latitud                         loc\n",
       "0  28.134720 -15.431628  POINT (28.13472 -15.43163)\n",
       "1  28.141927 -15.434266  POINT (28.14193 -15.43427)\n",
       "2  28.094622 -15.476153  POINT (28.09462 -15.47615)\n",
       "3  27.937104 -15.389124  POINT (27.93710 -15.38912)\n",
       "4  28.459415 -16.253620  POINT (28.45942 -16.25362)"
      ]
     },
     "execution_count": 66,
     "metadata": {},
     "output_type": "execute_result"
    }
   ],
   "source": [
    "gdf = geopandas.GeoDataFrame(df, geometry=geopandas.points_from_xy(df.latitud,\n",
    "                             df.longitud))\n",
    "gdf.columns=['longitud','latitud','loc']\n",
    "gdf.head()"
   ]
  },
  {
   "cell_type": "code",
   "execution_count": 67,
   "id": "49eec4f6",
   "metadata": {},
   "outputs": [
    {
     "data": {
      "text/html": [
       "<div>\n",
       "<style scoped>\n",
       "    .dataframe tbody tr th:only-of-type {\n",
       "        vertical-align: middle;\n",
       "    }\n",
       "\n",
       "    .dataframe tbody tr th {\n",
       "        vertical-align: top;\n",
       "    }\n",
       "\n",
       "    .dataframe thead th {\n",
       "        text-align: right;\n",
       "    }\n",
       "</style>\n",
       "<table border=\"1\" class=\"dataframe\">\n",
       "  <thead>\n",
       "    <tr style=\"text-align: right;\">\n",
       "      <th></th>\n",
       "      <th>longitud</th>\n",
       "      <th>latitud</th>\n",
       "      <th>loc</th>\n",
       "    </tr>\n",
       "  </thead>\n",
       "  <tbody>\n",
       "    <tr>\n",
       "      <th>0</th>\n",
       "      <td>28.134720</td>\n",
       "      <td>-15.431628</td>\n",
       "      <td>{'type': 'Point', 'coordinates': (28.134720492...</td>\n",
       "    </tr>\n",
       "    <tr>\n",
       "      <th>1</th>\n",
       "      <td>28.141927</td>\n",
       "      <td>-15.434266</td>\n",
       "      <td>{'type': 'Point', 'coordinates': (28.141927, -...</td>\n",
       "    </tr>\n",
       "    <tr>\n",
       "      <th>2</th>\n",
       "      <td>28.094622</td>\n",
       "      <td>-15.476153</td>\n",
       "      <td>{'type': 'Point', 'coordinates': (28.094622176...</td>\n",
       "    </tr>\n",
       "    <tr>\n",
       "      <th>3</th>\n",
       "      <td>27.937104</td>\n",
       "      <td>-15.389124</td>\n",
       "      <td>{'type': 'Point', 'coordinates': (27.937103712...</td>\n",
       "    </tr>\n",
       "    <tr>\n",
       "      <th>4</th>\n",
       "      <td>28.459415</td>\n",
       "      <td>-16.253620</td>\n",
       "      <td>{'type': 'Point', 'coordinates': (28.459415242...</td>\n",
       "    </tr>\n",
       "  </tbody>\n",
       "</table>\n",
       "</div>"
      ],
      "text/plain": [
       "    longitud    latitud                                                loc\n",
       "0  28.134720 -15.431628  {'type': 'Point', 'coordinates': (28.134720492...\n",
       "1  28.141927 -15.434266  {'type': 'Point', 'coordinates': (28.141927, -...\n",
       "2  28.094622 -15.476153  {'type': 'Point', 'coordinates': (28.094622176...\n",
       "3  27.937104 -15.389124  {'type': 'Point', 'coordinates': (27.937103712...\n",
       "4  28.459415 -16.253620  {'type': 'Point', 'coordinates': (28.459415242..."
      ]
     },
     "execution_count": 67,
     "metadata": {},
     "output_type": "execute_result"
    }
   ],
   "source": [
    "gdf['loc']=gdf['loc'].apply(lambda x:shapely.geometry.mapping(x))\n",
    "gdf.head()"
   ]
  },
  {
   "cell_type": "code",
   "execution_count": 68,
   "id": "fad2da40",
   "metadata": {},
   "outputs": [
    {
     "data": {
      "text/plain": [
       "'loc_2dsphere'"
      ]
     },
     "execution_count": 68,
     "metadata": {},
     "output_type": "execute_result"
    }
   ],
   "source": [
    "client=MongoClient('localhost',27017)\n",
    "db = client.Office_project\n",
    "collection = db.Starbucks\n",
    "collection.create_index([(\"loc\", GEOSPHERE)])"
   ]
  },
  {
   "cell_type": "code",
   "execution_count": 69,
   "id": "d4a4f73e",
   "metadata": {},
   "outputs": [],
   "source": [
    "data = gdf.to_dict(orient='records')\n",
    "collection.insert_many(data)\n",
    "client.close()"
   ]
  },
  {
   "cell_type": "markdown",
   "id": "ee64d490",
   "metadata": {},
   "source": [
    "## Developing companies"
   ]
  },
  {
   "cell_type": "markdown",
   "id": "5561d3ef",
   "metadata": {},
   "source": [
    "## Dublin"
   ]
  },
  {
   "cell_type": "code",
   "execution_count": 113,
   "id": "a98254f0",
   "metadata": {},
   "outputs": [
    {
     "data": {
      "text/html": [
       "<div>\n",
       "<style scoped>\n",
       "    .dataframe tbody tr th:only-of-type {\n",
       "        vertical-align: middle;\n",
       "    }\n",
       "\n",
       "    .dataframe tbody tr th {\n",
       "        vertical-align: top;\n",
       "    }\n",
       "\n",
       "    .dataframe thead th {\n",
       "        text-align: right;\n",
       "    }\n",
       "</style>\n",
       "<table border=\"1\" class=\"dataframe\">\n",
       "  <thead>\n",
       "    <tr style=\"text-align: right;\">\n",
       "      <th></th>\n",
       "      <th>latitud</th>\n",
       "      <th>longitud</th>\n",
       "    </tr>\n",
       "  </thead>\n",
       "  <tbody>\n",
       "    <tr>\n",
       "      <th>0</th>\n",
       "      <td>53.339893</td>\n",
       "      <td>-6.237343</td>\n",
       "    </tr>\n",
       "    <tr>\n",
       "      <th>1</th>\n",
       "      <td>53.341438</td>\n",
       "      <td>-6.231008</td>\n",
       "    </tr>\n",
       "    <tr>\n",
       "      <th>2</th>\n",
       "      <td>53.341249</td>\n",
       "      <td>-6.239462</td>\n",
       "    </tr>\n",
       "    <tr>\n",
       "      <th>3</th>\n",
       "      <td>53.337864</td>\n",
       "      <td>-6.240727</td>\n",
       "    </tr>\n",
       "    <tr>\n",
       "      <th>4</th>\n",
       "      <td>53.341123</td>\n",
       "      <td>-6.241608</td>\n",
       "    </tr>\n",
       "  </tbody>\n",
       "</table>\n",
       "</div>"
      ],
      "text/plain": [
       "     latitud  longitud\n",
       "0  53.339893 -6.237343\n",
       "1  53.341438 -6.231008\n",
       "2  53.341249 -6.239462\n",
       "3  53.337864 -6.240727\n",
       "4  53.341123 -6.241608"
      ]
     },
     "execution_count": 113,
     "metadata": {},
     "output_type": "execute_result"
    }
   ],
   "source": [
    "df=pd.read_csv(\"tech_dub.csv\")\n",
    "df.head()"
   ]
  },
  {
   "cell_type": "code",
   "execution_count": 114,
   "id": "9ef743a3",
   "metadata": {},
   "outputs": [
    {
     "data": {
      "text/html": [
       "<div>\n",
       "<style scoped>\n",
       "    .dataframe tbody tr th:only-of-type {\n",
       "        vertical-align: middle;\n",
       "    }\n",
       "\n",
       "    .dataframe tbody tr th {\n",
       "        vertical-align: top;\n",
       "    }\n",
       "\n",
       "    .dataframe thead th {\n",
       "        text-align: right;\n",
       "    }\n",
       "</style>\n",
       "<table border=\"1\" class=\"dataframe\">\n",
       "  <thead>\n",
       "    <tr style=\"text-align: right;\">\n",
       "      <th></th>\n",
       "      <th>longitud</th>\n",
       "      <th>latitud</th>\n",
       "      <th>loc</th>\n",
       "    </tr>\n",
       "  </thead>\n",
       "  <tbody>\n",
       "    <tr>\n",
       "      <th>0</th>\n",
       "      <td>53.339893</td>\n",
       "      <td>-6.237343</td>\n",
       "      <td>POINT (53.33989 -6.23734)</td>\n",
       "    </tr>\n",
       "    <tr>\n",
       "      <th>1</th>\n",
       "      <td>53.341438</td>\n",
       "      <td>-6.231008</td>\n",
       "      <td>POINT (53.34144 -6.23101)</td>\n",
       "    </tr>\n",
       "    <tr>\n",
       "      <th>2</th>\n",
       "      <td>53.341249</td>\n",
       "      <td>-6.239462</td>\n",
       "      <td>POINT (53.34125 -6.23946)</td>\n",
       "    </tr>\n",
       "    <tr>\n",
       "      <th>3</th>\n",
       "      <td>53.337864</td>\n",
       "      <td>-6.240727</td>\n",
       "      <td>POINT (53.33786 -6.24073)</td>\n",
       "    </tr>\n",
       "    <tr>\n",
       "      <th>4</th>\n",
       "      <td>53.341123</td>\n",
       "      <td>-6.241608</td>\n",
       "      <td>POINT (53.34112 -6.24161)</td>\n",
       "    </tr>\n",
       "  </tbody>\n",
       "</table>\n",
       "</div>"
      ],
      "text/plain": [
       "    longitud   latitud                        loc\n",
       "0  53.339893 -6.237343  POINT (53.33989 -6.23734)\n",
       "1  53.341438 -6.231008  POINT (53.34144 -6.23101)\n",
       "2  53.341249 -6.239462  POINT (53.34125 -6.23946)\n",
       "3  53.337864 -6.240727  POINT (53.33786 -6.24073)\n",
       "4  53.341123 -6.241608  POINT (53.34112 -6.24161)"
      ]
     },
     "execution_count": 114,
     "metadata": {},
     "output_type": "execute_result"
    }
   ],
   "source": [
    "gdf = geopandas.GeoDataFrame(df, geometry=geopandas.points_from_xy(df.latitud,\n",
    "                             df.longitud))\n",
    "gdf.columns=['longitud','latitud','loc']\n",
    "gdf.head()"
   ]
  },
  {
   "cell_type": "code",
   "execution_count": 115,
   "id": "1bcb41ba",
   "metadata": {},
   "outputs": [
    {
     "data": {
      "text/html": [
       "<div>\n",
       "<style scoped>\n",
       "    .dataframe tbody tr th:only-of-type {\n",
       "        vertical-align: middle;\n",
       "    }\n",
       "\n",
       "    .dataframe tbody tr th {\n",
       "        vertical-align: top;\n",
       "    }\n",
       "\n",
       "    .dataframe thead th {\n",
       "        text-align: right;\n",
       "    }\n",
       "</style>\n",
       "<table border=\"1\" class=\"dataframe\">\n",
       "  <thead>\n",
       "    <tr style=\"text-align: right;\">\n",
       "      <th></th>\n",
       "      <th>longitud</th>\n",
       "      <th>latitud</th>\n",
       "      <th>loc</th>\n",
       "    </tr>\n",
       "  </thead>\n",
       "  <tbody>\n",
       "    <tr>\n",
       "      <th>0</th>\n",
       "      <td>53.339893</td>\n",
       "      <td>-6.237343</td>\n",
       "      <td>{'type': 'Point', 'coordinates': (53.339893347...</td>\n",
       "    </tr>\n",
       "    <tr>\n",
       "      <th>1</th>\n",
       "      <td>53.341438</td>\n",
       "      <td>-6.231008</td>\n",
       "      <td>{'type': 'Point', 'coordinates': (53.341437746...</td>\n",
       "    </tr>\n",
       "    <tr>\n",
       "      <th>2</th>\n",
       "      <td>53.341249</td>\n",
       "      <td>-6.239462</td>\n",
       "      <td>{'type': 'Point', 'coordinates': (53.341248697...</td>\n",
       "    </tr>\n",
       "    <tr>\n",
       "      <th>3</th>\n",
       "      <td>53.337864</td>\n",
       "      <td>-6.240727</td>\n",
       "      <td>{'type': 'Point', 'coordinates': (53.337864212...</td>\n",
       "    </tr>\n",
       "    <tr>\n",
       "      <th>4</th>\n",
       "      <td>53.341123</td>\n",
       "      <td>-6.241608</td>\n",
       "      <td>{'type': 'Point', 'coordinates': (53.341123249...</td>\n",
       "    </tr>\n",
       "  </tbody>\n",
       "</table>\n",
       "</div>"
      ],
      "text/plain": [
       "    longitud   latitud                                                loc\n",
       "0  53.339893 -6.237343  {'type': 'Point', 'coordinates': (53.339893347...\n",
       "1  53.341438 -6.231008  {'type': 'Point', 'coordinates': (53.341437746...\n",
       "2  53.341249 -6.239462  {'type': 'Point', 'coordinates': (53.341248697...\n",
       "3  53.337864 -6.240727  {'type': 'Point', 'coordinates': (53.337864212...\n",
       "4  53.341123 -6.241608  {'type': 'Point', 'coordinates': (53.341123249..."
      ]
     },
     "execution_count": 115,
     "metadata": {},
     "output_type": "execute_result"
    }
   ],
   "source": [
    "gdf['loc']=gdf['loc'].apply(lambda x:shapely.geometry.mapping(x))\n",
    "gdf.head()"
   ]
  },
  {
   "cell_type": "code",
   "execution_count": 116,
   "id": "9e1c3f77",
   "metadata": {},
   "outputs": [
    {
     "data": {
      "text/plain": [
       "'loc_2dsphere'"
      ]
     },
     "execution_count": 116,
     "metadata": {},
     "output_type": "execute_result"
    }
   ],
   "source": [
    "client=MongoClient('localhost',27017)\n",
    "db = client.Office_project\n",
    "collection = db.Developing_companies\n",
    "collection.create_index([(\"loc\", GEOSPHERE)])"
   ]
  },
  {
   "cell_type": "code",
   "execution_count": 117,
   "id": "e33a6cd9",
   "metadata": {},
   "outputs": [],
   "source": [
    "data = gdf.to_dict(orient='records')\n",
    "collection.insert_many(data)\n",
    "client.close()"
   ]
  },
  {
   "cell_type": "markdown",
   "id": "2072577e",
   "metadata": {},
   "source": [
    "## Manchester"
   ]
  },
  {
   "cell_type": "code",
   "execution_count": 118,
   "id": "0a1ac9ce",
   "metadata": {},
   "outputs": [
    {
     "data": {
      "text/html": [
       "<div>\n",
       "<style scoped>\n",
       "    .dataframe tbody tr th:only-of-type {\n",
       "        vertical-align: middle;\n",
       "    }\n",
       "\n",
       "    .dataframe tbody tr th {\n",
       "        vertical-align: top;\n",
       "    }\n",
       "\n",
       "    .dataframe thead th {\n",
       "        text-align: right;\n",
       "    }\n",
       "</style>\n",
       "<table border=\"1\" class=\"dataframe\">\n",
       "  <thead>\n",
       "    <tr style=\"text-align: right;\">\n",
       "      <th></th>\n",
       "      <th>latitud</th>\n",
       "      <th>longitud</th>\n",
       "    </tr>\n",
       "  </thead>\n",
       "  <tbody>\n",
       "    <tr>\n",
       "      <th>0</th>\n",
       "      <td>53.477224</td>\n",
       "      <td>-2.243550</td>\n",
       "    </tr>\n",
       "    <tr>\n",
       "      <th>1</th>\n",
       "      <td>53.483681</td>\n",
       "      <td>-2.240875</td>\n",
       "    </tr>\n",
       "    <tr>\n",
       "      <th>2</th>\n",
       "      <td>53.475590</td>\n",
       "      <td>-2.241402</td>\n",
       "    </tr>\n",
       "    <tr>\n",
       "      <th>3</th>\n",
       "      <td>53.476469</td>\n",
       "      <td>-2.239602</td>\n",
       "    </tr>\n",
       "    <tr>\n",
       "      <th>4</th>\n",
       "      <td>53.480038</td>\n",
       "      <td>-2.248934</td>\n",
       "    </tr>\n",
       "  </tbody>\n",
       "</table>\n",
       "</div>"
      ],
      "text/plain": [
       "     latitud  longitud\n",
       "0  53.477224 -2.243550\n",
       "1  53.483681 -2.240875\n",
       "2  53.475590 -2.241402\n",
       "3  53.476469 -2.239602\n",
       "4  53.480038 -2.248934"
      ]
     },
     "execution_count": 118,
     "metadata": {},
     "output_type": "execute_result"
    }
   ],
   "source": [
    "df=pd.read_csv(\"tech_man.csv\")\n",
    "df.head()"
   ]
  },
  {
   "cell_type": "code",
   "execution_count": 119,
   "id": "3473977d",
   "metadata": {},
   "outputs": [],
   "source": [
    "gdf = geopandas.GeoDataFrame(df, geometry=geopandas.points_from_xy(df.latitud,\n",
    "                             df.longitud))\n",
    "gdf.columns=['longitud','latitud','loc']\n"
   ]
  },
  {
   "cell_type": "code",
   "execution_count": 120,
   "id": "002b23b7",
   "metadata": {},
   "outputs": [
    {
     "data": {
      "text/html": [
       "<div>\n",
       "<style scoped>\n",
       "    .dataframe tbody tr th:only-of-type {\n",
       "        vertical-align: middle;\n",
       "    }\n",
       "\n",
       "    .dataframe tbody tr th {\n",
       "        vertical-align: top;\n",
       "    }\n",
       "\n",
       "    .dataframe thead th {\n",
       "        text-align: right;\n",
       "    }\n",
       "</style>\n",
       "<table border=\"1\" class=\"dataframe\">\n",
       "  <thead>\n",
       "    <tr style=\"text-align: right;\">\n",
       "      <th></th>\n",
       "      <th>longitud</th>\n",
       "      <th>latitud</th>\n",
       "      <th>loc</th>\n",
       "    </tr>\n",
       "  </thead>\n",
       "  <tbody>\n",
       "    <tr>\n",
       "      <th>0</th>\n",
       "      <td>53.477224</td>\n",
       "      <td>-2.243550</td>\n",
       "      <td>{'type': 'Point', 'coordinates': (53.477224095...</td>\n",
       "    </tr>\n",
       "    <tr>\n",
       "      <th>1</th>\n",
       "      <td>53.483681</td>\n",
       "      <td>-2.240875</td>\n",
       "      <td>{'type': 'Point', 'coordinates': (53.483681, -...</td>\n",
       "    </tr>\n",
       "    <tr>\n",
       "      <th>2</th>\n",
       "      <td>53.475590</td>\n",
       "      <td>-2.241402</td>\n",
       "      <td>{'type': 'Point', 'coordinates': (53.475589873...</td>\n",
       "    </tr>\n",
       "    <tr>\n",
       "      <th>3</th>\n",
       "      <td>53.476469</td>\n",
       "      <td>-2.239602</td>\n",
       "      <td>{'type': 'Point', 'coordinates': (53.476468571...</td>\n",
       "    </tr>\n",
       "    <tr>\n",
       "      <th>4</th>\n",
       "      <td>53.480038</td>\n",
       "      <td>-2.248934</td>\n",
       "      <td>{'type': 'Point', 'coordinates': (53.480038, -...</td>\n",
       "    </tr>\n",
       "  </tbody>\n",
       "</table>\n",
       "</div>"
      ],
      "text/plain": [
       "    longitud   latitud                                                loc\n",
       "0  53.477224 -2.243550  {'type': 'Point', 'coordinates': (53.477224095...\n",
       "1  53.483681 -2.240875  {'type': 'Point', 'coordinates': (53.483681, -...\n",
       "2  53.475590 -2.241402  {'type': 'Point', 'coordinates': (53.475589873...\n",
       "3  53.476469 -2.239602  {'type': 'Point', 'coordinates': (53.476468571...\n",
       "4  53.480038 -2.248934  {'type': 'Point', 'coordinates': (53.480038, -..."
      ]
     },
     "execution_count": 120,
     "metadata": {},
     "output_type": "execute_result"
    }
   ],
   "source": [
    "gdf['loc']=gdf['loc'].apply(lambda x:shapely.geometry.mapping(x))\n",
    "gdf.head()"
   ]
  },
  {
   "cell_type": "code",
   "execution_count": 121,
   "id": "9e55ff0d",
   "metadata": {},
   "outputs": [
    {
     "data": {
      "text/plain": [
       "'loc_2dsphere'"
      ]
     },
     "execution_count": 121,
     "metadata": {},
     "output_type": "execute_result"
    }
   ],
   "source": [
    "client=MongoClient('localhost',27017)\n",
    "db = client.Office_project\n",
    "collection = db.Developing_companies\n",
    "collection.create_index([(\"loc\", GEOSPHERE)])"
   ]
  },
  {
   "cell_type": "code",
   "execution_count": 122,
   "id": "786c5db8",
   "metadata": {},
   "outputs": [],
   "source": [
    "data = gdf.to_dict(orient='records')\n",
    "collection.insert_many(data)\n",
    "client.close()"
   ]
  },
  {
   "cell_type": "markdown",
   "id": "7afb99dd",
   "metadata": {},
   "source": [
    "## Las Palmas"
   ]
  },
  {
   "cell_type": "code",
   "execution_count": 123,
   "id": "dcdc3498",
   "metadata": {},
   "outputs": [
    {
     "data": {
      "text/html": [
       "<div>\n",
       "<style scoped>\n",
       "    .dataframe tbody tr th:only-of-type {\n",
       "        vertical-align: middle;\n",
       "    }\n",
       "\n",
       "    .dataframe tbody tr th {\n",
       "        vertical-align: top;\n",
       "    }\n",
       "\n",
       "    .dataframe thead th {\n",
       "        text-align: right;\n",
       "    }\n",
       "</style>\n",
       "<table border=\"1\" class=\"dataframe\">\n",
       "  <thead>\n",
       "    <tr style=\"text-align: right;\">\n",
       "      <th></th>\n",
       "      <th>latitud</th>\n",
       "      <th>longitud</th>\n",
       "    </tr>\n",
       "  </thead>\n",
       "  <tbody>\n",
       "    <tr>\n",
       "      <th>0</th>\n",
       "      <td>28.137557</td>\n",
       "      <td>-15.430064</td>\n",
       "    </tr>\n",
       "    <tr>\n",
       "      <th>1</th>\n",
       "      <td>28.143822</td>\n",
       "      <td>-15.425184</td>\n",
       "    </tr>\n",
       "    <tr>\n",
       "      <th>2</th>\n",
       "      <td>28.107948</td>\n",
       "      <td>-15.418088</td>\n",
       "    </tr>\n",
       "    <tr>\n",
       "      <th>3</th>\n",
       "      <td>28.104387</td>\n",
       "      <td>-15.452705</td>\n",
       "    </tr>\n",
       "  </tbody>\n",
       "</table>\n",
       "</div>"
      ],
      "text/plain": [
       "     latitud   longitud\n",
       "0  28.137557 -15.430064\n",
       "1  28.143822 -15.425184\n",
       "2  28.107948 -15.418088\n",
       "3  28.104387 -15.452705"
      ]
     },
     "execution_count": 123,
     "metadata": {},
     "output_type": "execute_result"
    }
   ],
   "source": [
    "df=pd.read_csv(\"tech_lp.csv\")\n",
    "df.head()"
   ]
  },
  {
   "cell_type": "code",
   "execution_count": 124,
   "id": "4db3b7fa",
   "metadata": {},
   "outputs": [],
   "source": [
    "gdf = geopandas.GeoDataFrame(df, geometry=geopandas.points_from_xy(df.latitud,\n",
    "                             df.longitud))\n",
    "gdf.columns=['longitud','latitud','loc']"
   ]
  },
  {
   "cell_type": "code",
   "execution_count": 125,
   "id": "054299b0",
   "metadata": {},
   "outputs": [
    {
     "data": {
      "text/html": [
       "<div>\n",
       "<style scoped>\n",
       "    .dataframe tbody tr th:only-of-type {\n",
       "        vertical-align: middle;\n",
       "    }\n",
       "\n",
       "    .dataframe tbody tr th {\n",
       "        vertical-align: top;\n",
       "    }\n",
       "\n",
       "    .dataframe thead th {\n",
       "        text-align: right;\n",
       "    }\n",
       "</style>\n",
       "<table border=\"1\" class=\"dataframe\">\n",
       "  <thead>\n",
       "    <tr style=\"text-align: right;\">\n",
       "      <th></th>\n",
       "      <th>longitud</th>\n",
       "      <th>latitud</th>\n",
       "      <th>loc</th>\n",
       "    </tr>\n",
       "  </thead>\n",
       "  <tbody>\n",
       "    <tr>\n",
       "      <th>0</th>\n",
       "      <td>28.137557</td>\n",
       "      <td>-15.430064</td>\n",
       "      <td>{'type': 'Point', 'coordinates': (28.137557299...</td>\n",
       "    </tr>\n",
       "    <tr>\n",
       "      <th>1</th>\n",
       "      <td>28.143822</td>\n",
       "      <td>-15.425184</td>\n",
       "      <td>{'type': 'Point', 'coordinates': (28.143821645...</td>\n",
       "    </tr>\n",
       "    <tr>\n",
       "      <th>2</th>\n",
       "      <td>28.107948</td>\n",
       "      <td>-15.418088</td>\n",
       "      <td>{'type': 'Point', 'coordinates': (28.107947603...</td>\n",
       "    </tr>\n",
       "    <tr>\n",
       "      <th>3</th>\n",
       "      <td>28.104387</td>\n",
       "      <td>-15.452705</td>\n",
       "      <td>{'type': 'Point', 'coordinates': (28.104386944...</td>\n",
       "    </tr>\n",
       "  </tbody>\n",
       "</table>\n",
       "</div>"
      ],
      "text/plain": [
       "    longitud    latitud                                                loc\n",
       "0  28.137557 -15.430064  {'type': 'Point', 'coordinates': (28.137557299...\n",
       "1  28.143822 -15.425184  {'type': 'Point', 'coordinates': (28.143821645...\n",
       "2  28.107948 -15.418088  {'type': 'Point', 'coordinates': (28.107947603...\n",
       "3  28.104387 -15.452705  {'type': 'Point', 'coordinates': (28.104386944..."
      ]
     },
     "execution_count": 125,
     "metadata": {},
     "output_type": "execute_result"
    }
   ],
   "source": [
    "gdf['loc']=gdf['loc'].apply(lambda x:shapely.geometry.mapping(x))\n",
    "gdf.head()"
   ]
  },
  {
   "cell_type": "code",
   "execution_count": 126,
   "id": "899237d4",
   "metadata": {},
   "outputs": [
    {
     "data": {
      "text/plain": [
       "'loc_2dsphere'"
      ]
     },
     "execution_count": 126,
     "metadata": {},
     "output_type": "execute_result"
    }
   ],
   "source": [
    "client=MongoClient('localhost',27017)\n",
    "db = client.Office_project\n",
    "collection = db.Developing_companies\n",
    "collection.create_index([(\"loc\", GEOSPHERE)])"
   ]
  },
  {
   "cell_type": "code",
   "execution_count": 127,
   "id": "7f0608f5",
   "metadata": {},
   "outputs": [],
   "source": [
    "data = gdf.to_dict(orient='records')\n",
    "collection.insert_many(data)\n",
    "client.close()"
   ]
  },
  {
   "cell_type": "markdown",
   "id": "a169e825",
   "metadata": {},
   "source": [
    "# Transport"
   ]
  },
  {
   "cell_type": "markdown",
   "id": "27380a15",
   "metadata": {},
   "source": [
    "## Dublin"
   ]
  },
  {
   "cell_type": "markdown",
   "id": "8f7f7912",
   "metadata": {},
   "source": [
    "### Train"
   ]
  },
  {
   "cell_type": "code",
   "execution_count": 128,
   "id": "7a3981b5",
   "metadata": {},
   "outputs": [
    {
     "data": {
      "text/html": [
       "<div>\n",
       "<style scoped>\n",
       "    .dataframe tbody tr th:only-of-type {\n",
       "        vertical-align: middle;\n",
       "    }\n",
       "\n",
       "    .dataframe tbody tr th {\n",
       "        vertical-align: top;\n",
       "    }\n",
       "\n",
       "    .dataframe thead th {\n",
       "        text-align: right;\n",
       "    }\n",
       "</style>\n",
       "<table border=\"1\" class=\"dataframe\">\n",
       "  <thead>\n",
       "    <tr style=\"text-align: right;\">\n",
       "      <th></th>\n",
       "      <th>latitud</th>\n",
       "      <th>longitud</th>\n",
       "    </tr>\n",
       "  </thead>\n",
       "  <tbody>\n",
       "    <tr>\n",
       "      <th>0</th>\n",
       "      <td>53.339532</td>\n",
       "      <td>-6.237297</td>\n",
       "    </tr>\n",
       "    <tr>\n",
       "      <th>1</th>\n",
       "      <td>53.333999</td>\n",
       "      <td>-6.228834</td>\n",
       "    </tr>\n",
       "    <tr>\n",
       "      <th>2</th>\n",
       "      <td>53.351913</td>\n",
       "      <td>-6.248971</td>\n",
       "    </tr>\n",
       "    <tr>\n",
       "      <th>3</th>\n",
       "      <td>53.343299</td>\n",
       "      <td>-6.248247</td>\n",
       "    </tr>\n",
       "    <tr>\n",
       "      <th>4</th>\n",
       "      <td>53.346795</td>\n",
       "      <td>-6.253919</td>\n",
       "    </tr>\n",
       "  </tbody>\n",
       "</table>\n",
       "</div>"
      ],
      "text/plain": [
       "     latitud  longitud\n",
       "0  53.339532 -6.237297\n",
       "1  53.333999 -6.228834\n",
       "2  53.351913 -6.248971\n",
       "3  53.343299 -6.248247\n",
       "4  53.346795 -6.253919"
      ]
     },
     "execution_count": 128,
     "metadata": {},
     "output_type": "execute_result"
    }
   ],
   "source": [
    "df=pd.read_csv(\"train_dub.csv\")\n",
    "df.head()"
   ]
  },
  {
   "cell_type": "code",
   "execution_count": 129,
   "id": "6d471aea",
   "metadata": {},
   "outputs": [],
   "source": [
    "gdf = geopandas.GeoDataFrame(df, geometry=geopandas.points_from_xy(df.latitud,\n",
    "                             df.longitud))\n",
    "gdf.columns=['longitud','latitud','loc']"
   ]
  },
  {
   "cell_type": "code",
   "execution_count": 130,
   "id": "2ff89a5a",
   "metadata": {},
   "outputs": [
    {
     "data": {
      "text/html": [
       "<div>\n",
       "<style scoped>\n",
       "    .dataframe tbody tr th:only-of-type {\n",
       "        vertical-align: middle;\n",
       "    }\n",
       "\n",
       "    .dataframe tbody tr th {\n",
       "        vertical-align: top;\n",
       "    }\n",
       "\n",
       "    .dataframe thead th {\n",
       "        text-align: right;\n",
       "    }\n",
       "</style>\n",
       "<table border=\"1\" class=\"dataframe\">\n",
       "  <thead>\n",
       "    <tr style=\"text-align: right;\">\n",
       "      <th></th>\n",
       "      <th>longitud</th>\n",
       "      <th>latitud</th>\n",
       "      <th>loc</th>\n",
       "    </tr>\n",
       "  </thead>\n",
       "  <tbody>\n",
       "    <tr>\n",
       "      <th>0</th>\n",
       "      <td>53.339532</td>\n",
       "      <td>-6.237297</td>\n",
       "      <td>{'type': 'Point', 'coordinates': (53.339531558...</td>\n",
       "    </tr>\n",
       "    <tr>\n",
       "      <th>1</th>\n",
       "      <td>53.333999</td>\n",
       "      <td>-6.228834</td>\n",
       "      <td>{'type': 'Point', 'coordinates': (53.333998520...</td>\n",
       "    </tr>\n",
       "    <tr>\n",
       "      <th>2</th>\n",
       "      <td>53.351913</td>\n",
       "      <td>-6.248971</td>\n",
       "      <td>{'type': 'Point', 'coordinates': (53.351913261...</td>\n",
       "    </tr>\n",
       "    <tr>\n",
       "      <th>3</th>\n",
       "      <td>53.343299</td>\n",
       "      <td>-6.248247</td>\n",
       "      <td>{'type': 'Point', 'coordinates': (53.343298608...</td>\n",
       "    </tr>\n",
       "    <tr>\n",
       "      <th>4</th>\n",
       "      <td>53.346795</td>\n",
       "      <td>-6.253919</td>\n",
       "      <td>{'type': 'Point', 'coordinates': (53.346795071...</td>\n",
       "    </tr>\n",
       "  </tbody>\n",
       "</table>\n",
       "</div>"
      ],
      "text/plain": [
       "    longitud   latitud                                                loc\n",
       "0  53.339532 -6.237297  {'type': 'Point', 'coordinates': (53.339531558...\n",
       "1  53.333999 -6.228834  {'type': 'Point', 'coordinates': (53.333998520...\n",
       "2  53.351913 -6.248971  {'type': 'Point', 'coordinates': (53.351913261...\n",
       "3  53.343299 -6.248247  {'type': 'Point', 'coordinates': (53.343298608...\n",
       "4  53.346795 -6.253919  {'type': 'Point', 'coordinates': (53.346795071..."
      ]
     },
     "execution_count": 130,
     "metadata": {},
     "output_type": "execute_result"
    }
   ],
   "source": [
    "gdf['loc']=gdf['loc'].apply(lambda x:shapely.geometry.mapping(x))\n",
    "gdf.head()"
   ]
  },
  {
   "cell_type": "code",
   "execution_count": 131,
   "id": "e5b64999",
   "metadata": {},
   "outputs": [
    {
     "data": {
      "text/plain": [
       "'loc_2dsphere'"
      ]
     },
     "execution_count": 131,
     "metadata": {},
     "output_type": "execute_result"
    }
   ],
   "source": [
    "client=MongoClient('localhost',27017)\n",
    "db = client.Office_project\n",
    "collection = db.Transport\n",
    "collection.create_index([(\"loc\", GEOSPHERE)])"
   ]
  },
  {
   "cell_type": "code",
   "execution_count": 132,
   "id": "8518d7dc",
   "metadata": {},
   "outputs": [],
   "source": [
    "data = gdf.to_dict(orient='records')\n",
    "collection.insert_many(data)\n",
    "client.close()"
   ]
  },
  {
   "cell_type": "markdown",
   "id": "9d723310",
   "metadata": {},
   "source": [
    "###  Airport"
   ]
  },
  {
   "cell_type": "code",
   "execution_count": 133,
   "id": "447ed4ae",
   "metadata": {},
   "outputs": [
    {
     "data": {
      "text/html": [
       "<div>\n",
       "<style scoped>\n",
       "    .dataframe tbody tr th:only-of-type {\n",
       "        vertical-align: middle;\n",
       "    }\n",
       "\n",
       "    .dataframe tbody tr th {\n",
       "        vertical-align: top;\n",
       "    }\n",
       "\n",
       "    .dataframe thead th {\n",
       "        text-align: right;\n",
       "    }\n",
       "</style>\n",
       "<table border=\"1\" class=\"dataframe\">\n",
       "  <thead>\n",
       "    <tr style=\"text-align: right;\">\n",
       "      <th></th>\n",
       "      <th>latitud</th>\n",
       "      <th>longitud</th>\n",
       "    </tr>\n",
       "  </thead>\n",
       "  <tbody>\n",
       "    <tr>\n",
       "      <th>0</th>\n",
       "      <td>53.426766</td>\n",
       "      <td>-6.243583</td>\n",
       "    </tr>\n",
       "  </tbody>\n",
       "</table>\n",
       "</div>"
      ],
      "text/plain": [
       "     latitud  longitud\n",
       "0  53.426766 -6.243583"
      ]
     },
     "execution_count": 133,
     "metadata": {},
     "output_type": "execute_result"
    }
   ],
   "source": [
    "df=pd.read_csv(\"aero_dub.csv\")\n",
    "df.head()\n"
   ]
  },
  {
   "cell_type": "code",
   "execution_count": 134,
   "id": "aaada07a",
   "metadata": {},
   "outputs": [],
   "source": [
    "gdf = geopandas.GeoDataFrame(df, geometry=geopandas.points_from_xy(df.latitud,\n",
    "                             df.longitud))\n",
    "gdf.columns=['longitud','latitud','loc']"
   ]
  },
  {
   "cell_type": "code",
   "execution_count": 135,
   "id": "d568acfe",
   "metadata": {},
   "outputs": [
    {
     "data": {
      "text/html": [
       "<div>\n",
       "<style scoped>\n",
       "    .dataframe tbody tr th:only-of-type {\n",
       "        vertical-align: middle;\n",
       "    }\n",
       "\n",
       "    .dataframe tbody tr th {\n",
       "        vertical-align: top;\n",
       "    }\n",
       "\n",
       "    .dataframe thead th {\n",
       "        text-align: right;\n",
       "    }\n",
       "</style>\n",
       "<table border=\"1\" class=\"dataframe\">\n",
       "  <thead>\n",
       "    <tr style=\"text-align: right;\">\n",
       "      <th></th>\n",
       "      <th>longitud</th>\n",
       "      <th>latitud</th>\n",
       "      <th>loc</th>\n",
       "    </tr>\n",
       "  </thead>\n",
       "  <tbody>\n",
       "    <tr>\n",
       "      <th>0</th>\n",
       "      <td>53.426766</td>\n",
       "      <td>-6.243583</td>\n",
       "      <td>{'type': 'Point', 'coordinates': (53.426766301...</td>\n",
       "    </tr>\n",
       "  </tbody>\n",
       "</table>\n",
       "</div>"
      ],
      "text/plain": [
       "    longitud   latitud                                                loc\n",
       "0  53.426766 -6.243583  {'type': 'Point', 'coordinates': (53.426766301..."
      ]
     },
     "execution_count": 135,
     "metadata": {},
     "output_type": "execute_result"
    }
   ],
   "source": [
    "gdf['loc']=gdf['loc'].apply(lambda x:shapely.geometry.mapping(x))\n",
    "gdf.head()"
   ]
  },
  {
   "cell_type": "code",
   "execution_count": 136,
   "id": "744e856f",
   "metadata": {},
   "outputs": [
    {
     "data": {
      "text/plain": [
       "'loc_2dsphere'"
      ]
     },
     "execution_count": 136,
     "metadata": {},
     "output_type": "execute_result"
    }
   ],
   "source": [
    "client=MongoClient('localhost',27017)\n",
    "db = client.Office_project\n",
    "collection = db.Transport\n",
    "collection.create_index([(\"loc\", GEOSPHERE)])"
   ]
  },
  {
   "cell_type": "code",
   "execution_count": 137,
   "id": "50b58530",
   "metadata": {},
   "outputs": [],
   "source": [
    "data = gdf.to_dict(orient='records')\n",
    "collection.insert_many(data)\n",
    "client.close()"
   ]
  },
  {
   "cell_type": "markdown",
   "id": "f4b94a8b",
   "metadata": {},
   "source": [
    "### Tram"
   ]
  },
  {
   "cell_type": "code",
   "execution_count": 138,
   "id": "66c1ac77",
   "metadata": {},
   "outputs": [
    {
     "data": {
      "text/html": [
       "<div>\n",
       "<style scoped>\n",
       "    .dataframe tbody tr th:only-of-type {\n",
       "        vertical-align: middle;\n",
       "    }\n",
       "\n",
       "    .dataframe tbody tr th {\n",
       "        vertical-align: top;\n",
       "    }\n",
       "\n",
       "    .dataframe thead th {\n",
       "        text-align: right;\n",
       "    }\n",
       "</style>\n",
       "<table border=\"1\" class=\"dataframe\">\n",
       "  <thead>\n",
       "    <tr style=\"text-align: right;\">\n",
       "      <th></th>\n",
       "      <th>latitud</th>\n",
       "      <th>longitud</th>\n",
       "    </tr>\n",
       "  </thead>\n",
       "  <tbody>\n",
       "    <tr>\n",
       "      <th>0</th>\n",
       "      <td>53.339072</td>\n",
       "      <td>-6.261463</td>\n",
       "    </tr>\n",
       "    <tr>\n",
       "      <th>1</th>\n",
       "      <td>53.348335</td>\n",
       "      <td>-6.229223</td>\n",
       "    </tr>\n",
       "    <tr>\n",
       "      <th>2</th>\n",
       "      <td>53.326294</td>\n",
       "      <td>-6.256097</td>\n",
       "    </tr>\n",
       "    <tr>\n",
       "      <th>3</th>\n",
       "      <td>53.349253</td>\n",
       "      <td>-6.243392</td>\n",
       "    </tr>\n",
       "    <tr>\n",
       "      <th>4</th>\n",
       "      <td>53.330782</td>\n",
       "      <td>-6.258475</td>\n",
       "    </tr>\n",
       "  </tbody>\n",
       "</table>\n",
       "</div>"
      ],
      "text/plain": [
       "     latitud  longitud\n",
       "0  53.339072 -6.261463\n",
       "1  53.348335 -6.229223\n",
       "2  53.326294 -6.256097\n",
       "3  53.349253 -6.243392\n",
       "4  53.330782 -6.258475"
      ]
     },
     "execution_count": 138,
     "metadata": {},
     "output_type": "execute_result"
    }
   ],
   "source": [
    "df=pd.read_csv(\"tram_dub.csv\")\n",
    "df.head()\n"
   ]
  },
  {
   "cell_type": "code",
   "execution_count": 139,
   "id": "8511ec8d",
   "metadata": {},
   "outputs": [],
   "source": [
    "gdf = geopandas.GeoDataFrame(df, geometry=geopandas.points_from_xy(df.latitud,\n",
    "                             df.longitud))\n",
    "gdf.columns=['longitud','latitud','loc']"
   ]
  },
  {
   "cell_type": "code",
   "execution_count": 140,
   "id": "b4c7f35c",
   "metadata": {},
   "outputs": [
    {
     "data": {
      "text/html": [
       "<div>\n",
       "<style scoped>\n",
       "    .dataframe tbody tr th:only-of-type {\n",
       "        vertical-align: middle;\n",
       "    }\n",
       "\n",
       "    .dataframe tbody tr th {\n",
       "        vertical-align: top;\n",
       "    }\n",
       "\n",
       "    .dataframe thead th {\n",
       "        text-align: right;\n",
       "    }\n",
       "</style>\n",
       "<table border=\"1\" class=\"dataframe\">\n",
       "  <thead>\n",
       "    <tr style=\"text-align: right;\">\n",
       "      <th></th>\n",
       "      <th>longitud</th>\n",
       "      <th>latitud</th>\n",
       "      <th>loc</th>\n",
       "    </tr>\n",
       "  </thead>\n",
       "  <tbody>\n",
       "    <tr>\n",
       "      <th>0</th>\n",
       "      <td>53.339072</td>\n",
       "      <td>-6.261463</td>\n",
       "      <td>{'type': 'Point', 'coordinates': (53.339072407...</td>\n",
       "    </tr>\n",
       "    <tr>\n",
       "      <th>1</th>\n",
       "      <td>53.348335</td>\n",
       "      <td>-6.229223</td>\n",
       "      <td>{'type': 'Point', 'coordinates': (53.348334615...</td>\n",
       "    </tr>\n",
       "    <tr>\n",
       "      <th>2</th>\n",
       "      <td>53.326294</td>\n",
       "      <td>-6.256097</td>\n",
       "      <td>{'type': 'Point', 'coordinates': (53.326293777...</td>\n",
       "    </tr>\n",
       "    <tr>\n",
       "      <th>3</th>\n",
       "      <td>53.349253</td>\n",
       "      <td>-6.243392</td>\n",
       "      <td>{'type': 'Point', 'coordinates': (53.349253067...</td>\n",
       "    </tr>\n",
       "    <tr>\n",
       "      <th>4</th>\n",
       "      <td>53.330782</td>\n",
       "      <td>-6.258475</td>\n",
       "      <td>{'type': 'Point', 'coordinates': (53.330782086...</td>\n",
       "    </tr>\n",
       "  </tbody>\n",
       "</table>\n",
       "</div>"
      ],
      "text/plain": [
       "    longitud   latitud                                                loc\n",
       "0  53.339072 -6.261463  {'type': 'Point', 'coordinates': (53.339072407...\n",
       "1  53.348335 -6.229223  {'type': 'Point', 'coordinates': (53.348334615...\n",
       "2  53.326294 -6.256097  {'type': 'Point', 'coordinates': (53.326293777...\n",
       "3  53.349253 -6.243392  {'type': 'Point', 'coordinates': (53.349253067...\n",
       "4  53.330782 -6.258475  {'type': 'Point', 'coordinates': (53.330782086..."
      ]
     },
     "execution_count": 140,
     "metadata": {},
     "output_type": "execute_result"
    }
   ],
   "source": [
    "gdf['loc']=gdf['loc'].apply(lambda x:shapely.geometry.mapping(x))\n",
    "gdf.head()"
   ]
  },
  {
   "cell_type": "code",
   "execution_count": 141,
   "id": "cc8ca280",
   "metadata": {},
   "outputs": [
    {
     "data": {
      "text/plain": [
       "'loc_2dsphere'"
      ]
     },
     "execution_count": 141,
     "metadata": {},
     "output_type": "execute_result"
    }
   ],
   "source": [
    "client=MongoClient('localhost',27017)\n",
    "db = client.Office_project\n",
    "collection = db.Transport\n",
    "collection.create_index([(\"loc\", GEOSPHERE)])"
   ]
  },
  {
   "cell_type": "code",
   "execution_count": 142,
   "id": "a7926742",
   "metadata": {},
   "outputs": [],
   "source": [
    "data = gdf.to_dict(orient='records')\n",
    "collection.insert_many(data)\n",
    "client.close()"
   ]
  },
  {
   "cell_type": "markdown",
   "id": "800f1ee7",
   "metadata": {},
   "source": [
    "## Manchester"
   ]
  },
  {
   "cell_type": "markdown",
   "id": "ffca8042",
   "metadata": {},
   "source": [
    "### Train"
   ]
  },
  {
   "cell_type": "code",
   "execution_count": 143,
   "id": "c987c4f6",
   "metadata": {},
   "outputs": [
    {
     "data": {
      "text/html": [
       "<div>\n",
       "<style scoped>\n",
       "    .dataframe tbody tr th:only-of-type {\n",
       "        vertical-align: middle;\n",
       "    }\n",
       "\n",
       "    .dataframe tbody tr th {\n",
       "        vertical-align: top;\n",
       "    }\n",
       "\n",
       "    .dataframe thead th {\n",
       "        text-align: right;\n",
       "    }\n",
       "</style>\n",
       "<table border=\"1\" class=\"dataframe\">\n",
       "  <thead>\n",
       "    <tr style=\"text-align: right;\">\n",
       "      <th></th>\n",
       "      <th>latitud</th>\n",
       "      <th>longitud</th>\n",
       "    </tr>\n",
       "  </thead>\n",
       "  <tbody>\n",
       "    <tr>\n",
       "      <th>0</th>\n",
       "      <td>53.474269</td>\n",
       "      <td>-2.250827</td>\n",
       "    </tr>\n",
       "    <tr>\n",
       "      <th>1</th>\n",
       "      <td>53.473770</td>\n",
       "      <td>-2.242155</td>\n",
       "    </tr>\n",
       "    <tr>\n",
       "      <th>2</th>\n",
       "      <td>53.477045</td>\n",
       "      <td>-2.230799</td>\n",
       "    </tr>\n",
       "    <tr>\n",
       "      <th>3</th>\n",
       "      <td>53.477097</td>\n",
       "      <td>-2.257500</td>\n",
       "    </tr>\n",
       "    <tr>\n",
       "      <th>4</th>\n",
       "      <td>53.487382</td>\n",
       "      <td>-2.242541</td>\n",
       "    </tr>\n",
       "  </tbody>\n",
       "</table>\n",
       "</div>"
      ],
      "text/plain": [
       "     latitud  longitud\n",
       "0  53.474269 -2.250827\n",
       "1  53.473770 -2.242155\n",
       "2  53.477045 -2.230799\n",
       "3  53.477097 -2.257500\n",
       "4  53.487382 -2.242541"
      ]
     },
     "execution_count": 143,
     "metadata": {},
     "output_type": "execute_result"
    }
   ],
   "source": [
    "df=pd.read_csv(\"train_man.csv\")\n",
    "df.head()"
   ]
  },
  {
   "cell_type": "code",
   "execution_count": 144,
   "id": "546fe490",
   "metadata": {},
   "outputs": [],
   "source": [
    "gdf = geopandas.GeoDataFrame(df, geometry=geopandas.points_from_xy(df.latitud,\n",
    "                             df.longitud))\n",
    "gdf.columns=['longitud','latitud','loc']"
   ]
  },
  {
   "cell_type": "code",
   "execution_count": 145,
   "id": "2856d13c",
   "metadata": {},
   "outputs": [
    {
     "data": {
      "text/html": [
       "<div>\n",
       "<style scoped>\n",
       "    .dataframe tbody tr th:only-of-type {\n",
       "        vertical-align: middle;\n",
       "    }\n",
       "\n",
       "    .dataframe tbody tr th {\n",
       "        vertical-align: top;\n",
       "    }\n",
       "\n",
       "    .dataframe thead th {\n",
       "        text-align: right;\n",
       "    }\n",
       "</style>\n",
       "<table border=\"1\" class=\"dataframe\">\n",
       "  <thead>\n",
       "    <tr style=\"text-align: right;\">\n",
       "      <th></th>\n",
       "      <th>longitud</th>\n",
       "      <th>latitud</th>\n",
       "      <th>loc</th>\n",
       "    </tr>\n",
       "  </thead>\n",
       "  <tbody>\n",
       "    <tr>\n",
       "      <th>0</th>\n",
       "      <td>53.474269</td>\n",
       "      <td>-2.250827</td>\n",
       "      <td>{'type': 'Point', 'coordinates': (53.474268768...</td>\n",
       "    </tr>\n",
       "    <tr>\n",
       "      <th>1</th>\n",
       "      <td>53.473770</td>\n",
       "      <td>-2.242155</td>\n",
       "      <td>{'type': 'Point', 'coordinates': (53.473769504...</td>\n",
       "    </tr>\n",
       "    <tr>\n",
       "      <th>2</th>\n",
       "      <td>53.477045</td>\n",
       "      <td>-2.230799</td>\n",
       "      <td>{'type': 'Point', 'coordinates': (53.477045197...</td>\n",
       "    </tr>\n",
       "    <tr>\n",
       "      <th>3</th>\n",
       "      <td>53.477097</td>\n",
       "      <td>-2.257500</td>\n",
       "      <td>{'type': 'Point', 'coordinates': (53.477097, -...</td>\n",
       "    </tr>\n",
       "    <tr>\n",
       "      <th>4</th>\n",
       "      <td>53.487382</td>\n",
       "      <td>-2.242541</td>\n",
       "      <td>{'type': 'Point', 'coordinates': (53.487381641...</td>\n",
       "    </tr>\n",
       "  </tbody>\n",
       "</table>\n",
       "</div>"
      ],
      "text/plain": [
       "    longitud   latitud                                                loc\n",
       "0  53.474269 -2.250827  {'type': 'Point', 'coordinates': (53.474268768...\n",
       "1  53.473770 -2.242155  {'type': 'Point', 'coordinates': (53.473769504...\n",
       "2  53.477045 -2.230799  {'type': 'Point', 'coordinates': (53.477045197...\n",
       "3  53.477097 -2.257500  {'type': 'Point', 'coordinates': (53.477097, -...\n",
       "4  53.487382 -2.242541  {'type': 'Point', 'coordinates': (53.487381641..."
      ]
     },
     "execution_count": 145,
     "metadata": {},
     "output_type": "execute_result"
    }
   ],
   "source": [
    "gdf['loc']=gdf['loc'].apply(lambda x:shapely.geometry.mapping(x))\n",
    "gdf.head()"
   ]
  },
  {
   "cell_type": "code",
   "execution_count": 146,
   "id": "79758c97",
   "metadata": {},
   "outputs": [
    {
     "data": {
      "text/plain": [
       "'loc_2dsphere'"
      ]
     },
     "execution_count": 146,
     "metadata": {},
     "output_type": "execute_result"
    }
   ],
   "source": [
    "client=MongoClient('localhost',27017)\n",
    "db = client.Office_project\n",
    "collection = db.Transport\n",
    "collection.create_index([(\"loc\", GEOSPHERE)])"
   ]
  },
  {
   "cell_type": "code",
   "execution_count": 147,
   "id": "ea47c12f",
   "metadata": {},
   "outputs": [],
   "source": [
    "data = gdf.to_dict(orient='records')\n",
    "collection.insert_many(data)\n",
    "client.close()"
   ]
  },
  {
   "cell_type": "markdown",
   "id": "3b2156c9",
   "metadata": {},
   "source": [
    "### Airport"
   ]
  },
  {
   "cell_type": "code",
   "execution_count": 148,
   "id": "4c64b466",
   "metadata": {},
   "outputs": [
    {
     "data": {
      "text/html": [
       "<div>\n",
       "<style scoped>\n",
       "    .dataframe tbody tr th:only-of-type {\n",
       "        vertical-align: middle;\n",
       "    }\n",
       "\n",
       "    .dataframe tbody tr th {\n",
       "        vertical-align: top;\n",
       "    }\n",
       "\n",
       "    .dataframe thead th {\n",
       "        text-align: right;\n",
       "    }\n",
       "</style>\n",
       "<table border=\"1\" class=\"dataframe\">\n",
       "  <thead>\n",
       "    <tr style=\"text-align: right;\">\n",
       "      <th></th>\n",
       "      <th>latitud</th>\n",
       "      <th>longitud</th>\n",
       "    </tr>\n",
       "  </thead>\n",
       "  <tbody>\n",
       "    <tr>\n",
       "      <th>0</th>\n",
       "      <td>53.36211</td>\n",
       "      <td>-2.274586</td>\n",
       "    </tr>\n",
       "  </tbody>\n",
       "</table>\n",
       "</div>"
      ],
      "text/plain": [
       "    latitud  longitud\n",
       "0  53.36211 -2.274586"
      ]
     },
     "execution_count": 148,
     "metadata": {},
     "output_type": "execute_result"
    }
   ],
   "source": [
    "df=pd.read_csv(\"aero_man.csv\")\n",
    "df.head()"
   ]
  },
  {
   "cell_type": "code",
   "execution_count": 149,
   "id": "d196e08b",
   "metadata": {},
   "outputs": [],
   "source": [
    "gdf = geopandas.GeoDataFrame(df, geometry=geopandas.points_from_xy(df.latitud,\n",
    "                             df.longitud))\n",
    "gdf.columns=['longitud','latitud','loc']"
   ]
  },
  {
   "cell_type": "code",
   "execution_count": 150,
   "id": "7de8df86",
   "metadata": {},
   "outputs": [
    {
     "data": {
      "text/html": [
       "<div>\n",
       "<style scoped>\n",
       "    .dataframe tbody tr th:only-of-type {\n",
       "        vertical-align: middle;\n",
       "    }\n",
       "\n",
       "    .dataframe tbody tr th {\n",
       "        vertical-align: top;\n",
       "    }\n",
       "\n",
       "    .dataframe thead th {\n",
       "        text-align: right;\n",
       "    }\n",
       "</style>\n",
       "<table border=\"1\" class=\"dataframe\">\n",
       "  <thead>\n",
       "    <tr style=\"text-align: right;\">\n",
       "      <th></th>\n",
       "      <th>longitud</th>\n",
       "      <th>latitud</th>\n",
       "      <th>loc</th>\n",
       "    </tr>\n",
       "  </thead>\n",
       "  <tbody>\n",
       "    <tr>\n",
       "      <th>0</th>\n",
       "      <td>53.36211</td>\n",
       "      <td>-2.274586</td>\n",
       "      <td>{'type': 'Point', 'coordinates': (53.362109825...</td>\n",
       "    </tr>\n",
       "  </tbody>\n",
       "</table>\n",
       "</div>"
      ],
      "text/plain": [
       "   longitud   latitud                                                loc\n",
       "0  53.36211 -2.274586  {'type': 'Point', 'coordinates': (53.362109825..."
      ]
     },
     "execution_count": 150,
     "metadata": {},
     "output_type": "execute_result"
    }
   ],
   "source": [
    "gdf['loc']=gdf['loc'].apply(lambda x:shapely.geometry.mapping(x))\n",
    "gdf.head()"
   ]
  },
  {
   "cell_type": "code",
   "execution_count": 151,
   "id": "7759888a",
   "metadata": {},
   "outputs": [
    {
     "data": {
      "text/plain": [
       "'loc_2dsphere'"
      ]
     },
     "execution_count": 151,
     "metadata": {},
     "output_type": "execute_result"
    }
   ],
   "source": [
    "client=MongoClient('localhost',27017)\n",
    "db = client.Office_project\n",
    "collection = db.Transport\n",
    "collection.create_index([(\"loc\", GEOSPHERE)])"
   ]
  },
  {
   "cell_type": "code",
   "execution_count": 152,
   "id": "39e003d8",
   "metadata": {},
   "outputs": [],
   "source": [
    "data = gdf.to_dict(orient='records')\n",
    "collection.insert_many(data)\n",
    "client.close()"
   ]
  },
  {
   "cell_type": "markdown",
   "id": "d54a4b7b",
   "metadata": {},
   "source": [
    "### Tram"
   ]
  },
  {
   "cell_type": "code",
   "execution_count": 153,
   "id": "61632add",
   "metadata": {},
   "outputs": [
    {
     "data": {
      "text/html": [
       "<div>\n",
       "<style scoped>\n",
       "    .dataframe tbody tr th:only-of-type {\n",
       "        vertical-align: middle;\n",
       "    }\n",
       "\n",
       "    .dataframe tbody tr th {\n",
       "        vertical-align: top;\n",
       "    }\n",
       "\n",
       "    .dataframe thead th {\n",
       "        text-align: right;\n",
       "    }\n",
       "</style>\n",
       "<table border=\"1\" class=\"dataframe\">\n",
       "  <thead>\n",
       "    <tr style=\"text-align: right;\">\n",
       "      <th></th>\n",
       "      <th>latitud</th>\n",
       "      <th>longitud</th>\n",
       "    </tr>\n",
       "  </thead>\n",
       "  <tbody>\n",
       "    <tr>\n",
       "      <th>0</th>\n",
       "      <td>53.478252</td>\n",
       "      <td>-2.243174</td>\n",
       "    </tr>\n",
       "    <tr>\n",
       "      <th>1</th>\n",
       "      <td>53.474795</td>\n",
       "      <td>-2.250546</td>\n",
       "    </tr>\n",
       "    <tr>\n",
       "      <th>2</th>\n",
       "      <td>53.480065</td>\n",
       "      <td>-2.236555</td>\n",
       "    </tr>\n",
       "    <tr>\n",
       "      <th>3</th>\n",
       "      <td>53.482042</td>\n",
       "      <td>-2.238930</td>\n",
       "    </tr>\n",
       "    <tr>\n",
       "      <th>4</th>\n",
       "      <td>53.476882</td>\n",
       "      <td>-2.231105</td>\n",
       "    </tr>\n",
       "  </tbody>\n",
       "</table>\n",
       "</div>"
      ],
      "text/plain": [
       "     latitud  longitud\n",
       "0  53.478252 -2.243174\n",
       "1  53.474795 -2.250546\n",
       "2  53.480065 -2.236555\n",
       "3  53.482042 -2.238930\n",
       "4  53.476882 -2.231105"
      ]
     },
     "execution_count": 153,
     "metadata": {},
     "output_type": "execute_result"
    }
   ],
   "source": [
    "df=pd.read_csv(\"tram_man.csv\")\n",
    "df.head()"
   ]
  },
  {
   "cell_type": "code",
   "execution_count": 154,
   "id": "31b90ebb",
   "metadata": {},
   "outputs": [],
   "source": [
    "gdf = geopandas.GeoDataFrame(df, geometry=geopandas.points_from_xy(df.latitud,\n",
    "                             df.longitud))\n",
    "gdf.columns=['longitud','latitud','loc']"
   ]
  },
  {
   "cell_type": "code",
   "execution_count": 155,
   "id": "b3ef0765",
   "metadata": {},
   "outputs": [
    {
     "data": {
      "text/html": [
       "<div>\n",
       "<style scoped>\n",
       "    .dataframe tbody tr th:only-of-type {\n",
       "        vertical-align: middle;\n",
       "    }\n",
       "\n",
       "    .dataframe tbody tr th {\n",
       "        vertical-align: top;\n",
       "    }\n",
       "\n",
       "    .dataframe thead th {\n",
       "        text-align: right;\n",
       "    }\n",
       "</style>\n",
       "<table border=\"1\" class=\"dataframe\">\n",
       "  <thead>\n",
       "    <tr style=\"text-align: right;\">\n",
       "      <th></th>\n",
       "      <th>longitud</th>\n",
       "      <th>latitud</th>\n",
       "      <th>loc</th>\n",
       "    </tr>\n",
       "  </thead>\n",
       "  <tbody>\n",
       "    <tr>\n",
       "      <th>0</th>\n",
       "      <td>53.478252</td>\n",
       "      <td>-2.243174</td>\n",
       "      <td>{'type': 'Point', 'coordinates': (53.478251522...</td>\n",
       "    </tr>\n",
       "    <tr>\n",
       "      <th>1</th>\n",
       "      <td>53.474795</td>\n",
       "      <td>-2.250546</td>\n",
       "      <td>{'type': 'Point', 'coordinates': (53.474794724...</td>\n",
       "    </tr>\n",
       "    <tr>\n",
       "      <th>2</th>\n",
       "      <td>53.480065</td>\n",
       "      <td>-2.236555</td>\n",
       "      <td>{'type': 'Point', 'coordinates': (53.480065341...</td>\n",
       "    </tr>\n",
       "    <tr>\n",
       "      <th>3</th>\n",
       "      <td>53.482042</td>\n",
       "      <td>-2.238930</td>\n",
       "      <td>{'type': 'Point', 'coordinates': (53.482042296...</td>\n",
       "    </tr>\n",
       "    <tr>\n",
       "      <th>4</th>\n",
       "      <td>53.476882</td>\n",
       "      <td>-2.231105</td>\n",
       "      <td>{'type': 'Point', 'coordinates': (53.476882265...</td>\n",
       "    </tr>\n",
       "  </tbody>\n",
       "</table>\n",
       "</div>"
      ],
      "text/plain": [
       "    longitud   latitud                                                loc\n",
       "0  53.478252 -2.243174  {'type': 'Point', 'coordinates': (53.478251522...\n",
       "1  53.474795 -2.250546  {'type': 'Point', 'coordinates': (53.474794724...\n",
       "2  53.480065 -2.236555  {'type': 'Point', 'coordinates': (53.480065341...\n",
       "3  53.482042 -2.238930  {'type': 'Point', 'coordinates': (53.482042296...\n",
       "4  53.476882 -2.231105  {'type': 'Point', 'coordinates': (53.476882265..."
      ]
     },
     "execution_count": 155,
     "metadata": {},
     "output_type": "execute_result"
    }
   ],
   "source": [
    "gdf['loc']=gdf['loc'].apply(lambda x:shapely.geometry.mapping(x))\n",
    "gdf.head()"
   ]
  },
  {
   "cell_type": "code",
   "execution_count": 156,
   "id": "cfc574c7",
   "metadata": {},
   "outputs": [
    {
     "data": {
      "text/plain": [
       "'loc_2dsphere'"
      ]
     },
     "execution_count": 156,
     "metadata": {},
     "output_type": "execute_result"
    }
   ],
   "source": [
    "client=MongoClient('localhost',27017)\n",
    "db = client.Office_project\n",
    "collection = db.Transport\n",
    "collection.create_index([(\"loc\", GEOSPHERE)])"
   ]
  },
  {
   "cell_type": "code",
   "execution_count": 157,
   "id": "ae0bccaa",
   "metadata": {},
   "outputs": [],
   "source": [
    "data = gdf.to_dict(orient='records')\n",
    "collection.insert_many(data)\n",
    "client.close()"
   ]
  },
  {
   "cell_type": "markdown",
   "id": "c250600d",
   "metadata": {},
   "source": [
    "## Las Palmas"
   ]
  },
  {
   "cell_type": "markdown",
   "id": "3510ea65",
   "metadata": {},
   "source": [
    "### Airport"
   ]
  },
  {
   "cell_type": "code",
   "execution_count": 159,
   "id": "f2cc47fd",
   "metadata": {},
   "outputs": [
    {
     "data": {
      "text/html": [
       "<div>\n",
       "<style scoped>\n",
       "    .dataframe tbody tr th:only-of-type {\n",
       "        vertical-align: middle;\n",
       "    }\n",
       "\n",
       "    .dataframe tbody tr th {\n",
       "        vertical-align: top;\n",
       "    }\n",
       "\n",
       "    .dataframe thead th {\n",
       "        text-align: right;\n",
       "    }\n",
       "</style>\n",
       "<table border=\"1\" class=\"dataframe\">\n",
       "  <thead>\n",
       "    <tr style=\"text-align: right;\">\n",
       "      <th></th>\n",
       "      <th>latitud</th>\n",
       "      <th>longitud</th>\n",
       "    </tr>\n",
       "  </thead>\n",
       "  <tbody>\n",
       "    <tr>\n",
       "      <th>0</th>\n",
       "      <td>28.104074</td>\n",
       "      <td>-15.457926</td>\n",
       "    </tr>\n",
       "  </tbody>\n",
       "</table>\n",
       "</div>"
      ],
      "text/plain": [
       "     latitud   longitud\n",
       "0  28.104074 -15.457926"
      ]
     },
     "execution_count": 159,
     "metadata": {},
     "output_type": "execute_result"
    }
   ],
   "source": [
    "df=pd.read_csv(\"aiport_lp.csv\")\n",
    "df.head()"
   ]
  },
  {
   "cell_type": "code",
   "execution_count": 160,
   "id": "30016e3b",
   "metadata": {},
   "outputs": [],
   "source": [
    "gdf = geopandas.GeoDataFrame(df, geometry=geopandas.points_from_xy(df.latitud,\n",
    "                             df.longitud))\n",
    "gdf.columns=['longitud','latitud','loc']"
   ]
  },
  {
   "cell_type": "code",
   "execution_count": 161,
   "id": "badd520d",
   "metadata": {},
   "outputs": [
    {
     "data": {
      "text/html": [
       "<div>\n",
       "<style scoped>\n",
       "    .dataframe tbody tr th:only-of-type {\n",
       "        vertical-align: middle;\n",
       "    }\n",
       "\n",
       "    .dataframe tbody tr th {\n",
       "        vertical-align: top;\n",
       "    }\n",
       "\n",
       "    .dataframe thead th {\n",
       "        text-align: right;\n",
       "    }\n",
       "</style>\n",
       "<table border=\"1\" class=\"dataframe\">\n",
       "  <thead>\n",
       "    <tr style=\"text-align: right;\">\n",
       "      <th></th>\n",
       "      <th>longitud</th>\n",
       "      <th>latitud</th>\n",
       "      <th>loc</th>\n",
       "    </tr>\n",
       "  </thead>\n",
       "  <tbody>\n",
       "    <tr>\n",
       "      <th>0</th>\n",
       "      <td>28.104074</td>\n",
       "      <td>-15.457926</td>\n",
       "      <td>{'type': 'Point', 'coordinates': (28.104074, -...</td>\n",
       "    </tr>\n",
       "  </tbody>\n",
       "</table>\n",
       "</div>"
      ],
      "text/plain": [
       "    longitud    latitud                                                loc\n",
       "0  28.104074 -15.457926  {'type': 'Point', 'coordinates': (28.104074, -..."
      ]
     },
     "execution_count": 161,
     "metadata": {},
     "output_type": "execute_result"
    }
   ],
   "source": [
    "gdf['loc']=gdf['loc'].apply(lambda x:shapely.geometry.mapping(x))\n",
    "gdf.head()"
   ]
  },
  {
   "cell_type": "code",
   "execution_count": 162,
   "id": "04d69da5",
   "metadata": {},
   "outputs": [
    {
     "data": {
      "text/plain": [
       "'loc_2dsphere'"
      ]
     },
     "execution_count": 162,
     "metadata": {},
     "output_type": "execute_result"
    }
   ],
   "source": [
    "client=MongoClient('localhost',27017)\n",
    "db = client.Office_project\n",
    "collection = db.Transport\n",
    "collection.create_index([(\"loc\", GEOSPHERE)])"
   ]
  },
  {
   "cell_type": "code",
   "execution_count": 163,
   "id": "1128bbd1",
   "metadata": {},
   "outputs": [],
   "source": [
    "data = gdf.to_dict(orient='records')\n",
    "collection.insert_many(data)\n",
    "client.close()"
   ]
  },
  {
   "cell_type": "markdown",
   "id": "5e645fb9",
   "metadata": {},
   "source": [
    "### Bus"
   ]
  },
  {
   "cell_type": "code",
   "execution_count": 164,
   "id": "d9933356",
   "metadata": {},
   "outputs": [
    {
     "data": {
      "text/html": [
       "<div>\n",
       "<style scoped>\n",
       "    .dataframe tbody tr th:only-of-type {\n",
       "        vertical-align: middle;\n",
       "    }\n",
       "\n",
       "    .dataframe tbody tr th {\n",
       "        vertical-align: top;\n",
       "    }\n",
       "\n",
       "    .dataframe thead th {\n",
       "        text-align: right;\n",
       "    }\n",
       "</style>\n",
       "<table border=\"1\" class=\"dataframe\">\n",
       "  <thead>\n",
       "    <tr style=\"text-align: right;\">\n",
       "      <th></th>\n",
       "      <th>latitud</th>\n",
       "      <th>longitud</th>\n",
       "    </tr>\n",
       "  </thead>\n",
       "  <tbody>\n",
       "    <tr>\n",
       "      <th>0</th>\n",
       "      <td>28.132637</td>\n",
       "      <td>-15.429829</td>\n",
       "    </tr>\n",
       "    <tr>\n",
       "      <th>1</th>\n",
       "      <td>28.109697</td>\n",
       "      <td>-15.417176</td>\n",
       "    </tr>\n",
       "    <tr>\n",
       "      <th>2</th>\n",
       "      <td>28.108736</td>\n",
       "      <td>-15.415694</td>\n",
       "    </tr>\n",
       "    <tr>\n",
       "      <th>3</th>\n",
       "      <td>28.108745</td>\n",
       "      <td>-15.415895</td>\n",
       "    </tr>\n",
       "  </tbody>\n",
       "</table>\n",
       "</div>"
      ],
      "text/plain": [
       "     latitud   longitud\n",
       "0  28.132637 -15.429829\n",
       "1  28.109697 -15.417176\n",
       "2  28.108736 -15.415694\n",
       "3  28.108745 -15.415895"
      ]
     },
     "execution_count": 164,
     "metadata": {},
     "output_type": "execute_result"
    }
   ],
   "source": [
    "df=pd.read_csv(\"bus_lp.csv\")\n",
    "df.head()"
   ]
  },
  {
   "cell_type": "code",
   "execution_count": 165,
   "id": "a664a4f1",
   "metadata": {},
   "outputs": [],
   "source": [
    "gdf = geopandas.GeoDataFrame(df, geometry=geopandas.points_from_xy(df.latitud,\n",
    "                             df.longitud))\n",
    "gdf.columns=['longitud','latitud','loc']"
   ]
  },
  {
   "cell_type": "code",
   "execution_count": 166,
   "id": "dbcf0c5b",
   "metadata": {},
   "outputs": [
    {
     "data": {
      "text/html": [
       "<div>\n",
       "<style scoped>\n",
       "    .dataframe tbody tr th:only-of-type {\n",
       "        vertical-align: middle;\n",
       "    }\n",
       "\n",
       "    .dataframe tbody tr th {\n",
       "        vertical-align: top;\n",
       "    }\n",
       "\n",
       "    .dataframe thead th {\n",
       "        text-align: right;\n",
       "    }\n",
       "</style>\n",
       "<table border=\"1\" class=\"dataframe\">\n",
       "  <thead>\n",
       "    <tr style=\"text-align: right;\">\n",
       "      <th></th>\n",
       "      <th>longitud</th>\n",
       "      <th>latitud</th>\n",
       "      <th>loc</th>\n",
       "    </tr>\n",
       "  </thead>\n",
       "  <tbody>\n",
       "    <tr>\n",
       "      <th>0</th>\n",
       "      <td>28.132637</td>\n",
       "      <td>-15.429829</td>\n",
       "      <td>{'type': 'Point', 'coordinates': (28.132636926...</td>\n",
       "    </tr>\n",
       "    <tr>\n",
       "      <th>1</th>\n",
       "      <td>28.109697</td>\n",
       "      <td>-15.417176</td>\n",
       "      <td>{'type': 'Point', 'coordinates': (28.109696986...</td>\n",
       "    </tr>\n",
       "    <tr>\n",
       "      <th>2</th>\n",
       "      <td>28.108736</td>\n",
       "      <td>-15.415694</td>\n",
       "      <td>{'type': 'Point', 'coordinates': (28.108735573...</td>\n",
       "    </tr>\n",
       "    <tr>\n",
       "      <th>3</th>\n",
       "      <td>28.108745</td>\n",
       "      <td>-15.415895</td>\n",
       "      <td>{'type': 'Point', 'coordinates': (28.108744989...</td>\n",
       "    </tr>\n",
       "  </tbody>\n",
       "</table>\n",
       "</div>"
      ],
      "text/plain": [
       "    longitud    latitud                                                loc\n",
       "0  28.132637 -15.429829  {'type': 'Point', 'coordinates': (28.132636926...\n",
       "1  28.109697 -15.417176  {'type': 'Point', 'coordinates': (28.109696986...\n",
       "2  28.108736 -15.415694  {'type': 'Point', 'coordinates': (28.108735573...\n",
       "3  28.108745 -15.415895  {'type': 'Point', 'coordinates': (28.108744989..."
      ]
     },
     "execution_count": 166,
     "metadata": {},
     "output_type": "execute_result"
    }
   ],
   "source": [
    "gdf['loc']=gdf['loc'].apply(lambda x:shapely.geometry.mapping(x))\n",
    "gdf.head()"
   ]
  },
  {
   "cell_type": "code",
   "execution_count": 167,
   "id": "e7a2ff23",
   "metadata": {},
   "outputs": [
    {
     "data": {
      "text/plain": [
       "'loc_2dsphere'"
      ]
     },
     "execution_count": 167,
     "metadata": {},
     "output_type": "execute_result"
    }
   ],
   "source": [
    "client=MongoClient('localhost',27017)\n",
    "db = client.Office_project\n",
    "collection = db.Transport\n",
    "collection.create_index([(\"loc\", GEOSPHERE)])"
   ]
  },
  {
   "cell_type": "code",
   "execution_count": 168,
   "id": "889fd586",
   "metadata": {},
   "outputs": [],
   "source": [
    "data = gdf.to_dict(orient='records')\n",
    "collection.insert_many(data)\n",
    "client.close()"
   ]
  },
  {
   "cell_type": "code",
   "execution_count": null,
   "id": "38e4cbf1",
   "metadata": {},
   "outputs": [],
   "source": []
  }
 ],
 "metadata": {
  "kernelspec": {
   "display_name": "Python 3 (ipykernel)",
   "language": "python",
   "name": "python3"
  },
  "language_info": {
   "codemirror_mode": {
    "name": "ipython",
    "version": 3
   },
   "file_extension": ".py",
   "mimetype": "text/x-python",
   "name": "python",
   "nbconvert_exporter": "python",
   "pygments_lexer": "ipython3",
   "version": "3.8.10"
  }
 },
 "nbformat": 4,
 "nbformat_minor": 5
}

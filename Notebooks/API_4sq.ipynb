{
 "cells": [
  {
   "cell_type": "code",
   "execution_count": null,
   "id": "f17fbdf5",
   "metadata": {},
   "outputs": [],
   "source": [
    "import requests\n",
    "import json\n",
    "from dotenv import load_dotenv\n",
    "import os\n",
    "import pandas as pd"
   ]
  },
  {
   "cell_type": "code",
   "execution_count": null,
   "id": "e68891d1",
   "metadata": {},
   "outputs": [],
   "source": [
    "from functools import reduce\n",
    "import operator"
   ]
  },
  {
   "cell_type": "code",
   "execution_count": null,
   "id": "cf854016",
   "metadata": {},
   "outputs": [],
   "source": [
    "load_dotenv()"
   ]
  },
  {
   "cell_type": "code",
   "execution_count": null,
   "id": "f32e4742",
   "metadata": {},
   "outputs": [],
   "source": [
    "client_id = os.getenv(\"client_id\")\n",
    "client_secret = os.getenv(\"secret_id\")"
   ]
  },
  {
   "cell_type": "code",
   "execution_count": null,
   "id": "10c7a1c0",
   "metadata": {},
   "outputs": [],
   "source": [
    "url_query ='https://api.foursquare.com/v2/venues/explore' "
   ]
  },
  {
   "cell_type": "code",
   "execution_count": null,
   "id": "d1a7de8e",
   "metadata": {},
   "outputs": [],
   "source": [
    "def getFromDict(diccionario, mapa):\n",
    "    return reduce(operator.getitem,mapa,diccionario)"
   ]
  },
  {
   "cell_type": "code",
   "execution_count": null,
   "id": "5c9b01b2",
   "metadata": {},
   "outputs": [],
   "source": [
    "def type_point(lista):\n",
    "    return {\"type\": \"Point\", \n",
    "            \"coordinates\": lista }"
   ]
  },
  {
   "cell_type": "markdown",
   "id": "2da86607",
   "metadata": {},
   "source": [
    "## Dublin"
   ]
  },
  {
   "cell_type": "markdown",
   "id": "cd6e7f79",
   "metadata": {},
   "source": [
    "### Starbucks"
   ]
  },
  {
   "cell_type": "code",
   "execution_count": null,
   "id": "ac6c4610",
   "metadata": {},
   "outputs": [],
   "source": [
    "Dublin = [53.33925763762811, -6.234433274297044]\n"
   ]
  },
  {
   "cell_type": "code",
   "execution_count": null,
   "id": "484d49c0",
   "metadata": {},
   "outputs": [],
   "source": [
    "parametros_dub = {\n",
    "    \"client_id\": client_id,\n",
    "    \"client_secret\": client_secret,\n",
    "    \"v\": \"20180323\",\n",
    "    \"ll\": f\"{Dublin[0]}, {Dublin[1]}\",\n",
    "    \"query\": \"Starbucks\",\n",
    "    \"limit\": 50   \n",
    "}\n"
   ]
  },
  {
   "cell_type": "code",
   "execution_count": null,
   "id": "adba07fa",
   "metadata": {},
   "outputs": [],
   "source": [
    "resp = requests.get(url_query, params=parametros_dub).json()"
   ]
  },
  {
   "cell_type": "code",
   "execution_count": null,
   "id": "475b0b74",
   "metadata": {},
   "outputs": [],
   "source": [
    "#resp"
   ]
  },
  {
   "cell_type": "code",
   "execution_count": null,
   "id": "e1f8099a",
   "metadata": {},
   "outputs": [],
   "source": [
    "resp.keys()"
   ]
  },
  {
   "cell_type": "code",
   "execution_count": null,
   "id": "acc2f9d1",
   "metadata": {},
   "outputs": [],
   "source": [
    "data_dub= resp[\"response\"][\"groups\"][0][\"items\"]"
   ]
  },
  {
   "cell_type": "code",
   "execution_count": null,
   "id": "1a1e2add",
   "metadata": {},
   "outputs": [],
   "source": [
    "data_dub[0][\"venue\"]"
   ]
  },
  {
   "cell_type": "code",
   "execution_count": null,
   "id": "f8940a2c",
   "metadata": {},
   "outputs": [],
   "source": [
    "map_name = [\"response\",\"groups\",[0],\"items\",\"venue\", \"name\"]\n",
    "map_latitud = [\"response\",\"groups\",[0],\"items\",\"venue\", \"location\", \"lat\"]\n",
    "map_longitud = [\"response\",\"groups\",[0],\"items\",\"venue\", \"location\", \"lng\"]\n"
   ]
  },
  {
   "cell_type": "code",
   "execution_count": null,
   "id": "84555cb8",
   "metadata": {},
   "outputs": [],
   "source": [
    "starbucks_json_dublin = []\n",
    "for dic in data_dub:\n",
    "    list_= {}\n",
    "    list_[\"latitud\"]= getFromDict(dic,map_latitud)\n",
    "    list_[\"longitud\"]= getFromDict(dic,map_longitud)\n",
    "    starbucks_json_dublin.append(list_)"
   ]
  },
  {
   "cell_type": "code",
   "execution_count": null,
   "id": "eba8e705",
   "metadata": {},
   "outputs": [],
   "source": [
    "starbucks_json_dublin[1]"
   ]
  },
  {
   "cell_type": "code",
   "execution_count": null,
   "id": "c96544dc",
   "metadata": {},
   "outputs": [],
   "source": [
    "with open('starbucks_dublin.json', 'w') as f:\n",
    "    json.dump(starbucks_json_dublin, f)"
   ]
  },
  {
   "cell_type": "markdown",
   "id": "3a489ddd",
   "metadata": {},
   "source": [
    "### Schools"
   ]
  },
  {
   "cell_type": "code",
   "execution_count": null,
   "id": "5379e68f",
   "metadata": {},
   "outputs": [],
   "source": [
    "parametros_dub_school = {\n",
    "    \"client_id\": client_id,\n",
    "    \"client_secret\": client_secret,\n",
    "    \"v\": \"20180323\",\n",
    "    \"ll\": f\"{Dublin[0]}, {Dublin[1]}\",\n",
    "    \"query\": \"school\",\n",
    "    \"limit\": 70   \n",
    "}"
   ]
  },
  {
   "cell_type": "code",
   "execution_count": null,
   "id": "85bee9a6",
   "metadata": {},
   "outputs": [],
   "source": [
    "resp = requests.get(url_query, params=parametros_dub_school).json()"
   ]
  },
  {
   "cell_type": "code",
   "execution_count": null,
   "id": "6dcf6ad1",
   "metadata": {},
   "outputs": [],
   "source": [
    "data_dub_school= resp[\"response\"][\"groups\"][0][\"items\"]"
   ]
  },
  {
   "cell_type": "code",
   "execution_count": null,
   "id": "84e03122",
   "metadata": {},
   "outputs": [],
   "source": [
    "data_dub_school[0][\"venue\"]"
   ]
  },
  {
   "cell_type": "code",
   "execution_count": null,
   "id": "7bbd2fc9",
   "metadata": {},
   "outputs": [],
   "source": [
    "len(data_dub_school)"
   ]
  },
  {
   "cell_type": "code",
   "execution_count": null,
   "id": "08df58ea",
   "metadata": {},
   "outputs": [],
   "source": [
    "schools_json_dublin = []\n",
    "for dic in data_dub_school:\n",
    "    list_= {}\n",
    "    list_[\"name\"]= getFromDict(dic,map_name)\n",
    "    list_[\"latitud\"]= getFromDict(dic,map_latitud)\n",
    "    list_[\"longitud\"]= getFromDict(dic,map_longitud)\n",
    "    list_[\"formattedAddress\"]= getFromDict(dic,map_address)\n",
    "    list_[\"location\"]=  type_point([list_[\"longitud\"],list_[\"latitud\"]])\n",
    "    schools_json_dublin.append(list_)"
   ]
  },
  {
   "cell_type": "code",
   "execution_count": null,
   "id": "28763883",
   "metadata": {},
   "outputs": [],
   "source": [
    "len(schools_json_dublin)"
   ]
  },
  {
   "cell_type": "code",
   "execution_count": null,
   "id": "cefbab82",
   "metadata": {},
   "outputs": [],
   "source": [
    "with open('schools_dublin.json', 'w') as f:\n",
    "    json.dump(schools_json_dublin, f)"
   ]
  },
  {
   "cell_type": "markdown",
   "id": "a972d48d",
   "metadata": {},
   "source": [
    "### Nursery"
   ]
  },
  {
   "cell_type": "code",
   "execution_count": null,
   "id": "c5808635",
   "metadata": {},
   "outputs": [],
   "source": [
    "parametros_dub_kin = {\n",
    "    \"client_id\": client_id,\n",
    "    \"client_secret\": client_secret,\n",
    "    \"v\": \"20180323\",\n",
    "    \"ll\": f\"{Dublin[0]}, {Dublin[1]}\",\n",
    "    \"query\": \"nursery\",\n",
    "    \"limit\": 70   \n",
    "}"
   ]
  },
  {
   "cell_type": "code",
   "execution_count": null,
   "id": "b0b8308a",
   "metadata": {},
   "outputs": [],
   "source": [
    "resp = requests.get(url_query, params=parametros_dub_kin).json()"
   ]
  },
  {
   "cell_type": "code",
   "execution_count": null,
   "id": "e2b4c50d",
   "metadata": {},
   "outputs": [],
   "source": [
    "data_dub_kind= resp[\"response\"][\"groups\"][0][\"items\"]"
   ]
  },
  {
   "cell_type": "code",
   "execution_count": null,
   "id": "28733a09",
   "metadata": {},
   "outputs": [],
   "source": [
    "data_dub_kind[3][\"venue\"]"
   ]
  },
  {
   "cell_type": "code",
   "execution_count": null,
   "id": "a6d6c90d",
   "metadata": {},
   "outputs": [],
   "source": [
    "len(data_dub_kind)"
   ]
  },
  {
   "cell_type": "code",
   "execution_count": null,
   "id": "6875cd32",
   "metadata": {},
   "outputs": [],
   "source": [
    "nurs_json_dublin = []\n",
    "for dic in data_dub_kind:\n",
    "    list_= {}\n",
    "    list_[\"latitud\"]= getFromDict(dic,map_latitud)\n",
    "    list_[\"longitud\"]= getFromDict(dic,map_longitud)\n",
    "    nurs_json_dublin.append(list_)"
   ]
  },
  {
   "cell_type": "code",
   "execution_count": null,
   "id": "03bb0e16",
   "metadata": {},
   "outputs": [],
   "source": [
    "len(nurs_json_dublin)"
   ]
  },
  {
   "cell_type": "code",
   "execution_count": null,
   "id": "17c638cb",
   "metadata": {},
   "outputs": [],
   "source": [
    "with open('nurs_dublin.json', 'w') as f:\n",
    "    json.dump(nurs_json_dublin, f)"
   ]
  },
  {
   "cell_type": "markdown",
   "id": "d19523ad",
   "metadata": {},
   "source": [
    "### Tech"
   ]
  },
  {
   "cell_type": "code",
   "execution_count": null,
   "id": "96feb844",
   "metadata": {},
   "outputs": [],
   "source": [
    "parametros_dub = {\n",
    "    \"client_id\": client_id,\n",
    "    \"client_secret\": client_secret,\n",
    "    \"v\": \"20180323\",\n",
    "    \"ll\": f\"{Dublin[0]}, {Dublin[1]}\",\n",
    "    \"query\": \"tech\",\n",
    "    \"limit\": 50   \n",
    "}"
   ]
  },
  {
   "cell_type": "code",
   "execution_count": null,
   "id": "94a87e6d",
   "metadata": {},
   "outputs": [],
   "source": [
    "resp = requests.get(url_query, params=parametros_dub).json()"
   ]
  },
  {
   "cell_type": "code",
   "execution_count": null,
   "id": "a89922c2",
   "metadata": {},
   "outputs": [],
   "source": [
    "data_dub_tech= resp[\"response\"][\"groups\"][0][\"items\"]"
   ]
  },
  {
   "cell_type": "code",
   "execution_count": null,
   "id": "4a4c818d",
   "metadata": {},
   "outputs": [],
   "source": [
    "len(data_dub_tech)"
   ]
  },
  {
   "cell_type": "code",
   "execution_count": null,
   "id": "2aa6484c",
   "metadata": {},
   "outputs": [],
   "source": [
    "data_dub_tech[4][\"venue\"]"
   ]
  },
  {
   "cell_type": "code",
   "execution_count": null,
   "id": "421c4bb9",
   "metadata": {},
   "outputs": [],
   "source": [
    "tech_json_dub = []\n",
    "for dic in data_dub_tech:\n",
    "    list_= {}\n",
    "    list_[\"latitud\"]= getFromDict(dic,map_latitud)\n",
    "    list_[\"longitud\"]= getFromDict(dic,map_longitud)\n",
    "    tech_json_dub.append(list_)"
   ]
  },
  {
   "cell_type": "code",
   "execution_count": null,
   "id": "b753bf34",
   "metadata": {},
   "outputs": [],
   "source": [
    "len(tech_json_dub)"
   ]
  },
  {
   "cell_type": "code",
   "execution_count": null,
   "id": "8d3d5377",
   "metadata": {},
   "outputs": [],
   "source": [
    "with open('tech_dub.json', 'w') as f:\n",
    "    json.dump(tech_json_dub, f)"
   ]
  },
  {
   "cell_type": "markdown",
   "id": "383fa978",
   "metadata": {},
   "source": [
    "### Train Station"
   ]
  },
  {
   "cell_type": "code",
   "execution_count": null,
   "id": "f2226a53",
   "metadata": {},
   "outputs": [],
   "source": [
    "parametros_dub = {\n",
    "    \"client_id\": client_id,\n",
    "    \"client_secret\": client_secret,\n",
    "    \"v\": \"20180323\",\n",
    "    \"ll\": f\"{Dublin[0]}, {Dublin[1]}\",\n",
    "    \"query\": \"train\",\n",
    "    \"limit\": 50   \n",
    "}"
   ]
  },
  {
   "cell_type": "code",
   "execution_count": null,
   "id": "7396774b",
   "metadata": {},
   "outputs": [],
   "source": [
    "resp = requests.get(url_query, params=parametros_dub).json()"
   ]
  },
  {
   "cell_type": "code",
   "execution_count": null,
   "id": "a68b8f1e",
   "metadata": {},
   "outputs": [],
   "source": [
    "data_dub_train= resp[\"response\"][\"groups\"][0][\"items\"]"
   ]
  },
  {
   "cell_type": "code",
   "execution_count": null,
   "id": "937ae5b8",
   "metadata": {},
   "outputs": [],
   "source": [
    "len(data_dub_train)"
   ]
  },
  {
   "cell_type": "code",
   "execution_count": null,
   "id": "8ceb079d",
   "metadata": {},
   "outputs": [],
   "source": [
    "data_dub_train[19][\"venue\"]"
   ]
  },
  {
   "cell_type": "code",
   "execution_count": null,
   "id": "7f38af0e",
   "metadata": {},
   "outputs": [],
   "source": [
    "train_json_dub = []\n",
    "for dic in data_dub_train:\n",
    "    list_= {}\n",
    "    list_[\"latitud\"]= getFromDict(dic,map_latitud)\n",
    "    list_[\"longitud\"]= getFromDict(dic,map_longitud)\n",
    "    train_json_dub.append(list_)"
   ]
  },
  {
   "cell_type": "code",
   "execution_count": null,
   "id": "38236c3c",
   "metadata": {},
   "outputs": [],
   "source": [
    "len(train_json_dub)"
   ]
  },
  {
   "cell_type": "code",
   "execution_count": null,
   "id": "7d226408",
   "metadata": {},
   "outputs": [],
   "source": [
    "with open('train_dub.json', 'w') as f:\n",
    "    json.dump(train_json_dub, f)"
   ]
  },
  {
   "cell_type": "markdown",
   "id": "7ca1ae51",
   "metadata": {},
   "source": [
    "### Airport"
   ]
  },
  {
   "cell_type": "code",
   "execution_count": null,
   "id": "fd3f9ef9",
   "metadata": {},
   "outputs": [],
   "source": [
    "parametros_dub = {\n",
    "    \"client_id\": client_id,\n",
    "    \"client_secret\": client_secret,\n",
    "    \"v\": \"20180323\",\n",
    "    \"ll\": f\"{Dublin[0]}, {Dublin[1]}\",\n",
    "    \"query\": \"aeropuerto\",\n",
    "    \"limit\": 50   \n",
    "}"
   ]
  },
  {
   "cell_type": "code",
   "execution_count": null,
   "id": "8bf406a0",
   "metadata": {},
   "outputs": [],
   "source": [
    "resp = requests.get(url_query, params=parametros_dub).json()"
   ]
  },
  {
   "cell_type": "code",
   "execution_count": null,
   "id": "32f0d7c9",
   "metadata": {},
   "outputs": [],
   "source": [
    "x = resp[\"response\"][\"groups\"][0][\"items\"]"
   ]
  },
  {
   "cell_type": "code",
   "execution_count": null,
   "id": "09eebd01",
   "metadata": {},
   "outputs": [],
   "source": [
    "x[0]"
   ]
  },
  {
   "cell_type": "code",
   "execution_count": null,
   "id": "dcfb0dcc",
   "metadata": {},
   "outputs": [],
   "source": [
    "len(x)"
   ]
  },
  {
   "cell_type": "code",
   "execution_count": null,
   "id": "31ed15c9",
   "metadata": {},
   "outputs": [],
   "source": [
    "x[0][\"venue\"]"
   ]
  },
  {
   "cell_type": "code",
   "execution_count": null,
   "id": "eaeeb28e",
   "metadata": {},
   "outputs": [],
   "source": [
    "aero_json_dub = []\n",
    "for dic in x:\n",
    "    list_= {}\n",
    "    list_[\"latitud\"]= getFromDict(dic,map_latitud)\n",
    "    list_[\"longitud\"]= getFromDict(dic,map_longitud)\n",
    "    aero_json_dub.append(list_)"
   ]
  },
  {
   "cell_type": "code",
   "execution_count": null,
   "id": "add72534",
   "metadata": {},
   "outputs": [],
   "source": [
    "aero_json_dub[0]"
   ]
  },
  {
   "cell_type": "code",
   "execution_count": null,
   "id": "922de7bc",
   "metadata": {},
   "outputs": [],
   "source": [
    "with open('aero_dub.json', 'w') as f:\n",
    "    json.dump(aero_json_dub[0], f)"
   ]
  },
  {
   "cell_type": "markdown",
   "id": "5635334b",
   "metadata": {},
   "source": [
    "### Tram"
   ]
  },
  {
   "cell_type": "code",
   "execution_count": null,
   "id": "465d1e7d",
   "metadata": {},
   "outputs": [],
   "source": [
    "parametros_dub = {\n",
    "    \"client_id\": client_id,\n",
    "    \"client_secret\": client_secret,\n",
    "    \"v\": \"20180323\",\n",
    "    \"ll\": f\"{Dublin[0]}, {Dublin[1]}\",\n",
    "    \"query\": \"tram\",\n",
    "    \"limit\": 50   \n",
    "}"
   ]
  },
  {
   "cell_type": "code",
   "execution_count": null,
   "id": "554699a2",
   "metadata": {},
   "outputs": [],
   "source": [
    "resp = requests.get(url_query, params=parametros_dub).json()"
   ]
  },
  {
   "cell_type": "code",
   "execution_count": null,
   "id": "b7f7e153",
   "metadata": {},
   "outputs": [],
   "source": [
    "data_dub_tram= resp[\"response\"][\"groups\"][0][\"items\"]"
   ]
  },
  {
   "cell_type": "code",
   "execution_count": null,
   "id": "6b108e44",
   "metadata": {},
   "outputs": [],
   "source": [
    "len(data_dub_tram)"
   ]
  },
  {
   "cell_type": "code",
   "execution_count": null,
   "id": "e0afbb23",
   "metadata": {},
   "outputs": [],
   "source": [
    "data_dub_tram[2][\"venue\"]"
   ]
  },
  {
   "cell_type": "code",
   "execution_count": null,
   "id": "6516eac7",
   "metadata": {},
   "outputs": [],
   "source": [
    "tram_json_dub = []\n",
    "for dic in data_dub_tram:\n",
    "    list_= {}\n",
    "    list_[\"latitud\"]= getFromDict(dic,map_latitud)\n",
    "    list_[\"longitud\"]= getFromDict(dic,map_longitud)\n",
    "    tram_json_dub.append(list_)"
   ]
  },
  {
   "cell_type": "code",
   "execution_count": null,
   "id": "962143d1",
   "metadata": {},
   "outputs": [],
   "source": [
    "with open('tram_dub.json', 'w') as f:\n",
    "    json.dump(tram_json_dub, f)"
   ]
  },
  {
   "cell_type": "markdown",
   "id": "7f53b8df",
   "metadata": {},
   "source": [
    "## Manchester"
   ]
  },
  {
   "cell_type": "markdown",
   "id": "a59157b1",
   "metadata": {},
   "source": [
    "### Starbucks"
   ]
  },
  {
   "cell_type": "code",
   "execution_count": null,
   "id": "78c87459",
   "metadata": {},
   "outputs": [],
   "source": [
    "Manchester = [53.476555291009824, -2.245396280521493]\n"
   ]
  },
  {
   "cell_type": "code",
   "execution_count": null,
   "id": "df94442d",
   "metadata": {},
   "outputs": [],
   "source": [
    "parametros_man = {\n",
    "    \"client_id\": client_id,\n",
    "    \"client_secret\": client_secret,\n",
    "    \"v\": \"20180323\",\n",
    "    \"ll\": f\"{Manchester[0]}, {Manchester[1]}\",\n",
    "    \"query\": \"Starbucks\",\n",
    "    \"limit\": 100   \n",
    "}\n"
   ]
  },
  {
   "cell_type": "code",
   "execution_count": null,
   "id": "4ed2a852",
   "metadata": {},
   "outputs": [],
   "source": [
    "resp = requests.get(url_query, params=parametros_man).json()"
   ]
  },
  {
   "cell_type": "code",
   "execution_count": null,
   "id": "078238c4",
   "metadata": {},
   "outputs": [],
   "source": [
    "data_man= resp[\"response\"][\"groups\"][0][\"items\"]"
   ]
  },
  {
   "cell_type": "code",
   "execution_count": null,
   "id": "1310863d",
   "metadata": {},
   "outputs": [],
   "source": [
    "len(data_man)"
   ]
  },
  {
   "cell_type": "code",
   "execution_count": null,
   "id": "7636e44b",
   "metadata": {},
   "outputs": [],
   "source": [
    "data_man[0][\"venue\"]"
   ]
  },
  {
   "cell_type": "code",
   "execution_count": null,
   "id": "9d551810",
   "metadata": {},
   "outputs": [],
   "source": [
    "starbucks_json_man = []\n",
    "for dic in data_man:\n",
    "    list_= {}\n",
    "    list_[\"latitud\"]= getFromDict(dic,map_latitud)\n",
    "    list_[\"longitud\"]= getFromDict(dic,map_longitud)\n",
    "    starbucks_json_man.append(list_)"
   ]
  },
  {
   "cell_type": "code",
   "execution_count": null,
   "id": "635d2eb0",
   "metadata": {},
   "outputs": [],
   "source": [
    "len(starbucks_json_man)"
   ]
  },
  {
   "cell_type": "code",
   "execution_count": null,
   "id": "55bedf29",
   "metadata": {},
   "outputs": [],
   "source": [
    "with open('starbucks_man.json', 'w') as f:\n",
    "    json.dump(starbucks_json_man, f)"
   ]
  },
  {
   "cell_type": "markdown",
   "id": "2b8db9a3",
   "metadata": {},
   "source": [
    "### Schools"
   ]
  },
  {
   "cell_type": "code",
   "execution_count": null,
   "id": "5428c93e",
   "metadata": {},
   "outputs": [],
   "source": [
    "parametros_man_school = {\n",
    "    \"client_id\": client_id,\n",
    "    \"client_secret\": client_secret,\n",
    "    \"v\": \"20180323\",\n",
    "    \"ll\": f\"{Manchester[0]}, {Manchester[1]}\",\n",
    "    \"query\": \"school\",\n",
    "    \"limit\": 70   \n",
    "}"
   ]
  },
  {
   "cell_type": "code",
   "execution_count": null,
   "id": "5e291ac3",
   "metadata": {},
   "outputs": [],
   "source": [
    "resp = requests.get(url_query, params=parametros_man_school).json()"
   ]
  },
  {
   "cell_type": "code",
   "execution_count": null,
   "id": "53a13a20",
   "metadata": {},
   "outputs": [],
   "source": [
    "data_man_school= resp[\"response\"][\"groups\"][0][\"items\"]"
   ]
  },
  {
   "cell_type": "code",
   "execution_count": null,
   "id": "a2f89870",
   "metadata": {},
   "outputs": [],
   "source": [
    "len(data_man_school)"
   ]
  },
  {
   "cell_type": "code",
   "execution_count": null,
   "id": "35e7cf15",
   "metadata": {},
   "outputs": [],
   "source": [
    "data_man_school[0][\"venue\"]"
   ]
  },
  {
   "cell_type": "code",
   "execution_count": null,
   "id": "b821f8aa",
   "metadata": {},
   "outputs": [],
   "source": [
    "school_json_man = []\n",
    "for dic in data_man_school:\n",
    "    list_= {}\n",
    "    list_[\"latitud\"]= getFromDict(dic,map_latitud)\n",
    "    list_[\"longitud\"]= getFromDict(dic,map_longitud)\n",
    "    school_json_man.append(list_)"
   ]
  },
  {
   "cell_type": "code",
   "execution_count": null,
   "id": "2407aaa6",
   "metadata": {},
   "outputs": [],
   "source": [
    "len(school_json_man)"
   ]
  },
  {
   "cell_type": "code",
   "execution_count": null,
   "id": "bc896e14",
   "metadata": {},
   "outputs": [],
   "source": [
    "with open('school_man.json', 'w') as f:\n",
    "    json.dump(school_json_man, f)"
   ]
  },
  {
   "cell_type": "markdown",
   "id": "69837617",
   "metadata": {},
   "source": [
    "### Nursery"
   ]
  },
  {
   "cell_type": "code",
   "execution_count": null,
   "id": "262aae15",
   "metadata": {},
   "outputs": [],
   "source": [
    "parametros_man_nurs = {\n",
    "    \"client_id\": client_id,\n",
    "    \"client_secret\": client_secret,\n",
    "    \"v\": \"20180323\",\n",
    "    \"ll\": f\"{Manchester[0]}, {Manchester[1]}\",\n",
    "    \"query\": \"nursery\",\n",
    "    \"limit\": 70   \n",
    "}"
   ]
  },
  {
   "cell_type": "code",
   "execution_count": null,
   "id": "75cc4a3d",
   "metadata": {},
   "outputs": [],
   "source": [
    "resp = requests.get(url_query, params=parametros_man_nurs).json()"
   ]
  },
  {
   "cell_type": "code",
   "execution_count": null,
   "id": "8f042492",
   "metadata": {},
   "outputs": [],
   "source": [
    "data_man_nurs= resp[\"response\"][\"groups\"][0][\"items\"]"
   ]
  },
  {
   "cell_type": "code",
   "execution_count": null,
   "id": "b59671b2",
   "metadata": {},
   "outputs": [],
   "source": [
    "len(data_man_nurs)"
   ]
  },
  {
   "cell_type": "code",
   "execution_count": null,
   "id": "cf1bd123",
   "metadata": {},
   "outputs": [],
   "source": [
    "data_man_nurs[0][\"venue\"]"
   ]
  },
  {
   "cell_type": "code",
   "execution_count": null,
   "id": "b03df547",
   "metadata": {},
   "outputs": [],
   "source": [
    "nurs_json_man = []\n",
    "for dic in data_man_nurs:\n",
    "    list_= {}\n",
    "    list_[\"latitud\"]= getFromDict(dic,map_latitud)\n",
    "    list_[\"longitud\"]= getFromDict(dic,map_longitud)\n",
    "    nurs_json_man.append(list_)"
   ]
  },
  {
   "cell_type": "code",
   "execution_count": null,
   "id": "46595aaf",
   "metadata": {},
   "outputs": [],
   "source": [
    "len(nurs_json_man)"
   ]
  },
  {
   "cell_type": "code",
   "execution_count": null,
   "id": "1873d563",
   "metadata": {},
   "outputs": [],
   "source": [
    "with open('nurs_man.json', 'w') as f:\n",
    "    json.dump(nurs_json_man, f)"
   ]
  },
  {
   "cell_type": "markdown",
   "id": "a7cff59a",
   "metadata": {},
   "source": [
    "### Tech"
   ]
  },
  {
   "cell_type": "code",
   "execution_count": null,
   "id": "95f05b25",
   "metadata": {},
   "outputs": [],
   "source": [
    "parametros_man_tech = {\n",
    "    \"client_id\": client_id,\n",
    "    \"client_secret\": client_secret,\n",
    "    \"v\": \"20180323\",\n",
    "    \"ll\": f\"{Manchester[0]}, {Manchester[1]}\",\n",
    "    \"query\": \"tech\",\n",
    "    \"limit\": 70   \n",
    "}"
   ]
  },
  {
   "cell_type": "code",
   "execution_count": null,
   "id": "eed53f85",
   "metadata": {},
   "outputs": [],
   "source": [
    "resp = requests.get(url_query, params=parametros_man_tech).json()"
   ]
  },
  {
   "cell_type": "code",
   "execution_count": null,
   "id": "9b0d1c74",
   "metadata": {},
   "outputs": [],
   "source": [
    "data_man_tech= resp[\"response\"][\"groups\"][0][\"items\"]"
   ]
  },
  {
   "cell_type": "code",
   "execution_count": null,
   "id": "e475d028",
   "metadata": {},
   "outputs": [],
   "source": [
    "len(data_man_tech)"
   ]
  },
  {
   "cell_type": "code",
   "execution_count": null,
   "id": "f20c3eea",
   "metadata": {},
   "outputs": [],
   "source": [
    "data_man_tech[0][\"venue\"]"
   ]
  },
  {
   "cell_type": "code",
   "execution_count": null,
   "id": "4cbe00e6",
   "metadata": {},
   "outputs": [],
   "source": [
    "tech_json_man = []\n",
    "for dic in data_man_tech:\n",
    "    list_= {}\n",
    "    list_[\"latitud\"]= getFromDict(dic,map_latitud)\n",
    "    list_[\"longitud\"]= getFromDict(dic,map_longitud)\n",
    "    tech_json_man.append(list_)"
   ]
  },
  {
   "cell_type": "code",
   "execution_count": null,
   "id": "4eb1db2e",
   "metadata": {},
   "outputs": [],
   "source": [
    "len(tech_json_man)"
   ]
  },
  {
   "cell_type": "code",
   "execution_count": null,
   "id": "0fbb66d6",
   "metadata": {},
   "outputs": [],
   "source": [
    "with open('tech_man.json', 'w') as f:\n",
    "    json.dump(tech_json_man, f)"
   ]
  },
  {
   "cell_type": "markdown",
   "id": "2c391221",
   "metadata": {},
   "source": [
    "### Train"
   ]
  },
  {
   "cell_type": "code",
   "execution_count": null,
   "id": "72ad6cad",
   "metadata": {},
   "outputs": [],
   "source": [
    "parametros_man_train = {\n",
    "    \"client_id\": client_id,\n",
    "    \"client_secret\": client_secret,\n",
    "    \"v\": \"20180323\",\n",
    "    \"ll\": f\"{Manchester[0]}, {Manchester[1]}\",\n",
    "    \"query\": \"train\",\n",
    "    \"limit\": 100   \n",
    "}"
   ]
  },
  {
   "cell_type": "code",
   "execution_count": null,
   "id": "24c91559",
   "metadata": {},
   "outputs": [],
   "source": [
    "resp = requests.get(url_query, params=parametros_man_train).json()"
   ]
  },
  {
   "cell_type": "code",
   "execution_count": null,
   "id": "6b3fe54d",
   "metadata": {},
   "outputs": [],
   "source": [
    "data_man_train= resp[\"response\"][\"groups\"][0][\"items\"]"
   ]
  },
  {
   "cell_type": "code",
   "execution_count": null,
   "id": "b91f7bb7",
   "metadata": {},
   "outputs": [],
   "source": [
    "len(data_man_train)"
   ]
  },
  {
   "cell_type": "code",
   "execution_count": null,
   "id": "7eeee387",
   "metadata": {},
   "outputs": [],
   "source": [
    "data_man_train[0][\"venue\"]"
   ]
  },
  {
   "cell_type": "code",
   "execution_count": null,
   "id": "2cb0fde8",
   "metadata": {},
   "outputs": [],
   "source": [
    "train_json_man = []\n",
    "for dic in data_man_train:\n",
    "    list_= {}\n",
    "    list_[\"latitud\"]= getFromDict(dic,map_latitud)\n",
    "    list_[\"longitud\"]= getFromDict(dic,map_longitud)\n",
    "    train_json_man.append(list_)"
   ]
  },
  {
   "cell_type": "code",
   "execution_count": null,
   "id": "6578bbcb",
   "metadata": {},
   "outputs": [],
   "source": [
    "len(train_json_man)"
   ]
  },
  {
   "cell_type": "code",
   "execution_count": null,
   "id": "7943ca28",
   "metadata": {},
   "outputs": [],
   "source": [
    "with open('train_man.json', 'w') as f:\n",
    "    json.dump(train_json_man, f)"
   ]
  },
  {
   "cell_type": "markdown",
   "id": "a66d1f8b",
   "metadata": {},
   "source": [
    "### Airport"
   ]
  },
  {
   "cell_type": "code",
   "execution_count": null,
   "id": "62acb1e6",
   "metadata": {},
   "outputs": [],
   "source": [
    "parametros_man_air = {\n",
    "    \"client_id\": client_id,\n",
    "    \"client_secret\": client_secret,\n",
    "    \"v\": \"20180323\",\n",
    "    \"ll\": f\"{Manchester[0]}, {Manchester[1]}\",\n",
    "    \"query\": \"airport\",\n",
    "    \"limit\": 5   \n",
    "}"
   ]
  },
  {
   "cell_type": "code",
   "execution_count": null,
   "id": "48a082f2",
   "metadata": {},
   "outputs": [],
   "source": [
    "resp = requests.get(url_query, params=parametros_man_air).json()"
   ]
  },
  {
   "cell_type": "code",
   "execution_count": null,
   "id": "54ed2a3e",
   "metadata": {},
   "outputs": [],
   "source": [
    "data_man_aero= resp[\"response\"][\"groups\"][0][\"items\"]"
   ]
  },
  {
   "cell_type": "code",
   "execution_count": null,
   "id": "cdeaa4f7",
   "metadata": {},
   "outputs": [],
   "source": [
    "len(data_man_aero)"
   ]
  },
  {
   "cell_type": "code",
   "execution_count": null,
   "id": "e20813fe",
   "metadata": {},
   "outputs": [],
   "source": [
    "data_man_aero[0][\"venue\"]"
   ]
  },
  {
   "cell_type": "code",
   "execution_count": null,
   "id": "6b951e83",
   "metadata": {},
   "outputs": [],
   "source": [
    "air_json_man = []\n",
    "for dic in data_man_aero:\n",
    "    list_= {}\n",
    "    list_[\"latitud\"]= getFromDict(dic,map_latitud)\n",
    "    list_[\"longitud\"]= getFromDict(dic,map_longitud)\n",
    "    air_json_man.append(list_)"
   ]
  },
  {
   "cell_type": "code",
   "execution_count": null,
   "id": "94617f52",
   "metadata": {},
   "outputs": [],
   "source": [
    "air_json_man"
   ]
  },
  {
   "cell_type": "code",
   "execution_count": null,
   "id": "5eecff2b",
   "metadata": {},
   "outputs": [],
   "source": [
    "with open('aero_man.json', 'w') as f:\n",
    "    json.dump(air_json_man[0], f)"
   ]
  },
  {
   "cell_type": "markdown",
   "id": "a881c13f",
   "metadata": {},
   "source": [
    "### Tram"
   ]
  },
  {
   "cell_type": "code",
   "execution_count": null,
   "id": "9bf783f8",
   "metadata": {},
   "outputs": [],
   "source": [
    "parametros_man_tram = {\n",
    "    \"client_id\": client_id,\n",
    "    \"client_secret\": client_secret,\n",
    "    \"v\": \"20180323\",\n",
    "    \"ll\": f\"{Manchester[0]}, {Manchester[1]}\",\n",
    "    \"query\": \"tram\",\n",
    "    \"limit\": 50  \n",
    "}"
   ]
  },
  {
   "cell_type": "code",
   "execution_count": null,
   "id": "2325fa68",
   "metadata": {},
   "outputs": [],
   "source": [
    "resp = requests.get(url_query, params=parametros_man_tram).json()"
   ]
  },
  {
   "cell_type": "code",
   "execution_count": null,
   "id": "c153f96e",
   "metadata": {},
   "outputs": [],
   "source": [
    "data_man_tram= resp[\"response\"][\"groups\"][0][\"items\"]"
   ]
  },
  {
   "cell_type": "code",
   "execution_count": null,
   "id": "8b44c8ca",
   "metadata": {},
   "outputs": [],
   "source": [
    "len(data_man_tram)"
   ]
  },
  {
   "cell_type": "code",
   "execution_count": null,
   "id": "d45d6ca2",
   "metadata": {},
   "outputs": [],
   "source": [
    "data_man_tram[0][\"venue\"]"
   ]
  },
  {
   "cell_type": "code",
   "execution_count": null,
   "id": "e3ae96c4",
   "metadata": {},
   "outputs": [],
   "source": [
    "tram_json_man = []\n",
    "for dic in data_man_tram:\n",
    "    list_= {}\n",
    "    list_[\"latitud\"]= getFromDict(dic,map_latitud)\n",
    "    list_[\"longitud\"]= getFromDict(dic,map_longitud)\n",
    "    tram_json_man.append(list_)"
   ]
  },
  {
   "cell_type": "code",
   "execution_count": null,
   "id": "26cf7099",
   "metadata": {},
   "outputs": [],
   "source": [
    "with open('tram_man.json', 'w') as f:\n",
    "    json.dump(tram_json_man, f)"
   ]
  },
  {
   "cell_type": "markdown",
   "id": "de06c262",
   "metadata": {},
   "source": [
    "## Las Palmas"
   ]
  },
  {
   "cell_type": "markdown",
   "id": "c8528a2e",
   "metadata": {},
   "source": [
    "### Starbucks"
   ]
  },
  {
   "cell_type": "code",
   "execution_count": null,
   "id": "183938e2",
   "metadata": {},
   "outputs": [],
   "source": [
    "Las_Palmas = [28.139050810737494, -15.431441251599868]"
   ]
  },
  {
   "cell_type": "code",
   "execution_count": null,
   "id": "ba4b3f15",
   "metadata": {},
   "outputs": [],
   "source": [
    "parametros_lp = {\n",
    "    \"client_id\": client_id,\n",
    "    \"client_secret\": client_secret,\n",
    "    \"v\": \"20180323\",\n",
    "    \"ll\": f\"{Las_Palmas[0]}, {Las_Palmas[1]}\",\n",
    "    \"query\": \"Starbucks\",\n",
    "    \"limit\": 100   \n",
    "}\n"
   ]
  },
  {
   "cell_type": "code",
   "execution_count": null,
   "id": "e48ecfa5",
   "metadata": {},
   "outputs": [],
   "source": [
    "resp = requests.get(url_query, params=parametros_lp).json()"
   ]
  },
  {
   "cell_type": "code",
   "execution_count": null,
   "id": "d5d71166",
   "metadata": {},
   "outputs": [],
   "source": [
    "data_lp= resp[\"response\"][\"groups\"][0][\"items\"]"
   ]
  },
  {
   "cell_type": "code",
   "execution_count": null,
   "id": "6eceefe0",
   "metadata": {},
   "outputs": [],
   "source": [
    "len(data_lp)"
   ]
  },
  {
   "cell_type": "code",
   "execution_count": null,
   "id": "be65ae03",
   "metadata": {},
   "outputs": [],
   "source": [
    "data_lp[0][\"venue\"]"
   ]
  },
  {
   "cell_type": "code",
   "execution_count": null,
   "id": "7f94121a",
   "metadata": {},
   "outputs": [],
   "source": [
    "starbucks_json_lp = []\n",
    "for dic in data_lp:\n",
    "    list_= {}\n",
    "    list_[\"latitud\"]= getFromDict(dic,map_latitud)\n",
    "    list_[\"longitud\"]= getFromDict(dic,map_longitud)\n",
    "    starbucks_json_lp.append(list_)"
   ]
  },
  {
   "cell_type": "code",
   "execution_count": null,
   "id": "4351b444",
   "metadata": {},
   "outputs": [],
   "source": [
    "with open('starbucks_lp.json', 'w') as f:\n",
    "    json.dump(starbucks_json_lp, f)"
   ]
  },
  {
   "cell_type": "code",
   "execution_count": null,
   "id": "27c771e9",
   "metadata": {},
   "outputs": [],
   "source": [
    "len(starbucks_json_lp )"
   ]
  },
  {
   "cell_type": "markdown",
   "id": "d6f75e21",
   "metadata": {},
   "source": [
    "### Schools"
   ]
  },
  {
   "cell_type": "code",
   "execution_count": null,
   "id": "4d39090a",
   "metadata": {},
   "outputs": [],
   "source": [
    "parametros_lp_school = {\n",
    "    \"client_id\": client_id,\n",
    "    \"client_secret\": client_secret,\n",
    "    \"v\": \"20180323\",\n",
    "    \"ll\": f\"{Las_Palmas[0]}, {Las_Palmas[1]}\",\n",
    "    \"query\": \"school\",\n",
    "    \"limit\": 70   \n",
    "}"
   ]
  },
  {
   "cell_type": "code",
   "execution_count": null,
   "id": "4bd0af92",
   "metadata": {},
   "outputs": [],
   "source": [
    "resp = requests.get(url_query, params=parametros_lp_school).json()"
   ]
  },
  {
   "cell_type": "code",
   "execution_count": null,
   "id": "6ba00a66",
   "metadata": {},
   "outputs": [],
   "source": [
    "data_lp_school= resp[\"response\"][\"groups\"][0][\"items\"]"
   ]
  },
  {
   "cell_type": "code",
   "execution_count": null,
   "id": "401d0640",
   "metadata": {},
   "outputs": [],
   "source": [
    "len(data_lp_school)"
   ]
  },
  {
   "cell_type": "code",
   "execution_count": null,
   "id": "b86d0c1f",
   "metadata": {},
   "outputs": [],
   "source": [
    "data_lp_school[8][\"venue\"]"
   ]
  },
  {
   "cell_type": "code",
   "execution_count": null,
   "id": "2c65704e",
   "metadata": {},
   "outputs": [],
   "source": [
    "school_json_lp = []\n",
    "for dic in data_lp_school:\n",
    "    list_= {}\n",
    "    list_[\"latitud\"]= getFromDict(dic,map_latitud)\n",
    "    list_[\"longitud\"]= getFromDict(dic,map_longitud)\n",
    "    school_json_lp.append(list_)"
   ]
  },
  {
   "cell_type": "code",
   "execution_count": null,
   "id": "991695f7",
   "metadata": {},
   "outputs": [],
   "source": [
    "len(school_json_lp)"
   ]
  },
  {
   "cell_type": "code",
   "execution_count": null,
   "id": "5429abb7",
   "metadata": {},
   "outputs": [],
   "source": [
    "with open('school_lp.json', 'w') as f:\n",
    "    json.dump(school_json_lp, f)"
   ]
  },
  {
   "cell_type": "markdown",
   "id": "5acb7053",
   "metadata": {},
   "source": [
    "### Nursery"
   ]
  },
  {
   "cell_type": "code",
   "execution_count": null,
   "id": "f29616ab",
   "metadata": {},
   "outputs": [],
   "source": [
    "parametros_lp_nurs = {\n",
    "    \"client_id\": client_id,\n",
    "    \"client_secret\": client_secret,\n",
    "    \"v\": \"20180323\",\n",
    "    \"ll\": f\"{Las_Palmas[0]}, {Las_Palmas[1]}\",\n",
    "    \"query\": \"4f4533804b9074f6e4fb0105\",\n",
    "    \"limit\": 70   \n",
    "}"
   ]
  },
  {
   "cell_type": "code",
   "execution_count": null,
   "id": "c7c44bad",
   "metadata": {},
   "outputs": [],
   "source": [
    "resp = requests.get(url_query, params=parametros_lp_nurs).json()"
   ]
  },
  {
   "cell_type": "code",
   "execution_count": null,
   "id": "4e759852",
   "metadata": {},
   "outputs": [],
   "source": [
    "data_lp_nurs= resp[\"response\"][\"groups\"][0][\"items\"]"
   ]
  },
  {
   "cell_type": "code",
   "execution_count": null,
   "id": "e3241e14",
   "metadata": {},
   "outputs": [],
   "source": [
    "len(data_lp_nurs)"
   ]
  },
  {
   "cell_type": "code",
   "execution_count": null,
   "id": "bec72635",
   "metadata": {},
   "outputs": [],
   "source": [
    "data_lp_nurs[3][\"venue\"]"
   ]
  },
  {
   "cell_type": "code",
   "execution_count": null,
   "id": "b8f46e15",
   "metadata": {},
   "outputs": [],
   "source": [
    "nurs_json_lp = []\n",
    "for dic in data_lp_nurs:\n",
    "    list_= {}\n",
    "    list_[\"latitud\"]= getFromDict(dic,map_latitud)\n",
    "    list_[\"longitud\"]= getFromDict(dic,map_longitud)\n",
    "    nurs_json_lp.append(list_)"
   ]
  },
  {
   "cell_type": "code",
   "execution_count": null,
   "id": "b97f973c",
   "metadata": {},
   "outputs": [],
   "source": [
    "len(nurs_json_lp)"
   ]
  },
  {
   "cell_type": "code",
   "execution_count": null,
   "id": "2a3a7846",
   "metadata": {},
   "outputs": [],
   "source": [
    "with open('nurs_lp.json', 'w') as f:\n",
    "    json.dump(nurs_json_lp, f)"
   ]
  },
  {
   "cell_type": "markdown",
   "id": "6a9e578a",
   "metadata": {},
   "source": [
    "### Tech"
   ]
  },
  {
   "cell_type": "code",
   "execution_count": null,
   "id": "fa258c8f",
   "metadata": {},
   "outputs": [],
   "source": [
    "parametros_lp_tech = {\n",
    "    \"client_id\": client_id,\n",
    "    \"client_secret\": client_secret,\n",
    "    \"v\": \"20180323\",\n",
    "    \"ll\": f\"{Las_Palmas[0]}, {Las_Palmas[1]}\",\n",
    "    \"query\": \"tech\",\n",
    "    \"limit\": 70   \n",
    "}"
   ]
  },
  {
   "cell_type": "code",
   "execution_count": null,
   "id": "c9395ed5",
   "metadata": {},
   "outputs": [],
   "source": [
    "resp = requests.get(url_query, params=parametros_lp_tech).json()"
   ]
  },
  {
   "cell_type": "code",
   "execution_count": null,
   "id": "290ac49f",
   "metadata": {},
   "outputs": [],
   "source": [
    "data_lp_tech= resp[\"response\"][\"groups\"][0][\"items\"]"
   ]
  },
  {
   "cell_type": "code",
   "execution_count": null,
   "id": "dfab7884",
   "metadata": {},
   "outputs": [],
   "source": [
    "len(data_lp_tech)"
   ]
  },
  {
   "cell_type": "code",
   "execution_count": null,
   "id": "183d0540",
   "metadata": {},
   "outputs": [],
   "source": [
    "data_lp_tech[3][\"venue\"]"
   ]
  },
  {
   "cell_type": "code",
   "execution_count": null,
   "id": "fa98c405",
   "metadata": {},
   "outputs": [],
   "source": [
    "tech_json_lp = []\n",
    "for dic in data_lp_tech:\n",
    "    list_= {}\n",
    "    list_[\"latitud\"]= getFromDict(dic,map_latitud)\n",
    "    list_[\"longitud\"]= getFromDict(dic,map_longitud)\n",
    "    tech_json_lp.append(list_)"
   ]
  },
  {
   "cell_type": "code",
   "execution_count": null,
   "id": "2079a811",
   "metadata": {},
   "outputs": [],
   "source": [
    "len(tech_json_lp)"
   ]
  },
  {
   "cell_type": "code",
   "execution_count": null,
   "id": "65ba0236",
   "metadata": {},
   "outputs": [],
   "source": [
    "with open('tech_lp.json', 'w') as f:\n",
    "    json.dump(tech_json_lp, f)"
   ]
  },
  {
   "cell_type": "markdown",
   "id": "6a8557a4",
   "metadata": {},
   "source": [
    "### Airport"
   ]
  },
  {
   "cell_type": "code",
   "execution_count": null,
   "id": "109ec010",
   "metadata": {},
   "outputs": [],
   "source": [
    "parametros_lp_airport = {\n",
    "    \"client_id\": client_id,\n",
    "    \"client_secret\": client_secret,\n",
    "    \"v\": \"20180323\",\n",
    "    \"ll\": f\"{Las_Palmas[0]}, {Las_Palmas[1]}\",\n",
    "    \"query\": \"airport\",\n",
    "    \"limit\": 70   \n",
    "}"
   ]
  },
  {
   "cell_type": "code",
   "execution_count": null,
   "id": "f4c3d3a0",
   "metadata": {},
   "outputs": [],
   "source": [
    "resp = requests.get(url_query, params=parametros_lp_airport).json()"
   ]
  },
  {
   "cell_type": "code",
   "execution_count": null,
   "id": "bd397931",
   "metadata": {},
   "outputs": [],
   "source": [
    "data_lp_airport= resp[\"response\"][\"groups\"][0][\"items\"]"
   ]
  },
  {
   "cell_type": "code",
   "execution_count": null,
   "id": "ea64128f",
   "metadata": {},
   "outputs": [],
   "source": [
    "data_lp_airport[0][\"venue\"]"
   ]
  },
  {
   "cell_type": "code",
   "execution_count": null,
   "id": "28a5c78f",
   "metadata": {},
   "outputs": [],
   "source": [
    "airport_json_lp = []\n",
    "for dic in data_lp_airport:\n",
    "    list_= {}\n",
    "    list_[\"latitud\"]= getFromDict(dic,map_latitud)\n",
    "    list_[\"longitud\"]= getFromDict(dic,map_longitud)\n",
    "    airport_json_lp.append(list_)"
   ]
  },
  {
   "cell_type": "code",
   "execution_count": null,
   "id": "c0cc9f13",
   "metadata": {},
   "outputs": [],
   "source": [
    "with open('aiport_lp.json', 'w') as f:\n",
    "    json.dump(airport_json_lp[0], f)"
   ]
  },
  {
   "cell_type": "markdown",
   "id": "5846a906",
   "metadata": {},
   "source": [
    "###  Bus"
   ]
  },
  {
   "cell_type": "code",
   "execution_count": null,
   "id": "f94d05e1",
   "metadata": {},
   "outputs": [],
   "source": [
    "parametros_lp_bus = {\n",
    "    \"client_id\": client_id,\n",
    "    \"client_secret\": client_secret,\n",
    "    \"v\": \"20180323\",\n",
    "    \"ll\": f\"{Las_Palmas[0]}, {Las_Palmas[1]}\",\n",
    "    \"query\": \"bus\",\n",
    "    \"limit\": 70   \n",
    "}"
   ]
  },
  {
   "cell_type": "code",
   "execution_count": null,
   "id": "80826d87",
   "metadata": {},
   "outputs": [],
   "source": [
    "resp = requests.get(url_query, params=parametros_lp_bus).json()"
   ]
  },
  {
   "cell_type": "code",
   "execution_count": null,
   "id": "3f42a2ff",
   "metadata": {},
   "outputs": [],
   "source": [
    "data_lp_bus= resp[\"response\"][\"groups\"][0][\"items\"]"
   ]
  },
  {
   "cell_type": "code",
   "execution_count": null,
   "id": "4bb65a28",
   "metadata": {},
   "outputs": [],
   "source": [
    "data_lp_bus[0][\"venue\"]"
   ]
  },
  {
   "cell_type": "code",
   "execution_count": null,
   "id": "6f7ea38c",
   "metadata": {},
   "outputs": [],
   "source": [
    "len(data_lp_bus)"
   ]
  },
  {
   "cell_type": "code",
   "execution_count": null,
   "id": "fd9735ff",
   "metadata": {},
   "outputs": [],
   "source": [
    "bus_json_lp = []\n",
    "for dic in data_lp_bus:\n",
    "    list_= {}\n",
    "    list_[\"latitud\"]= getFromDict(dic,map_latitud)\n",
    "    list_[\"longitud\"]= getFromDict(dic,map_longitud)\n",
    "    bus_json_lp.append(list_)"
   ]
  },
  {
   "cell_type": "code",
   "execution_count": null,
   "id": "b9f4c5df",
   "metadata": {},
   "outputs": [],
   "source": [
    "with open('bus_lp.json', 'w') as f:\n",
    "    json.dump(bus_json_lp, f)"
   ]
  },
  {
   "cell_type": "markdown",
   "id": "575a4400",
   "metadata": {},
   "source": [
    "## DONT KNOW HOW TO DO FUNCTIONS, SORRY!!!!\n"
   ]
  },
  {
   "cell_type": "code",
   "execution_count": 1,
   "id": "55ae2d5a",
   "metadata": {},
   "outputs": [],
   "source": [
    "import requests\n",
    "import json\n",
    "from dotenv import load_dotenv\n",
    "import os\n",
    "import pandas as pd\n",
    "from functools import reduce\n",
    "import operator"
   ]
  },
  {
   "cell_type": "code",
   "execution_count": 2,
   "id": "5b38c4aa",
   "metadata": {},
   "outputs": [],
   "source": [
    "Dublin = [53.33925763762811, -6.234433274297044]\n",
    "Las_Palmas = [28.139050810737494, -15.431441251599868]\n",
    "Manchester = [53.476555291009824, -2.245396280521493]"
   ]
  },
  {
   "cell_type": "code",
   "execution_count": 3,
   "id": "6c1704f1",
   "metadata": {},
   "outputs": [
    {
     "data": {
      "text/plain": [
       "True"
      ]
     },
     "execution_count": 3,
     "metadata": {},
     "output_type": "execute_result"
    }
   ],
   "source": [
    "load_dotenv()"
   ]
  },
  {
   "cell_type": "code",
   "execution_count": 4,
   "id": "9b7e5737",
   "metadata": {},
   "outputs": [],
   "source": [
    "client_id = os.getenv(\"client_id\")\n",
    "client_secret = os.getenv(\"secret_id\")"
   ]
  },
  {
   "cell_type": "code",
   "execution_count": 5,
   "id": "c172fc24",
   "metadata": {},
   "outputs": [],
   "source": [
    "url = 'https://api.foursquare.com/v2/venues/explore'"
   ]
  },
  {
   "cell_type": "code",
   "execution_count": 6,
   "id": "2b0b8fc8",
   "metadata": {},
   "outputs": [],
   "source": [
    "query = [\"starbucks\", \"schools\", \"tech\", \"tram\", \"train station\", \"airport\"]"
   ]
  },
  {
   "cell_type": "code",
   "execution_count": 7,
   "id": "54cc015e",
   "metadata": {},
   "outputs": [],
   "source": [
    "def call_api(url,coordes,query):\n",
    "    client_id = os.getenv(\"client_id\")\n",
    "    client_secret = os.getenv(\"secret_id\")\n",
    "    lst = []\n",
    "    \n",
    "    for i in query :\n",
    "        parametros= {\n",
    "            \"client_id\": client_id,\n",
    "            \"client_secret\": client_secret,\n",
    "            \"v\": \"20180323\",\n",
    "            \"ll\": f'{coordes}',\n",
    "            \"query\": f'{query}',\n",
    "            \"limit\": 100\n",
    "    }\n",
    "    \n",
    "        resp = requests.get(url,params=parametros).json()['response']['groups'][0]['items'][0]['venue']\n",
    "        lst.append(resp)\n",
    "    return lst\n",
    "    \n",
    "    \n",
    "\n",
    "    "
   ]
  },
  {
   "cell_type": "code",
   "execution_count": 8,
   "id": "e02421ea",
   "metadata": {},
   "outputs": [],
   "source": [
    "api_dub = call_api(url,\"53.33925763762811, -6.234433274297044\", \"starbucks\" )"
   ]
  },
  {
   "cell_type": "code",
   "execution_count": 10,
   "id": "f84059f2",
   "metadata": {},
   "outputs": [],
   "source": [
    "#api_dub"
   ]
  },
  {
   "cell_type": "code",
   "execution_count": null,
   "id": "40d07bbe",
   "metadata": {},
   "outputs": [],
   "source": [
    "def getFromDict(diccionario, mapa):\n",
    "    return reduce(operator.getitem,mapa,diccionario)"
   ]
  },
  {
   "cell_type": "code",
   "execution_count": null,
   "id": "8887aea5",
   "metadata": {},
   "outputs": [],
   "source": [
    "\n",
    "def cleaning_api(list_):\n",
    "    l = list_\n",
    "    map_latitud = [\"location\", \"lat\"]\n",
    "    map_longitud = [\"location\", \"lng\"]\n",
    "    data_json = []\n",
    "    \n",
    "    for i in l:\n",
    "        dic_ = {}\n",
    "        dic_[\"latitud\"]= getFromDict(i,map_latitud)\n",
    "        dic_[\"longitud\"] = getFromDict(i,map_longitud)\n",
    "        data_json.append(dic_)\n",
    "        \n",
    "    return data_json\n",
    "        \n",
    "        \n",
    "              \n",
    "\n",
    "        \n",
    "        \n",
    "        \n",
    "        \n",
    "        \n",
    "        \n",
    "        "
   ]
  },
  {
   "cell_type": "code",
   "execution_count": null,
   "id": "ea26fb2b",
   "metadata": {},
   "outputs": [],
   "source": [
    "cleaning_api(api_dub)"
   ]
  },
  {
   "cell_type": "code",
   "execution_count": null,
   "id": "86fd1b49",
   "metadata": {},
   "outputs": [],
   "source": [
    "def all_ (url, coordes, query):\n",
    "    api = call_api(url, coordes, query)\n",
    "    return cleaning_api(api)\n",
    "    "
   ]
  },
  {
   "cell_type": "code",
   "execution_count": null,
   "id": "d0a56ff8",
   "metadata": {},
   "outputs": [],
   "source": [
    "all_('https://api.foursquare.com/v2/venues/explore',\"53.33925763762811, -6.234433274297044\", \"starbucks\")"
   ]
  },
  {
   "cell_type": "code",
   "execution_count": null,
   "id": "ff6ab69e",
   "metadata": {},
   "outputs": [],
   "source": [
    "query = [\"starbucks\", \"schools\", \"tech\", \"tram\", \"train station\", \"airport\"]"
   ]
  },
  {
   "cell_type": "code",
   "execution_count": null,
   "id": "4c0bcf82",
   "metadata": {},
   "outputs": [],
   "source": [
    "dub_ = []\n",
    "\n",
    "for i in query:\n",
    "    df_dub = all_('https://api.foursquare.com/v2/venues/explore',\"53.33925763762811, -6.234433274297044\", i)\n",
    "    dub_.append(df_dub)\n",
    "    full_dub = pd.concat(dub_)\n",
    "    "
   ]
  },
  {
   "cell_type": "code",
   "execution_count": null,
   "id": "3a1b1c5e",
   "metadata": {},
   "outputs": [],
   "source": []
  }
 ],
 "metadata": {
  "kernelspec": {
   "display_name": "Python 3 (ipykernel)",
   "language": "python",
   "name": "python3"
  },
  "language_info": {
   "codemirror_mode": {
    "name": "ipython",
    "version": 3
   },
   "file_extension": ".py",
   "mimetype": "text/x-python",
   "name": "python",
   "nbconvert_exporter": "python",
   "pygments_lexer": "ipython3",
   "version": "3.8.10"
  }
 },
 "nbformat": 4,
 "nbformat_minor": 5
}

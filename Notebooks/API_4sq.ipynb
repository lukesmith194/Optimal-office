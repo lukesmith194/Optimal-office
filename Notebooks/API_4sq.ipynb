{
 "cells": [
  {
   "cell_type": "code",
   "execution_count": 3,
   "id": "f17fbdf5",
   "metadata": {},
   "outputs": [],
   "source": [
    "import requests\n",
    "import json\n",
    "from dotenv import load_dotenv\n",
    "import os\n",
    "import pandas as pd"
   ]
  },
  {
   "cell_type": "code",
   "execution_count": 4,
   "id": "e68891d1",
   "metadata": {},
   "outputs": [],
   "source": [
    "from functools import reduce\n",
    "import operator"
   ]
  },
  {
   "cell_type": "code",
   "execution_count": 5,
   "id": "cf854016",
   "metadata": {},
   "outputs": [
    {
     "data": {
      "text/plain": [
       "True"
      ]
     },
     "execution_count": 5,
     "metadata": {},
     "output_type": "execute_result"
    }
   ],
   "source": [
    "load_dotenv()"
   ]
  },
  {
   "cell_type": "code",
   "execution_count": 6,
   "id": "f32e4742",
   "metadata": {},
   "outputs": [],
   "source": [
    "client_id = os.getenv(\"client_id\")\n",
    "client_secret = os.getenv(\"secret_id\")"
   ]
  },
  {
   "cell_type": "code",
   "execution_count": 7,
   "id": "10c7a1c0",
   "metadata": {},
   "outputs": [],
   "source": [
    "url_query = 'https://api.foursquare.com/v2/venues/explore'"
   ]
  },
  {
   "cell_type": "code",
   "execution_count": 8,
   "id": "d1a7de8e",
   "metadata": {},
   "outputs": [],
   "source": [
    "def getFromDict(diccionario, mapa):\n",
    "    return reduce(operator.getitem,mapa,diccionario)"
   ]
  },
  {
   "cell_type": "code",
   "execution_count": 9,
   "id": "5c9b01b2",
   "metadata": {},
   "outputs": [],
   "source": [
    "def type_point(lista):\n",
    "    return {\"type\": \"Point\", \n",
    "            \"coordinates\": lista }"
   ]
  },
  {
   "cell_type": "markdown",
   "id": "2da86607",
   "metadata": {},
   "source": [
    "## Dublin"
   ]
  },
  {
   "cell_type": "markdown",
   "id": "cd6e7f79",
   "metadata": {},
   "source": [
    "### Starbucks"
   ]
  },
  {
   "cell_type": "code",
   "execution_count": 10,
   "id": "ac6c4610",
   "metadata": {},
   "outputs": [],
   "source": [
    "Dublin = [53.33925763762811, -6.234433274297044]\n"
   ]
  },
  {
   "cell_type": "code",
   "execution_count": 11,
   "id": "484d49c0",
   "metadata": {},
   "outputs": [],
   "source": [
    "parametros_dub = {\n",
    "    \"client_id\": client_id,\n",
    "    \"client_secret\": client_secret,\n",
    "    \"v\": \"20180323\",\n",
    "    \"ll\": f\"{Dublin[0]}, {Dublin[1]}\",\n",
    "    \"query\": \"Starbucks\",\n",
    "    \"limit\": 50   \n",
    "}\n"
   ]
  },
  {
   "cell_type": "code",
   "execution_count": 12,
   "id": "adba07fa",
   "metadata": {},
   "outputs": [],
   "source": [
    "resp = requests.get(url_query, params=parametros_dub).json()"
   ]
  },
  {
   "cell_type": "code",
   "execution_count": 13,
   "id": "475b0b74",
   "metadata": {},
   "outputs": [
    {
     "data": {
      "text/plain": [
       "{'meta': {'code': 200, 'requestId': '61361dfb4b234128ea2bfbde'},\n",
       " 'response': {'suggestedFilters': {'header': 'Tap to show:',\n",
       "   'filters': [{'name': 'Open now', 'key': 'openNow'}]},\n",
       "  'suggestedRadius': 4086,\n",
       "  'headerLocation': 'Southside',\n",
       "  'headerFullLocation': 'Southside, Dublin',\n",
       "  'headerLocationGranularity': 'neighborhood',\n",
       "  'query': 'starbucks',\n",
       "  'totalResults': 42,\n",
       "  'suggestedBounds': {'ne': {'lat': 53.39845533064679,\n",
       "    'lng': -6.122993321277114},\n",
       "   'sw': {'lat': 53.27175786857381, 'lng': -6.383257541538562}},\n",
       "  'groups': [{'type': 'Recommended Places',\n",
       "    'name': 'recommended',\n",
       "    'items': [{'reasons': {'count': 0,\n",
       "       'items': [{'summary': 'This spot is popular',\n",
       "         'type': 'general',\n",
       "         'reasonName': 'globalInteractionReason'}]},\n",
       "      'venue': {'id': '56509b6f498eec7fabfde0d9',\n",
       "       'name': 'Starbucks',\n",
       "       'contact': {},\n",
       "       'location': {'address': 'Unit 3/20 Point Village',\n",
       "        'crossStreet': 'North Wall Quay',\n",
       "        'lat': 53.348445865236656,\n",
       "        'lng': -6.228475457226797,\n",
       "        'labeledLatLngs': [{'label': 'display',\n",
       "          'lat': 53.348445865236656,\n",
       "          'lng': -6.228475457226797}],\n",
       "        'distance': 1096,\n",
       "        'postalCode': '1',\n",
       "        'cc': 'IE',\n",
       "        'city': 'Dublin',\n",
       "        'state': 'Dublin City',\n",
       "        'country': 'Ireland',\n",
       "        'formattedAddress': ['Unit 3/20 Point Village (North Wall Quay)',\n",
       "         'Dublin',\n",
       "         'Dublin City',\n",
       "         'Ireland']},\n",
       "       'categories': [{'id': '4bf58dd8d48988d1e0931735',\n",
       "         'name': 'Coffee Shop',\n",
       "         'pluralName': 'Coffee Shops',\n",
       "         'shortName': 'Coffee Shop',\n",
       "         'icon': {'prefix': 'https://ss3.4sqi.net/img/categories_v2/food/coffeeshop_',\n",
       "          'suffix': '.png'},\n",
       "         'primary': True}],\n",
       "       'verified': False,\n",
       "       'stats': {'tipCount': 0,\n",
       "        'usersCount': 0,\n",
       "        'checkinsCount': 0,\n",
       "        'visitsCount': 0},\n",
       "       'beenHere': {'count': 0,\n",
       "        'lastCheckinExpiredAt': 0,\n",
       "        'marked': False,\n",
       "        'unconfirmedCount': 0},\n",
       "       'photos': {'count': 0, 'groups': []},\n",
       "       'hereNow': {'count': 0, 'summary': 'Nobody here', 'groups': []}},\n",
       "      'referralId': 'e-0-56509b6f498eec7fabfde0d9-0'},\n",
       "     {'reasons': {'count': 0,\n",
       "       'items': [{'summary': 'This spot is popular',\n",
       "         'type': 'general',\n",
       "         'reasonName': 'globalInteractionReason'}]},\n",
       "      'venue': {'id': '52daaf8a11d2ade681452ace',\n",
       "       'name': 'Starbucks',\n",
       "       'contact': {},\n",
       "       'location': {'address': \"St Martin's House, Waterloo Rd\",\n",
       "        'lat': 53.332519271367126,\n",
       "        'lng': -6.243740895109762,\n",
       "        'labeledLatLngs': [{'label': 'display',\n",
       "          'lat': 53.332519271367126,\n",
       "          'lng': -6.243740895109762}],\n",
       "        'distance': 972,\n",
       "        'postalCode': '4',\n",
       "        'cc': 'IE',\n",
       "        'city': 'Dublin',\n",
       "        'state': 'Dublin City',\n",
       "        'country': 'Ireland',\n",
       "        'formattedAddress': [\"St Martin's House, Waterloo Rd\",\n",
       "         'Dublin',\n",
       "         'Dublin City',\n",
       "         'Ireland']},\n",
       "       'categories': [{'id': '4bf58dd8d48988d1e0931735',\n",
       "         'name': 'Coffee Shop',\n",
       "         'pluralName': 'Coffee Shops',\n",
       "         'shortName': 'Coffee Shop',\n",
       "         'icon': {'prefix': 'https://ss3.4sqi.net/img/categories_v2/food/coffeeshop_',\n",
       "          'suffix': '.png'},\n",
       "         'primary': True}],\n",
       "       'verified': False,\n",
       "       'stats': {'tipCount': 0,\n",
       "        'usersCount': 0,\n",
       "        'checkinsCount': 0,\n",
       "        'visitsCount': 0},\n",
       "       'beenHere': {'count': 0,\n",
       "        'lastCheckinExpiredAt': 0,\n",
       "        'marked': False,\n",
       "        'unconfirmedCount': 0},\n",
       "       'photos': {'count': 0, 'groups': []},\n",
       "       'hereNow': {'count': 0, 'summary': 'Nobody here', 'groups': []}},\n",
       "      'referralId': 'e-0-52daaf8a11d2ade681452ace-1'},\n",
       "     {'reasons': {'count': 0,\n",
       "       'items': [{'summary': 'This spot is popular',\n",
       "         'type': 'general',\n",
       "         'reasonName': 'globalInteractionReason'}]},\n",
       "      'venue': {'id': '5368918e11d24a996c759409',\n",
       "       'name': 'Starbucks',\n",
       "       'contact': {},\n",
       "       'location': {'address': '62 Lower Leeson St',\n",
       "        'lat': 53.33344497455802,\n",
       "        'lng': -6.25400766350495,\n",
       "        'labeledLatLngs': [{'label': 'display',\n",
       "          'lat': 53.33344497455802,\n",
       "          'lng': -6.25400766350495}],\n",
       "        'distance': 1453,\n",
       "        'postalCode': '2',\n",
       "        'cc': 'IE',\n",
       "        'city': 'Dublin',\n",
       "        'state': 'Dublin City',\n",
       "        'country': 'Ireland',\n",
       "        'formattedAddress': ['62 Lower Leeson St',\n",
       "         'Dublin',\n",
       "         'Dublin City',\n",
       "         'Ireland']},\n",
       "       'categories': [{'id': '4bf58dd8d48988d1e0931735',\n",
       "         'name': 'Coffee Shop',\n",
       "         'pluralName': 'Coffee Shops',\n",
       "         'shortName': 'Coffee Shop',\n",
       "         'icon': {'prefix': 'https://ss3.4sqi.net/img/categories_v2/food/coffeeshop_',\n",
       "          'suffix': '.png'},\n",
       "         'primary': True}],\n",
       "       'verified': False,\n",
       "       'stats': {'tipCount': 0,\n",
       "        'usersCount': 0,\n",
       "        'checkinsCount': 0,\n",
       "        'visitsCount': 0},\n",
       "       'beenHere': {'count': 0,\n",
       "        'lastCheckinExpiredAt': 0,\n",
       "        'marked': False,\n",
       "        'unconfirmedCount': 0},\n",
       "       'photos': {'count': 0, 'groups': []},\n",
       "       'hereNow': {'count': 0, 'summary': 'Nobody here', 'groups': []}},\n",
       "      'referralId': 'e-0-5368918e11d24a996c759409-2'},\n",
       "     {'reasons': {'count': 0,\n",
       "       'items': [{'summary': 'This spot is popular',\n",
       "         'type': 'general',\n",
       "         'reasonName': 'globalInteractionReason'}]},\n",
       "      'venue': {'id': '5caddd7e342adf002b4a9023',\n",
       "       'name': 'Starbucks',\n",
       "       'contact': {},\n",
       "       'location': {'address': 'The Warrington House',\n",
       "        'lat': 53.336677,\n",
       "        'lng': -6.243111,\n",
       "        'labeledLatLngs': [{'label': 'display',\n",
       "          'lat': 53.336677,\n",
       "          'lng': -6.243111}],\n",
       "        'distance': 644,\n",
       "        'postalCode': 'DUBLIN 2',\n",
       "        'cc': 'IE',\n",
       "        'city': 'Dublin',\n",
       "        'country': 'Ireland',\n",
       "        'formattedAddress': ['The Warrington House', 'Dublin', 'Ireland']},\n",
       "       'categories': [{'id': '4bf58dd8d48988d1e0931735',\n",
       "         'name': 'Coffee Shop',\n",
       "         'pluralName': 'Coffee Shops',\n",
       "         'shortName': 'Coffee Shop',\n",
       "         'icon': {'prefix': 'https://ss3.4sqi.net/img/categories_v2/food/coffeeshop_',\n",
       "          'suffix': '.png'},\n",
       "         'primary': True}],\n",
       "       'verified': False,\n",
       "       'stats': {'tipCount': 0,\n",
       "        'usersCount': 0,\n",
       "        'checkinsCount': 0,\n",
       "        'visitsCount': 0},\n",
       "       'beenHere': {'count': 0,\n",
       "        'lastCheckinExpiredAt': 0,\n",
       "        'marked': False,\n",
       "        'unconfirmedCount': 0},\n",
       "       'photos': {'count': 0, 'groups': []},\n",
       "       'hereNow': {'count': 0, 'summary': 'Nobody here', 'groups': []}},\n",
       "      'referralId': 'e-0-5caddd7e342adf002b4a9023-3'},\n",
       "     {'reasons': {'count': 0,\n",
       "       'items': [{'summary': 'This spot is popular',\n",
       "         'type': 'general',\n",
       "         'reasonName': 'globalInteractionReason'}]},\n",
       "      'venue': {'id': '52f7a098498ed300d2fe9e6d',\n",
       "       'name': 'Starbucks',\n",
       "       'contact': {},\n",
       "       'location': {'address': \"56 O'Connell St\",\n",
       "        'lat': 53.34759138567366,\n",
       "        'lng': -6.259555235697369,\n",
       "        'labeledLatLngs': [{'label': 'display',\n",
       "          'lat': 53.34759138567366,\n",
       "          'lng': -6.259555235697369}],\n",
       "        'distance': 1910,\n",
       "        'postalCode': '1',\n",
       "        'cc': 'IE',\n",
       "        'city': 'Dublin',\n",
       "        'state': 'Dublin City',\n",
       "        'country': 'Ireland',\n",
       "        'formattedAddress': [\"56 O'Connell St\",\n",
       "         'Dublin',\n",
       "         'Dublin City',\n",
       "         'Ireland']},\n",
       "       'categories': [{'id': '4bf58dd8d48988d1e0931735',\n",
       "         'name': 'Coffee Shop',\n",
       "         'pluralName': 'Coffee Shops',\n",
       "         'shortName': 'Coffee Shop',\n",
       "         'icon': {'prefix': 'https://ss3.4sqi.net/img/categories_v2/food/coffeeshop_',\n",
       "          'suffix': '.png'},\n",
       "         'primary': True}],\n",
       "       'verified': False,\n",
       "       'stats': {'tipCount': 0,\n",
       "        'usersCount': 0,\n",
       "        'checkinsCount': 0,\n",
       "        'visitsCount': 0},\n",
       "       'beenHere': {'count': 0,\n",
       "        'lastCheckinExpiredAt': 0,\n",
       "        'marked': False,\n",
       "        'unconfirmedCount': 0},\n",
       "       'photos': {'count': 0, 'groups': []},\n",
       "       'hereNow': {'count': 0, 'summary': 'Nobody here', 'groups': []}},\n",
       "      'referralId': 'e-0-52f7a098498ed300d2fe9e6d-4'},\n",
       "     {'reasons': {'count': 0,\n",
       "       'items': [{'summary': 'This spot is popular',\n",
       "         'type': 'general',\n",
       "         'reasonName': 'globalInteractionReason'}]},\n",
       "      'venue': {'id': '568d1a58498e246c443662ee',\n",
       "       'name': 'Starbucks',\n",
       "       'contact': {},\n",
       "       'location': {'address': '4-5 Cardiff Ln',\n",
       "        'lat': 53.34565829989359,\n",
       "        'lng': -6.240487465923314,\n",
       "        'labeledLatLngs': [{'label': 'display',\n",
       "          'lat': 53.34565829989359,\n",
       "          'lng': -6.240487465923314}],\n",
       "        'distance': 818,\n",
       "        'postalCode': '2',\n",
       "        'cc': 'IE',\n",
       "        'city': 'Dublin',\n",
       "        'state': 'Dublin City',\n",
       "        'country': 'Ireland',\n",
       "        'formattedAddress': ['4-5 Cardiff Ln',\n",
       "         'Dublin',\n",
       "         'Dublin City',\n",
       "         'Ireland']},\n",
       "       'categories': [{'id': '4bf58dd8d48988d1e0931735',\n",
       "         'name': 'Coffee Shop',\n",
       "         'pluralName': 'Coffee Shops',\n",
       "         'shortName': 'Coffee Shop',\n",
       "         'icon': {'prefix': 'https://ss3.4sqi.net/img/categories_v2/food/coffeeshop_',\n",
       "          'suffix': '.png'},\n",
       "         'primary': True}],\n",
       "       'verified': False,\n",
       "       'stats': {'tipCount': 0,\n",
       "        'usersCount': 0,\n",
       "        'checkinsCount': 0,\n",
       "        'visitsCount': 0},\n",
       "       'beenHere': {'count': 0,\n",
       "        'lastCheckinExpiredAt': 0,\n",
       "        'marked': False,\n",
       "        'unconfirmedCount': 0},\n",
       "       'photos': {'count': 0, 'groups': []},\n",
       "       'hereNow': {'count': 0, 'summary': 'Nobody here', 'groups': []}},\n",
       "      'referralId': 'e-0-568d1a58498e246c443662ee-5'},\n",
       "     {'reasons': {'count': 0,\n",
       "       'items': [{'summary': 'This spot is popular',\n",
       "         'type': 'general',\n",
       "         'reasonName': 'globalInteractionReason'}]},\n",
       "      'venue': {'id': '53332eaa498eeeaec1b594f5',\n",
       "       'name': 'Starbucks',\n",
       "       'contact': {},\n",
       "       'location': {'address': \"St Stephen's Green N\",\n",
       "        'lat': 53.33928722741872,\n",
       "        'lng': -6.257499011187389,\n",
       "        'labeledLatLngs': [{'label': 'display',\n",
       "          'lat': 53.33928722741872,\n",
       "          'lng': -6.257499011187389}],\n",
       "        'distance': 1533,\n",
       "        'postalCode': '2',\n",
       "        'cc': 'IE',\n",
       "        'city': 'Dublin',\n",
       "        'state': 'Dublin City',\n",
       "        'country': 'Ireland',\n",
       "        'formattedAddress': [\"St Stephen's Green N\",\n",
       "         'Dublin',\n",
       "         'Dublin City',\n",
       "         'Ireland']},\n",
       "       'categories': [{'id': '4bf58dd8d48988d1e0931735',\n",
       "         'name': 'Coffee Shop',\n",
       "         'pluralName': 'Coffee Shops',\n",
       "         'shortName': 'Coffee Shop',\n",
       "         'icon': {'prefix': 'https://ss3.4sqi.net/img/categories_v2/food/coffeeshop_',\n",
       "          'suffix': '.png'},\n",
       "         'primary': True}],\n",
       "       'verified': False,\n",
       "       'stats': {'tipCount': 0,\n",
       "        'usersCount': 0,\n",
       "        'checkinsCount': 0,\n",
       "        'visitsCount': 0},\n",
       "       'beenHere': {'count': 0,\n",
       "        'lastCheckinExpiredAt': 0,\n",
       "        'marked': False,\n",
       "        'unconfirmedCount': 0},\n",
       "       'photos': {'count': 0, 'groups': []},\n",
       "       'hereNow': {'count': 0, 'summary': 'Nobody here', 'groups': []}},\n",
       "      'referralId': 'e-0-53332eaa498eeeaec1b594f5-6'},\n",
       "     {'reasons': {'count': 0,\n",
       "       'items': [{'summary': 'This spot is popular',\n",
       "         'type': 'general',\n",
       "         'reasonName': 'globalInteractionReason'}]},\n",
       "      'venue': {'id': '58fcb7799e0d54095ae83ce9',\n",
       "       'name': 'Starbucks',\n",
       "       'contact': {},\n",
       "       'location': {'address': 'Aungier St',\n",
       "        'lat': 53.339486162676806,\n",
       "        'lng': -6.265903301020082,\n",
       "        'labeledLatLngs': [{'label': 'display',\n",
       "          'lat': 53.339486162676806,\n",
       "          'lng': -6.265903301020082}],\n",
       "        'distance': 2091,\n",
       "        'postalCode': 'DUBLIN 2',\n",
       "        'cc': 'IE',\n",
       "        'city': 'Dublin',\n",
       "        'country': 'Ireland',\n",
       "        'formattedAddress': ['Aungier St', 'Dublin', 'Ireland']},\n",
       "       'categories': [{'id': '4bf58dd8d48988d1e0931735',\n",
       "         'name': 'Coffee Shop',\n",
       "         'pluralName': 'Coffee Shops',\n",
       "         'shortName': 'Coffee Shop',\n",
       "         'icon': {'prefix': 'https://ss3.4sqi.net/img/categories_v2/food/coffeeshop_',\n",
       "          'suffix': '.png'},\n",
       "         'primary': True}],\n",
       "       'verified': False,\n",
       "       'stats': {'tipCount': 0,\n",
       "        'usersCount': 0,\n",
       "        'checkinsCount': 0,\n",
       "        'visitsCount': 0},\n",
       "       'beenHere': {'count': 0,\n",
       "        'lastCheckinExpiredAt': 0,\n",
       "        'marked': False,\n",
       "        'unconfirmedCount': 0},\n",
       "       'photos': {'count': 0, 'groups': []},\n",
       "       'hereNow': {'count': 0, 'summary': 'Nobody here', 'groups': []}},\n",
       "      'referralId': 'e-0-58fcb7799e0d54095ae83ce9-7'},\n",
       "     {'reasons': {'count': 0,\n",
       "       'items': [{'summary': 'This spot is popular',\n",
       "         'type': 'general',\n",
       "         'reasonName': 'globalInteractionReason'}]},\n",
       "      'venue': {'id': '57c47060498e56195ba97bef',\n",
       "       'name': 'Starbucks',\n",
       "       'contact': {},\n",
       "       'location': {'address': 'East Wall Rd',\n",
       "        'lat': 53.35651551933903,\n",
       "        'lng': -6.232208528054815,\n",
       "        'labeledLatLngs': [{'label': 'display',\n",
       "          'lat': 53.35651551933903,\n",
       "          'lng': -6.232208528054815}],\n",
       "        'distance': 1926,\n",
       "        'cc': 'IE',\n",
       "        'city': 'Dublin',\n",
       "        'state': 'Dublin City',\n",
       "        'country': 'Ireland',\n",
       "        'formattedAddress': ['East Wall Rd',\n",
       "         'Dublin',\n",
       "         'Dublin City',\n",
       "         'Ireland']},\n",
       "       'categories': [{'id': '4bf58dd8d48988d1e0931735',\n",
       "         'name': 'Coffee Shop',\n",
       "         'pluralName': 'Coffee Shops',\n",
       "         'shortName': 'Coffee Shop',\n",
       "         'icon': {'prefix': 'https://ss3.4sqi.net/img/categories_v2/food/coffeeshop_',\n",
       "          'suffix': '.png'},\n",
       "         'primary': True}],\n",
       "       'verified': False,\n",
       "       'stats': {'tipCount': 0,\n",
       "        'usersCount': 0,\n",
       "        'checkinsCount': 0,\n",
       "        'visitsCount': 0},\n",
       "       'beenHere': {'count': 0,\n",
       "        'lastCheckinExpiredAt': 0,\n",
       "        'marked': False,\n",
       "        'unconfirmedCount': 0},\n",
       "       'photos': {'count': 0, 'groups': []},\n",
       "       'hereNow': {'count': 0, 'summary': 'Nobody here', 'groups': []}},\n",
       "      'referralId': 'e-0-57c47060498e56195ba97bef-8'},\n",
       "     {'reasons': {'count': 0,\n",
       "       'items': [{'summary': 'This spot is popular',\n",
       "         'type': 'general',\n",
       "         'reasonName': 'globalInteractionReason'}]},\n",
       "      'venue': {'id': '5389f2c1498e34b97acfcf8c',\n",
       "       'name': 'Starbucks',\n",
       "       'contact': {},\n",
       "       'location': {'address': '8 N Earl St',\n",
       "        'lat': 53.3500072764398,\n",
       "        'lng': -6.259032756640429,\n",
       "        'labeledLatLngs': [{'label': 'display',\n",
       "          'lat': 53.3500072764398,\n",
       "          'lng': -6.259032756640429}],\n",
       "        'distance': 2025,\n",
       "        'cc': 'IE',\n",
       "        'city': 'Dublin',\n",
       "        'state': 'Dublin City',\n",
       "        'country': 'Ireland',\n",
       "        'formattedAddress': ['8 N Earl St',\n",
       "         'Dublin',\n",
       "         'Dublin City',\n",
       "         'Ireland']},\n",
       "       'categories': [{'id': '4bf58dd8d48988d1e0931735',\n",
       "         'name': 'Coffee Shop',\n",
       "         'pluralName': 'Coffee Shops',\n",
       "         'shortName': 'Coffee Shop',\n",
       "         'icon': {'prefix': 'https://ss3.4sqi.net/img/categories_v2/food/coffeeshop_',\n",
       "          'suffix': '.png'},\n",
       "         'primary': True}],\n",
       "       'verified': False,\n",
       "       'stats': {'tipCount': 0,\n",
       "        'usersCount': 0,\n",
       "        'checkinsCount': 0,\n",
       "        'visitsCount': 0},\n",
       "       'beenHere': {'count': 0,\n",
       "        'lastCheckinExpiredAt': 0,\n",
       "        'marked': False,\n",
       "        'unconfirmedCount': 0},\n",
       "       'photos': {'count': 0, 'groups': []},\n",
       "       'hereNow': {'count': 0, 'summary': 'Nobody here', 'groups': []}},\n",
       "      'referralId': 'e-0-5389f2c1498e34b97acfcf8c-9'},\n",
       "     {'reasons': {'count': 0,\n",
       "       'items': [{'summary': 'This spot is popular',\n",
       "         'type': 'general',\n",
       "         'reasonName': 'globalInteractionReason'}]},\n",
       "      'venue': {'id': '54b4e8bc498ef1a50200b4d1',\n",
       "       'name': 'Starbucks',\n",
       "       'contact': {},\n",
       "       'location': {'address': '39 Henry St',\n",
       "        'lat': 53.349625663880396,\n",
       "        'lng': -6.261583834801474,\n",
       "        'labeledLatLngs': [{'label': 'display',\n",
       "          'lat': 53.349625663880396,\n",
       "          'lng': -6.261583834801474}],\n",
       "        'distance': 2141,\n",
       "        'postalCode': '2',\n",
       "        'cc': 'IE',\n",
       "        'city': 'Dublin',\n",
       "        'state': 'Dublin City',\n",
       "        'country': 'Ireland',\n",
       "        'formattedAddress': ['39 Henry St',\n",
       "         'Dublin',\n",
       "         'Dublin City',\n",
       "         'Ireland']},\n",
       "       'categories': [{'id': '4bf58dd8d48988d1e0931735',\n",
       "         'name': 'Coffee Shop',\n",
       "         'pluralName': 'Coffee Shops',\n",
       "         'shortName': 'Coffee Shop',\n",
       "         'icon': {'prefix': 'https://ss3.4sqi.net/img/categories_v2/food/coffeeshop_',\n",
       "          'suffix': '.png'},\n",
       "         'primary': True}],\n",
       "       'verified': False,\n",
       "       'stats': {'tipCount': 0,\n",
       "        'usersCount': 0,\n",
       "        'checkinsCount': 0,\n",
       "        'visitsCount': 0},\n",
       "       'beenHere': {'count': 0,\n",
       "        'lastCheckinExpiredAt': 0,\n",
       "        'marked': False,\n",
       "        'unconfirmedCount': 0},\n",
       "       'photos': {'count': 0, 'groups': []},\n",
       "       'hereNow': {'count': 0, 'summary': 'Nobody here', 'groups': []}},\n",
       "      'referralId': 'e-0-54b4e8bc498ef1a50200b4d1-10'},\n",
       "     {'reasons': {'count': 0,\n",
       "       'items': [{'summary': 'This spot is popular',\n",
       "         'type': 'general',\n",
       "         'reasonName': 'globalInteractionReason'}]},\n",
       "      'venue': {'id': '4bc9a4bd68f976b03f985d83',\n",
       "       'name': 'Starbucks',\n",
       "       'contact': {},\n",
       "       'location': {'address': '1 Custom House Quay',\n",
       "        'crossStreet': 'Unit 32-33',\n",
       "        'lat': 53.34910867703328,\n",
       "        'lng': -6.247844980680384,\n",
       "        'labeledLatLngs': [{'label': 'display',\n",
       "          'lat': 53.34910867703328,\n",
       "          'lng': -6.247844980680384}],\n",
       "        'distance': 1413,\n",
       "        'postalCode': '1',\n",
       "        'cc': 'IE',\n",
       "        'city': 'Dublin',\n",
       "        'state': 'Dublin City',\n",
       "        'country': 'Ireland',\n",
       "        'formattedAddress': ['1 Custom House Quay (Unit 32-33)',\n",
       "         'Dublin',\n",
       "         'Dublin City',\n",
       "         'Ireland']},\n",
       "       'categories': [{'id': '4bf58dd8d48988d1e0931735',\n",
       "         'name': 'Coffee Shop',\n",
       "         'pluralName': 'Coffee Shops',\n",
       "         'shortName': 'Coffee Shop',\n",
       "         'icon': {'prefix': 'https://ss3.4sqi.net/img/categories_v2/food/coffeeshop_',\n",
       "          'suffix': '.png'},\n",
       "         'primary': True}],\n",
       "       'verified': True,\n",
       "       'stats': {'tipCount': 0,\n",
       "        'usersCount': 0,\n",
       "        'checkinsCount': 0,\n",
       "        'visitsCount': 0},\n",
       "       'beenHere': {'count': 0,\n",
       "        'lastCheckinExpiredAt': 0,\n",
       "        'marked': False,\n",
       "        'unconfirmedCount': 0},\n",
       "       'photos': {'count': 0, 'groups': []},\n",
       "       'hereNow': {'count': 0, 'summary': 'Nobody here', 'groups': []}},\n",
       "      'referralId': 'e-0-4bc9a4bd68f976b03f985d83-11'},\n",
       "     {'reasons': {'count': 0,\n",
       "       'items': [{'summary': 'This spot is popular',\n",
       "         'type': 'general',\n",
       "         'reasonName': 'globalInteractionReason'}]},\n",
       "      'venue': {'id': '4af1ea70f964a5205ee421e3',\n",
       "       'name': 'Starbucks',\n",
       "       'contact': {},\n",
       "       'location': {'address': '1 College Green',\n",
       "        'lat': 53.344414517730876,\n",
       "        'lng': -6.260942333680538,\n",
       "        'labeledLatLngs': [{'label': 'display',\n",
       "          'lat': 53.344414517730876,\n",
       "          'lng': -6.260942333680538}],\n",
       "        'distance': 1853,\n",
       "        'postalCode': '2',\n",
       "        'cc': 'IE',\n",
       "        'city': 'Dublin',\n",
       "        'state': 'Dublin City',\n",
       "        'country': 'Ireland',\n",
       "        'formattedAddress': ['1 College Green',\n",
       "         'Dublin',\n",
       "         'Dublin City',\n",
       "         'Ireland']},\n",
       "       'categories': [{'id': '4bf58dd8d48988d1e0931735',\n",
       "         'name': 'Coffee Shop',\n",
       "         'pluralName': 'Coffee Shops',\n",
       "         'shortName': 'Coffee Shop',\n",
       "         'icon': {'prefix': 'https://ss3.4sqi.net/img/categories_v2/food/coffeeshop_',\n",
       "          'suffix': '.png'},\n",
       "         'primary': True}],\n",
       "       'verified': True,\n",
       "       'stats': {'tipCount': 0,\n",
       "        'usersCount': 0,\n",
       "        'checkinsCount': 0,\n",
       "        'visitsCount': 0},\n",
       "       'beenHere': {'count': 0,\n",
       "        'lastCheckinExpiredAt': 0,\n",
       "        'marked': False,\n",
       "        'unconfirmedCount': 0},\n",
       "       'photos': {'count': 0, 'groups': []},\n",
       "       'hereNow': {'count': 0, 'summary': 'Nobody here', 'groups': []}},\n",
       "      'referralId': 'e-0-4af1ea70f964a5205ee421e3-12'},\n",
       "     {'reasons': {'count': 0,\n",
       "       'items': [{'summary': 'This spot is popular',\n",
       "         'type': 'general',\n",
       "         'reasonName': 'globalInteractionReason'}]},\n",
       "      'venue': {'id': '4afee334f964a520473122e3',\n",
       "       'name': 'Starbucks',\n",
       "       'contact': {},\n",
       "       'location': {'address': 'Unit 2 The Oval, Shelbourne Rd',\n",
       "        'lat': 53.331290175949356,\n",
       "        'lng': -6.231812520793873,\n",
       "        'labeledLatLngs': [{'label': 'display',\n",
       "          'lat': 53.331290175949356,\n",
       "          'lng': -6.231812520793873}],\n",
       "        'distance': 903,\n",
       "        'postalCode': '4',\n",
       "        'cc': 'IE',\n",
       "        'city': 'Dublin',\n",
       "        'state': 'Dublin City',\n",
       "        'country': 'Ireland',\n",
       "        'formattedAddress': ['Unit 2 The Oval, Shelbourne Rd',\n",
       "         'Dublin',\n",
       "         'Dublin City',\n",
       "         'Ireland']},\n",
       "       'categories': [{'id': '4bf58dd8d48988d1e0931735',\n",
       "         'name': 'Coffee Shop',\n",
       "         'pluralName': 'Coffee Shops',\n",
       "         'shortName': 'Coffee Shop',\n",
       "         'icon': {'prefix': 'https://ss3.4sqi.net/img/categories_v2/food/coffeeshop_',\n",
       "          'suffix': '.png'},\n",
       "         'primary': True}],\n",
       "       'verified': True,\n",
       "       'stats': {'tipCount': 0,\n",
       "        'usersCount': 0,\n",
       "        'checkinsCount': 0,\n",
       "        'visitsCount': 0},\n",
       "       'beenHere': {'count': 0,\n",
       "        'lastCheckinExpiredAt': 0,\n",
       "        'marked': False,\n",
       "        'unconfirmedCount': 0},\n",
       "       'photos': {'count': 0, 'groups': []},\n",
       "       'hereNow': {'count': 0, 'summary': 'Nobody here', 'groups': []}},\n",
       "      'referralId': 'e-0-4afee334f964a520473122e3-13'},\n",
       "     {'reasons': {'count': 0,\n",
       "       'items': [{'summary': 'This spot is popular',\n",
       "         'type': 'general',\n",
       "         'reasonName': 'globalInteractionReason'}]},\n",
       "      'venue': {'id': '502e1706e4b0adcbebff8a37',\n",
       "       'name': 'Starbucks',\n",
       "       'contact': {},\n",
       "       'location': {'address': '3 Chatham St',\n",
       "        'lat': 53.340872590889326,\n",
       "        'lng': -6.261404940066735,\n",
       "        'labeledLatLngs': [{'label': 'display',\n",
       "          'lat': 53.340872590889326,\n",
       "          'lng': -6.261404940066735}],\n",
       "        'distance': 1801,\n",
       "        'postalCode': '2',\n",
       "        'cc': 'IE',\n",
       "        'city': 'Dublin',\n",
       "        'state': 'Dublin City',\n",
       "        'country': 'Ireland',\n",
       "        'formattedAddress': ['3 Chatham St',\n",
       "         'Dublin',\n",
       "         'Dublin City',\n",
       "         'Ireland']},\n",
       "       'categories': [{'id': '4bf58dd8d48988d1e0931735',\n",
       "         'name': 'Coffee Shop',\n",
       "         'pluralName': 'Coffee Shops',\n",
       "         'shortName': 'Coffee Shop',\n",
       "         'icon': {'prefix': 'https://ss3.4sqi.net/img/categories_v2/food/coffeeshop_',\n",
       "          'suffix': '.png'},\n",
       "         'primary': True}],\n",
       "       'verified': False,\n",
       "       'stats': {'tipCount': 0,\n",
       "        'usersCount': 0,\n",
       "        'checkinsCount': 0,\n",
       "        'visitsCount': 0},\n",
       "       'beenHere': {'count': 0,\n",
       "        'lastCheckinExpiredAt': 0,\n",
       "        'marked': False,\n",
       "        'unconfirmedCount': 0},\n",
       "       'photos': {'count': 0, 'groups': []},\n",
       "       'hereNow': {'count': 0, 'summary': 'Nobody here', 'groups': []}},\n",
       "      'referralId': 'e-0-502e1706e4b0adcbebff8a37-14'},\n",
       "     {'reasons': {'count': 0,\n",
       "       'items': [{'summary': 'This spot is popular',\n",
       "         'type': 'general',\n",
       "         'reasonName': 'globalInteractionReason'}]},\n",
       "      'venue': {'id': '558ecb07498efcd20f22807d',\n",
       "       'name': 'Starbucks',\n",
       "       'contact': {},\n",
       "       'location': {'address': '22-23 Liffey Street Lower',\n",
       "        'lat': 53.347545041348596,\n",
       "        'lng': -6.263519888925701,\n",
       "        'labeledLatLngs': [{'label': 'display',\n",
       "          'lat': 53.347545041348596,\n",
       "          'lng': -6.263519888925701}],\n",
       "        'distance': 2141,\n",
       "        'postalCode': '1',\n",
       "        'cc': 'IE',\n",
       "        'city': 'Dublin',\n",
       "        'state': 'Dublin City',\n",
       "        'country': 'Ireland',\n",
       "        'formattedAddress': ['22-23 Liffey Street Lower',\n",
       "         'Dublin',\n",
       "         'Dublin City',\n",
       "         'Ireland']},\n",
       "       'categories': [{'id': '4bf58dd8d48988d1e0931735',\n",
       "         'name': 'Coffee Shop',\n",
       "         'pluralName': 'Coffee Shops',\n",
       "         'shortName': 'Coffee Shop',\n",
       "         'icon': {'prefix': 'https://ss3.4sqi.net/img/categories_v2/food/coffeeshop_',\n",
       "          'suffix': '.png'},\n",
       "         'primary': True}],\n",
       "       'verified': False,\n",
       "       'stats': {'tipCount': 0,\n",
       "        'usersCount': 0,\n",
       "        'checkinsCount': 0,\n",
       "        'visitsCount': 0},\n",
       "       'beenHere': {'count': 0,\n",
       "        'lastCheckinExpiredAt': 0,\n",
       "        'marked': False,\n",
       "        'unconfirmedCount': 0},\n",
       "       'photos': {'count': 0, 'groups': []},\n",
       "       'hereNow': {'count': 0, 'summary': 'Nobody here', 'groups': []}},\n",
       "      'referralId': 'e-0-558ecb07498efcd20f22807d-15'},\n",
       "     {'reasons': {'count': 0,\n",
       "       'items': [{'summary': 'This spot is popular',\n",
       "         'type': 'general',\n",
       "         'reasonName': 'globalInteractionReason'}]},\n",
       "      'venue': {'id': '4af1e8ebf964a52052e421e3',\n",
       "       'name': 'Starbucks',\n",
       "       'contact': {},\n",
       "       'location': {'address': 'Unit 1 Harcourt Building, Harcourt St',\n",
       "        'lat': 53.33291828699825,\n",
       "        'lng': -6.262602541394942,\n",
       "        'labeledLatLngs': [{'label': 'display',\n",
       "          'lat': 53.33291828699825,\n",
       "          'lng': -6.262602541394942}],\n",
       "        'distance': 2000,\n",
       "        'postalCode': '2',\n",
       "        'cc': 'IE',\n",
       "        'city': 'Dublin',\n",
       "        'state': 'Dublin City',\n",
       "        'country': 'Ireland',\n",
       "        'formattedAddress': ['Unit 1 Harcourt Building, Harcourt St',\n",
       "         'Dublin',\n",
       "         'Dublin City',\n",
       "         'Ireland']},\n",
       "       'categories': [{'id': '4bf58dd8d48988d1e0931735',\n",
       "         'name': 'Coffee Shop',\n",
       "         'pluralName': 'Coffee Shops',\n",
       "         'shortName': 'Coffee Shop',\n",
       "         'icon': {'prefix': 'https://ss3.4sqi.net/img/categories_v2/food/coffeeshop_',\n",
       "          'suffix': '.png'},\n",
       "         'primary': True}],\n",
       "       'verified': True,\n",
       "       'stats': {'tipCount': 0,\n",
       "        'usersCount': 0,\n",
       "        'checkinsCount': 0,\n",
       "        'visitsCount': 0},\n",
       "       'beenHere': {'count': 0,\n",
       "        'lastCheckinExpiredAt': 0,\n",
       "        'marked': False,\n",
       "        'unconfirmedCount': 0},\n",
       "       'photos': {'count': 0, 'groups': []},\n",
       "       'hereNow': {'count': 0, 'summary': 'Nobody here', 'groups': []}},\n",
       "      'referralId': 'e-0-4af1e8ebf964a52052e421e3-16'},\n",
       "     {'reasons': {'count': 0,\n",
       "       'items': [{'summary': 'This spot is popular',\n",
       "         'type': 'general',\n",
       "         'reasonName': 'globalInteractionReason'}]},\n",
       "      'venue': {'id': '4e86d3266c25bffb164c5bd2',\n",
       "       'name': 'Starbucks',\n",
       "       'contact': {},\n",
       "       'location': {'address': '10-12 Westmoreland St',\n",
       "        'lat': 53.34609763685444,\n",
       "        'lng': -6.2590715049579755,\n",
       "        'labeledLatLngs': [{'label': 'display',\n",
       "          'lat': 53.34609763685444,\n",
       "          'lng': -6.2590715049579755}],\n",
       "        'distance': 1805,\n",
       "        'postalCode': '2',\n",
       "        'cc': 'IE',\n",
       "        'city': 'Dublin',\n",
       "        'state': 'Dublin City',\n",
       "        'country': 'Ireland',\n",
       "        'formattedAddress': ['10-12 Westmoreland St',\n",
       "         'Dublin',\n",
       "         'Dublin City',\n",
       "         'Ireland']},\n",
       "       'categories': [{'id': '4bf58dd8d48988d1e0931735',\n",
       "         'name': 'Coffee Shop',\n",
       "         'pluralName': 'Coffee Shops',\n",
       "         'shortName': 'Coffee Shop',\n",
       "         'icon': {'prefix': 'https://ss3.4sqi.net/img/categories_v2/food/coffeeshop_',\n",
       "          'suffix': '.png'},\n",
       "         'primary': True}],\n",
       "       'verified': True,\n",
       "       'stats': {'tipCount': 0,\n",
       "        'usersCount': 0,\n",
       "        'checkinsCount': 0,\n",
       "        'visitsCount': 0},\n",
       "       'beenHere': {'count': 0,\n",
       "        'lastCheckinExpiredAt': 0,\n",
       "        'marked': False,\n",
       "        'unconfirmedCount': 0},\n",
       "       'photos': {'count': 0, 'groups': []},\n",
       "       'hereNow': {'count': 0, 'summary': 'Nobody here', 'groups': []}},\n",
       "      'referralId': 'e-0-4e86d3266c25bffb164c5bd2-17'},\n",
       "     {'reasons': {'count': 0,\n",
       "       'items': [{'summary': 'This spot is popular',\n",
       "         'type': 'general',\n",
       "         'reasonName': 'globalInteractionReason'}]},\n",
       "      'venue': {'id': '59f9bae8f1fdaf23c6d4a8e9',\n",
       "       'name': 'Starbucks',\n",
       "       'contact': {},\n",
       "       'location': {'address': '1 - 3 Crampton Quay',\n",
       "        'lat': 53.34616723569928,\n",
       "        'lng': -6.2624767527437495,\n",
       "        'labeledLatLngs': [{'label': 'display',\n",
       "          'lat': 53.34616723569928,\n",
       "          'lng': -6.2624767527437495}],\n",
       "        'distance': 2016,\n",
       "        'postalCode': 'D02 EW97',\n",
       "        'cc': 'IE',\n",
       "        'city': 'Dublin 2',\n",
       "        'country': 'Ireland',\n",
       "        'formattedAddress': ['1 - 3 Crampton Quay', 'Dublin 2', 'Ireland']},\n",
       "       'categories': [{'id': '4bf58dd8d48988d1e0931735',\n",
       "         'name': 'Coffee Shop',\n",
       "         'pluralName': 'Coffee Shops',\n",
       "         'shortName': 'Coffee Shop',\n",
       "         'icon': {'prefix': 'https://ss3.4sqi.net/img/categories_v2/food/coffeeshop_',\n",
       "          'suffix': '.png'},\n",
       "         'primary': True}],\n",
       "       'verified': False,\n",
       "       'stats': {'tipCount': 0,\n",
       "        'usersCount': 0,\n",
       "        'checkinsCount': 0,\n",
       "        'visitsCount': 0},\n",
       "       'beenHere': {'count': 0,\n",
       "        'lastCheckinExpiredAt': 0,\n",
       "        'marked': False,\n",
       "        'unconfirmedCount': 0},\n",
       "       'photos': {'count': 0, 'groups': []},\n",
       "       'hereNow': {'count': 0, 'summary': 'Nobody here', 'groups': []}},\n",
       "      'referralId': 'e-0-59f9bae8f1fdaf23c6d4a8e9-18'},\n",
       "     {'reasons': {'count': 0,\n",
       "       'items': [{'summary': 'This spot is popular',\n",
       "         'type': 'general',\n",
       "         'reasonName': 'globalInteractionReason'}]},\n",
       "      'venue': {'id': '557404ed498e842194314131',\n",
       "       'name': 'Starbucks',\n",
       "       'contact': {},\n",
       "       'location': {'address': '34 Westmoreland Street',\n",
       "        'lat': 53.346162,\n",
       "        'lng': -6.259136,\n",
       "        'labeledLatLngs': [{'label': 'display',\n",
       "          'lat': 53.346162,\n",
       "          'lng': -6.259136}],\n",
       "        'distance': 1812,\n",
       "        'cc': 'IE',\n",
       "        'city': 'Dublin',\n",
       "        'state': 'Dublin City',\n",
       "        'country': 'Ireland',\n",
       "        'formattedAddress': ['34 Westmoreland Street',\n",
       "         'Dublin',\n",
       "         'Dublin City',\n",
       "         'Ireland']},\n",
       "       'categories': [{'id': '4bf58dd8d48988d1e0931735',\n",
       "         'name': 'Coffee Shop',\n",
       "         'pluralName': 'Coffee Shops',\n",
       "         'shortName': 'Coffee Shop',\n",
       "         'icon': {'prefix': 'https://ss3.4sqi.net/img/categories_v2/food/coffeeshop_',\n",
       "          'suffix': '.png'},\n",
       "         'primary': True}],\n",
       "       'verified': False,\n",
       "       'stats': {'tipCount': 0,\n",
       "        'usersCount': 0,\n",
       "        'checkinsCount': 0,\n",
       "        'visitsCount': 0},\n",
       "       'beenHere': {'count': 0,\n",
       "        'lastCheckinExpiredAt': 0,\n",
       "        'marked': False,\n",
       "        'unconfirmedCount': 0},\n",
       "       'photos': {'count': 0, 'groups': []},\n",
       "       'hereNow': {'count': 0, 'summary': 'Nobody here', 'groups': []}},\n",
       "      'referralId': 'e-0-557404ed498e842194314131-19'},\n",
       "     {'reasons': {'count': 0,\n",
       "       'items': [{'summary': 'This spot is popular',\n",
       "         'type': 'general',\n",
       "         'reasonName': 'globalInteractionReason'}]},\n",
       "      'venue': {'id': '4e450bd2922ed454ab37b377',\n",
       "       'name': 'Starbucks',\n",
       "       'contact': {},\n",
       "       'location': {'address': \"George's Quay\",\n",
       "        'lat': 53.347378,\n",
       "        'lng': -6.255843,\n",
       "        'labeledLatLngs': [{'label': 'display',\n",
       "          'lat': 53.347378,\n",
       "          'lng': -6.255843}],\n",
       "        'distance': 1685,\n",
       "        'postalCode': '2',\n",
       "        'cc': 'IE',\n",
       "        'city': 'Dublin',\n",
       "        'state': 'Dublin City',\n",
       "        'country': 'Ireland',\n",
       "        'formattedAddress': [\"George's Quay\",\n",
       "         'Dublin',\n",
       "         'Dublin City',\n",
       "         'Ireland']},\n",
       "       'categories': [{'id': '4bf58dd8d48988d1e0931735',\n",
       "         'name': 'Coffee Shop',\n",
       "         'pluralName': 'Coffee Shops',\n",
       "         'shortName': 'Coffee Shop',\n",
       "         'icon': {'prefix': 'https://ss3.4sqi.net/img/categories_v2/food/coffeeshop_',\n",
       "          'suffix': '.png'},\n",
       "         'primary': True}],\n",
       "       'verified': False,\n",
       "       'stats': {'tipCount': 0,\n",
       "        'usersCount': 0,\n",
       "        'checkinsCount': 0,\n",
       "        'visitsCount': 0},\n",
       "       'beenHere': {'count': 0,\n",
       "        'lastCheckinExpiredAt': 0,\n",
       "        'marked': False,\n",
       "        'unconfirmedCount': 0},\n",
       "       'photos': {'count': 0, 'groups': []},\n",
       "       'hereNow': {'count': 0, 'summary': 'Nobody here', 'groups': []}},\n",
       "      'referralId': 'e-0-4e450bd2922ed454ab37b377-20'},\n",
       "     {'reasons': {'count': 0,\n",
       "       'items': [{'summary': 'This spot is popular',\n",
       "         'type': 'general',\n",
       "         'reasonName': 'globalInteractionReason'}]},\n",
       "      'venue': {'id': '56277ed6498e442297a476b6',\n",
       "       'name': 'Starbucks',\n",
       "       'contact': {},\n",
       "       'location': {'address': 'Kevin St Lower',\n",
       "        'lat': 53.33766628921425,\n",
       "        'lng': -6.267022682935,\n",
       "        'labeledLatLngs': [{'label': 'display',\n",
       "          'lat': 53.33766628921425,\n",
       "          'lng': -6.267022682935}],\n",
       "        'distance': 2173,\n",
       "        'postalCode': '8',\n",
       "        'cc': 'IE',\n",
       "        'city': 'Dublin',\n",
       "        'state': 'Dublin City',\n",
       "        'country': 'Ireland',\n",
       "        'formattedAddress': ['Kevin St Lower',\n",
       "         'Dublin',\n",
       "         'Dublin City',\n",
       "         'Ireland']},\n",
       "       'categories': [{'id': '4bf58dd8d48988d1e0931735',\n",
       "         'name': 'Coffee Shop',\n",
       "         'pluralName': 'Coffee Shops',\n",
       "         'shortName': 'Coffee Shop',\n",
       "         'icon': {'prefix': 'https://ss3.4sqi.net/img/categories_v2/food/coffeeshop_',\n",
       "          'suffix': '.png'},\n",
       "         'primary': True}],\n",
       "       'verified': False,\n",
       "       'stats': {'tipCount': 0,\n",
       "        'usersCount': 0,\n",
       "        'checkinsCount': 0,\n",
       "        'visitsCount': 0},\n",
       "       'beenHere': {'count': 0,\n",
       "        'lastCheckinExpiredAt': 0,\n",
       "        'marked': False,\n",
       "        'unconfirmedCount': 0},\n",
       "       'photos': {'count': 0, 'groups': []},\n",
       "       'hereNow': {'count': 0, 'summary': 'Nobody here', 'groups': []}},\n",
       "      'referralId': 'e-0-56277ed6498e442297a476b6-21'},\n",
       "     {'reasons': {'count': 0,\n",
       "       'items': [{'summary': 'This spot is popular',\n",
       "         'type': 'general',\n",
       "         'reasonName': 'globalInteractionReason'}]},\n",
       "      'venue': {'id': '51c443f3498ea04548bc2385',\n",
       "       'name': 'Starbucks',\n",
       "       'contact': {},\n",
       "       'location': {'address': 'Eastpoint Business Park',\n",
       "        'lat': 53.35822960386952,\n",
       "        'lng': -6.226752961272358,\n",
       "        'labeledLatLngs': [{'label': 'display',\n",
       "          'lat': 53.35822960386952,\n",
       "          'lng': -6.226752961272358}],\n",
       "        'distance': 2172,\n",
       "        'postalCode': '3',\n",
       "        'cc': 'IE',\n",
       "        'city': 'Dublin',\n",
       "        'state': 'Dublin City',\n",
       "        'country': 'Ireland',\n",
       "        'formattedAddress': ['Eastpoint Business Park',\n",
       "         'Dublin',\n",
       "         'Dublin City',\n",
       "         'Ireland']},\n",
       "       'categories': [{'id': '4bf58dd8d48988d1e0931735',\n",
       "         'name': 'Coffee Shop',\n",
       "         'pluralName': 'Coffee Shops',\n",
       "         'shortName': 'Coffee Shop',\n",
       "         'icon': {'prefix': 'https://ss3.4sqi.net/img/categories_v2/food/coffeeshop_',\n",
       "          'suffix': '.png'},\n",
       "         'primary': True}],\n",
       "       'verified': False,\n",
       "       'stats': {'tipCount': 0,\n",
       "        'usersCount': 0,\n",
       "        'checkinsCount': 0,\n",
       "        'visitsCount': 0},\n",
       "       'beenHere': {'count': 0,\n",
       "        'lastCheckinExpiredAt': 0,\n",
       "        'marked': False,\n",
       "        'unconfirmedCount': 0},\n",
       "       'photos': {'count': 0, 'groups': []},\n",
       "       'hereNow': {'count': 0, 'summary': 'Nobody here', 'groups': []}},\n",
       "      'referralId': 'e-0-51c443f3498ea04548bc2385-22'},\n",
       "     {'reasons': {'count': 0,\n",
       "       'items': [{'summary': 'This spot is popular',\n",
       "         'type': 'general',\n",
       "         'reasonName': 'globalInteractionReason'}]},\n",
       "      'venue': {'id': '56c6378b498ea2ced6abe14c',\n",
       "       'name': 'Starbucks',\n",
       "       'contact': {},\n",
       "       'location': {'address': '56-58 Drury St',\n",
       "        'lat': 53.34184504802176,\n",
       "        'lng': -6.263727292940942,\n",
       "        'labeledLatLngs': [{'label': 'display',\n",
       "          'lat': 53.34184504802176,\n",
       "          'lng': -6.263727292940942}],\n",
       "        'distance': 1968,\n",
       "        'postalCode': '2',\n",
       "        'cc': 'IE',\n",
       "        'city': 'Dublin',\n",
       "        'state': 'Dublin City',\n",
       "        'country': 'Ireland',\n",
       "        'formattedAddress': ['56-58 Drury St',\n",
       "         'Dublin',\n",
       "         'Dublin City',\n",
       "         'Ireland']},\n",
       "       'categories': [{'id': '4bf58dd8d48988d1e0931735',\n",
       "         'name': 'Coffee Shop',\n",
       "         'pluralName': 'Coffee Shops',\n",
       "         'shortName': 'Coffee Shop',\n",
       "         'icon': {'prefix': 'https://ss3.4sqi.net/img/categories_v2/food/coffeeshop_',\n",
       "          'suffix': '.png'},\n",
       "         'primary': True}],\n",
       "       'verified': False,\n",
       "       'stats': {'tipCount': 0,\n",
       "        'usersCount': 0,\n",
       "        'checkinsCount': 0,\n",
       "        'visitsCount': 0},\n",
       "       'beenHere': {'count': 0,\n",
       "        'lastCheckinExpiredAt': 0,\n",
       "        'marked': False,\n",
       "        'unconfirmedCount': 0},\n",
       "       'photos': {'count': 0, 'groups': []},\n",
       "       'hereNow': {'count': 0, 'summary': 'Nobody here', 'groups': []}},\n",
       "      'referralId': 'e-0-56c6378b498ea2ced6abe14c-23'},\n",
       "     {'reasons': {'count': 0,\n",
       "       'items': [{'summary': 'This spot is popular',\n",
       "         'type': 'general',\n",
       "         'reasonName': 'globalInteractionReason'}]},\n",
       "      'venue': {'id': '4af9a658f964a520e31222e3',\n",
       "       'name': 'Starbucks',\n",
       "       'contact': {},\n",
       "       'location': {'address': '51 Dawson St',\n",
       "        'lat': 53.341974186416195,\n",
       "        'lng': -6.257955002930548,\n",
       "        'labeledLatLngs': [{'label': 'display',\n",
       "          'lat': 53.341974186416195,\n",
       "          'lng': -6.257955002930548}],\n",
       "        'distance': 1592,\n",
       "        'postalCode': '2',\n",
       "        'cc': 'IE',\n",
       "        'city': 'Dublin',\n",
       "        'state': 'Dublin City',\n",
       "        'country': 'Ireland',\n",
       "        'formattedAddress': ['51 Dawson St',\n",
       "         'Dublin',\n",
       "         'Dublin City',\n",
       "         'Ireland']},\n",
       "       'categories': [{'id': '4bf58dd8d48988d1e0931735',\n",
       "         'name': 'Coffee Shop',\n",
       "         'pluralName': 'Coffee Shops',\n",
       "         'shortName': 'Coffee Shop',\n",
       "         'icon': {'prefix': 'https://ss3.4sqi.net/img/categories_v2/food/coffeeshop_',\n",
       "          'suffix': '.png'},\n",
       "         'primary': True}],\n",
       "       'verified': True,\n",
       "       'stats': {'tipCount': 0,\n",
       "        'usersCount': 0,\n",
       "        'checkinsCount': 0,\n",
       "        'visitsCount': 0},\n",
       "       'beenHere': {'count': 0,\n",
       "        'lastCheckinExpiredAt': 0,\n",
       "        'marked': False,\n",
       "        'unconfirmedCount': 0},\n",
       "       'photos': {'count': 0, 'groups': []},\n",
       "       'hereNow': {'count': 0, 'summary': 'Nobody here', 'groups': []}},\n",
       "      'referralId': 'e-0-4af9a658f964a520e31222e3-24'},\n",
       "     {'reasons': {'count': 0,\n",
       "       'items': [{'summary': 'This spot is popular',\n",
       "         'type': 'general',\n",
       "         'reasonName': 'globalInteractionReason'}]},\n",
       "      'venue': {'id': '5290d704498e2d5c6000a181',\n",
       "       'name': 'Starbucks',\n",
       "       'contact': {},\n",
       "       'location': {'address': \"32 Lower O'Connell St\",\n",
       "        'lat': 53.34967913192385,\n",
       "        'lng': -6.259834819120199,\n",
       "        'labeledLatLngs': [{'label': 'display',\n",
       "          'lat': 53.34967913192385,\n",
       "          'lng': -6.259834819120199}],\n",
       "        'distance': 2048,\n",
       "        'postalCode': '1',\n",
       "        'cc': 'IE',\n",
       "        'city': 'Dublin',\n",
       "        'state': 'Dublin City',\n",
       "        'country': 'Ireland',\n",
       "        'formattedAddress': [\"32 Lower O'Connell St\",\n",
       "         'Dublin',\n",
       "         'Dublin City',\n",
       "         'Ireland']},\n",
       "       'categories': [{'id': '4bf58dd8d48988d1e0931735',\n",
       "         'name': 'Coffee Shop',\n",
       "         'pluralName': 'Coffee Shops',\n",
       "         'shortName': 'Coffee Shop',\n",
       "         'icon': {'prefix': 'https://ss3.4sqi.net/img/categories_v2/food/coffeeshop_',\n",
       "          'suffix': '.png'},\n",
       "         'primary': True}],\n",
       "       'verified': False,\n",
       "       'stats': {'tipCount': 0,\n",
       "        'usersCount': 0,\n",
       "        'checkinsCount': 0,\n",
       "        'visitsCount': 0},\n",
       "       'beenHere': {'count': 0,\n",
       "        'lastCheckinExpiredAt': 0,\n",
       "        'marked': False,\n",
       "        'unconfirmedCount': 0},\n",
       "       'photos': {'count': 0, 'groups': []},\n",
       "       'hereNow': {'count': 0, 'summary': 'Nobody here', 'groups': []}},\n",
       "      'referralId': 'e-0-5290d704498e2d5c6000a181-25'},\n",
       "     {'reasons': {'count': 0,\n",
       "       'items': [{'summary': 'This spot is popular',\n",
       "         'type': 'general',\n",
       "         'reasonName': 'globalInteractionReason'}]},\n",
       "      'venue': {'id': '546d319d498e70143cc7f42a',\n",
       "       'name': 'Starbucks',\n",
       "       'contact': {},\n",
       "       'location': {'address': \"18-21 Saint-Stephen's Green\",\n",
       "        'lat': 53.34746997409658,\n",
       "        'lng': -6.278566141041983,\n",
       "        'labeledLatLngs': [{'label': 'display',\n",
       "          'lat': 53.34746997409658,\n",
       "          'lng': -6.278566141041983}],\n",
       "        'distance': 3072,\n",
       "        'cc': 'IE',\n",
       "        'city': 'Dublin',\n",
       "        'state': 'Dublin City',\n",
       "        'country': 'Ireland',\n",
       "        'formattedAddress': [\"18-21 Saint-Stephen's Green\",\n",
       "         'Dublin',\n",
       "         'Dublin City',\n",
       "         'Ireland']},\n",
       "       'categories': [{'id': '4bf58dd8d48988d1e0931735',\n",
       "         'name': 'Coffee Shop',\n",
       "         'pluralName': 'Coffee Shops',\n",
       "         'shortName': 'Coffee Shop',\n",
       "         'icon': {'prefix': 'https://ss3.4sqi.net/img/categories_v2/food/coffeeshop_',\n",
       "          'suffix': '.png'},\n",
       "         'primary': True}],\n",
       "       'verified': False,\n",
       "       'stats': {'tipCount': 0,\n",
       "        'usersCount': 0,\n",
       "        'checkinsCount': 0,\n",
       "        'visitsCount': 0},\n",
       "       'beenHere': {'count': 0,\n",
       "        'lastCheckinExpiredAt': 0,\n",
       "        'marked': False,\n",
       "        'unconfirmedCount': 0},\n",
       "       'photos': {'count': 0, 'groups': []},\n",
       "       'hereNow': {'count': 0, 'summary': 'Nobody here', 'groups': []}},\n",
       "      'referralId': 'e-0-546d319d498e70143cc7f42a-26'},\n",
       "     {'reasons': {'count': 0,\n",
       "       'items': [{'summary': 'This spot is popular',\n",
       "         'type': 'general',\n",
       "         'reasonName': 'globalInteractionReason'}]},\n",
       "      'venue': {'id': '5625ec5a498ec7442296c089',\n",
       "       'name': 'Starbucks',\n",
       "       'contact': {},\n",
       "       'location': {'address': 'S Circular Rd',\n",
       "        'lat': 53.330664,\n",
       "        'lng': -6.278132,\n",
       "        'labeledLatLngs': [{'label': 'display',\n",
       "          'lat': 53.330664,\n",
       "          'lng': -6.278132}],\n",
       "        'distance': 3058,\n",
       "        'cc': 'IE',\n",
       "        'city': 'Dublin',\n",
       "        'state': 'Dublin City',\n",
       "        'country': 'Ireland',\n",
       "        'formattedAddress': ['S Circular Rd',\n",
       "         'Dublin',\n",
       "         'Dublin City',\n",
       "         'Ireland']},\n",
       "       'categories': [{'id': '4bf58dd8d48988d1e0931735',\n",
       "         'name': 'Coffee Shop',\n",
       "         'pluralName': 'Coffee Shops',\n",
       "         'shortName': 'Coffee Shop',\n",
       "         'icon': {'prefix': 'https://ss3.4sqi.net/img/categories_v2/food/coffeeshop_',\n",
       "          'suffix': '.png'},\n",
       "         'primary': True}],\n",
       "       'verified': False,\n",
       "       'stats': {'tipCount': 0,\n",
       "        'usersCount': 0,\n",
       "        'checkinsCount': 0,\n",
       "        'visitsCount': 0},\n",
       "       'beenHere': {'count': 0,\n",
       "        'lastCheckinExpiredAt': 0,\n",
       "        'marked': False,\n",
       "        'unconfirmedCount': 0},\n",
       "       'photos': {'count': 0, 'groups': []},\n",
       "       'hereNow': {'count': 0, 'summary': 'Nobody here', 'groups': []}},\n",
       "      'referralId': 'e-0-5625ec5a498ec7442296c089-27'},\n",
       "     {'reasons': {'count': 0,\n",
       "       'items': [{'summary': 'This spot is popular',\n",
       "         'type': 'general',\n",
       "         'reasonName': 'globalInteractionReason'}]},\n",
       "      'venue': {'id': '525abfc811d27325cdd1bc68',\n",
       "       'name': 'Starbucks',\n",
       "       'contact': {},\n",
       "       'location': {'address': '224-228 Rathmines Rd Lower',\n",
       "        'lat': 53.323352917660294,\n",
       "        'lng': -6.265476655669059,\n",
       "        'labeledLatLngs': [{'label': 'display',\n",
       "          'lat': 53.323352917660294,\n",
       "          'lng': -6.265476655669059}],\n",
       "        'distance': 2719,\n",
       "        'postalCode': '6',\n",
       "        'cc': 'IE',\n",
       "        'city': 'Rathmines',\n",
       "        'state': 'Dublin City',\n",
       "        'country': 'Ireland',\n",
       "        'formattedAddress': ['224-228 Rathmines Rd Lower',\n",
       "         'Rathmines',\n",
       "         'Dublin City',\n",
       "         'Ireland']},\n",
       "       'categories': [{'id': '4bf58dd8d48988d1e0931735',\n",
       "         'name': 'Coffee Shop',\n",
       "         'pluralName': 'Coffee Shops',\n",
       "         'shortName': 'Coffee Shop',\n",
       "         'icon': {'prefix': 'https://ss3.4sqi.net/img/categories_v2/food/coffeeshop_',\n",
       "          'suffix': '.png'},\n",
       "         'primary': True}],\n",
       "       'verified': False,\n",
       "       'stats': {'tipCount': 0,\n",
       "        'usersCount': 0,\n",
       "        'checkinsCount': 0,\n",
       "        'visitsCount': 0},\n",
       "       'beenHere': {'count': 0,\n",
       "        'lastCheckinExpiredAt': 0,\n",
       "        'marked': False,\n",
       "        'unconfirmedCount': 0},\n",
       "       'photos': {'count': 0, 'groups': []},\n",
       "       'hereNow': {'count': 0, 'summary': 'Nobody here', 'groups': []}},\n",
       "      'referralId': 'e-0-525abfc811d27325cdd1bc68-28'},\n",
       "     {'reasons': {'count': 0,\n",
       "       'items': [{'summary': 'This spot is popular',\n",
       "         'type': 'general',\n",
       "         'reasonName': 'globalInteractionReason'}]},\n",
       "      'venue': {'id': '4f4f9632e4b008082c7f96a8',\n",
       "       'name': 'Starbucks',\n",
       "       'contact': {},\n",
       "       'location': {'address': 'Ilac Shopping Centre',\n",
       "        'crossStreet': 'Parnell St',\n",
       "        'lat': 53.35008256240835,\n",
       "        'lng': -6.264009007752044,\n",
       "        'labeledLatLngs': [{'label': 'display',\n",
       "          'lat': 53.35008256240835,\n",
       "          'lng': -6.264009007752044}],\n",
       "        'distance': 2305,\n",
       "        'postalCode': '1',\n",
       "        'cc': 'IE',\n",
       "        'city': 'Dublin',\n",
       "        'state': 'Dublin City',\n",
       "        'country': 'Ireland',\n",
       "        'formattedAddress': ['Ilac Shopping Centre (Parnell St)',\n",
       "         'Dublin',\n",
       "         'Dublin City',\n",
       "         'Ireland']},\n",
       "       'categories': [{'id': '4bf58dd8d48988d1e0931735',\n",
       "         'name': 'Coffee Shop',\n",
       "         'pluralName': 'Coffee Shops',\n",
       "         'shortName': 'Coffee Shop',\n",
       "         'icon': {'prefix': 'https://ss3.4sqi.net/img/categories_v2/food/coffeeshop_',\n",
       "          'suffix': '.png'},\n",
       "         'primary': True}],\n",
       "       'verified': True,\n",
       "       'stats': {'tipCount': 0,\n",
       "        'usersCount': 0,\n",
       "        'checkinsCount': 0,\n",
       "        'visitsCount': 0},\n",
       "       'beenHere': {'count': 0,\n",
       "        'lastCheckinExpiredAt': 0,\n",
       "        'marked': False,\n",
       "        'unconfirmedCount': 0},\n",
       "       'photos': {'count': 0, 'groups': []},\n",
       "       'hereNow': {'count': 0, 'summary': 'Nobody here', 'groups': []}},\n",
       "      'referralId': 'e-0-4f4f9632e4b008082c7f96a8-29'},\n",
       "     {'reasons': {'count': 0,\n",
       "       'items': [{'summary': 'This spot is popular',\n",
       "         'type': 'general',\n",
       "         'reasonName': 'globalInteractionReason'}]},\n",
       "      'venue': {'id': '4f314cb5e4b08cb90be12388',\n",
       "       'name': 'Starbucks',\n",
       "       'contact': {},\n",
       "       'location': {'address': 'Quinn School of Business, UCD',\n",
       "        'lat': 53.30464877188994,\n",
       "        'lng': -6.219766810427861,\n",
       "        'labeledLatLngs': [{'label': 'display',\n",
       "          'lat': 53.30464877188994,\n",
       "          'lng': -6.219766810427861}],\n",
       "        'distance': 3974,\n",
       "        'postalCode': '4',\n",
       "        'cc': 'IE',\n",
       "        'city': 'Dublin',\n",
       "        'state': 'Dublin City',\n",
       "        'country': 'Ireland',\n",
       "        'formattedAddress': ['Quinn School of Business, UCD',\n",
       "         'Dublin',\n",
       "         'Dublin City',\n",
       "         'Ireland']},\n",
       "       'categories': [{'id': '4bf58dd8d48988d1e0931735',\n",
       "         'name': 'Coffee Shop',\n",
       "         'pluralName': 'Coffee Shops',\n",
       "         'shortName': 'Coffee Shop',\n",
       "         'icon': {'prefix': 'https://ss3.4sqi.net/img/categories_v2/food/coffeeshop_',\n",
       "          'suffix': '.png'},\n",
       "         'primary': True}],\n",
       "       'verified': False,\n",
       "       'stats': {'tipCount': 0,\n",
       "        'usersCount': 0,\n",
       "        'checkinsCount': 0,\n",
       "        'visitsCount': 0},\n",
       "       'beenHere': {'count': 0,\n",
       "        'lastCheckinExpiredAt': 0,\n",
       "        'marked': False,\n",
       "        'unconfirmedCount': 0},\n",
       "       'photos': {'count': 0, 'groups': []},\n",
       "       'hereNow': {'count': 0, 'summary': 'Nobody here', 'groups': []}},\n",
       "      'referralId': 'e-0-4f314cb5e4b08cb90be12388-30'},\n",
       "     {'reasons': {'count': 0,\n",
       "       'items': [{'summary': 'This spot is popular',\n",
       "         'type': 'general',\n",
       "         'reasonName': 'globalInteractionReason'}]},\n",
       "      'venue': {'id': '57273bf2498ea2e8d486b70d',\n",
       "       'name': 'Starbucks',\n",
       "       'contact': {},\n",
       "       'location': {'address': '1 Upper Rathmines Road',\n",
       "        'lat': 53.32161722780597,\n",
       "        'lng': -6.266315751082181,\n",
       "        'labeledLatLngs': [{'label': 'display',\n",
       "          'lat': 53.32161722780597,\n",
       "          'lng': -6.266315751082181}],\n",
       "        'distance': 2889,\n",
       "        'cc': 'IE',\n",
       "        'city': 'Dublin',\n",
       "        'state': 'Dublin City',\n",
       "        'country': 'Ireland',\n",
       "        'formattedAddress': ['1 Upper Rathmines Road',\n",
       "         'Dublin',\n",
       "         'Dublin City',\n",
       "         'Ireland']},\n",
       "       'categories': [{'id': '4bf58dd8d48988d1e0931735',\n",
       "         'name': 'Coffee Shop',\n",
       "         'pluralName': 'Coffee Shops',\n",
       "         'shortName': 'Coffee Shop',\n",
       "         'icon': {'prefix': 'https://ss3.4sqi.net/img/categories_v2/food/coffeeshop_',\n",
       "          'suffix': '.png'},\n",
       "         'primary': True}],\n",
       "       'verified': False,\n",
       "       'stats': {'tipCount': 0,\n",
       "        'usersCount': 0,\n",
       "        'checkinsCount': 0,\n",
       "        'visitsCount': 0},\n",
       "       'beenHere': {'count': 0,\n",
       "        'lastCheckinExpiredAt': 0,\n",
       "        'marked': False,\n",
       "        'unconfirmedCount': 0},\n",
       "       'photos': {'count': 0, 'groups': []},\n",
       "       'hereNow': {'count': 0, 'summary': 'Nobody here', 'groups': []}},\n",
       "      'referralId': 'e-0-57273bf2498ea2e8d486b70d-31'},\n",
       "     {'reasons': {'count': 0,\n",
       "       'items': [{'summary': 'This spot is popular',\n",
       "         'type': 'general',\n",
       "         'reasonName': 'globalInteractionReason'}]},\n",
       "      'venue': {'id': '4b40cf81f964a52070bb25e3',\n",
       "       'name': 'Starbucks',\n",
       "       'contact': {},\n",
       "       'location': {'address': 'Main St',\n",
       "        'lat': 53.30224200442382,\n",
       "        'lng': -6.179060910085332,\n",
       "        'labeledLatLngs': [{'label': 'display',\n",
       "          'lat': 53.30224200442382,\n",
       "          'lng': -6.179060910085332}],\n",
       "        'distance': 5525,\n",
       "        'cc': 'IE',\n",
       "        'city': 'Blackrock',\n",
       "        'country': 'Ireland',\n",
       "        'formattedAddress': ['Main St', 'Blackrock', 'Ireland']},\n",
       "       'categories': [{'id': '4bf58dd8d48988d1e0931735',\n",
       "         'name': 'Coffee Shop',\n",
       "         'pluralName': 'Coffee Shops',\n",
       "         'shortName': 'Coffee Shop',\n",
       "         'icon': {'prefix': 'https://ss3.4sqi.net/img/categories_v2/food/coffeeshop_',\n",
       "          'suffix': '.png'},\n",
       "         'primary': True}],\n",
       "       'verified': True,\n",
       "       'stats': {'tipCount': 0,\n",
       "        'usersCount': 0,\n",
       "        'checkinsCount': 0,\n",
       "        'visitsCount': 0},\n",
       "       'beenHere': {'count': 0,\n",
       "        'lastCheckinExpiredAt': 0,\n",
       "        'marked': False,\n",
       "        'unconfirmedCount': 0},\n",
       "       'photos': {'count': 0, 'groups': []},\n",
       "       'hereNow': {'count': 0, 'summary': 'Nobody here', 'groups': []}},\n",
       "      'flags': {'outsideRadius': True},\n",
       "      'referralId': 'e-0-4b40cf81f964a52070bb25e3-32'},\n",
       "     {'reasons': {'count': 0,\n",
       "       'items': [{'summary': 'This spot is popular',\n",
       "         'type': 'general',\n",
       "         'reasonName': 'globalInteractionReason'}]},\n",
       "      'venue': {'id': '50420216e4b0af4f72f5928e',\n",
       "       'name': 'Starbucks',\n",
       "       'contact': {},\n",
       "       'location': {'address': 'Unit F1, Nutgrove Shopping Centre',\n",
       "        'lat': 53.289939683245194,\n",
       "        'lng': -6.267722287892858,\n",
       "        'labeledLatLngs': [{'label': 'display',\n",
       "          'lat': 53.289939683245194,\n",
       "          'lng': -6.267722287892858}],\n",
       "        'distance': 5919,\n",
       "        'postalCode': '14',\n",
       "        'cc': 'IE',\n",
       "        'city': 'Rathmines',\n",
       "        'state': 'Dublin City',\n",
       "        'country': 'Ireland',\n",
       "        'formattedAddress': ['Unit F1, Nutgrove Shopping Centre',\n",
       "         'Rathmines',\n",
       "         'Dublin City',\n",
       "         'Ireland']},\n",
       "       'categories': [{'id': '4bf58dd8d48988d1e0931735',\n",
       "         'name': 'Coffee Shop',\n",
       "         'pluralName': 'Coffee Shops',\n",
       "         'shortName': 'Coffee Shop',\n",
       "         'icon': {'prefix': 'https://ss3.4sqi.net/img/categories_v2/food/coffeeshop_',\n",
       "          'suffix': '.png'},\n",
       "         'primary': True}],\n",
       "       'verified': False,\n",
       "       'stats': {'tipCount': 0,\n",
       "        'usersCount': 0,\n",
       "        'checkinsCount': 0,\n",
       "        'visitsCount': 0},\n",
       "       'beenHere': {'count': 0,\n",
       "        'lastCheckinExpiredAt': 0,\n",
       "        'marked': False,\n",
       "        'unconfirmedCount': 0},\n",
       "       'photos': {'count': 0, 'groups': []},\n",
       "       'hereNow': {'count': 0, 'summary': 'Nobody here', 'groups': []}},\n",
       "      'flags': {'outsideRadius': True},\n",
       "      'referralId': 'e-0-50420216e4b0af4f72f5928e-33'},\n",
       "     {'reasons': {'count': 0,\n",
       "       'items': [{'summary': 'This spot is popular',\n",
       "         'type': 'general',\n",
       "         'reasonName': 'globalInteractionReason'}]},\n",
       "      'venue': {'id': '502904745dd7750e9d63bd13',\n",
       "       'name': 'Starbucks',\n",
       "       'contact': {},\n",
       "       'location': {'address': 'Dundrum Town Centre',\n",
       "        'crossStreet': 'Unit 17, Level 2',\n",
       "        'lat': 53.28648843363638,\n",
       "        'lng': -6.240518848467153,\n",
       "        'labeledLatLngs': [{'label': 'display',\n",
       "          'lat': 53.28648843363638,\n",
       "          'lng': -6.240518848467153}],\n",
       "        'distance': 5888,\n",
       "        'postalCode': '16',\n",
       "        'cc': 'IE',\n",
       "        'city': 'Dublin',\n",
       "        'state': 'Dublin City',\n",
       "        'country': 'Ireland',\n",
       "        'formattedAddress': ['Dundrum Town Centre (Unit 17, Level 2)',\n",
       "         'Dublin',\n",
       "         'Dublin City',\n",
       "         'Ireland']},\n",
       "       'categories': [{'id': '4bf58dd8d48988d1e0931735',\n",
       "         'name': 'Coffee Shop',\n",
       "         'pluralName': 'Coffee Shops',\n",
       "         'shortName': 'Coffee Shop',\n",
       "         'icon': {'prefix': 'https://ss3.4sqi.net/img/categories_v2/food/coffeeshop_',\n",
       "          'suffix': '.png'},\n",
       "         'primary': True}],\n",
       "       'verified': True,\n",
       "       'stats': {'tipCount': 0,\n",
       "        'usersCount': 0,\n",
       "        'checkinsCount': 0,\n",
       "        'visitsCount': 0},\n",
       "       'beenHere': {'count': 0,\n",
       "        'lastCheckinExpiredAt': 0,\n",
       "        'marked': False,\n",
       "        'unconfirmedCount': 0},\n",
       "       'photos': {'count': 0, 'groups': []},\n",
       "       'hereNow': {'count': 0, 'summary': 'Nobody here', 'groups': []}},\n",
       "      'flags': {'outsideRadius': True},\n",
       "      'referralId': 'e-0-502904745dd7750e9d63bd13-34'},\n",
       "     {'reasons': {'count': 0,\n",
       "       'items': [{'summary': 'This spot is popular',\n",
       "         'type': 'general',\n",
       "         'reasonName': 'globalInteractionReason'}]},\n",
       "      'venue': {'id': '4bfa38bf5ec320a1dd5c8bd3',\n",
       "       'name': 'Starbucks',\n",
       "       'contact': {},\n",
       "       'location': {'address': 'Unit B7 Beacon South Quarter',\n",
       "        'lat': 53.27751684412258,\n",
       "        'lng': -6.217148771473744,\n",
       "        'labeledLatLngs': [{'label': 'display',\n",
       "          'lat': 53.27751684412258,\n",
       "          'lng': -6.217148771473744}],\n",
       "        'distance': 6968,\n",
       "        'postalCode': '18',\n",
       "        'cc': 'IE',\n",
       "        'city': 'Dublin City',\n",
       "        'state': 'Dublin City',\n",
       "        'country': 'Ireland',\n",
       "        'formattedAddress': ['Unit B7 Beacon South Quarter',\n",
       "         'Dublin City',\n",
       "         'Dublin City',\n",
       "         'Ireland']},\n",
       "       'categories': [{'id': '4bf58dd8d48988d1e0931735',\n",
       "         'name': 'Coffee Shop',\n",
       "         'pluralName': 'Coffee Shops',\n",
       "         'shortName': 'Coffee Shop',\n",
       "         'icon': {'prefix': 'https://ss3.4sqi.net/img/categories_v2/food/coffeeshop_',\n",
       "          'suffix': '.png'},\n",
       "         'primary': True}],\n",
       "       'verified': False,\n",
       "       'stats': {'tipCount': 0,\n",
       "        'usersCount': 0,\n",
       "        'checkinsCount': 0,\n",
       "        'visitsCount': 0},\n",
       "       'beenHere': {'count': 0,\n",
       "        'lastCheckinExpiredAt': 0,\n",
       "        'marked': False,\n",
       "        'unconfirmedCount': 0},\n",
       "       'photos': {'count': 0, 'groups': []},\n",
       "       'hereNow': {'count': 0, 'summary': 'Nobody here', 'groups': []}},\n",
       "      'flags': {'outsideRadius': True},\n",
       "      'referralId': 'e-0-4bfa38bf5ec320a1dd5c8bd3-35'},\n",
       "     {'reasons': {'count': 0,\n",
       "       'items': [{'summary': 'This spot is popular',\n",
       "         'type': 'general',\n",
       "         'reasonName': 'globalInteractionReason'}]},\n",
       "      'venue': {'id': '56dae917cd1020ad8320d1b9',\n",
       "       'name': 'Starbucks',\n",
       "       'contact': {},\n",
       "       'location': {'address': 'Ashleaf Shopping Centre',\n",
       "        'lat': 53.31593483215347,\n",
       "        'lng': -6.317873965160244,\n",
       "        'labeledLatLngs': [{'label': 'display',\n",
       "          'lat': 53.31593483215347,\n",
       "          'lng': -6.317873965160244}],\n",
       "        'distance': 6124,\n",
       "        'cc': 'IE',\n",
       "        'city': 'Crumlin',\n",
       "        'country': 'Ireland',\n",
       "        'formattedAddress': ['Ashleaf Shopping Centre', 'Crumlin', 'Ireland']},\n",
       "       'categories': [{'id': '4bf58dd8d48988d1e0931735',\n",
       "         'name': 'Coffee Shop',\n",
       "         'pluralName': 'Coffee Shops',\n",
       "         'shortName': 'Coffee Shop',\n",
       "         'icon': {'prefix': 'https://ss3.4sqi.net/img/categories_v2/food/coffeeshop_',\n",
       "          'suffix': '.png'},\n",
       "         'primary': True}],\n",
       "       'verified': False,\n",
       "       'stats': {'tipCount': 0,\n",
       "        'usersCount': 0,\n",
       "        'checkinsCount': 0,\n",
       "        'visitsCount': 0},\n",
       "       'beenHere': {'count': 0,\n",
       "        'lastCheckinExpiredAt': 0,\n",
       "        'marked': False,\n",
       "        'unconfirmedCount': 0},\n",
       "       'photos': {'count': 0, 'groups': []},\n",
       "       'hereNow': {'count': 0, 'summary': 'Nobody here', 'groups': []}},\n",
       "      'flags': {'outsideRadius': True},\n",
       "      'referralId': 'e-0-56dae917cd1020ad8320d1b9-36'},\n",
       "     {'reasons': {'count': 0,\n",
       "       'items': [{'summary': 'This spot is popular',\n",
       "         'type': 'general',\n",
       "         'reasonName': 'globalInteractionReason'}]},\n",
       "      'venue': {'id': '506ada01e4b039256f01f94b',\n",
       "       'name': 'Starbucks',\n",
       "       'contact': {},\n",
       "       'location': {'address': 'Unit 44-45 Stillorgan Village',\n",
       "        'crossStreet': 'Lwr Kilmacud Rd',\n",
       "        'lat': 53.289098662674235,\n",
       "        'lng': -6.200354021526128,\n",
       "        'labeledLatLngs': [{'label': 'display',\n",
       "          'lat': 53.289098662674235,\n",
       "          'lng': -6.200354021526128}],\n",
       "        'distance': 6026,\n",
       "        'cc': 'IE',\n",
       "        'city': 'Stillorgan',\n",
       "        'country': 'Ireland',\n",
       "        'formattedAddress': ['Unit 44-45 Stillorgan Village (Lwr Kilmacud Rd)',\n",
       "         'Stillorgan',\n",
       "         'Ireland']},\n",
       "       'categories': [{'id': '4bf58dd8d48988d1e0931735',\n",
       "         'name': 'Coffee Shop',\n",
       "         'pluralName': 'Coffee Shops',\n",
       "         'shortName': 'Coffee Shop',\n",
       "         'icon': {'prefix': 'https://ss3.4sqi.net/img/categories_v2/food/coffeeshop_',\n",
       "          'suffix': '.png'},\n",
       "         'primary': True}],\n",
       "       'verified': False,\n",
       "       'stats': {'tipCount': 0,\n",
       "        'usersCount': 0,\n",
       "        'checkinsCount': 0,\n",
       "        'visitsCount': 0},\n",
       "       'beenHere': {'count': 0,\n",
       "        'lastCheckinExpiredAt': 0,\n",
       "        'marked': False,\n",
       "        'unconfirmedCount': 0},\n",
       "       'photos': {'count': 0, 'groups': []},\n",
       "       'hereNow': {'count': 0, 'summary': 'Nobody here', 'groups': []}},\n",
       "      'flags': {'outsideRadius': True},\n",
       "      'referralId': 'e-0-506ada01e4b039256f01f94b-37'},\n",
       "     {'reasons': {'count': 0,\n",
       "       'items': [{'summary': 'This spot is popular',\n",
       "         'type': 'general',\n",
       "         'reasonName': 'globalInteractionReason'}]},\n",
       "      'venue': {'id': '50bf88c2e4b0e4f9bff634d9',\n",
       "       'name': 'Starbucks',\n",
       "       'contact': {},\n",
       "       'location': {'address': 'Unit 3 Omni Park Shopping Centre',\n",
       "        'lat': 53.392696355098025,\n",
       "        'lng': -6.248581048597774,\n",
       "        'labeledLatLngs': [{'label': 'display',\n",
       "          'lat': 53.392696355098025,\n",
       "          'lng': -6.248581048597774}],\n",
       "        'distance': 6022,\n",
       "        'postalCode': '9',\n",
       "        'cc': 'IE',\n",
       "        'city': 'Santry',\n",
       "        'state': 'Dublin City',\n",
       "        'country': 'Ireland',\n",
       "        'formattedAddress': ['Unit 3 Omni Park Shopping Centre',\n",
       "         'Santry',\n",
       "         'Dublin City',\n",
       "         'Ireland']},\n",
       "       'categories': [{'id': '4bf58dd8d48988d1e0931735',\n",
       "         'name': 'Coffee Shop',\n",
       "         'pluralName': 'Coffee Shops',\n",
       "         'shortName': 'Coffee Shop',\n",
       "         'icon': {'prefix': 'https://ss3.4sqi.net/img/categories_v2/food/coffeeshop_',\n",
       "          'suffix': '.png'},\n",
       "         'primary': True}],\n",
       "       'verified': False,\n",
       "       'stats': {'tipCount': 0,\n",
       "        'usersCount': 0,\n",
       "        'checkinsCount': 0,\n",
       "        'visitsCount': 0},\n",
       "       'beenHere': {'count': 0,\n",
       "        'lastCheckinExpiredAt': 0,\n",
       "        'marked': False,\n",
       "        'unconfirmedCount': 0},\n",
       "       'photos': {'count': 0, 'groups': []},\n",
       "       'hereNow': {'count': 0, 'summary': 'Nobody here', 'groups': []}},\n",
       "      'flags': {'outsideRadius': True},\n",
       "      'referralId': 'e-0-50bf88c2e4b0e4f9bff634d9-38'},\n",
       "     {'reasons': {'count': 0,\n",
       "       'items': [{'summary': 'This spot is popular',\n",
       "         'type': 'general',\n",
       "         'reasonName': 'globalInteractionReason'}]},\n",
       "      'venue': {'id': '4b4d8710f964a520a0d326e3',\n",
       "       'name': 'Starbucks',\n",
       "       'contact': {},\n",
       "       'location': {'address': 'Dublin City University (DCU), Collins Ave.',\n",
       "        'lat': 53.38576975586781,\n",
       "        'lng': -6.258275832941519,\n",
       "        'labeledLatLngs': [{'label': 'display',\n",
       "          'lat': 53.38576975586781,\n",
       "          'lng': -6.258275832941519}],\n",
       "        'distance': 5414,\n",
       "        'postalCode': '9',\n",
       "        'cc': 'IE',\n",
       "        'city': 'Dublin',\n",
       "        'state': 'Dublin City',\n",
       "        'country': 'Ireland',\n",
       "        'formattedAddress': ['Dublin City University (DCU), Collins Ave.',\n",
       "         'Dublin',\n",
       "         'Dublin City',\n",
       "         'Ireland']},\n",
       "       'categories': [{'id': '4bf58dd8d48988d1e0931735',\n",
       "         'name': 'Coffee Shop',\n",
       "         'pluralName': 'Coffee Shops',\n",
       "         'shortName': 'Coffee Shop',\n",
       "         'icon': {'prefix': 'https://ss3.4sqi.net/img/categories_v2/food/coffeeshop_',\n",
       "          'suffix': '.png'},\n",
       "         'primary': True}],\n",
       "       'verified': False,\n",
       "       'stats': {'tipCount': 0,\n",
       "        'usersCount': 0,\n",
       "        'checkinsCount': 0,\n",
       "        'visitsCount': 0},\n",
       "       'beenHere': {'count': 0,\n",
       "        'lastCheckinExpiredAt': 0,\n",
       "        'marked': False,\n",
       "        'unconfirmedCount': 0},\n",
       "       'photos': {'count': 0, 'groups': []},\n",
       "       'hereNow': {'count': 0, 'summary': 'Nobody here', 'groups': []}},\n",
       "      'flags': {'outsideRadius': True},\n",
       "      'referralId': 'e-0-4b4d8710f964a520a0d326e3-39'},\n",
       "     {'reasons': {'count': 0,\n",
       "       'items': [{'summary': 'This spot is popular',\n",
       "         'type': 'general',\n",
       "         'reasonName': 'globalInteractionReason'}]},\n",
       "      'venue': {'id': '5274d7d7498edf71aa5c7c3b',\n",
       "       'name': 'Starbucks',\n",
       "       'contact': {},\n",
       "       'location': {'address': 'Dún Laoghaire Shopping Centre, 6-7 Marine Rd',\n",
       "        'lat': 53.29376633719481,\n",
       "        'lng': -6.134823513107181,\n",
       "        'labeledLatLngs': [{'label': 'display',\n",
       "          'lat': 53.29376633719481,\n",
       "          'lng': -6.134823513107181}],\n",
       "        'distance': 8338,\n",
       "        'cc': 'IE',\n",
       "        'city': 'Dún Laoghaire',\n",
       "        'country': 'Ireland',\n",
       "        'formattedAddress': ['Dún Laoghaire Shopping Centre, 6-7 Marine Rd',\n",
       "         'Dún Laoghaire',\n",
       "         'Ireland']},\n",
       "       'categories': [{'id': '4bf58dd8d48988d1e0931735',\n",
       "         'name': 'Coffee Shop',\n",
       "         'pluralName': 'Coffee Shops',\n",
       "         'shortName': 'Coffee Shop',\n",
       "         'icon': {'prefix': 'https://ss3.4sqi.net/img/categories_v2/food/coffeeshop_',\n",
       "          'suffix': '.png'},\n",
       "         'primary': True}],\n",
       "       'verified': False,\n",
       "       'stats': {'tipCount': 0,\n",
       "        'usersCount': 0,\n",
       "        'checkinsCount': 0,\n",
       "        'visitsCount': 0},\n",
       "       'beenHere': {'count': 0,\n",
       "        'lastCheckinExpiredAt': 0,\n",
       "        'marked': False,\n",
       "        'unconfirmedCount': 0},\n",
       "       'photos': {'count': 0, 'groups': []},\n",
       "       'hereNow': {'count': 0, 'summary': 'Nobody here', 'groups': []}},\n",
       "      'flags': {'outsideRadius': True},\n",
       "      'referralId': 'e-0-5274d7d7498edf71aa5c7c3b-40'},\n",
       "     {'reasons': {'count': 0,\n",
       "       'items': [{'summary': 'This spot is popular',\n",
       "         'type': 'general',\n",
       "         'reasonName': 'globalInteractionReason'}]},\n",
       "      'venue': {'id': '52826918498e5225316c5076',\n",
       "       'name': 'Starbucks',\n",
       "       'contact': {},\n",
       "       'location': {'address': 'The Square',\n",
       "        'lat': 53.28657637441447,\n",
       "        'lng': -6.371427349708497,\n",
       "        'labeledLatLngs': [{'label': 'display',\n",
       "          'lat': 53.28657637441447,\n",
       "          'lng': -6.371427349708497}],\n",
       "        'distance': 10835,\n",
       "        'postalCode': '24',\n",
       "        'cc': 'IE',\n",
       "        'city': 'Dublin',\n",
       "        'state': 'Dublin City',\n",
       "        'country': 'Ireland',\n",
       "        'formattedAddress': ['The Square',\n",
       "         'Dublin',\n",
       "         'Dublin City',\n",
       "         'Ireland']},\n",
       "       'categories': [{'id': '4bf58dd8d48988d1e0931735',\n",
       "         'name': 'Coffee Shop',\n",
       "         'pluralName': 'Coffee Shops',\n",
       "         'shortName': 'Coffee Shop',\n",
       "         'icon': {'prefix': 'https://ss3.4sqi.net/img/categories_v2/food/coffeeshop_',\n",
       "          'suffix': '.png'},\n",
       "         'primary': True}],\n",
       "       'verified': False,\n",
       "       'stats': {'tipCount': 0,\n",
       "        'usersCount': 0,\n",
       "        'checkinsCount': 0,\n",
       "        'visitsCount': 0},\n",
       "       'beenHere': {'count': 0,\n",
       "        'lastCheckinExpiredAt': 0,\n",
       "        'marked': False,\n",
       "        'unconfirmedCount': 0},\n",
       "       'photos': {'count': 0, 'groups': []},\n",
       "       'hereNow': {'count': 0, 'summary': 'Nobody here', 'groups': []}},\n",
       "      'flags': {'outsideRadius': True},\n",
       "      'referralId': 'e-0-52826918498e5225316c5076-41'}]}]}}"
      ]
     },
     "execution_count": 13,
     "metadata": {},
     "output_type": "execute_result"
    }
   ],
   "source": [
    "resp"
   ]
  },
  {
   "cell_type": "code",
   "execution_count": 9,
   "id": "e1f8099a",
   "metadata": {},
   "outputs": [
    {
     "data": {
      "text/plain": [
       "dict_keys(['meta', 'response'])"
      ]
     },
     "execution_count": 9,
     "metadata": {},
     "output_type": "execute_result"
    }
   ],
   "source": [
    "resp.keys()"
   ]
  },
  {
   "cell_type": "code",
   "execution_count": 10,
   "id": "73f018b7",
   "metadata": {},
   "outputs": [
    {
     "data": {
      "text/plain": [
       "'for k,v in data.items():\\n    print(k, \"-->\" , v)\\n'"
      ]
     },
     "execution_count": 10,
     "metadata": {},
     "output_type": "execute_result"
    }
   ],
   "source": [
    "\"\"\"for k,v in data.items():\n",
    "    print(k, \"-->\" , v)\n",
    "\"\"\""
   ]
  },
  {
   "cell_type": "code",
   "execution_count": 389,
   "id": "acc2f9d1",
   "metadata": {},
   "outputs": [],
   "source": [
    "data_dub= resp[\"response\"][\"groups\"][0][\"items\"]"
   ]
  },
  {
   "cell_type": "code",
   "execution_count": 152,
   "id": "195ae094",
   "metadata": {},
   "outputs": [
    {
     "data": {
      "text/plain": [
       "{'reasons': {'count': 0,\n",
       "  'items': [{'summary': 'This spot is popular',\n",
       "    'type': 'general',\n",
       "    'reasonName': 'globalInteractionReason'}]},\n",
       " 'venue': {'id': '56509b6f498eec7fabfde0d9',\n",
       "  'name': 'Starbucks',\n",
       "  'contact': {},\n",
       "  'location': {'address': 'Unit 3/20 Point Village',\n",
       "   'crossStreet': 'North Wall Quay',\n",
       "   'lat': 53.348445865236656,\n",
       "   'lng': -6.228475457226797,\n",
       "   'labeledLatLngs': [{'label': 'display',\n",
       "     'lat': 53.348445865236656,\n",
       "     'lng': -6.228475457226797}],\n",
       "   'distance': 1096,\n",
       "   'postalCode': '1',\n",
       "   'cc': 'IE',\n",
       "   'city': 'Dublin',\n",
       "   'state': 'Dublin City',\n",
       "   'country': 'Ireland',\n",
       "   'formattedAddress': ['Unit 3/20 Point Village (North Wall Quay)',\n",
       "    'Dublin',\n",
       "    'Dublin City',\n",
       "    'Ireland']},\n",
       "  'categories': [{'id': '4bf58dd8d48988d1e0931735',\n",
       "    'name': 'Coffee Shop',\n",
       "    'pluralName': 'Coffee Shops',\n",
       "    'shortName': 'Coffee Shop',\n",
       "    'icon': {'prefix': 'https://ss3.4sqi.net/img/categories_v2/food/coffeeshop_',\n",
       "     'suffix': '.png'},\n",
       "    'primary': True}],\n",
       "  'verified': False,\n",
       "  'stats': {'tipCount': 0,\n",
       "   'usersCount': 0,\n",
       "   'checkinsCount': 0,\n",
       "   'visitsCount': 0},\n",
       "  'beenHere': {'count': 0,\n",
       "   'lastCheckinExpiredAt': 0,\n",
       "   'marked': False,\n",
       "   'unconfirmedCount': 0},\n",
       "  'photos': {'count': 0, 'groups': []},\n",
       "  'hereNow': {'count': 0, 'summary': 'Nobody here', 'groups': []}},\n",
       " 'referralId': 'e-0-56509b6f498eec7fabfde0d9-0'}"
      ]
     },
     "execution_count": 152,
     "metadata": {},
     "output_type": "execute_result"
    }
   ],
   "source": [
    "data_dub[0]"
   ]
  },
  {
   "cell_type": "code",
   "execution_count": 390,
   "id": "775ab32b",
   "metadata": {},
   "outputs": [
    {
     "data": {
      "text/plain": [
       "42"
      ]
     },
     "execution_count": 390,
     "metadata": {},
     "output_type": "execute_result"
    }
   ],
   "source": [
    "len(data_dub)"
   ]
  },
  {
   "cell_type": "code",
   "execution_count": 391,
   "id": "1a1e2add",
   "metadata": {},
   "outputs": [
    {
     "data": {
      "text/plain": [
       "{'id': '56509b6f498eec7fabfde0d9',\n",
       " 'name': 'Starbucks',\n",
       " 'contact': {},\n",
       " 'location': {'address': 'Unit 3/20 Point Village',\n",
       "  'crossStreet': 'North Wall Quay',\n",
       "  'lat': 53.348445865236656,\n",
       "  'lng': -6.228475457226797,\n",
       "  'labeledLatLngs': [{'label': 'display',\n",
       "    'lat': 53.348445865236656,\n",
       "    'lng': -6.228475457226797}],\n",
       "  'distance': 1096,\n",
       "  'postalCode': '1',\n",
       "  'cc': 'IE',\n",
       "  'city': 'Dublin',\n",
       "  'state': 'Dublin City',\n",
       "  'country': 'Ireland',\n",
       "  'formattedAddress': ['Unit 3/20 Point Village (North Wall Quay)',\n",
       "   'Dublin',\n",
       "   'Dublin City',\n",
       "   'Ireland']},\n",
       " 'categories': [{'id': '4bf58dd8d48988d1e0931735',\n",
       "   'name': 'Coffee Shop',\n",
       "   'pluralName': 'Coffee Shops',\n",
       "   'shortName': 'Coffee Shop',\n",
       "   'icon': {'prefix': 'https://ss3.4sqi.net/img/categories_v2/food/coffeeshop_',\n",
       "    'suffix': '.png'},\n",
       "   'primary': True}],\n",
       " 'verified': False,\n",
       " 'stats': {'tipCount': 0,\n",
       "  'usersCount': 0,\n",
       "  'checkinsCount': 0,\n",
       "  'visitsCount': 0},\n",
       " 'beenHere': {'count': 0,\n",
       "  'lastCheckinExpiredAt': 0,\n",
       "  'marked': False,\n",
       "  'unconfirmedCount': 0},\n",
       " 'photos': {'count': 0, 'groups': []},\n",
       " 'hereNow': {'count': 0, 'summary': 'Nobody here', 'groups': []}}"
      ]
     },
     "execution_count": 391,
     "metadata": {},
     "output_type": "execute_result"
    }
   ],
   "source": [
    "data_dub[0][\"venue\"]"
   ]
  },
  {
   "cell_type": "code",
   "execution_count": 392,
   "id": "f8940a2c",
   "metadata": {},
   "outputs": [],
   "source": [
    "map_name = [\"venue\", \"name\"]\n",
    "map_latitud = [\"venue\", \"location\", \"lat\"]\n",
    "map_longitud = [\"venue\", \"location\", \"lng\"]\n",
    "map_address = [\"venue\", \"location\", \"formattedAddress\"]"
   ]
  },
  {
   "cell_type": "code",
   "execution_count": 393,
   "id": "84555cb8",
   "metadata": {},
   "outputs": [],
   "source": [
    "starbucks_json_dublin = []\n",
    "for dic in data_dub:\n",
    "    list_= {}\n",
    "    list_[\"latitud\"]= getFromDict(dic,map_latitud)\n",
    "    list_[\"longitud\"]= getFromDict(dic,map_longitud)\n",
    "    starbucks_json_dublin.append(list_)"
   ]
  },
  {
   "cell_type": "code",
   "execution_count": 394,
   "id": "eba8e705",
   "metadata": {},
   "outputs": [
    {
     "data": {
      "text/plain": [
       "{'latitud': 53.332519271367126, 'longitud': -6.243740895109762}"
      ]
     },
     "execution_count": 394,
     "metadata": {},
     "output_type": "execute_result"
    }
   ],
   "source": [
    "starbucks_json_dublin[1]"
   ]
  },
  {
   "cell_type": "code",
   "execution_count": 395,
   "id": "c96544dc",
   "metadata": {},
   "outputs": [],
   "source": [
    "with open('starbucks_dublin.json', 'w') as f:\n",
    "    json.dump(starbucks_json_dublin, f)"
   ]
  },
  {
   "cell_type": "markdown",
   "id": "3a489ddd",
   "metadata": {},
   "source": [
    "### Schools"
   ]
  },
  {
   "cell_type": "code",
   "execution_count": 349,
   "id": "5379e68f",
   "metadata": {},
   "outputs": [],
   "source": [
    "parametros_dub_school = {\n",
    "    \"client_id\": client_id,\n",
    "    \"client_secret\": client_secret,\n",
    "    \"v\": \"20180323\",\n",
    "    \"ll\": f\"{Dublin[0]}, {Dublin[1]}\",\n",
    "    \"query\": \"school\",\n",
    "    \"limit\": 70   \n",
    "}"
   ]
  },
  {
   "cell_type": "code",
   "execution_count": 350,
   "id": "85bee9a6",
   "metadata": {},
   "outputs": [],
   "source": [
    "resp = requests.get(url_query, params=parametros_dub_school).json()"
   ]
  },
  {
   "cell_type": "code",
   "execution_count": 351,
   "id": "6dcf6ad1",
   "metadata": {},
   "outputs": [],
   "source": [
    "data_dub_school= resp[\"response\"][\"groups\"][0][\"items\"]"
   ]
  },
  {
   "cell_type": "code",
   "execution_count": 352,
   "id": "84e03122",
   "metadata": {},
   "outputs": [
    {
     "data": {
      "text/plain": [
       "{'id': '4feaebfae4b0939697dd6a0b',\n",
       " 'name': 'Oscars English School',\n",
       " 'contact': {},\n",
       " 'location': {'address': '33-34 Dame St',\n",
       "  'lat': 53.34421435925228,\n",
       "  'lng': -6.263200257387125,\n",
       "  'labeledLatLngs': [{'label': 'display',\n",
       "    'lat': 53.34421435925228,\n",
       "    'lng': -6.263200257387125}],\n",
       "  'distance': 1989,\n",
       "  'postalCode': '2',\n",
       "  'cc': 'IE',\n",
       "  'city': 'Dublin',\n",
       "  'state': 'Dublin City',\n",
       "  'country': 'Ireland',\n",
       "  'formattedAddress': ['33-34 Dame St', 'Dublin', 'Dublin City', 'Ireland']},\n",
       " 'categories': [{'id': '52e81612bcbc57f1066b7a48',\n",
       "   'name': 'Language School',\n",
       "   'pluralName': 'Language Schools',\n",
       "   'shortName': 'Language School',\n",
       "   'icon': {'prefix': 'https://ss3.4sqi.net/img/categories_v2/education/default_',\n",
       "    'suffix': '.png'},\n",
       "   'primary': True}],\n",
       " 'verified': False,\n",
       " 'stats': {'tipCount': 0,\n",
       "  'usersCount': 0,\n",
       "  'checkinsCount': 0,\n",
       "  'visitsCount': 0},\n",
       " 'beenHere': {'count': 0,\n",
       "  'lastCheckinExpiredAt': 0,\n",
       "  'marked': False,\n",
       "  'unconfirmedCount': 0},\n",
       " 'photos': {'count': 0, 'groups': []},\n",
       " 'hereNow': {'count': 0, 'summary': 'Nobody here', 'groups': []}}"
      ]
     },
     "execution_count": 352,
     "metadata": {},
     "output_type": "execute_result"
    }
   ],
   "source": [
    "data_dub_school[0][\"venue\"]"
   ]
  },
  {
   "cell_type": "code",
   "execution_count": 353,
   "id": "7bbd2fc9",
   "metadata": {},
   "outputs": [
    {
     "data": {
      "text/plain": [
       "70"
      ]
     },
     "execution_count": 353,
     "metadata": {},
     "output_type": "execute_result"
    }
   ],
   "source": [
    "len(data_dub_school)"
   ]
  },
  {
   "cell_type": "code",
   "execution_count": 354,
   "id": "08df58ea",
   "metadata": {},
   "outputs": [],
   "source": [
    "schools_json_dublin = []\n",
    "for dic in data_dub_school:\n",
    "    list_= {}\n",
    "    list_[\"name\"]= getFromDict(dic,map_name)\n",
    "    list_[\"latitud\"]= getFromDict(dic,map_latitud)\n",
    "    list_[\"longitud\"]= getFromDict(dic,map_longitud)\n",
    "    list_[\"formattedAddress\"]= getFromDict(dic,map_address)\n",
    "    list_[\"location\"]=  type_point([list_[\"longitud\"],list_[\"latitud\"]])\n",
    "    schools_json_dublin.append(list_)"
   ]
  },
  {
   "cell_type": "code",
   "execution_count": 355,
   "id": "28763883",
   "metadata": {},
   "outputs": [
    {
     "data": {
      "text/plain": [
       "70"
      ]
     },
     "execution_count": 355,
     "metadata": {},
     "output_type": "execute_result"
    }
   ],
   "source": [
    "len(schools_json_dublin)"
   ]
  },
  {
   "cell_type": "code",
   "execution_count": 356,
   "id": "cefbab82",
   "metadata": {},
   "outputs": [],
   "source": [
    "with open('schools_dublin.json', 'w') as f:\n",
    "    json.dump(schools_json_dublin, f)"
   ]
  },
  {
   "cell_type": "markdown",
   "id": "a972d48d",
   "metadata": {},
   "source": [
    "### Nursery"
   ]
  },
  {
   "cell_type": "code",
   "execution_count": 412,
   "id": "c5808635",
   "metadata": {},
   "outputs": [],
   "source": [
    "parametros_dub_kin = {\n",
    "    \"client_id\": client_id,\n",
    "    \"client_secret\": client_secret,\n",
    "    \"v\": \"20180323\",\n",
    "    \"ll\": f\"{Dublin[0]}, {Dublin[1]}\",\n",
    "    \"query\": \"nursery\",\n",
    "    \"limit\": 70   \n",
    "}"
   ]
  },
  {
   "cell_type": "code",
   "execution_count": 413,
   "id": "b0b8308a",
   "metadata": {},
   "outputs": [],
   "source": [
    "resp = requests.get(url_query, params=parametros_dub_kin).json()"
   ]
  },
  {
   "cell_type": "code",
   "execution_count": 414,
   "id": "e2b4c50d",
   "metadata": {},
   "outputs": [],
   "source": [
    "data_dub_kind= resp[\"response\"][\"groups\"][0][\"items\"]"
   ]
  },
  {
   "cell_type": "code",
   "execution_count": 415,
   "id": "28733a09",
   "metadata": {},
   "outputs": [
    {
     "data": {
      "text/plain": [
       "{'id': '5a1c324a86f4cc016d4d0b25',\n",
       " 'name': \"Cuddles 'n Care Ltd\",\n",
       " 'contact': {},\n",
       " 'location': {'address': '1 St Patricks Parade,',\n",
       "  'lat': 53.3643315,\n",
       "  'lng': -6.2623168,\n",
       "  'labeledLatLngs': [{'label': 'display',\n",
       "    'lat': 53.3643315,\n",
       "    'lng': -6.2623168}],\n",
       "  'distance': 3350,\n",
       "  'postalCode': 'D09 Y99E',\n",
       "  'cc': 'IE',\n",
       "  'city': 'Dublin',\n",
       "  'state': 'Dublin City',\n",
       "  'country': 'Ireland',\n",
       "  'formattedAddress': ['1 St Patricks Parade,',\n",
       "   'Cabra - Drumcondra',\n",
       "   'Dublin City',\n",
       "   'Ireland']},\n",
       " 'categories': [{'id': '4f4533814b9074f6e4fb0107',\n",
       "   'name': 'Nursery School',\n",
       "   'pluralName': 'Nursery Schools',\n",
       "   'shortName': 'Nursery School',\n",
       "   'icon': {'prefix': 'https://ss3.4sqi.net/img/categories_v2/building/school_',\n",
       "    'suffix': '.png'},\n",
       "   'primary': True}],\n",
       " 'verified': False,\n",
       " 'stats': {'tipCount': 0,\n",
       "  'usersCount': 0,\n",
       "  'checkinsCount': 0,\n",
       "  'visitsCount': 0},\n",
       " 'beenHere': {'count': 0,\n",
       "  'lastCheckinExpiredAt': 0,\n",
       "  'marked': False,\n",
       "  'unconfirmedCount': 0},\n",
       " 'photos': {'count': 0, 'groups': []},\n",
       " 'hereNow': {'count': 0, 'summary': 'Nobody here', 'groups': []}}"
      ]
     },
     "execution_count": 415,
     "metadata": {},
     "output_type": "execute_result"
    }
   ],
   "source": [
    "data_dub_kind[3][\"venue\"]"
   ]
  },
  {
   "cell_type": "code",
   "execution_count": 416,
   "id": "a6d6c90d",
   "metadata": {},
   "outputs": [
    {
     "data": {
      "text/plain": [
       "4"
      ]
     },
     "execution_count": 416,
     "metadata": {},
     "output_type": "execute_result"
    }
   ],
   "source": [
    "len(data_dub_kind)"
   ]
  },
  {
   "cell_type": "code",
   "execution_count": 417,
   "id": "6875cd32",
   "metadata": {},
   "outputs": [],
   "source": [
    "nurs_json_dublin = []\n",
    "for dic in data_dub_kind:\n",
    "    list_= {}\n",
    "    list_[\"latitud\"]= getFromDict(dic,map_latitud)\n",
    "    list_[\"longitud\"]= getFromDict(dic,map_longitud)\n",
    "    nurs_json_dublin.append(list_)"
   ]
  },
  {
   "cell_type": "code",
   "execution_count": 418,
   "id": "03bb0e16",
   "metadata": {},
   "outputs": [
    {
     "data": {
      "text/plain": [
       "4"
      ]
     },
     "execution_count": 418,
     "metadata": {},
     "output_type": "execute_result"
    }
   ],
   "source": [
    "len(nurs_json_dublin)"
   ]
  },
  {
   "cell_type": "code",
   "execution_count": 419,
   "id": "17c638cb",
   "metadata": {},
   "outputs": [],
   "source": [
    "with open('nurs_dublin.json', 'w') as f:\n",
    "    json.dump(nurs_json_dublin, f)"
   ]
  },
  {
   "cell_type": "markdown",
   "id": "d19523ad",
   "metadata": {},
   "source": [
    "### Tech"
   ]
  },
  {
   "cell_type": "code",
   "execution_count": 436,
   "id": "96feb844",
   "metadata": {},
   "outputs": [],
   "source": [
    "parametros_dub = {\n",
    "    \"client_id\": client_id,\n",
    "    \"client_secret\": client_secret,\n",
    "    \"v\": \"20180323\",\n",
    "    \"ll\": f\"{Dublin[0]}, {Dublin[1]}\",\n",
    "    \"query\": \"tech\",\n",
    "    \"limit\": 50   \n",
    "}"
   ]
  },
  {
   "cell_type": "code",
   "execution_count": 437,
   "id": "94a87e6d",
   "metadata": {},
   "outputs": [],
   "source": [
    "resp = requests.get(url_query, params=parametros_dub).json()"
   ]
  },
  {
   "cell_type": "code",
   "execution_count": 438,
   "id": "a89922c2",
   "metadata": {},
   "outputs": [],
   "source": [
    "data_dub_tech= resp[\"response\"][\"groups\"][0][\"items\"]"
   ]
  },
  {
   "cell_type": "code",
   "execution_count": 439,
   "id": "4a4c818d",
   "metadata": {},
   "outputs": [
    {
     "data": {
      "text/plain": [
       "42"
      ]
     },
     "execution_count": 439,
     "metadata": {},
     "output_type": "execute_result"
    }
   ],
   "source": [
    "len(data_dub_tech)"
   ]
  },
  {
   "cell_type": "code",
   "execution_count": 440,
   "id": "2aa6484c",
   "metadata": {},
   "outputs": [
    {
     "data": {
      "text/plain": [
       "{'id': '4e01d74462e12fb0893b8203',\n",
       " 'name': 'VenueOne',\n",
       " 'contact': {},\n",
       " 'location': {'address': 'Trinity Technology and Enterprise Campus',\n",
       "  'lat': 53.341123249151835,\n",
       "  'lng': -6.241607666015625,\n",
       "  'labeledLatLngs': [{'label': 'display',\n",
       "    'lat': 53.341123249151835,\n",
       "    'lng': -6.241607666015625}],\n",
       "  'distance': 520,\n",
       "  'cc': 'IE',\n",
       "  'city': 'Dublin',\n",
       "  'country': 'Ireland',\n",
       "  'formattedAddress': ['Trinity Technology and Enterprise Campus',\n",
       "   'Dublin',\n",
       "   'Ireland']},\n",
       " 'categories': [{'id': '4bf58dd8d48988d125941735',\n",
       "   'name': 'Tech Startup',\n",
       "   'pluralName': 'Tech Startups',\n",
       "   'shortName': 'Tech Startup',\n",
       "   'icon': {'prefix': 'https://ss3.4sqi.net/img/categories_v2/shops/technology_',\n",
       "    'suffix': '.png'},\n",
       "   'primary': True}],\n",
       " 'verified': False,\n",
       " 'stats': {'tipCount': 0,\n",
       "  'usersCount': 0,\n",
       "  'checkinsCount': 0,\n",
       "  'visitsCount': 0},\n",
       " 'beenHere': {'count': 0,\n",
       "  'lastCheckinExpiredAt': 0,\n",
       "  'marked': False,\n",
       "  'unconfirmedCount': 0},\n",
       " 'photos': {'count': 0, 'groups': []},\n",
       " 'hereNow': {'count': 0, 'summary': 'Nobody here', 'groups': []}}"
      ]
     },
     "execution_count": 440,
     "metadata": {},
     "output_type": "execute_result"
    }
   ],
   "source": [
    "data_dub_tech[4][\"venue\"]"
   ]
  },
  {
   "cell_type": "code",
   "execution_count": 441,
   "id": "421c4bb9",
   "metadata": {},
   "outputs": [],
   "source": [
    "tech_json_dub = []\n",
    "for dic in data_dub_tech:\n",
    "    list_= {}\n",
    "    list_[\"latitud\"]= getFromDict(dic,map_latitud)\n",
    "    list_[\"longitud\"]= getFromDict(dic,map_longitud)\n",
    "    tech_json_dub.append(list_)"
   ]
  },
  {
   "cell_type": "code",
   "execution_count": 442,
   "id": "b753bf34",
   "metadata": {},
   "outputs": [
    {
     "data": {
      "text/plain": [
       "42"
      ]
     },
     "execution_count": 442,
     "metadata": {},
     "output_type": "execute_result"
    }
   ],
   "source": [
    "len(tech_json_dub)"
   ]
  },
  {
   "cell_type": "code",
   "execution_count": 443,
   "id": "8d3d5377",
   "metadata": {},
   "outputs": [],
   "source": [
    "with open('tech_dub.json', 'w') as f:\n",
    "    json.dump(tech_json_dub, f)"
   ]
  },
  {
   "cell_type": "markdown",
   "id": "383fa978",
   "metadata": {},
   "source": [
    "### Train Station"
   ]
  },
  {
   "cell_type": "code",
   "execution_count": 460,
   "id": "f2226a53",
   "metadata": {},
   "outputs": [],
   "source": [
    "parametros_dub = {\n",
    "    \"client_id\": client_id,\n",
    "    \"client_secret\": client_secret,\n",
    "    \"v\": \"20180323\",\n",
    "    \"ll\": f\"{Dublin[0]}, {Dublin[1]}\",\n",
    "    \"query\": \"train\",\n",
    "    \"limit\": 50   \n",
    "}"
   ]
  },
  {
   "cell_type": "code",
   "execution_count": 461,
   "id": "7396774b",
   "metadata": {},
   "outputs": [],
   "source": [
    "resp = requests.get(url_query, params=parametros_dub).json()"
   ]
  },
  {
   "cell_type": "code",
   "execution_count": 462,
   "id": "a68b8f1e",
   "metadata": {},
   "outputs": [],
   "source": [
    "data_dub_train= resp[\"response\"][\"groups\"][0][\"items\"]"
   ]
  },
  {
   "cell_type": "code",
   "execution_count": 463,
   "id": "937ae5b8",
   "metadata": {},
   "outputs": [
    {
     "data": {
      "text/plain": [
       "33"
      ]
     },
     "execution_count": 463,
     "metadata": {},
     "output_type": "execute_result"
    }
   ],
   "source": [
    "len(data_dub_train)"
   ]
  },
  {
   "cell_type": "code",
   "execution_count": 464,
   "id": "8ceb079d",
   "metadata": {},
   "outputs": [
    {
     "data": {
      "text/plain": [
       "{'id': '4c62448258810f4780ee061e',\n",
       " 'name': 'Platform 2',\n",
       " 'contact': {},\n",
       " 'location': {'address': 'Connolly Station, Amiens St',\n",
       "  'lat': 53.35183555895832,\n",
       "  'lng': -6.248647916860994,\n",
       "  'labeledLatLngs': [{'label': 'display',\n",
       "    'lat': 53.35183555895832,\n",
       "    'lng': -6.248647916860994}],\n",
       "  'distance': 1689,\n",
       "  'postalCode': '1',\n",
       "  'cc': 'IE',\n",
       "  'neighborhood': 'North Inner City',\n",
       "  'city': 'Dublin',\n",
       "  'state': 'Dublin City',\n",
       "  'country': 'Ireland',\n",
       "  'formattedAddress': ['Connolly Station, Amiens St',\n",
       "   'Dublin',\n",
       "   'Dublin City',\n",
       "   'Ireland']},\n",
       " 'categories': [{'id': '4f4531504b9074f6e4fb0102',\n",
       "   'name': 'Platform',\n",
       "   'pluralName': 'Platforms',\n",
       "   'shortName': 'Platform',\n",
       "   'icon': {'prefix': 'https://ss3.4sqi.net/img/categories_v2/travel/trainstation_',\n",
       "    'suffix': '.png'},\n",
       "   'primary': True}],\n",
       " 'verified': False,\n",
       " 'stats': {'tipCount': 0,\n",
       "  'usersCount': 0,\n",
       "  'checkinsCount': 0,\n",
       "  'visitsCount': 0},\n",
       " 'beenHere': {'count': 0,\n",
       "  'lastCheckinExpiredAt': 0,\n",
       "  'marked': False,\n",
       "  'unconfirmedCount': 0},\n",
       " 'photos': {'count': 0, 'groups': []},\n",
       " 'hereNow': {'count': 0, 'summary': 'Nobody here', 'groups': []}}"
      ]
     },
     "execution_count": 464,
     "metadata": {},
     "output_type": "execute_result"
    }
   ],
   "source": [
    "data_dub_train[19][\"venue\"]"
   ]
  },
  {
   "cell_type": "code",
   "execution_count": 465,
   "id": "7f38af0e",
   "metadata": {},
   "outputs": [],
   "source": [
    "train_json_dub = []\n",
    "for dic in data_dub_train:\n",
    "    list_= {}\n",
    "    list_[\"latitud\"]= getFromDict(dic,map_latitud)\n",
    "    list_[\"longitud\"]= getFromDict(dic,map_longitud)\n",
    "    train_json_dub.append(list_)"
   ]
  },
  {
   "cell_type": "code",
   "execution_count": 466,
   "id": "38236c3c",
   "metadata": {},
   "outputs": [
    {
     "data": {
      "text/plain": [
       "33"
      ]
     },
     "execution_count": 466,
     "metadata": {},
     "output_type": "execute_result"
    }
   ],
   "source": [
    "len(train_json_dub)"
   ]
  },
  {
   "cell_type": "code",
   "execution_count": 467,
   "id": "7d226408",
   "metadata": {},
   "outputs": [],
   "source": [
    "with open('train_dub.json', 'w') as f:\n",
    "    json.dump(train_json_dub, f)"
   ]
  },
  {
   "cell_type": "markdown",
   "id": "7ca1ae51",
   "metadata": {},
   "source": [
    "### Airport"
   ]
  },
  {
   "cell_type": "code",
   "execution_count": 468,
   "id": "fd3f9ef9",
   "metadata": {},
   "outputs": [],
   "source": [
    "parametros_dub = {\n",
    "    \"client_id\": client_id,\n",
    "    \"client_secret\": client_secret,\n",
    "    \"v\": \"20180323\",\n",
    "    \"ll\": f\"{Dublin[0]}, {Dublin[1]}\",\n",
    "    \"query\": \"aeropuerto\",\n",
    "    \"limit\": 50   \n",
    "}"
   ]
  },
  {
   "cell_type": "code",
   "execution_count": 469,
   "id": "8bf406a0",
   "metadata": {},
   "outputs": [],
   "source": [
    "resp = requests.get(url_query, params=parametros_dub).json()"
   ]
  },
  {
   "cell_type": "code",
   "execution_count": 471,
   "id": "32f0d7c9",
   "metadata": {},
   "outputs": [],
   "source": [
    "x = resp[\"response\"][\"groups\"][0][\"items\"]"
   ]
  },
  {
   "cell_type": "code",
   "execution_count": 472,
   "id": "09eebd01",
   "metadata": {},
   "outputs": [
    {
     "data": {
      "text/plain": [
       "{'reasons': {'count': 0,\n",
       "  'items': [{'summary': 'This spot is popular',\n",
       "    'type': 'general',\n",
       "    'reasonName': 'globalInteractionReason'}]},\n",
       " 'venue': {'id': '4ade0f75f964a520957221e3',\n",
       "  'name': 'Dublin Airport (DUB) (Dublin Airport)',\n",
       "  'contact': {},\n",
       "  'location': {'address': 'Corballis Rd',\n",
       "   'crossStreet': 'Swords Rd',\n",
       "   'lat': 53.42676630191229,\n",
       "   'lng': -6.243583275354467,\n",
       "   'labeledLatLngs': [{'label': 'display',\n",
       "     'lat': 53.42676630191229,\n",
       "     'lng': -6.243583275354467}],\n",
       "   'distance': 9760,\n",
       "   'postalCode': 'K67',\n",
       "   'cc': 'IE',\n",
       "   'city': 'Dublin',\n",
       "   'state': 'Dublin City',\n",
       "   'country': 'Ireland',\n",
       "   'formattedAddress': ['Corballis Rd (Swords Rd)',\n",
       "    'Dublin',\n",
       "    'Dublin City',\n",
       "    'Ireland']},\n",
       "  'categories': [{'id': '4bf58dd8d48988d1ed931735',\n",
       "    'name': 'Airport',\n",
       "    'pluralName': 'Airports',\n",
       "    'shortName': 'Airport',\n",
       "    'icon': {'prefix': 'https://ss3.4sqi.net/img/categories_v2/travel/airport_',\n",
       "     'suffix': '.png'},\n",
       "    'primary': True}],\n",
       "  'verified': True,\n",
       "  'stats': {'tipCount': 0,\n",
       "   'usersCount': 0,\n",
       "   'checkinsCount': 0,\n",
       "   'visitsCount': 0},\n",
       "  'beenHere': {'count': 0,\n",
       "   'lastCheckinExpiredAt': 0,\n",
       "   'marked': False,\n",
       "   'unconfirmedCount': 0},\n",
       "  'photos': {'count': 0, 'groups': []},\n",
       "  'venuePage': {'id': '39082871'},\n",
       "  'hereNow': {'count': 1,\n",
       "   'summary': 'One other person is here',\n",
       "   'groups': [{'type': 'others',\n",
       "     'name': 'Other people here',\n",
       "     'count': 1,\n",
       "     'items': []}]}},\n",
       " 'flags': {'outsideRadius': True},\n",
       " 'referralId': 'e-0-4ade0f75f964a520957221e3-0'}"
      ]
     },
     "execution_count": 472,
     "metadata": {},
     "output_type": "execute_result"
    }
   ],
   "source": [
    "x[0]"
   ]
  },
  {
   "cell_type": "code",
   "execution_count": 473,
   "id": "dcfb0dcc",
   "metadata": {},
   "outputs": [
    {
     "data": {
      "text/plain": [
       "2"
      ]
     },
     "execution_count": 473,
     "metadata": {},
     "output_type": "execute_result"
    }
   ],
   "source": [
    "len(x)"
   ]
  },
  {
   "cell_type": "code",
   "execution_count": 474,
   "id": "31ed15c9",
   "metadata": {},
   "outputs": [
    {
     "data": {
      "text/plain": [
       "{'id': '4ade0f75f964a520957221e3',\n",
       " 'name': 'Dublin Airport (DUB) (Dublin Airport)',\n",
       " 'contact': {},\n",
       " 'location': {'address': 'Corballis Rd',\n",
       "  'crossStreet': 'Swords Rd',\n",
       "  'lat': 53.42676630191229,\n",
       "  'lng': -6.243583275354467,\n",
       "  'labeledLatLngs': [{'label': 'display',\n",
       "    'lat': 53.42676630191229,\n",
       "    'lng': -6.243583275354467}],\n",
       "  'distance': 9760,\n",
       "  'postalCode': 'K67',\n",
       "  'cc': 'IE',\n",
       "  'city': 'Dublin',\n",
       "  'state': 'Dublin City',\n",
       "  'country': 'Ireland',\n",
       "  'formattedAddress': ['Corballis Rd (Swords Rd)',\n",
       "   'Dublin',\n",
       "   'Dublin City',\n",
       "   'Ireland']},\n",
       " 'categories': [{'id': '4bf58dd8d48988d1ed931735',\n",
       "   'name': 'Airport',\n",
       "   'pluralName': 'Airports',\n",
       "   'shortName': 'Airport',\n",
       "   'icon': {'prefix': 'https://ss3.4sqi.net/img/categories_v2/travel/airport_',\n",
       "    'suffix': '.png'},\n",
       "   'primary': True}],\n",
       " 'verified': True,\n",
       " 'stats': {'tipCount': 0,\n",
       "  'usersCount': 0,\n",
       "  'checkinsCount': 0,\n",
       "  'visitsCount': 0},\n",
       " 'beenHere': {'count': 0,\n",
       "  'lastCheckinExpiredAt': 0,\n",
       "  'marked': False,\n",
       "  'unconfirmedCount': 0},\n",
       " 'photos': {'count': 0, 'groups': []},\n",
       " 'venuePage': {'id': '39082871'},\n",
       " 'hereNow': {'count': 1,\n",
       "  'summary': 'One other person is here',\n",
       "  'groups': [{'type': 'others',\n",
       "    'name': 'Other people here',\n",
       "    'count': 1,\n",
       "    'items': []}]}}"
      ]
     },
     "execution_count": 474,
     "metadata": {},
     "output_type": "execute_result"
    }
   ],
   "source": [
    "x[0][\"venue\"]"
   ]
  },
  {
   "cell_type": "code",
   "execution_count": 475,
   "id": "eaeeb28e",
   "metadata": {},
   "outputs": [],
   "source": [
    "aero_json_dub = []\n",
    "for dic in x:\n",
    "    list_= {}\n",
    "    list_[\"latitud\"]= getFromDict(dic,map_latitud)\n",
    "    list_[\"longitud\"]= getFromDict(dic,map_longitud)\n",
    "    aero_json_dub.append(list_)"
   ]
  },
  {
   "cell_type": "code",
   "execution_count": 261,
   "id": "add72534",
   "metadata": {},
   "outputs": [
    {
     "data": {
      "text/plain": [
       "{'name': 'Dublin Airport (DUB) (Dublin Airport)',\n",
       " 'latitud': 53.42676630191229,\n",
       " 'longitud': -6.243583275354467,\n",
       " 'formattedAddress': ['Corballis Rd (Swords Rd)',\n",
       "  'Dublin',\n",
       "  'Dublin City',\n",
       "  'Ireland'],\n",
       " 'location': {'type': 'Point',\n",
       "  'coordinates': [53.42676630191229, -6.243583275354467]}}"
      ]
     },
     "execution_count": 261,
     "metadata": {},
     "output_type": "execute_result"
    }
   ],
   "source": [
    "aero_json_dub[0]"
   ]
  },
  {
   "cell_type": "code",
   "execution_count": 476,
   "id": "922de7bc",
   "metadata": {},
   "outputs": [],
   "source": [
    "with open('aero_dub.json', 'w') as f:\n",
    "    json.dump(aero_json_dub[0], f)"
   ]
  },
  {
   "cell_type": "markdown",
   "id": "5635334b",
   "metadata": {},
   "source": [
    "### Tram"
   ]
  },
  {
   "cell_type": "code",
   "execution_count": 477,
   "id": "465d1e7d",
   "metadata": {},
   "outputs": [],
   "source": [
    "parametros_dub = {\n",
    "    \"client_id\": client_id,\n",
    "    \"client_secret\": client_secret,\n",
    "    \"v\": \"20180323\",\n",
    "    \"ll\": f\"{Dublin[0]}, {Dublin[1]}\",\n",
    "    \"query\": \"tram\",\n",
    "    \"limit\": 50   \n",
    "}"
   ]
  },
  {
   "cell_type": "code",
   "execution_count": 478,
   "id": "554699a2",
   "metadata": {},
   "outputs": [],
   "source": [
    "resp = requests.get(url_query, params=parametros_dub).json()"
   ]
  },
  {
   "cell_type": "code",
   "execution_count": 479,
   "id": "b7f7e153",
   "metadata": {},
   "outputs": [],
   "source": [
    "data_dub_tram= resp[\"response\"][\"groups\"][0][\"items\"]"
   ]
  },
  {
   "cell_type": "code",
   "execution_count": 480,
   "id": "6b108e44",
   "metadata": {},
   "outputs": [
    {
     "data": {
      "text/plain": [
       "26"
      ]
     },
     "execution_count": 480,
     "metadata": {},
     "output_type": "execute_result"
    }
   ],
   "source": [
    "len(data_dub_tram)"
   ]
  },
  {
   "cell_type": "code",
   "execution_count": 481,
   "id": "e0afbb23",
   "metadata": {},
   "outputs": [
    {
     "data": {
      "text/plain": [
       "{'id': '4afef806f964a5203e3222e3',\n",
       " 'name': 'Ranelagh Luas',\n",
       " 'contact': {},\n",
       " 'location': {'address': 'Ranelagh',\n",
       "  'lat': 53.32629377700916,\n",
       "  'lng': -6.25609731297686,\n",
       "  'labeledLatLngs': [{'label': 'display',\n",
       "    'lat': 53.32629377700916,\n",
       "    'lng': -6.25609731297686}],\n",
       "  'distance': 2038,\n",
       "  'postalCode': '6',\n",
       "  'cc': 'IE',\n",
       "  'city': 'Dublin',\n",
       "  'state': 'Dublin City',\n",
       "  'country': 'Ireland',\n",
       "  'formattedAddress': ['Ranelagh', 'Dublin', 'Dublin City', 'Ireland']},\n",
       " 'categories': [{'id': '52f2ab2ebcbc57f1066b8b51',\n",
       "   'name': 'Tram Station',\n",
       "   'pluralName': 'Tram Stations',\n",
       "   'shortName': 'Tram',\n",
       "   'icon': {'prefix': 'https://ss3.4sqi.net/img/categories_v2/travel/trainstation_',\n",
       "    'suffix': '.png'},\n",
       "   'primary': True}],\n",
       " 'verified': False,\n",
       " 'stats': {'tipCount': 0,\n",
       "  'usersCount': 0,\n",
       "  'checkinsCount': 0,\n",
       "  'visitsCount': 0},\n",
       " 'beenHere': {'count': 0,\n",
       "  'lastCheckinExpiredAt': 0,\n",
       "  'marked': False,\n",
       "  'unconfirmedCount': 0},\n",
       " 'photos': {'count': 0, 'groups': []},\n",
       " 'hereNow': {'count': 0, 'summary': 'Nobody here', 'groups': []}}"
      ]
     },
     "execution_count": 481,
     "metadata": {},
     "output_type": "execute_result"
    }
   ],
   "source": [
    "data_dub_tram[2][\"venue\"]"
   ]
  },
  {
   "cell_type": "code",
   "execution_count": 482,
   "id": "6516eac7",
   "metadata": {},
   "outputs": [],
   "source": [
    "tram_json_dub = []\n",
    "for dic in data_dub_tram:\n",
    "    list_= {}\n",
    "    list_[\"latitud\"]= getFromDict(dic,map_latitud)\n",
    "    list_[\"longitud\"]= getFromDict(dic,map_longitud)\n",
    "    tram_json_dub.append(list_)"
   ]
  },
  {
   "cell_type": "code",
   "execution_count": 484,
   "id": "962143d1",
   "metadata": {},
   "outputs": [],
   "source": [
    "with open('tram_dub.json', 'w') as f:\n",
    "    json.dump(tram_json_dub, f)"
   ]
  },
  {
   "cell_type": "markdown",
   "id": "7f53b8df",
   "metadata": {},
   "source": [
    "## Manchester"
   ]
  },
  {
   "cell_type": "markdown",
   "id": "a59157b1",
   "metadata": {},
   "source": [
    "### Starbucks"
   ]
  },
  {
   "cell_type": "code",
   "execution_count": 212,
   "id": "78c87459",
   "metadata": {},
   "outputs": [],
   "source": [
    "Manchester = [53.476555291009824, -2.245396280521493]\n"
   ]
  },
  {
   "cell_type": "code",
   "execution_count": 396,
   "id": "df94442d",
   "metadata": {},
   "outputs": [],
   "source": [
    "parametros_man = {\n",
    "    \"client_id\": client_id,\n",
    "    \"client_secret\": client_secret,\n",
    "    \"v\": \"20180323\",\n",
    "    \"ll\": f\"{Manchester[0]}, {Manchester[1]}\",\n",
    "    \"query\": \"Starbucks\",\n",
    "    \"limit\": 100   \n",
    "}\n"
   ]
  },
  {
   "cell_type": "code",
   "execution_count": 397,
   "id": "4ed2a852",
   "metadata": {},
   "outputs": [],
   "source": [
    "resp = requests.get(url_query, params=parametros_man).json()"
   ]
  },
  {
   "cell_type": "code",
   "execution_count": 398,
   "id": "078238c4",
   "metadata": {},
   "outputs": [],
   "source": [
    "data_man= resp[\"response\"][\"groups\"][0][\"items\"]"
   ]
  },
  {
   "cell_type": "code",
   "execution_count": 399,
   "id": "1310863d",
   "metadata": {},
   "outputs": [
    {
     "data": {
      "text/plain": [
       "47"
      ]
     },
     "execution_count": 399,
     "metadata": {},
     "output_type": "execute_result"
    }
   ],
   "source": [
    "len(data_man)"
   ]
  },
  {
   "cell_type": "code",
   "execution_count": 400,
   "id": "7636e44b",
   "metadata": {},
   "outputs": [
    {
     "data": {
      "text/plain": [
       "{'id': '4aecb96cf964a520a2ca21e3',\n",
       " 'name': 'Starbucks',\n",
       " 'contact': {},\n",
       " 'location': {'address': '10 -12 Mount Street, Ground Floor  Television House',\n",
       "  'crossStreet': '10-12 Mount St',\n",
       "  'lat': 53.477957,\n",
       "  'lng': -2.245602,\n",
       "  'labeledLatLngs': [{'label': 'display', 'lat': 53.477957, 'lng': -2.245602}],\n",
       "  'distance': 156,\n",
       "  'postalCode': 'M2 5PB',\n",
       "  'cc': 'GB',\n",
       "  'neighborhood': 'City Centre',\n",
       "  'city': 'Manchester',\n",
       "  'state': 'Greater Manchester',\n",
       "  'country': 'United Kingdom',\n",
       "  'formattedAddress': ['10 -12 Mount Street, Ground Floor  Television House (10-12 Mount St)',\n",
       "   'Manchester',\n",
       "   'Greater Manchester',\n",
       "   'M2 5PB',\n",
       "   'United Kingdom']},\n",
       " 'categories': [{'id': '4bf58dd8d48988d1e0931735',\n",
       "   'name': 'Coffee Shop',\n",
       "   'pluralName': 'Coffee Shops',\n",
       "   'shortName': 'Coffee Shop',\n",
       "   'icon': {'prefix': 'https://ss3.4sqi.net/img/categories_v2/food/coffeeshop_',\n",
       "    'suffix': '.png'},\n",
       "   'primary': True}],\n",
       " 'verified': True,\n",
       " 'stats': {'tipCount': 0,\n",
       "  'usersCount': 0,\n",
       "  'checkinsCount': 0,\n",
       "  'visitsCount': 0},\n",
       " 'beenHere': {'count': 0,\n",
       "  'lastCheckinExpiredAt': 0,\n",
       "  'marked': False,\n",
       "  'unconfirmedCount': 0},\n",
       " 'photos': {'count': 0, 'groups': []},\n",
       " 'hereNow': {'count': 0, 'summary': 'Nobody here', 'groups': []}}"
      ]
     },
     "execution_count": 400,
     "metadata": {},
     "output_type": "execute_result"
    }
   ],
   "source": [
    "data_man[0][\"venue\"]"
   ]
  },
  {
   "cell_type": "code",
   "execution_count": 401,
   "id": "9d551810",
   "metadata": {},
   "outputs": [],
   "source": [
    "starbucks_json_man = []\n",
    "for dic in data_man:\n",
    "    list_= {}\n",
    "    list_[\"latitud\"]= getFromDict(dic,map_latitud)\n",
    "    list_[\"longitud\"]= getFromDict(dic,map_longitud)\n",
    "    starbucks_json_man.append(list_)"
   ]
  },
  {
   "cell_type": "code",
   "execution_count": 402,
   "id": "635d2eb0",
   "metadata": {},
   "outputs": [
    {
     "data": {
      "text/plain": [
       "47"
      ]
     },
     "execution_count": 402,
     "metadata": {},
     "output_type": "execute_result"
    }
   ],
   "source": [
    "len(starbucks_json_man)"
   ]
  },
  {
   "cell_type": "code",
   "execution_count": 403,
   "id": "55bedf29",
   "metadata": {},
   "outputs": [],
   "source": [
    "with open('starbucks_man.json', 'w') as f:\n",
    "    json.dump(starbucks_json_man, f)"
   ]
  },
  {
   "cell_type": "markdown",
   "id": "2b8db9a3",
   "metadata": {},
   "source": [
    "### Schools"
   ]
  },
  {
   "cell_type": "code",
   "execution_count": 366,
   "id": "5428c93e",
   "metadata": {},
   "outputs": [],
   "source": [
    "parametros_man_school = {\n",
    "    \"client_id\": client_id,\n",
    "    \"client_secret\": client_secret,\n",
    "    \"v\": \"20180323\",\n",
    "    \"ll\": f\"{Manchester[0]}, {Manchester[1]}\",\n",
    "    \"query\": \"school\",\n",
    "    \"limit\": 70   \n",
    "}"
   ]
  },
  {
   "cell_type": "code",
   "execution_count": 367,
   "id": "5e291ac3",
   "metadata": {},
   "outputs": [],
   "source": [
    "resp = requests.get(url_query, params=parametros_man_school).json()"
   ]
  },
  {
   "cell_type": "code",
   "execution_count": 368,
   "id": "53a13a20",
   "metadata": {},
   "outputs": [],
   "source": [
    "data_man_school= resp[\"response\"][\"groups\"][0][\"items\"]"
   ]
  },
  {
   "cell_type": "code",
   "execution_count": 369,
   "id": "a2f89870",
   "metadata": {},
   "outputs": [
    {
     "data": {
      "text/plain": [
       "23"
      ]
     },
     "execution_count": 369,
     "metadata": {},
     "output_type": "execute_result"
    }
   ],
   "source": [
    "len(data_man_school)"
   ]
  },
  {
   "cell_type": "code",
   "execution_count": 370,
   "id": "35e7cf15",
   "metadata": {},
   "outputs": [
    {
     "data": {
      "text/plain": [
       "{'id': '50b88341e4b0a653ad786e30',\n",
       " 'name': 'Britannia English Academy',\n",
       " 'contact': {},\n",
       " 'location': {'lat': 53.47921849773795,\n",
       "  'lng': -2.239830731903953,\n",
       "  'labeledLatLngs': [{'label': 'display',\n",
       "    'lat': 53.47921849773795,\n",
       "    'lng': -2.239830731903953}],\n",
       "  'distance': 473,\n",
       "  'cc': 'GB',\n",
       "  'city': 'Manchester',\n",
       "  'state': 'Greater Manchester',\n",
       "  'country': 'United Kingdom',\n",
       "  'formattedAddress': ['Manchester', 'Greater Manchester', 'United Kingdom']},\n",
       " 'categories': [{'id': '4bf58dd8d48988d13b941735',\n",
       "   'name': 'School',\n",
       "   'pluralName': 'Schools',\n",
       "   'shortName': 'School',\n",
       "   'icon': {'prefix': 'https://ss3.4sqi.net/img/categories_v2/building/school_',\n",
       "    'suffix': '.png'},\n",
       "   'primary': True}],\n",
       " 'verified': False,\n",
       " 'stats': {'tipCount': 0,\n",
       "  'usersCount': 0,\n",
       "  'checkinsCount': 0,\n",
       "  'visitsCount': 0},\n",
       " 'beenHere': {'count': 0,\n",
       "  'lastCheckinExpiredAt': 0,\n",
       "  'marked': False,\n",
       "  'unconfirmedCount': 0},\n",
       " 'photos': {'count': 0, 'groups': []},\n",
       " 'hereNow': {'count': 0, 'summary': 'Nobody here', 'groups': []}}"
      ]
     },
     "execution_count": 370,
     "metadata": {},
     "output_type": "execute_result"
    }
   ],
   "source": [
    "data_man_school[0][\"venue\"]"
   ]
  },
  {
   "cell_type": "code",
   "execution_count": 371,
   "id": "b821f8aa",
   "metadata": {},
   "outputs": [],
   "source": [
    "school_json_man = []\n",
    "for dic in data_man_school:\n",
    "    list_= {}\n",
    "    list_[\"latitud\"]= getFromDict(dic,map_latitud)\n",
    "    list_[\"longitud\"]= getFromDict(dic,map_longitud)\n",
    "    school_json_man.append(list_)"
   ]
  },
  {
   "cell_type": "code",
   "execution_count": 372,
   "id": "2407aaa6",
   "metadata": {},
   "outputs": [
    {
     "data": {
      "text/plain": [
       "23"
      ]
     },
     "execution_count": 372,
     "metadata": {},
     "output_type": "execute_result"
    }
   ],
   "source": [
    "len(school_json_man)"
   ]
  },
  {
   "cell_type": "code",
   "execution_count": 373,
   "id": "bc896e14",
   "metadata": {},
   "outputs": [],
   "source": [
    "with open('school_man.json', 'w') as f:\n",
    "    json.dump(school_json_man, f)"
   ]
  },
  {
   "cell_type": "markdown",
   "id": "69837617",
   "metadata": {},
   "source": [
    "### Nursery"
   ]
  },
  {
   "cell_type": "code",
   "execution_count": 420,
   "id": "262aae15",
   "metadata": {},
   "outputs": [],
   "source": [
    "parametros_man_nurs = {\n",
    "    \"client_id\": client_id,\n",
    "    \"client_secret\": client_secret,\n",
    "    \"v\": \"20180323\",\n",
    "    \"ll\": f\"{Manchester[0]}, {Manchester[1]}\",\n",
    "    \"query\": \"nursery\",\n",
    "    \"limit\": 70   \n",
    "}"
   ]
  },
  {
   "cell_type": "code",
   "execution_count": 421,
   "id": "75cc4a3d",
   "metadata": {},
   "outputs": [],
   "source": [
    "resp = requests.get(url_query, params=parametros_man_nurs).json()"
   ]
  },
  {
   "cell_type": "code",
   "execution_count": 422,
   "id": "8f042492",
   "metadata": {},
   "outputs": [],
   "source": [
    "data_man_nurs= resp[\"response\"][\"groups\"][0][\"items\"]"
   ]
  },
  {
   "cell_type": "code",
   "execution_count": 423,
   "id": "b59671b2",
   "metadata": {},
   "outputs": [
    {
     "data": {
      "text/plain": [
       "5"
      ]
     },
     "execution_count": 423,
     "metadata": {},
     "output_type": "execute_result"
    }
   ],
   "source": [
    "len(data_man_nurs)"
   ]
  },
  {
   "cell_type": "code",
   "execution_count": 424,
   "id": "cf1bd123",
   "metadata": {},
   "outputs": [
    {
     "data": {
      "text/plain": [
       "{'id': '56c77c0bcd109ba7bb44f2c3',\n",
       " 'name': 'Banana Moon Sale Day Nursery',\n",
       " 'contact': {},\n",
       " 'location': {'address': '39 Northenden Rd',\n",
       "  'lat': 53.4238478,\n",
       "  'lng': -2.315897,\n",
       "  'labeledLatLngs': [{'label': 'display',\n",
       "    'lat': 53.4238478,\n",
       "    'lng': -2.315897}],\n",
       "  'distance': 7501,\n",
       "  'postalCode': 'M33 2DH',\n",
       "  'cc': 'GB',\n",
       "  'city': 'Sale',\n",
       "  'state': 'Trafford',\n",
       "  'country': 'United Kingdom',\n",
       "  'formattedAddress': ['39 Northenden Rd',\n",
       "   'Sale',\n",
       "   'Trafford',\n",
       "   'M33 2DH',\n",
       "   'United Kingdom']},\n",
       " 'categories': [{'id': '4bf58dd8d48988d13b941735',\n",
       "   'name': 'School',\n",
       "   'pluralName': 'Schools',\n",
       "   'shortName': 'School',\n",
       "   'icon': {'prefix': 'https://ss3.4sqi.net/img/categories_v2/building/school_',\n",
       "    'suffix': '.png'},\n",
       "   'primary': True}],\n",
       " 'verified': True,\n",
       " 'stats': {'tipCount': 0,\n",
       "  'usersCount': 0,\n",
       "  'checkinsCount': 0,\n",
       "  'visitsCount': 0},\n",
       " 'beenHere': {'count': 0,\n",
       "  'lastCheckinExpiredAt': 0,\n",
       "  'marked': False,\n",
       "  'unconfirmedCount': 0},\n",
       " 'photos': {'count': 0, 'groups': []},\n",
       " 'venuePage': {'id': '159536089'},\n",
       " 'hereNow': {'count': 0, 'summary': 'Nobody here', 'groups': []}}"
      ]
     },
     "execution_count": 424,
     "metadata": {},
     "output_type": "execute_result"
    }
   ],
   "source": [
    "data_man_nurs[0][\"venue\"]"
   ]
  },
  {
   "cell_type": "code",
   "execution_count": 425,
   "id": "b03df547",
   "metadata": {},
   "outputs": [],
   "source": [
    "nurs_json_man = []\n",
    "for dic in data_man_nurs:\n",
    "    list_= {}\n",
    "    list_[\"latitud\"]= getFromDict(dic,map_latitud)\n",
    "    list_[\"longitud\"]= getFromDict(dic,map_longitud)\n",
    "    nurs_json_man.append(list_)"
   ]
  },
  {
   "cell_type": "code",
   "execution_count": 426,
   "id": "46595aaf",
   "metadata": {},
   "outputs": [
    {
     "data": {
      "text/plain": [
       "5"
      ]
     },
     "execution_count": 426,
     "metadata": {},
     "output_type": "execute_result"
    }
   ],
   "source": [
    "len(nurs_json_man)"
   ]
  },
  {
   "cell_type": "code",
   "execution_count": 427,
   "id": "1873d563",
   "metadata": {},
   "outputs": [],
   "source": [
    "with open('nurs_man.json', 'w') as f:\n",
    "    json.dump(nurs_json_man, f)"
   ]
  },
  {
   "cell_type": "markdown",
   "id": "a7cff59a",
   "metadata": {},
   "source": [
    "### Tech"
   ]
  },
  {
   "cell_type": "code",
   "execution_count": 444,
   "id": "95f05b25",
   "metadata": {},
   "outputs": [],
   "source": [
    "parametros_man_tech = {\n",
    "    \"client_id\": client_id,\n",
    "    \"client_secret\": client_secret,\n",
    "    \"v\": \"20180323\",\n",
    "    \"ll\": f\"{Manchester[0]}, {Manchester[1]}\",\n",
    "    \"query\": \"tech\",\n",
    "    \"limit\": 70   \n",
    "}"
   ]
  },
  {
   "cell_type": "code",
   "execution_count": 445,
   "id": "eed53f85",
   "metadata": {},
   "outputs": [],
   "source": [
    "resp = requests.get(url_query, params=parametros_man_tech).json()"
   ]
  },
  {
   "cell_type": "code",
   "execution_count": 446,
   "id": "9b0d1c74",
   "metadata": {},
   "outputs": [],
   "source": [
    "data_man_tech= resp[\"response\"][\"groups\"][0][\"items\"]"
   ]
  },
  {
   "cell_type": "code",
   "execution_count": 447,
   "id": "e475d028",
   "metadata": {},
   "outputs": [
    {
     "data": {
      "text/plain": [
       "27"
      ]
     },
     "execution_count": 447,
     "metadata": {},
     "output_type": "execute_result"
    }
   ],
   "source": [
    "len(data_man_tech)"
   ]
  },
  {
   "cell_type": "code",
   "execution_count": 448,
   "id": "f20c3eea",
   "metadata": {},
   "outputs": [
    {
     "data": {
      "text/plain": [
       "{'id': '4f4f4732e4b09d63cc3aa1ea',\n",
       " 'name': 'Google Manchester',\n",
       " 'contact': {},\n",
       " 'location': {'address': 'Peter House, Oxford St, Manchester, Greater Manchester M1 5AN',\n",
       "  'lat': 53.477224095706546,\n",
       "  'lng': -2.2435500746264254,\n",
       "  'labeledLatLngs': [{'label': 'display',\n",
       "    'lat': 53.477224095706546,\n",
       "    'lng': -2.2435500746264254}],\n",
       "  'distance': 143,\n",
       "  'postalCode': 'M1 5AN',\n",
       "  'cc': 'GB',\n",
       "  'city': 'Manchester',\n",
       "  'state': 'Greater Manchester',\n",
       "  'country': 'United Kingdom',\n",
       "  'formattedAddress': ['Peter House, Oxford St, Manchester, Greater Manchester M1 5AN',\n",
       "   'Manchester',\n",
       "   'Greater Manchester',\n",
       "   'M1 5AN',\n",
       "   'United Kingdom']},\n",
       " 'categories': [{'id': '4bf58dd8d48988d125941735',\n",
       "   'name': 'Tech Startup',\n",
       "   'pluralName': 'Tech Startups',\n",
       "   'shortName': 'Tech Startup',\n",
       "   'icon': {'prefix': 'https://ss3.4sqi.net/img/categories_v2/shops/technology_',\n",
       "    'suffix': '.png'},\n",
       "   'primary': True}],\n",
       " 'verified': False,\n",
       " 'stats': {'tipCount': 0,\n",
       "  'usersCount': 0,\n",
       "  'checkinsCount': 0,\n",
       "  'visitsCount': 0},\n",
       " 'beenHere': {'count': 0,\n",
       "  'lastCheckinExpiredAt': 0,\n",
       "  'marked': False,\n",
       "  'unconfirmedCount': 0},\n",
       " 'photos': {'count': 0, 'groups': []},\n",
       " 'hereNow': {'count': 0, 'summary': 'Nobody here', 'groups': []}}"
      ]
     },
     "execution_count": 448,
     "metadata": {},
     "output_type": "execute_result"
    }
   ],
   "source": [
    "data_man_tech[0][\"venue\"]"
   ]
  },
  {
   "cell_type": "code",
   "execution_count": 449,
   "id": "4cbe00e6",
   "metadata": {},
   "outputs": [],
   "source": [
    "tech_json_man = []\n",
    "for dic in data_man_tech:\n",
    "    list_= {}\n",
    "    list_[\"latitud\"]= getFromDict(dic,map_latitud)\n",
    "    list_[\"longitud\"]= getFromDict(dic,map_longitud)\n",
    "    tech_json_man.append(list_)"
   ]
  },
  {
   "cell_type": "code",
   "execution_count": 450,
   "id": "4eb1db2e",
   "metadata": {},
   "outputs": [
    {
     "data": {
      "text/plain": [
       "27"
      ]
     },
     "execution_count": 450,
     "metadata": {},
     "output_type": "execute_result"
    }
   ],
   "source": [
    "len(tech_json_man)"
   ]
  },
  {
   "cell_type": "code",
   "execution_count": 451,
   "id": "0fbb66d6",
   "metadata": {},
   "outputs": [],
   "source": [
    "with open('tech_man.json', 'w') as f:\n",
    "    json.dump(tech_json_man, f)"
   ]
  },
  {
   "cell_type": "markdown",
   "id": "2c391221",
   "metadata": {},
   "source": [
    "### Train"
   ]
  },
  {
   "cell_type": "code",
   "execution_count": 499,
   "id": "72ad6cad",
   "metadata": {},
   "outputs": [],
   "source": [
    "parametros_man_train = {\n",
    "    \"client_id\": client_id,\n",
    "    \"client_secret\": client_secret,\n",
    "    \"v\": \"20180323\",\n",
    "    \"ll\": f\"{Manchester[0]}, {Manchester[1]}\",\n",
    "    \"query\": \"train\",\n",
    "    \"limit\": 100   \n",
    "}"
   ]
  },
  {
   "cell_type": "code",
   "execution_count": 500,
   "id": "24c91559",
   "metadata": {},
   "outputs": [],
   "source": [
    "resp = requests.get(url_query, params=parametros_man_train).json()"
   ]
  },
  {
   "cell_type": "code",
   "execution_count": 501,
   "id": "6b3fe54d",
   "metadata": {},
   "outputs": [],
   "source": [
    "data_man_train= resp[\"response\"][\"groups\"][0][\"items\"]"
   ]
  },
  {
   "cell_type": "code",
   "execution_count": 502,
   "id": "b91f7bb7",
   "metadata": {},
   "outputs": [
    {
     "data": {
      "text/plain": [
       "51"
      ]
     },
     "execution_count": 502,
     "metadata": {},
     "output_type": "execute_result"
    }
   ],
   "source": [
    "len(data_man_train)"
   ]
  },
  {
   "cell_type": "code",
   "execution_count": 284,
   "id": "7eeee387",
   "metadata": {},
   "outputs": [
    {
     "data": {
      "text/plain": [
       "{'id': '506999633d7cfe42e733a7c9',\n",
       " 'name': 'Deansgate Railway Station (DGT)',\n",
       " 'contact': {},\n",
       " 'location': {'address': 'Whitworth St West',\n",
       "  'lat': 53.47426876814008,\n",
       "  'lng': -2.2508268669333464,\n",
       "  'labeledLatLngs': [{'label': 'display',\n",
       "    'lat': 53.47426876814008,\n",
       "    'lng': -2.2508268669333464}],\n",
       "  'distance': 440,\n",
       "  'postalCode': 'M31 1AA',\n",
       "  'cc': 'GB',\n",
       "  'city': 'Manchester',\n",
       "  'state': 'Greater Manchester',\n",
       "  'country': 'United Kingdom',\n",
       "  'formattedAddress': ['Whitworth St West',\n",
       "   'Manchester',\n",
       "   'Greater Manchester',\n",
       "   'M31 1AA',\n",
       "   'United Kingdom']},\n",
       " 'categories': [{'id': '4bf58dd8d48988d129951735',\n",
       "   'name': 'Train Station',\n",
       "   'pluralName': 'Train Stations',\n",
       "   'shortName': 'Train Station',\n",
       "   'icon': {'prefix': 'https://ss3.4sqi.net/img/categories_v2/travel/trainstation_',\n",
       "    'suffix': '.png'},\n",
       "   'primary': True}],\n",
       " 'verified': True,\n",
       " 'stats': {'tipCount': 0,\n",
       "  'usersCount': 0,\n",
       "  'checkinsCount': 0,\n",
       "  'visitsCount': 0},\n",
       " 'beenHere': {'count': 0,\n",
       "  'lastCheckinExpiredAt': 0,\n",
       "  'marked': False,\n",
       "  'unconfirmedCount': 0},\n",
       " 'photos': {'count': 0, 'groups': []},\n",
       " 'hereNow': {'count': 0, 'summary': 'Nobody here', 'groups': []}}"
      ]
     },
     "execution_count": 284,
     "metadata": {},
     "output_type": "execute_result"
    }
   ],
   "source": [
    "data_man_train[0][\"venue\"]"
   ]
  },
  {
   "cell_type": "code",
   "execution_count": 503,
   "id": "2cb0fde8",
   "metadata": {},
   "outputs": [],
   "source": [
    "train_json_man = []\n",
    "for dic in data_man_train:\n",
    "    list_= {}\n",
    "    list_[\"latitud\"]= getFromDict(dic,map_latitud)\n",
    "    list_[\"longitud\"]= getFromDict(dic,map_longitud)\n",
    "    train_json_man.append(list_)"
   ]
  },
  {
   "cell_type": "code",
   "execution_count": 504,
   "id": "6578bbcb",
   "metadata": {},
   "outputs": [
    {
     "data": {
      "text/plain": [
       "51"
      ]
     },
     "execution_count": 504,
     "metadata": {},
     "output_type": "execute_result"
    }
   ],
   "source": [
    "len(train_json_man)"
   ]
  },
  {
   "cell_type": "code",
   "execution_count": 505,
   "id": "7943ca28",
   "metadata": {},
   "outputs": [],
   "source": [
    "with open('train_man.json', 'w') as f:\n",
    "    json.dump(train_json_man, f)"
   ]
  },
  {
   "cell_type": "markdown",
   "id": "a66d1f8b",
   "metadata": {},
   "source": [
    "### Airport"
   ]
  },
  {
   "cell_type": "code",
   "execution_count": 506,
   "id": "62acb1e6",
   "metadata": {},
   "outputs": [],
   "source": [
    "parametros_man_air = {\n",
    "    \"client_id\": client_id,\n",
    "    \"client_secret\": client_secret,\n",
    "    \"v\": \"20180323\",\n",
    "    \"ll\": f\"{Manchester[0]}, {Manchester[1]}\",\n",
    "    \"query\": \"airport\",\n",
    "    \"limit\": 5   \n",
    "}"
   ]
  },
  {
   "cell_type": "code",
   "execution_count": 507,
   "id": "48a082f2",
   "metadata": {},
   "outputs": [],
   "source": [
    "resp = requests.get(url_query, params=parametros_man_air).json()"
   ]
  },
  {
   "cell_type": "code",
   "execution_count": 508,
   "id": "54ed2a3e",
   "metadata": {},
   "outputs": [],
   "source": [
    "data_man_aero= resp[\"response\"][\"groups\"][0][\"items\"]"
   ]
  },
  {
   "cell_type": "code",
   "execution_count": 509,
   "id": "cdeaa4f7",
   "metadata": {},
   "outputs": [
    {
     "data": {
      "text/plain": [
       "3"
      ]
     },
     "execution_count": 509,
     "metadata": {},
     "output_type": "execute_result"
    }
   ],
   "source": [
    "len(data_man_aero)"
   ]
  },
  {
   "cell_type": "code",
   "execution_count": 510,
   "id": "e20813fe",
   "metadata": {},
   "outputs": [
    {
     "data": {
      "text/plain": [
       "{'id': '4b065966f964a520fdea22e3',\n",
       " 'name': 'Manchester Airport (MAN) (Manchester Airport)',\n",
       " 'contact': {},\n",
       " 'location': {'address': 'Aviator Way',\n",
       "  'lat': 53.36210982509171,\n",
       "  'lng': -2.274586355894077,\n",
       "  'distance': 12886,\n",
       "  'postalCode': 'M90 1QX',\n",
       "  'cc': 'GB',\n",
       "  'city': 'Manchester',\n",
       "  'country': 'United Kingdom',\n",
       "  'formattedAddress': ['Aviator Way',\n",
       "   'Manchester',\n",
       "   'M90 1QX',\n",
       "   'United Kingdom']},\n",
       " 'categories': [{'id': '4bf58dd8d48988d1ed931735',\n",
       "   'name': 'Airport',\n",
       "   'pluralName': 'Airports',\n",
       "   'shortName': 'Airport',\n",
       "   'icon': {'prefix': 'https://ss3.4sqi.net/img/categories_v2/travel/airport_',\n",
       "    'suffix': '.png'},\n",
       "   'primary': True}],\n",
       " 'verified': True,\n",
       " 'stats': {'tipCount': 0,\n",
       "  'usersCount': 0,\n",
       "  'checkinsCount': 0,\n",
       "  'visitsCount': 0},\n",
       " 'beenHere': {'count': 0,\n",
       "  'lastCheckinExpiredAt': 0,\n",
       "  'marked': False,\n",
       "  'unconfirmedCount': 0},\n",
       " 'photos': {'count': 0, 'groups': []},\n",
       " 'venuePage': {'id': '49378335'},\n",
       " 'hereNow': {'count': 0, 'summary': 'Nobody here', 'groups': []}}"
      ]
     },
     "execution_count": 510,
     "metadata": {},
     "output_type": "execute_result"
    }
   ],
   "source": [
    "data_man_aero[0][\"venue\"]"
   ]
  },
  {
   "cell_type": "code",
   "execution_count": 511,
   "id": "6b951e83",
   "metadata": {},
   "outputs": [],
   "source": [
    "air_json_man = []\n",
    "for dic in data_man_aero:\n",
    "    list_= {}\n",
    "    list_[\"latitud\"]= getFromDict(dic,map_latitud)\n",
    "    list_[\"longitud\"]= getFromDict(dic,map_longitud)\n",
    "    air_json_man.append(list_)"
   ]
  },
  {
   "cell_type": "code",
   "execution_count": 512,
   "id": "94617f52",
   "metadata": {},
   "outputs": [
    {
     "data": {
      "text/plain": [
       "[{'latitud': 53.36210982509171, 'longitud': -2.274586355894077},\n",
       " {'latitud': 53.474826965118275, 'longitud': -2.226661135327544},\n",
       " {'latitud': 53.489374, 'longitud': -2.256201}]"
      ]
     },
     "execution_count": 512,
     "metadata": {},
     "output_type": "execute_result"
    }
   ],
   "source": [
    "air_json_man"
   ]
  },
  {
   "cell_type": "code",
   "execution_count": 513,
   "id": "5eecff2b",
   "metadata": {},
   "outputs": [],
   "source": [
    "with open('aero_man.json', 'w') as f:\n",
    "    json.dump(air_json_man[0], f)"
   ]
  },
  {
   "cell_type": "markdown",
   "id": "a881c13f",
   "metadata": {},
   "source": [
    "### Tram"
   ]
  },
  {
   "cell_type": "code",
   "execution_count": 514,
   "id": "9bf783f8",
   "metadata": {},
   "outputs": [],
   "source": [
    "parametros_man_tram = {\n",
    "    \"client_id\": client_id,\n",
    "    \"client_secret\": client_secret,\n",
    "    \"v\": \"20180323\",\n",
    "    \"ll\": f\"{Manchester[0]}, {Manchester[1]}\",\n",
    "    \"query\": \"tram\",\n",
    "    \"limit\": 50  \n",
    "}"
   ]
  },
  {
   "cell_type": "code",
   "execution_count": 515,
   "id": "2325fa68",
   "metadata": {},
   "outputs": [],
   "source": [
    "resp = requests.get(url_query, params=parametros_man_tram).json()"
   ]
  },
  {
   "cell_type": "code",
   "execution_count": 516,
   "id": "c153f96e",
   "metadata": {},
   "outputs": [],
   "source": [
    "data_man_tram= resp[\"response\"][\"groups\"][0][\"items\"]"
   ]
  },
  {
   "cell_type": "code",
   "execution_count": 517,
   "id": "8b44c8ca",
   "metadata": {},
   "outputs": [
    {
     "data": {
      "text/plain": [
       "19"
      ]
     },
     "execution_count": 517,
     "metadata": {},
     "output_type": "execute_result"
    }
   ],
   "source": [
    "len(data_man_tram)"
   ]
  },
  {
   "cell_type": "code",
   "execution_count": 518,
   "id": "d45d6ca2",
   "metadata": {},
   "outputs": [
    {
     "data": {
      "text/plain": [
       "{'id': '4b4f3984f964a520e2fd26e3',\n",
       " 'name': \"St Peter's Square Metrolink Station\",\n",
       " 'contact': {},\n",
       " 'location': {'address': \"St Peter's Sq\",\n",
       "  'lat': 53.47825152292783,\n",
       "  'lng': -2.2431735157509998,\n",
       "  'labeledLatLngs': [{'label': 'display',\n",
       "    'lat': 53.47825152292783,\n",
       "    'lng': -2.2431735157509998}],\n",
       "  'distance': 239,\n",
       "  'postalCode': 'M2 5PD',\n",
       "  'cc': 'GB',\n",
       "  'city': 'Manchester',\n",
       "  'state': 'Greater Manchester',\n",
       "  'country': 'United Kingdom',\n",
       "  'formattedAddress': [\"St Peter's Sq\",\n",
       "   'Manchester',\n",
       "   'Greater Manchester',\n",
       "   'M2 5PD',\n",
       "   'United Kingdom']},\n",
       " 'categories': [{'id': '52f2ab2ebcbc57f1066b8b51',\n",
       "   'name': 'Tram Station',\n",
       "   'pluralName': 'Tram Stations',\n",
       "   'shortName': 'Tram',\n",
       "   'icon': {'prefix': 'https://ss3.4sqi.net/img/categories_v2/travel/trainstation_',\n",
       "    'suffix': '.png'},\n",
       "   'primary': True}],\n",
       " 'verified': False,\n",
       " 'stats': {'tipCount': 0,\n",
       "  'usersCount': 0,\n",
       "  'checkinsCount': 0,\n",
       "  'visitsCount': 0},\n",
       " 'beenHere': {'count': 0,\n",
       "  'lastCheckinExpiredAt': 0,\n",
       "  'marked': False,\n",
       "  'unconfirmedCount': 0},\n",
       " 'photos': {'count': 0, 'groups': []},\n",
       " 'hereNow': {'count': 0, 'summary': 'Nobody here', 'groups': []}}"
      ]
     },
     "execution_count": 518,
     "metadata": {},
     "output_type": "execute_result"
    }
   ],
   "source": [
    "data_man_tram[0][\"venue\"]"
   ]
  },
  {
   "cell_type": "code",
   "execution_count": 519,
   "id": "e3ae96c4",
   "metadata": {},
   "outputs": [],
   "source": [
    "tram_json_man = []\n",
    "for dic in data_man_tram:\n",
    "    list_= {}\n",
    "    list_[\"latitud\"]= getFromDict(dic,map_latitud)\n",
    "    list_[\"longitud\"]= getFromDict(dic,map_longitud)\n",
    "    tram_json_man.append(list_)"
   ]
  },
  {
   "cell_type": "code",
   "execution_count": 520,
   "id": "26cf7099",
   "metadata": {},
   "outputs": [],
   "source": [
    "with open('tram_man.json', 'w') as f:\n",
    "    json.dump(tram_json_man, f)"
   ]
  },
  {
   "cell_type": "markdown",
   "id": "de06c262",
   "metadata": {},
   "source": [
    "## Las Palmas"
   ]
  },
  {
   "cell_type": "markdown",
   "id": "c8528a2e",
   "metadata": {},
   "source": [
    "### Starbucks"
   ]
  },
  {
   "cell_type": "code",
   "execution_count": 89,
   "id": "183938e2",
   "metadata": {},
   "outputs": [],
   "source": [
    "Las_Palmas = [28.139050810737494, -15.431441251599868]"
   ]
  },
  {
   "cell_type": "code",
   "execution_count": 404,
   "id": "ba4b3f15",
   "metadata": {},
   "outputs": [],
   "source": [
    "parametros_lp = {\n",
    "    \"client_id\": client_id,\n",
    "    \"client_secret\": client_secret,\n",
    "    \"v\": \"20180323\",\n",
    "    \"ll\": f\"{Las_Palmas[0]}, {Las_Palmas[1]}\",\n",
    "    \"query\": \"Starbucks\",\n",
    "    \"limit\": 100   \n",
    "}\n"
   ]
  },
  {
   "cell_type": "code",
   "execution_count": 405,
   "id": "e48ecfa5",
   "metadata": {},
   "outputs": [],
   "source": [
    "resp = requests.get(url_query, params=parametros_lp).json()"
   ]
  },
  {
   "cell_type": "code",
   "execution_count": 406,
   "id": "d5d71166",
   "metadata": {},
   "outputs": [],
   "source": [
    "data_lp= resp[\"response\"][\"groups\"][0][\"items\"]"
   ]
  },
  {
   "cell_type": "code",
   "execution_count": 407,
   "id": "6eceefe0",
   "metadata": {},
   "outputs": [
    {
     "data": {
      "text/plain": [
       "6"
      ]
     },
     "execution_count": 407,
     "metadata": {},
     "output_type": "execute_result"
    }
   ],
   "source": [
    "len(data_lp)"
   ]
  },
  {
   "cell_type": "code",
   "execution_count": 408,
   "id": "be65ae03",
   "metadata": {},
   "outputs": [
    {
     "data": {
      "text/plain": [
       "{'id': '59e736a7a6031c48a41c3a79',\n",
       " 'name': 'Starbucks ECI Mesa y López',\n",
       " 'contact': {},\n",
       " 'location': {'address': 'Av. José Mesa y López, 13',\n",
       "  'lat': 28.1347204925919,\n",
       "  'lng': -15.431628283085388,\n",
       "  'labeledLatLngs': [{'label': 'display',\n",
       "    'lat': 28.1347204925919,\n",
       "    'lng': -15.431628283085388}],\n",
       "  'distance': 482,\n",
       "  'postalCode': '35007',\n",
       "  'cc': 'ES',\n",
       "  'neighborhood': 'Alcaravaneras',\n",
       "  'city': 'Las Palmas de Gran Canaria',\n",
       "  'state': 'Canarias',\n",
       "  'country': 'España',\n",
       "  'formattedAddress': ['Av. José Mesa y López, 13',\n",
       "   '35007 Las Palmas de Gran Canaria Canarias',\n",
       "   'España']},\n",
       " 'categories': [{'id': '4bf58dd8d48988d128941735',\n",
       "   'name': 'Cafeteria',\n",
       "   'pluralName': 'Cafeterias',\n",
       "   'shortName': 'Cafeteria',\n",
       "   'icon': {'prefix': 'https://ss3.4sqi.net/img/categories_v2/education/cafeteria_',\n",
       "    'suffix': '.png'},\n",
       "   'primary': True}],\n",
       " 'verified': True,\n",
       " 'stats': {'tipCount': 0,\n",
       "  'usersCount': 0,\n",
       "  'checkinsCount': 0,\n",
       "  'visitsCount': 0},\n",
       " 'beenHere': {'count': 0,\n",
       "  'lastCheckinExpiredAt': 0,\n",
       "  'marked': False,\n",
       "  'unconfirmedCount': 0},\n",
       " 'photos': {'count': 0, 'groups': []},\n",
       " 'hereNow': {'count': 0, 'summary': 'Nobody here', 'groups': []}}"
      ]
     },
     "execution_count": 408,
     "metadata": {},
     "output_type": "execute_result"
    }
   ],
   "source": [
    "data_lp[0][\"venue\"]"
   ]
  },
  {
   "cell_type": "code",
   "execution_count": 409,
   "id": "7f94121a",
   "metadata": {},
   "outputs": [],
   "source": [
    "starbucks_json_lp = []\n",
    "for dic in data_lp:\n",
    "    list_= {}\n",
    "    list_[\"latitud\"]= getFromDict(dic,map_latitud)\n",
    "    list_[\"longitud\"]= getFromDict(dic,map_longitud)\n",
    "    starbucks_json_lp.append(list_)"
   ]
  },
  {
   "cell_type": "code",
   "execution_count": 410,
   "id": "4351b444",
   "metadata": {},
   "outputs": [],
   "source": [
    "with open('starbucks_lp.json', 'w') as f:\n",
    "    json.dump(starbucks_json_lp, f)"
   ]
  },
  {
   "cell_type": "code",
   "execution_count": 411,
   "id": "27c771e9",
   "metadata": {},
   "outputs": [
    {
     "data": {
      "text/plain": [
       "6"
      ]
     },
     "execution_count": 411,
     "metadata": {},
     "output_type": "execute_result"
    }
   ],
   "source": [
    "len(starbucks_json_lp )"
   ]
  },
  {
   "cell_type": "markdown",
   "id": "d6f75e21",
   "metadata": {},
   "source": [
    "### Schools"
   ]
  },
  {
   "cell_type": "code",
   "execution_count": 375,
   "id": "4d39090a",
   "metadata": {},
   "outputs": [],
   "source": [
    "parametros_lp_school = {\n",
    "    \"client_id\": client_id,\n",
    "    \"client_secret\": client_secret,\n",
    "    \"v\": \"20180323\",\n",
    "    \"ll\": f\"{Las_Palmas[0]}, {Las_Palmas[1]}\",\n",
    "    \"query\": \"school\",\n",
    "    \"limit\": 70   \n",
    "}"
   ]
  },
  {
   "cell_type": "code",
   "execution_count": 376,
   "id": "4bd0af92",
   "metadata": {},
   "outputs": [],
   "source": [
    "resp = requests.get(url_query, params=parametros_lp_school).json()"
   ]
  },
  {
   "cell_type": "code",
   "execution_count": 377,
   "id": "6ba00a66",
   "metadata": {},
   "outputs": [],
   "source": [
    "data_lp_school= resp[\"response\"][\"groups\"][0][\"items\"]"
   ]
  },
  {
   "cell_type": "code",
   "execution_count": 378,
   "id": "401d0640",
   "metadata": {},
   "outputs": [
    {
     "data": {
      "text/plain": [
       "9"
      ]
     },
     "execution_count": 378,
     "metadata": {},
     "output_type": "execute_result"
    }
   ],
   "source": [
    "len(data_lp_school)"
   ]
  },
  {
   "cell_type": "code",
   "execution_count": 379,
   "id": "b86d0c1f",
   "metadata": {},
   "outputs": [
    {
     "data": {
      "text/plain": [
       "{'id': '50003cb0e4b0da072a6c40c1',\n",
       " 'name': 'Center Of Rock',\n",
       " 'contact': {},\n",
       " 'location': {'address': 'c/ Santa Juana de Arco 28',\n",
       "  'lat': 28.112944211313426,\n",
       "  'lng': -15.426135063171387,\n",
       "  'labeledLatLngs': [{'label': 'display',\n",
       "    'lat': 28.112944211313426,\n",
       "    'lng': -15.426135063171387}],\n",
       "  'distance': 2952,\n",
       "  'postalCode': '35004',\n",
       "  'cc': 'ES',\n",
       "  'neighborhood': 'Arenales',\n",
       "  'city': 'Las Palmas de Gran Canaria',\n",
       "  'state': 'Canarias',\n",
       "  'country': 'España',\n",
       "  'formattedAddress': ['c/ Santa Juana de Arco 28',\n",
       "   '35004 Las Palmas de Gran Canaria Canarias',\n",
       "   'España']},\n",
       " 'categories': [{'id': '4f04b10d2fb6e1c99f3db0be',\n",
       "   'name': 'Music School',\n",
       "   'pluralName': 'Music Schools',\n",
       "   'shortName': 'Music School',\n",
       "   'icon': {'prefix': 'https://ss3.4sqi.net/img/categories_v2/building/school_music_',\n",
       "    'suffix': '.png'},\n",
       "   'primary': True}],\n",
       " 'verified': True,\n",
       " 'stats': {'tipCount': 0,\n",
       "  'usersCount': 0,\n",
       "  'checkinsCount': 0,\n",
       "  'visitsCount': 0},\n",
       " 'beenHere': {'count': 0,\n",
       "  'lastCheckinExpiredAt': 0,\n",
       "  'marked': False,\n",
       "  'unconfirmedCount': 0},\n",
       " 'photos': {'count': 0, 'groups': []},\n",
       " 'hereNow': {'count': 0, 'summary': 'Nobody here', 'groups': []}}"
      ]
     },
     "execution_count": 379,
     "metadata": {},
     "output_type": "execute_result"
    }
   ],
   "source": [
    "data_lp_school[8][\"venue\"]"
   ]
  },
  {
   "cell_type": "code",
   "execution_count": 380,
   "id": "2c65704e",
   "metadata": {},
   "outputs": [],
   "source": [
    "school_json_lp = []\n",
    "for dic in data_lp_school:\n",
    "    list_= {}\n",
    "    list_[\"latitud\"]= getFromDict(dic,map_latitud)\n",
    "    list_[\"longitud\"]= getFromDict(dic,map_longitud)\n",
    "    school_json_lp.append(list_)"
   ]
  },
  {
   "cell_type": "code",
   "execution_count": 381,
   "id": "991695f7",
   "metadata": {},
   "outputs": [
    {
     "data": {
      "text/plain": [
       "9"
      ]
     },
     "execution_count": 381,
     "metadata": {},
     "output_type": "execute_result"
    }
   ],
   "source": [
    "len(school_json_lp)"
   ]
  },
  {
   "cell_type": "code",
   "execution_count": 382,
   "id": "5429abb7",
   "metadata": {},
   "outputs": [],
   "source": [
    "with open('school_lp.json', 'w') as f:\n",
    "    json.dump(school_json_lp, f)"
   ]
  },
  {
   "cell_type": "markdown",
   "id": "5acb7053",
   "metadata": {},
   "source": [
    "### Nursery"
   ]
  },
  {
   "cell_type": "code",
   "execution_count": 428,
   "id": "f29616ab",
   "metadata": {},
   "outputs": [],
   "source": [
    "parametros_lp_nurs = {\n",
    "    \"client_id\": client_id,\n",
    "    \"client_secret\": client_secret,\n",
    "    \"v\": \"20180323\",\n",
    "    \"ll\": f\"{Las_Palmas[0]}, {Las_Palmas[1]}\",\n",
    "    \"query\": \"4f4533804b9074f6e4fb0105\",\n",
    "    \"limit\": 70   \n",
    "}"
   ]
  },
  {
   "cell_type": "code",
   "execution_count": 429,
   "id": "c7c44bad",
   "metadata": {},
   "outputs": [],
   "source": [
    "resp = requests.get(url_query, params=parametros_lp_nurs).json()"
   ]
  },
  {
   "cell_type": "code",
   "execution_count": 430,
   "id": "4e759852",
   "metadata": {},
   "outputs": [],
   "source": [
    "data_lp_nurs= resp[\"response\"][\"groups\"][0][\"items\"]"
   ]
  },
  {
   "cell_type": "code",
   "execution_count": 431,
   "id": "e3241e14",
   "metadata": {},
   "outputs": [
    {
     "data": {
      "text/plain": [
       "11"
      ]
     },
     "execution_count": 431,
     "metadata": {},
     "output_type": "execute_result"
    }
   ],
   "source": [
    "len(data_lp_nurs)"
   ]
  },
  {
   "cell_type": "code",
   "execution_count": 432,
   "id": "bec72635",
   "metadata": {},
   "outputs": [
    {
     "data": {
      "text/plain": [
       "{'id': '53343324498edae64bcd7003',\n",
       " 'name': 'Pablo Béglez Estudio Fotógrafico',\n",
       " 'contact': {},\n",
       " 'location': {'address': 'C/ Simancas, 83',\n",
       "  'lat': 28.108564223049815,\n",
       "  'lng': -15.434342893777814,\n",
       "  'labeledLatLngs': [{'label': 'display',\n",
       "    'lat': 28.108564223049815,\n",
       "    'lng': -15.434342893777814}],\n",
       "  'distance': 3405,\n",
       "  'postalCode': '35010',\n",
       "  'cc': 'ES',\n",
       "  'city': 'Las Palmas de Gran Canaria',\n",
       "  'state': 'Canarias',\n",
       "  'country': 'España',\n",
       "  'formattedAddress': ['C/ Simancas, 83',\n",
       "   '35010 Las Palmas de Gran Canaria Canarias',\n",
       "   'España']},\n",
       " 'categories': [{'id': '4eb1bdde3b7b55596b4a7490',\n",
       "   'name': 'Photography Lab',\n",
       "   'pluralName': 'Photography Labs',\n",
       "   'shortName': 'Photography Lab',\n",
       "   'icon': {'prefix': 'https://ss3.4sqi.net/img/categories_v2/shops/photographylab_',\n",
       "    'suffix': '.png'},\n",
       "   'primary': True}],\n",
       " 'verified': True,\n",
       " 'stats': {'tipCount': 0,\n",
       "  'usersCount': 0,\n",
       "  'checkinsCount': 0,\n",
       "  'visitsCount': 0},\n",
       " 'beenHere': {'count': 0,\n",
       "  'lastCheckinExpiredAt': 0,\n",
       "  'marked': False,\n",
       "  'unconfirmedCount': 0},\n",
       " 'photos': {'count': 0, 'groups': []},\n",
       " 'venuePage': {'id': '85277177'},\n",
       " 'hereNow': {'count': 0, 'summary': 'Nobody here', 'groups': []}}"
      ]
     },
     "execution_count": 432,
     "metadata": {},
     "output_type": "execute_result"
    }
   ],
   "source": [
    "data_lp_nurs[3][\"venue\"]"
   ]
  },
  {
   "cell_type": "code",
   "execution_count": 433,
   "id": "b8f46e15",
   "metadata": {},
   "outputs": [],
   "source": [
    "nurs_json_lp = []\n",
    "for dic in data_lp_nurs:\n",
    "    list_= {}\n",
    "    list_[\"latitud\"]= getFromDict(dic,map_latitud)\n",
    "    list_[\"longitud\"]= getFromDict(dic,map_longitud)\n",
    "    nurs_json_lp.append(list_)"
   ]
  },
  {
   "cell_type": "code",
   "execution_count": 434,
   "id": "b97f973c",
   "metadata": {},
   "outputs": [
    {
     "data": {
      "text/plain": [
       "11"
      ]
     },
     "execution_count": 434,
     "metadata": {},
     "output_type": "execute_result"
    }
   ],
   "source": [
    "len(nurs_json_lp)"
   ]
  },
  {
   "cell_type": "code",
   "execution_count": 435,
   "id": "2a3a7846",
   "metadata": {},
   "outputs": [],
   "source": [
    "with open('nurs_lp.json', 'w') as f:\n",
    "    json.dump(nurs_json_lp, f)"
   ]
  },
  {
   "cell_type": "markdown",
   "id": "6a9e578a",
   "metadata": {},
   "source": [
    "### Tech"
   ]
  },
  {
   "cell_type": "code",
   "execution_count": 452,
   "id": "fa258c8f",
   "metadata": {},
   "outputs": [],
   "source": [
    "parametros_lp_tech = {\n",
    "    \"client_id\": client_id,\n",
    "    \"client_secret\": client_secret,\n",
    "    \"v\": \"20180323\",\n",
    "    \"ll\": f\"{Las_Palmas[0]}, {Las_Palmas[1]}\",\n",
    "    \"query\": \"tech\",\n",
    "    \"limit\": 70   \n",
    "}"
   ]
  },
  {
   "cell_type": "code",
   "execution_count": 453,
   "id": "c9395ed5",
   "metadata": {},
   "outputs": [],
   "source": [
    "resp = requests.get(url_query, params=parametros_lp_tech).json()"
   ]
  },
  {
   "cell_type": "code",
   "execution_count": 454,
   "id": "290ac49f",
   "metadata": {},
   "outputs": [],
   "source": [
    "data_lp_tech= resp[\"response\"][\"groups\"][0][\"items\"]"
   ]
  },
  {
   "cell_type": "code",
   "execution_count": 455,
   "id": "dfab7884",
   "metadata": {},
   "outputs": [
    {
     "data": {
      "text/plain": [
       "4"
      ]
     },
     "execution_count": 455,
     "metadata": {},
     "output_type": "execute_result"
    }
   ],
   "source": [
    "len(data_lp_tech)"
   ]
  },
  {
   "cell_type": "code",
   "execution_count": 456,
   "id": "183d0540",
   "metadata": {},
   "outputs": [
    {
     "data": {
      "text/plain": [
       "{'id': '4c95600f209fef3bce219091',\n",
       " 'name': 'TresW.Net',\n",
       " 'contact': {},\n",
       " 'location': {'address': 'Av. Felo Monzon 28, L8',\n",
       "  'lat': 28.10438694401929,\n",
       "  'lng': -15.452705128938527,\n",
       "  'labeledLatLngs': [{'label': 'display',\n",
       "    'lat': 28.10438694401929,\n",
       "    'lng': -15.452705128938527}],\n",
       "  'distance': 4387,\n",
       "  'postalCode': '35019',\n",
       "  'cc': 'ES',\n",
       "  'city': 'Las Palmas de Gran Canaria',\n",
       "  'state': 'Canarias',\n",
       "  'country': 'España',\n",
       "  'formattedAddress': ['Av. Felo Monzon 28, L8',\n",
       "   '35019 Las Palmas de Gran Canaria Canarias',\n",
       "   'España']},\n",
       " 'categories': [{'id': '4bf58dd8d48988d125941735',\n",
       "   'name': 'Tech Startup',\n",
       "   'pluralName': 'Tech Startups',\n",
       "   'shortName': 'Tech Startup',\n",
       "   'icon': {'prefix': 'https://ss3.4sqi.net/img/categories_v2/shops/technology_',\n",
       "    'suffix': '.png'},\n",
       "   'primary': True}],\n",
       " 'verified': True,\n",
       " 'stats': {'tipCount': 0,\n",
       "  'usersCount': 0,\n",
       "  'checkinsCount': 0,\n",
       "  'visitsCount': 0},\n",
       " 'beenHere': {'count': 0,\n",
       "  'lastCheckinExpiredAt': 0,\n",
       "  'marked': False,\n",
       "  'unconfirmedCount': 0},\n",
       " 'photos': {'count': 0, 'groups': []},\n",
       " 'venuePage': {'id': '33079928'},\n",
       " 'hereNow': {'count': 0, 'summary': 'Nobody here', 'groups': []}}"
      ]
     },
     "execution_count": 456,
     "metadata": {},
     "output_type": "execute_result"
    }
   ],
   "source": [
    "data_lp_tech[3][\"venue\"]"
   ]
  },
  {
   "cell_type": "code",
   "execution_count": 457,
   "id": "fa98c405",
   "metadata": {},
   "outputs": [],
   "source": [
    "tech_json_lp = []\n",
    "for dic in data_lp_tech:\n",
    "    list_= {}\n",
    "    list_[\"latitud\"]= getFromDict(dic,map_latitud)\n",
    "    list_[\"longitud\"]= getFromDict(dic,map_longitud)\n",
    "    tech_json_lp.append(list_)"
   ]
  },
  {
   "cell_type": "code",
   "execution_count": 458,
   "id": "2079a811",
   "metadata": {},
   "outputs": [
    {
     "data": {
      "text/plain": [
       "4"
      ]
     },
     "execution_count": 458,
     "metadata": {},
     "output_type": "execute_result"
    }
   ],
   "source": [
    "len(tech_json_lp)"
   ]
  },
  {
   "cell_type": "code",
   "execution_count": 459,
   "id": "65ba0236",
   "metadata": {},
   "outputs": [],
   "source": [
    "with open('tech_lp.json', 'w') as f:\n",
    "    json.dump(tech_json_lp, f)"
   ]
  },
  {
   "cell_type": "markdown",
   "id": "6a8557a4",
   "metadata": {},
   "source": [
    "### Airport"
   ]
  },
  {
   "cell_type": "code",
   "execution_count": 521,
   "id": "109ec010",
   "metadata": {},
   "outputs": [],
   "source": [
    "parametros_lp_airport = {\n",
    "    \"client_id\": client_id,\n",
    "    \"client_secret\": client_secret,\n",
    "    \"v\": \"20180323\",\n",
    "    \"ll\": f\"{Las_Palmas[0]}, {Las_Palmas[1]}\",\n",
    "    \"query\": \"airport\",\n",
    "    \"limit\": 70   \n",
    "}"
   ]
  },
  {
   "cell_type": "code",
   "execution_count": 522,
   "id": "f4c3d3a0",
   "metadata": {},
   "outputs": [],
   "source": [
    "resp = requests.get(url_query, params=parametros_lp_airport).json()"
   ]
  },
  {
   "cell_type": "code",
   "execution_count": 523,
   "id": "bd397931",
   "metadata": {},
   "outputs": [],
   "source": [
    "data_lp_airport= resp[\"response\"][\"groups\"][0][\"items\"]"
   ]
  },
  {
   "cell_type": "code",
   "execution_count": 524,
   "id": "ea64128f",
   "metadata": {},
   "outputs": [
    {
     "data": {
      "text/plain": [
       "{'id': '570925d4498ed4f91feed939',\n",
       " 'name': 'Las Palmas Airport',\n",
       " 'contact': {},\n",
       " 'location': {'lat': 28.104074,\n",
       "  'lng': -15.457926,\n",
       "  'labeledLatLngs': [{'label': 'display',\n",
       "    'lat': 28.104074,\n",
       "    'lng': -15.457926}],\n",
       "  'distance': 4681,\n",
       "  'cc': 'ES',\n",
       "  'country': 'España',\n",
       "  'formattedAddress': ['España']},\n",
       " 'categories': [{'id': '56aa371be4b08b9a8d57352f',\n",
       "   'name': 'Airport Service',\n",
       "   'pluralName': 'Airport Services',\n",
       "   'shortName': 'Airport Service',\n",
       "   'icon': {'prefix': 'https://ss3.4sqi.net/img/categories_v2/travel/airport_',\n",
       "    'suffix': '.png'},\n",
       "   'primary': True}],\n",
       " 'verified': False,\n",
       " 'stats': {'tipCount': 0,\n",
       "  'usersCount': 0,\n",
       "  'checkinsCount': 0,\n",
       "  'visitsCount': 0},\n",
       " 'beenHere': {'count': 0,\n",
       "  'lastCheckinExpiredAt': 0,\n",
       "  'marked': False,\n",
       "  'unconfirmedCount': 0},\n",
       " 'photos': {'count': 0, 'groups': []},\n",
       " 'hereNow': {'count': 0, 'summary': 'Nobody here', 'groups': []}}"
      ]
     },
     "execution_count": 524,
     "metadata": {},
     "output_type": "execute_result"
    }
   ],
   "source": [
    "data_lp_airport[0][\"venue\"]"
   ]
  },
  {
   "cell_type": "code",
   "execution_count": 525,
   "id": "28a5c78f",
   "metadata": {},
   "outputs": [],
   "source": [
    "airport_json_lp = []\n",
    "for dic in data_lp_airport:\n",
    "    list_= {}\n",
    "    list_[\"latitud\"]= getFromDict(dic,map_latitud)\n",
    "    list_[\"longitud\"]= getFromDict(dic,map_longitud)\n",
    "    airport_json_lp.append(list_)"
   ]
  },
  {
   "cell_type": "code",
   "execution_count": 526,
   "id": "c0cc9f13",
   "metadata": {},
   "outputs": [],
   "source": [
    "with open('aiport_lp.json', 'w') as f:\n",
    "    json.dump(airport_json_lp[0], f)"
   ]
  },
  {
   "cell_type": "markdown",
   "id": "5846a906",
   "metadata": {},
   "source": [
    "###  Bus"
   ]
  },
  {
   "cell_type": "code",
   "execution_count": 527,
   "id": "f94d05e1",
   "metadata": {},
   "outputs": [],
   "source": [
    "parametros_lp_bus = {\n",
    "    \"client_id\": client_id,\n",
    "    \"client_secret\": client_secret,\n",
    "    \"v\": \"20180323\",\n",
    "    \"ll\": f\"{Las_Palmas[0]}, {Las_Palmas[1]}\",\n",
    "    \"query\": \"bus\",\n",
    "    \"limit\": 70   \n",
    "}"
   ]
  },
  {
   "cell_type": "code",
   "execution_count": 528,
   "id": "80826d87",
   "metadata": {},
   "outputs": [],
   "source": [
    "resp = requests.get(url_query, params=parametros_lp_bus).json()"
   ]
  },
  {
   "cell_type": "code",
   "execution_count": 529,
   "id": "3f42a2ff",
   "metadata": {},
   "outputs": [],
   "source": [
    "data_lp_bus= resp[\"response\"][\"groups\"][0][\"items\"]"
   ]
  },
  {
   "cell_type": "code",
   "execution_count": 530,
   "id": "4bb65a28",
   "metadata": {},
   "outputs": [
    {
     "data": {
      "text/plain": [
       "{'id': '5007ade6e4b092cb600f0bfd',\n",
       " 'name': 'Parada N22',\n",
       " 'contact': {},\n",
       " 'location': {'lat': 28.132636926752557,\n",
       "  'lng': -15.429829224394613,\n",
       "  'labeledLatLngs': [{'label': 'display',\n",
       "    'lat': 28.132636926752557,\n",
       "    'lng': -15.429829224394613}],\n",
       "  'distance': 731,\n",
       "  'cc': 'ES',\n",
       "  'country': 'España',\n",
       "  'formattedAddress': ['España']},\n",
       " 'categories': [{'id': '4bf58dd8d48988d12b951735',\n",
       "   'name': 'Bus Line',\n",
       "   'pluralName': 'Bus Lines',\n",
       "   'shortName': 'Bus',\n",
       "   'icon': {'prefix': 'https://ss3.4sqi.net/img/categories_v2/travel/busstation_',\n",
       "    'suffix': '.png'},\n",
       "   'primary': True}],\n",
       " 'verified': False,\n",
       " 'stats': {'tipCount': 0,\n",
       "  'usersCount': 0,\n",
       "  'checkinsCount': 0,\n",
       "  'visitsCount': 0},\n",
       " 'beenHere': {'count': 0,\n",
       "  'lastCheckinExpiredAt': 0,\n",
       "  'marked': False,\n",
       "  'unconfirmedCount': 0},\n",
       " 'photos': {'count': 0, 'groups': []},\n",
       " 'hereNow': {'count': 0, 'summary': 'Nobody here', 'groups': []}}"
      ]
     },
     "execution_count": 530,
     "metadata": {},
     "output_type": "execute_result"
    }
   ],
   "source": [
    "data_lp_bus[0][\"venue\"]"
   ]
  },
  {
   "cell_type": "code",
   "execution_count": 531,
   "id": "6f7ea38c",
   "metadata": {},
   "outputs": [
    {
     "data": {
      "text/plain": [
       "4"
      ]
     },
     "execution_count": 531,
     "metadata": {},
     "output_type": "execute_result"
    }
   ],
   "source": [
    "len(data_lp_bus)"
   ]
  },
  {
   "cell_type": "code",
   "execution_count": 532,
   "id": "fd9735ff",
   "metadata": {},
   "outputs": [],
   "source": [
    "bus_json_lp = []\n",
    "for dic in data_lp_bus:\n",
    "    list_= {}\n",
    "    list_[\"latitud\"]= getFromDict(dic,map_latitud)\n",
    "    list_[\"longitud\"]= getFromDict(dic,map_longitud)\n",
    "    bus_json_lp.append(list_)"
   ]
  },
  {
   "cell_type": "code",
   "execution_count": 533,
   "id": "b9f4c5df",
   "metadata": {},
   "outputs": [],
   "source": [
    "with open('bus_lp.json', 'w') as f:\n",
    "    json.dump(bus_json_lp, f)"
   ]
  },
  {
   "cell_type": "code",
   "execution_count": null,
   "id": "5c2ae5eb",
   "metadata": {},
   "outputs": [],
   "source": []
  },
  {
   "cell_type": "code",
   "execution_count": 14,
   "id": "55ae2d5a",
   "metadata": {},
   "outputs": [],
   "source": [
    "import requests\n",
    "import json\n",
    "from dotenv import load_dotenv\n",
    "import os\n",
    "import pandas as pd"
   ]
  },
  {
   "cell_type": "code",
   "execution_count": 15,
   "id": "5b38c4aa",
   "metadata": {},
   "outputs": [],
   "source": [
    "Dublin = [53.33925763762811, -6.234433274297044]\n",
    "Las_Palmas = [28.139050810737494, -15.431441251599868]\n",
    "Manchester = [53.476555291009824, -2.245396280521493]"
   ]
  },
  {
   "cell_type": "code",
   "execution_count": 16,
   "id": "6c1704f1",
   "metadata": {},
   "outputs": [
    {
     "data": {
      "text/plain": [
       "True"
      ]
     },
     "execution_count": 16,
     "metadata": {},
     "output_type": "execute_result"
    }
   ],
   "source": [
    "load_dotenv()"
   ]
  },
  {
   "cell_type": "code",
   "execution_count": 17,
   "id": "9b7e5737",
   "metadata": {},
   "outputs": [],
   "source": [
    "client_id = os.getenv(\"client_id\")\n",
    "client_secret = os.getenv(\"secret_id\")"
   ]
  },
  {
   "cell_type": "code",
   "execution_count": 18,
   "id": "aa7f1cd6",
   "metadata": {},
   "outputs": [
    {
     "name": "stdout",
     "output_type": "stream",
     "text": [
      "VWVCLLRYC5UL4UTKF4ISQ1GRHXPESHIOIXTOHACUIMNBN020\n"
     ]
    }
   ],
   "source": [
    "print(client_secret)"
   ]
  },
  {
   "cell_type": "code",
   "execution_count": 19,
   "id": "2b0b8fc8",
   "metadata": {},
   "outputs": [],
   "source": [
    "condition_list = [\"starbucks\", \"schools\", \"tech\", \"transport\"]"
   ]
  },
  {
   "cell_type": "code",
   "execution_count": 20,
   "id": "54cc015e",
   "metadata": {},
   "outputs": [],
   "source": [
    "def call_api(url,city,query):\n",
    "    parametros= {\n",
    "        \"client_id\": client_id,\n",
    "        \"client_secret\": client_secret,\n",
    "        \"v\": \"20180323\",\n",
    "        \"ll\": city,\n",
    "        \"query\": query,\n",
    "        \"limit\": 70   \n",
    "}\n",
    "    resp = requests.get(url,params=parametros).json\n",
    "    \n",
    "    return resp\n",
    "    \n",
    "    \n",
    "\n",
    "    "
   ]
  },
  {
   "cell_type": "code",
   "execution_count": 21,
   "id": "e02421ea",
   "metadata": {},
   "outputs": [
    {
     "data": {
      "text/plain": [
       "<bound method Response.json of <Response [400]>>"
      ]
     },
     "execution_count": 21,
     "metadata": {},
     "output_type": "execute_result"
    }
   ],
   "source": [
    "call_api('https://api.foursquare.com/v2/venues/explore',Dublin, \"starbucks\")"
   ]
  },
  {
   "cell_type": "code",
   "execution_count": null,
   "id": "66b2b31e",
   "metadata": {},
   "outputs": [],
   "source": []
  }
 ],
 "metadata": {
  "kernelspec": {
   "display_name": "Python 3 (ipykernel)",
   "language": "python",
   "name": "python3"
  },
  "language_info": {
   "codemirror_mode": {
    "name": "ipython",
    "version": 3
   },
   "file_extension": ".py",
   "mimetype": "text/x-python",
   "name": "python",
   "nbconvert_exporter": "python",
   "pygments_lexer": "ipython3",
   "version": "3.8.10"
  }
 },
 "nbformat": 4,
 "nbformat_minor": 5
}

{
 "cells": [
  {
   "cell_type": "code",
   "execution_count": 73,
   "id": "96628c1a",
   "metadata": {},
   "outputs": [],
   "source": [
    "import requests\n",
    "import json\n",
    "from dotenv import load_dotenv\n",
    "import os\n",
    "import pandas as pd"
   ]
  },
  {
   "cell_type": "code",
   "execution_count": 74,
   "id": "80f5e60e",
   "metadata": {},
   "outputs": [],
   "source": [
    "from functools import reduce\n",
    "import operator"
   ]
  },
  {
   "cell_type": "code",
   "execution_count": 75,
   "id": "64aea123",
   "metadata": {},
   "outputs": [
    {
     "data": {
      "text/plain": [
       "True"
      ]
     },
     "execution_count": 75,
     "metadata": {},
     "output_type": "execute_result"
    }
   ],
   "source": [
    "load_dotenv()"
   ]
  },
  {
   "cell_type": "code",
   "execution_count": 76,
   "id": "62cce27a",
   "metadata": {},
   "outputs": [],
   "source": [
    "access_id = os.getenv(\"access_id\")\n",
    "secret_id2 = os.getenv(\"secret_id2\")"
   ]
  },
  {
   "cell_type": "code",
   "execution_count": 77,
   "id": "e57b5503",
   "metadata": {},
   "outputs": [],
   "source": [
    "def getFromDict(diccionario, mapa):\n",
    "    return reduce(operator.getitem,mapa,diccionario)"
   ]
  },
  {
   "cell_type": "code",
   "execution_count": 78,
   "id": "cef0f420",
   "metadata": {},
   "outputs": [],
   "source": [
    "def type_point(lista):\n",
    "    return {\"type\": \"Point\", \n",
    "            \"coordinates\": lista }"
   ]
  },
  {
   "cell_type": "code",
   "execution_count": 79,
   "id": "59117328",
   "metadata": {},
   "outputs": [],
   "source": [
    "parametros_aero = {\n",
    "    \"access_id\": access_id,\n",
    "    \"secret_id2\": secret_id2, \n",
    "}"
   ]
  },
  {
   "cell_type": "markdown",
   "id": "2f68f42d",
   "metadata": {},
   "source": [
    "### Manchester"
   ]
  },
  {
   "cell_type": "code",
   "execution_count": 83,
   "id": "b9729ae9",
   "metadata": {},
   "outputs": [],
   "source": [
    "url_man = f\"https://api.aerisapi.com/places/man?format=json&limit=10&client_id={access_id}&client_secret={secret_id2}\""
   ]
  },
  {
   "cell_type": "code",
   "execution_count": 84,
   "id": "01c99b5f",
   "metadata": {},
   "outputs": [],
   "source": [
    "resp_man = requests.get(url_man, params=parametros_aero).json()"
   ]
  },
  {
   "cell_type": "code",
   "execution_count": 86,
   "id": "230369a2",
   "metadata": {},
   "outputs": [
    {
     "data": {
      "text/plain": [
       "{'success': True,\n",
       " 'error': {'code': 'warn_invalid_param',\n",
       "  'description': 'The id action enforces a limit of 1'},\n",
       " 'response': {'loc': {'lat': 53.353698730469, 'long': -2.2749500274658},\n",
       "  'place': {'name': 'Manchester',\n",
       "   'state': '',\n",
       "   'stateFull': '',\n",
       "   'country': 'GB',\n",
       "   'countryFull': 'United Kingdom',\n",
       "   'region': '',\n",
       "   'regionFull': '',\n",
       "   'continent': 'eu',\n",
       "   'continentFull': 'Europe'},\n",
       "  'profile': {'elevM': 78.334,\n",
       "   'elevFT': 257,\n",
       "   'pop': None,\n",
       "   'tz': 'Europe/London',\n",
       "   'tzname': 'BST',\n",
       "   'tzoffset': 3600,\n",
       "   'isDST': True,\n",
       "   'wxzone': None,\n",
       "   'firezone': None,\n",
       "   'fips': None,\n",
       "   'countyid': None,\n",
       "   'code': None}}}"
      ]
     },
     "execution_count": 86,
     "metadata": {},
     "output_type": "execute_result"
    }
   ],
   "source": [
    "resp_man"
   ]
  },
  {
   "cell_type": "code",
   "execution_count": 87,
   "id": "0404ca60",
   "metadata": {},
   "outputs": [],
   "source": [
    "data_aero_man = resp_man[\"response\"]"
   ]
  },
  {
   "cell_type": "code",
   "execution_count": 88,
   "id": "5bc010f7",
   "metadata": {},
   "outputs": [
    {
     "data": {
      "text/plain": [
       "{'loc': {'lat': 53.353698730469, 'long': -2.2749500274658},\n",
       " 'place': {'name': 'Manchester',\n",
       "  'state': '',\n",
       "  'stateFull': '',\n",
       "  'country': 'GB',\n",
       "  'countryFull': 'United Kingdom',\n",
       "  'region': '',\n",
       "  'regionFull': '',\n",
       "  'continent': 'eu',\n",
       "  'continentFull': 'Europe'},\n",
       " 'profile': {'elevM': 78.334,\n",
       "  'elevFT': 257,\n",
       "  'pop': None,\n",
       "  'tz': 'Europe/London',\n",
       "  'tzname': 'BST',\n",
       "  'tzoffset': 3600,\n",
       "  'isDST': True,\n",
       "  'wxzone': None,\n",
       "  'firezone': None,\n",
       "  'fips': None,\n",
       "  'countyid': None,\n",
       "  'code': None}}"
      ]
     },
     "execution_count": 88,
     "metadata": {},
     "output_type": "execute_result"
    }
   ],
   "source": [
    "data_aero_man"
   ]
  },
  {
   "cell_type": "code",
   "execution_count": 59,
   "id": "7dd79981",
   "metadata": {},
   "outputs": [],
   "source": [
    "map_info = [\"response\", \"place\"]\n",
    "map_loc = [\"response\", \"loc\"]"
   ]
  },
  {
   "cell_type": "code",
   "execution_count": 60,
   "id": "83bcdef4",
   "metadata": {},
   "outputs": [],
   "source": [
    "aero_json_man = []\n",
    "for dic in data_aero_man:\n",
    "    list_= {}\n",
    "    list_[\"info\"]= getFromDict(dic,map_info)\n",
    "    list_[\"loc\"]= getFromDict(dic,map_loc)\n",
    "    list_[\"location\"]=  type_point(list_[\"loc\"])\n",
    "    aero_json_man.append(list_)"
   ]
  },
  {
   "cell_type": "code",
   "execution_count": 61,
   "id": "fd14c1ca",
   "metadata": {},
   "outputs": [],
   "source": [
    "data_aero_man = resp[\"response\"]"
   ]
  },
  {
   "cell_type": "code",
   "execution_count": 62,
   "id": "0f9f45c7",
   "metadata": {},
   "outputs": [
    {
     "ename": "TypeError",
     "evalue": "list indices must be integers or slices, not str",
     "output_type": "error",
     "traceback": [
      "\u001b[0;31m---------------------------------------------------------------------------\u001b[0m",
      "\u001b[0;31mTypeError\u001b[0m                                 Traceback (most recent call last)",
      "\u001b[0;32m/tmp/ipykernel_473/2574692732.py\u001b[0m in \u001b[0;36m<module>\u001b[0;34m\u001b[0m\n\u001b[0;32m----> 1\u001b[0;31m \u001b[0mdata_aero_man_loc\u001b[0m \u001b[0;34m=\u001b[0m \u001b[0mresp\u001b[0m\u001b[0;34m[\u001b[0m\u001b[0;34m\"response\"\u001b[0m\u001b[0;34m]\u001b[0m\u001b[0;34m[\u001b[0m\u001b[0;34m\"loc\"\u001b[0m\u001b[0;34m]\u001b[0m\u001b[0;34m\u001b[0m\u001b[0;34m\u001b[0m\u001b[0m\n\u001b[0m",
      "\u001b[0;31mTypeError\u001b[0m: list indices must be integers or slices, not str"
     ]
    }
   ],
   "source": [
    "data_aero_man_loc = resp[\"response\"][\"loc\"]"
   ]
  },
  {
   "cell_type": "code",
   "execution_count": 25,
   "id": "9f23be6c",
   "metadata": {},
   "outputs": [],
   "source": [
    "data_aero_man_info = resp[\"response\"][\"place\"]"
   ]
  },
  {
   "cell_type": "code",
   "execution_count": 26,
   "id": "fb159925",
   "metadata": {},
   "outputs": [
    {
     "data": {
      "text/plain": [
       "{'name': 'Manchester',\n",
       " 'state': '',\n",
       " 'stateFull': '',\n",
       " 'country': 'GB',\n",
       " 'countryFull': 'United Kingdom',\n",
       " 'region': '',\n",
       " 'regionFull': '',\n",
       " 'continent': 'eu',\n",
       " 'continentFull': 'Europe'}"
      ]
     },
     "execution_count": 26,
     "metadata": {},
     "output_type": "execute_result"
    }
   ],
   "source": [
    "data_aero_man_info"
   ]
  },
  {
   "cell_type": "markdown",
   "id": "656579e2",
   "metadata": {},
   "source": [
    "### Dublin"
   ]
  },
  {
   "cell_type": "code",
   "execution_count": 89,
   "id": "71ff857a",
   "metadata": {},
   "outputs": [],
   "source": [
    "url_query_dub= f\"https://api.aerisapi.com/places/dub?format=format=json&limit=10&client_id={access_id}&client_secret={secret_id2}\""
   ]
  },
  {
   "cell_type": "code",
   "execution_count": 90,
   "id": "ab7c39b1",
   "metadata": {},
   "outputs": [],
   "source": [
    "resp_dub = requests.get(url_query_dub, params=parametros_aero).json()"
   ]
  },
  {
   "cell_type": "code",
   "execution_count": 91,
   "id": "8d0f033a",
   "metadata": {},
   "outputs": [
    {
     "data": {
      "text/plain": [
       "{'success': False,\n",
       " 'error': {'code': 'invalid_context',\n",
       "  'description': 'Invalid format/context for endpoint/action'},\n",
       " 'response': []}"
      ]
     },
     "execution_count": 91,
     "metadata": {},
     "output_type": "execute_result"
    }
   ],
   "source": [
    "resp_dub"
   ]
  },
  {
   "cell_type": "markdown",
   "id": "6776e5e1",
   "metadata": {},
   "source": [
    "### Las Palmas"
   ]
  },
  {
   "cell_type": "code",
   "execution_count": 46,
   "id": "b0f607e0",
   "metadata": {},
   "outputs": [],
   "source": [
    "url_query_lpa = f\"https://api.aerisapi.com/places/lpa?format=json&limit=10&client_id=[access_id]&client_secret=[CLIENT_SECRET]\"\"\n"
   ]
  },
  {
   "cell_type": "code",
   "execution_count": 47,
   "id": "cfd51607",
   "metadata": {},
   "outputs": [],
   "source": [
    "resp_lpa = requests.get(url_query_dub, params=parametros_aero).json()"
   ]
  },
  {
   "cell_type": "code",
   "execution_count": 48,
   "id": "98475075",
   "metadata": {},
   "outputs": [
    {
     "data": {
      "text/plain": [
       "{'success': False,\n",
       " 'error': {'code': 'invalid_context',\n",
       "  'description': 'Invalid format/context for endpoint/action'},\n",
       " 'response': []}"
      ]
     },
     "execution_count": 48,
     "metadata": {},
     "output_type": "execute_result"
    }
   ],
   "source": [
    "resp_lpa"
   ]
  }
 ],
 "metadata": {
  "kernelspec": {
   "display_name": "Python 3 (ipykernel)",
   "language": "python",
   "name": "python3"
  },
  "language_info": {
   "codemirror_mode": {
    "name": "ipython",
    "version": 3
   },
   "file_extension": ".py",
   "mimetype": "text/x-python",
   "name": "python",
   "nbconvert_exporter": "python",
   "pygments_lexer": "ipython3",
   "version": "3.8.10"
  }
 },
 "nbformat": 4,
 "nbformat_minor": 5
}
